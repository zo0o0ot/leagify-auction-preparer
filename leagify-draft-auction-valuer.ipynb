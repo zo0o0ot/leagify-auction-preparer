{
 "cells": [
  {
   "cell_type": "code",
   "execution_count": 1,
   "metadata": {
    "dotnet_interactive": {
     "language": "csharp"
    },
    "polyglot_notebook": {
     "kernelName": "csharp"
    },
    "vscode": {
     "languageId": "polyglot-notebook"
    }
   },
   "outputs": [
    {
     "data": {
      "text/html": [
       "<div><div></div><div></div><div><strong>Installed Packages</strong><ul><li><span>Microsoft.Data.Analysis, 0.21.0</span></li><li><span>Microsoft.DotNet.Interactive.ExtensionLab, 1.0.0-beta.25177.1</span></li><li><span>Microsoft.ML, 4.0.2</span></li><li><span>SandDance.InteractiveExtension, 1.0.53</span></li></ul></div></div>"
      ]
     },
     "metadata": {},
     "output_type": "display_data"
    },
    {
     "data": {
      "text/plain": [
       "Loading extensions from `C:\\Users\\rossl\\.nuget\\packages\\sanddance.interactiveextension\\1.0.53\\lib\\net6.0\\SandDance.InteractiveExtension.dll`"
      ]
     },
     "metadata": {},
     "output_type": "display_data"
    },
    {
     "data": {
      "text/html": [
       "<details><summary>Explore data visually using the <a href=\"https://github.com/microsoft/SandDance\">SandDance Explorer</a>.</summary>\r\n",
       "    <p>This extension adds the ability to sort, filter, and visualize data using the <a href=\"https://github.com/microsoft/SandDance\">SandDance Explorer</a>. Use the <code>ExploreWithSandDance()</code> extension method with variables of type <code>JsonElement</code>, <code>IEnumerable<T></code> or <code>IDataView</code> to render the data explorer.</p>\r\n",
       "<pre>\r\n",
       "    <code>\r\n",
       "    using Microsoft.Data.Analysis;\r\n",
       "    using System.Collections.Generic;\r\n",
       "    using Microsoft.ML;\r\n",
       "\r\n",
       "    var dataFrame = DataFrame.LoadCsv(\"./Data.csv\");\r\n",
       "\r\n",
       "    dataFrame.ExploreWithSandDance().Display();\r\n",
       "    </code>\r\n",
       "</pre>\r\n",
       "<p>To set the SandDance Explorer use the following code</p>\r\n",
       "<pre>\r\n",
       "    <code>\r\n",
       "    DataExplorer.SetDefault<TabularDataResource, SandDanceDataExplorer>();\r\n",
       "    </code>\r\n",
       "</pre>\r\n",
       "    <img src=\"https://user-images.githubusercontent.com/11507384/54236654-52d42800-44d1-11e9-859e-6c5d297a46d2.gif\" width=\"30%\">\r\n",
       "    </details>"
      ]
     },
     "metadata": {},
     "output_type": "display_data"
    },
    {
     "data": {
      "text/plain": [
       "Loading extensions from `C:\\Users\\rossl\\.nuget\\packages\\microsoft.data.analysis\\0.21.0\\interactive-extensions\\dotnet\\Microsoft.Data.Analysis.Interactive.dll`"
      ]
     },
     "metadata": {},
     "output_type": "display_data"
    },
    {
     "data": {
      "text/plain": [
       "Loading extension script from `C:\\Users\\rossl\\.nuget\\packages\\microsoft.dotnet.interactive.extensionlab\\1.0.0-beta.25177.1\\interactive-extensions\\dotnet\\extension.dib`"
      ]
     },
     "metadata": {},
     "output_type": "display_data"
    },
    {
     "data": {
      "text/html": [
       "<details><summary>Create strongly-typed dataframes using<code>#!linqify</code>.</summary>\r\n",
       "    <p>The <code>#!linqify</code> magic command replaces a <a href=\"https://www.nuget.org/packages/Microsoft.Data.Analysis/\"><code>Microsoft.Data.Analysis.DataFrame</code></a> variable with a generated, strongly-typed data frame, allowing the use of LINQ operations over the contained data.</p>\r\n",
       "    </details>"
      ]
     },
     "metadata": {},
     "output_type": "display_data"
    },
    {
     "data": {
      "text/html": [
       "<details><summary>ExplainCode</summary>\r\n",
       "    <p>This extension generates Sequence diagrams from csharp code using Mermaid kernel.</p>\r\n",
       "    </details>"
      ]
     },
     "metadata": {},
     "output_type": "display_data"
    },
    {
     "data": {
      "text/html": [
       "<details><summary>Inspect code compilation details using the <code>#!inspect</code> magic command.</summary>\r\n",
       "    <p>The <code>#!inspect</code> magic command allows you to see the C# decompilation, IL, and JIT Asm for the code in a C# cell.</p>\r\n",
       "    <img src=\"https://user-images.githubusercontent.com/547415/109560515-d5749a00-7a90-11eb-9fa3-51b737345bb4.png\" width=\"75%\" />\r\n",
       "    </details>"
      ]
     },
     "metadata": {},
     "output_type": "display_data"
    },
    {
     "data": {
      "text/html": [
       "<details><summary>Use the <code>#!record</code> magic command to keep a transcript of the code you run.</summary>\r\n",
       "    <p>Once you enable transcripts using <code>#!record</code>, each code submission (including re-running cells) is recorded in the specified file. The JSON format used is the same format recognized by the .NET Interactive <code>stdio</code> and <code>http</code> APIs and can be used to replay an interactive session via automation.</p>\r\n",
       "    <img src=\"https://user-images.githubusercontent.com/547415/109562409-343b1300-7a93-11eb-8ebf-79bb6af028cf.png\" width=\"75%\" />\r\n",
       "    </details>"
      ]
     },
     "metadata": {},
     "output_type": "display_data"
    }
   ],
   "source": [
    "// This top block may not need to be run at all, you can start with the using statements.\n",
    "// using nightly-build\n",
    "//#i \"nuget:https://pkgs.dev.azure.com/dnceng/public/_packaging/MachineLearning/nuget/v3/index.json\"\n",
    "#r \"nuget: Microsoft.Data.Analysis, 0.20.2\"\n",
    "#r \"nuget: Microsoft.ML, 4.0.2\"\n",
    "#r \"nuget:Microsoft.DotNet.Interactive.ExtensionLab,*-*\"\n",
    "#r \"nuget:SandDance.InteractiveExtension, 1.0.53\"\n",
    "//#r \"nuget: XPlot.Plotly.Interactive, 4.0.6\"\n"
   ]
  },
  {
   "cell_type": "code",
   "execution_count": 2,
   "metadata": {
    "dotnet_interactive": {
     "language": "csharp"
    },
    "polyglot_notebook": {
     "kernelName": "csharp"
    },
    "vscode": {
     "languageId": "polyglot-notebook"
    }
   },
   "outputs": [],
   "source": [
    "using static Microsoft.DotNet.Interactive.Formatting.PocketViewTags;\n",
    "using Microsoft.DotNet.Interactive.Formatting;\n",
    "using Microsoft.DotNet.Interactive;\n",
    "//using XPlot.Plotly.Interactive;\n",
    "using Microsoft.Data.Analysis;\n",
    "using Microsoft.ML;\n",
    "using System.Collections.Generic;\n",
    "using System.IO;\n",
    "using System.Linq;"
   ]
  },
  {
   "cell_type": "code",
   "execution_count": 3,
   "metadata": {
    "dotnet_interactive": {
     "language": "csharp"
    },
    "polyglot_notebook": {
     "kernelName": "csharp"
    },
    "vscode": {
     "languageId": "polyglot-notebook"
    }
   },
   "outputs": [
    {
     "data": {
      "text/plain": [
       "This file exists.  Nothing has blown up.....yet."
      ]
     },
     "metadata": {},
     "output_type": "display_data"
    }
   ],
   "source": [
    "var fileExists = File.Exists(\"draft-info/2025-04-02-top-schools.csv\");\n",
    "if (fileExists)\n",
    "{\n",
    "    display(\"This file exists.  Nothing has blown up.....yet.\");\n",
    "}\n",
    "var nextDraft = DataFrame.LoadCsv(\"draft-info/2025-04-02-top-schools.csv\");"
   ]
  },
  {
   "cell_type": "code",
   "execution_count": 4,
   "metadata": {
    "dotnet_interactive": {
     "language": "csharp"
    },
    "polyglot_notebook": {
     "kernelName": "csharp"
    },
    "vscode": {
     "languageId": "polyglot-notebook"
    }
   },
   "outputs": [],
   "source": [
    "nextDraft.Columns.Add(new PrimitiveDataFrameColumn<int>(\"SuggestedAuctionValue\", nextDraft.Rows.Count()));\n",
    "nextDraft.Columns.Add(new StringDataFrameColumn(\"LeagifyPosition\", nextDraft.Rows.Count()));"
   ]
  },
  {
   "cell_type": "code",
   "execution_count": 5,
   "metadata": {
    "dotnet_interactive": {
     "language": "csharp"
    },
    "polyglot_notebook": {
     "kernelName": "csharp"
    },
    "vscode": {
     "languageId": "polyglot-notebook"
    }
   },
   "outputs": [
    {
     "data": {
      "text/html": [
       "<table id=\"table_638792359359057979\"><caption><h3 style=\"text-align: center;\">DataFrame - 142 rows </h3></caption><thead><tr><th><i>index</i></th><th>School</th><th>Conference</th><th>ProjectedPoints</th><th>NumberOfProspects</th><th>SchoolURL</th><th>SuggestedAuctionValue</th><th>LeagifyPosition</th></tr></thead><tbody><tr style=\"display: none\"><td><i><div class=\"dni-plaintext\"><pre>0</pre></div></i></td><td>Ohio State</td><td>Big Ten</td><td><div class=\"dni-plaintext\"><pre>225</pre></div></td><td><div class=\"dni-plaintext\"><pre>17</pre></div></td><td>https://d9ioojyvhqpok.cloudfront.net/assets/logos/_colleges/ohio_st.svg</td><td><div class=\"dni-plaintext\"><pre>&lt;null&gt;</pre></div></td><td>Big Ten</td></tr><tr style=\"display: none\"><td><i><div class=\"dni-plaintext\"><pre>1</pre></div></i></td><td>Texas</td><td>SEC</td><td><div class=\"dni-plaintext\"><pre>202</pre></div></td><td><div class=\"dni-plaintext\"><pre>21</pre></div></td><td>https://d9ioojyvhqpok.cloudfront.net/assets/logos/_colleges/texas.svg</td><td><div class=\"dni-plaintext\"><pre>&lt;null&gt;</pre></div></td><td>SEC</td></tr><tr style=\"display: none\"><td><i><div class=\"dni-plaintext\"><pre>2</pre></div></i></td><td>Georgia</td><td>SEC</td><td><div class=\"dni-plaintext\"><pre>160</pre></div></td><td><div class=\"dni-plaintext\"><pre>18</pre></div></td><td>https://d9ioojyvhqpok.cloudfront.net/assets/logos/_colleges/georgia.svg</td><td><div class=\"dni-plaintext\"><pre>&lt;null&gt;</pre></div></td><td>SEC</td></tr><tr style=\"display: none\"><td><i><div class=\"dni-plaintext\"><pre>3</pre></div></i></td><td>Michigan</td><td>Big Ten</td><td><div class=\"dni-plaintext\"><pre>148</pre></div></td><td><div class=\"dni-plaintext\"><pre>13</pre></div></td><td>https://d9ioojyvhqpok.cloudfront.net/assets/logos/_colleges/michigan.svg</td><td><div class=\"dni-plaintext\"><pre>&lt;null&gt;</pre></div></td><td>Big Ten</td></tr><tr style=\"display: none\"><td><i><div class=\"dni-plaintext\"><pre>4</pre></div></i></td><td>Ole Miss</td><td>SEC</td><td><div class=\"dni-plaintext\"><pre>144</pre></div></td><td><div class=\"dni-plaintext\"><pre>16</pre></div></td><td>https://d9ioojyvhqpok.cloudfront.net/assets/logos/_colleges/mississippi.svg</td><td><div class=\"dni-plaintext\"><pre>&lt;null&gt;</pre></div></td><td>SEC</td></tr><tr style=\"display: none\"><td><i><div class=\"dni-plaintext\"><pre>5</pre></div></i></td><td>Oregon</td><td>Big Ten</td><td><div class=\"dni-plaintext\"><pre>116</pre></div></td><td><div class=\"dni-plaintext\"><pre>20</pre></div></td><td>https://d9ioojyvhqpok.cloudfront.net/assets/logos/_colleges/oregon.svg</td><td><div class=\"dni-plaintext\"><pre>&lt;null&gt;</pre></div></td><td>Big Ten</td></tr><tr style=\"display: none\"><td><i><div class=\"dni-plaintext\"><pre>6</pre></div></i></td><td>LSU</td><td>SEC</td><td><div class=\"dni-plaintext\"><pre>109</pre></div></td><td><div class=\"dni-plaintext\"><pre>13</pre></div></td><td>https://d9ioojyvhqpok.cloudfront.net/assets/logos/_colleges/lsu.svg</td><td><div class=\"dni-plaintext\"><pre>&lt;null&gt;</pre></div></td><td>SEC</td></tr><tr style=\"display: none\"><td><i><div class=\"dni-plaintext\"><pre>7</pre></div></i></td><td>Penn State</td><td>Big Ten</td><td><div class=\"dni-plaintext\"><pre>100</pre></div></td><td><div class=\"dni-plaintext\"><pre>12</pre></div></td><td>https://d9ioojyvhqpok.cloudfront.net/assets/logos/_colleges/penn_st.svg</td><td><div class=\"dni-plaintext\"><pre>&lt;null&gt;</pre></div></td><td>Big Ten</td></tr><tr style=\"display: none\"><td><i><div class=\"dni-plaintext\"><pre>8</pre></div></i></td><td>Alabama</td><td>SEC</td><td><div class=\"dni-plaintext\"><pre>95</pre></div></td><td><div class=\"dni-plaintext\"><pre>9</pre></div></td><td>https://d9ioojyvhqpok.cloudfront.net/assets/logos/_colleges/alabama.svg</td><td><div class=\"dni-plaintext\"><pre>&lt;null&gt;</pre></div></td><td>SEC</td></tr><tr style=\"display: none\"><td><i><div class=\"dni-plaintext\"><pre>9</pre></div></i></td><td>South Carolina</td><td>SEC</td><td><div class=\"dni-plaintext\"><pre>89</pre></div></td><td><div class=\"dni-plaintext\"><pre>16</pre></div></td><td>https://d9ioojyvhqpok.cloudfront.net/assets/logos/_colleges/south_carolina.svg</td><td><div class=\"dni-plaintext\"><pre>&lt;null&gt;</pre></div></td><td>SEC</td></tr><tr style=\"display: none\"><td><i><div class=\"dni-plaintext\"><pre>10</pre></div></i></td><td>Miami (FL)</td><td>ACC</td><td><div class=\"dni-plaintext\"><pre>89</pre></div></td><td><div class=\"dni-plaintext\"><pre>13</pre></div></td><td>https://d9ioojyvhqpok.cloudfront.net/assets/logos/_colleges/miami.svg</td><td><div class=\"dni-plaintext\"><pre>&lt;null&gt;</pre></div></td><td>ACC</td></tr><tr style=\"display: none\"><td><i><div class=\"dni-plaintext\"><pre>11</pre></div></i></td><td>Colorado</td><td>Big 12</td><td><div class=\"dni-plaintext\"><pre>84</pre></div></td><td><div class=\"dni-plaintext\"><pre>9</pre></div></td><td>https://d9ioojyvhqpok.cloudfront.net/assets/logos/_colleges/colorado.svg</td><td><div class=\"dni-plaintext\"><pre>&lt;null&gt;</pre></div></td><td>Big 12</td></tr><tr style=\"display: none\"><td><i><div class=\"dni-plaintext\"><pre>12</pre></div></i></td><td>Notre Dame</td><td>FBS - Independent</td><td><div class=\"dni-plaintext\"><pre>75</pre></div></td><td><div class=\"dni-plaintext\"><pre>13</pre></div></td><td>https://d9ioojyvhqpok.cloudfront.net/assets/logos/_colleges/notre_dame.svg</td><td><div class=\"dni-plaintext\"><pre>&lt;null&gt;</pre></div></td><td>Flex</td></tr><tr style=\"display: none\"><td><i><div class=\"dni-plaintext\"><pre>13</pre></div></i></td><td>Missouri</td><td>SEC</td><td><div class=\"dni-plaintext\"><pre>73</pre></div></td><td><div class=\"dni-plaintext\"><pre>9</pre></div></td><td>https://d9ioojyvhqpok.cloudfront.net/assets/logos/_colleges/missouri.svg</td><td><div class=\"dni-plaintext\"><pre>&lt;null&gt;</pre></div></td><td>SEC</td></tr><tr style=\"display: none\"><td><i><div class=\"dni-plaintext\"><pre>14</pre></div></i></td><td>Tennessee</td><td>SEC</td><td><div class=\"dni-plaintext\"><pre>65</pre></div></td><td><div class=\"dni-plaintext\"><pre>11</pre></div></td><td>https://d9ioojyvhqpok.cloudfront.net/assets/logos/_colleges/tennessee.svg</td><td><div class=\"dni-plaintext\"><pre>&lt;null&gt;</pre></div></td><td>SEC</td></tr><tr style=\"display: none\"><td><i><div class=\"dni-plaintext\"><pre>15</pre></div></i></td><td>Texas A&amp;M</td><td>SEC</td><td><div class=\"dni-plaintext\"><pre>65</pre></div></td><td><div class=\"dni-plaintext\"><pre>8</pre></div></td><td>https://d9ioojyvhqpok.cloudfront.net/assets/logos/_colleges/texas_a&amp;amp;m.svg</td><td><div class=\"dni-plaintext\"><pre>&lt;null&gt;</pre></div></td><td>SEC</td></tr><tr style=\"display: none\"><td><i><div class=\"dni-plaintext\"><pre>16</pre></div></i></td><td>Arizona</td><td>Big 12</td><td><div class=\"dni-plaintext\"><pre>57</pre></div></td><td><div class=\"dni-plaintext\"><pre>5</pre></div></td><td>https://d9ioojyvhqpok.cloudfront.net/assets/logos/_colleges/arizona.svg</td><td><div class=\"dni-plaintext\"><pre>&lt;null&gt;</pre></div></td><td>Big 12</td></tr><tr style=\"display: none\"><td><i><div class=\"dni-plaintext\"><pre>17</pre></div></i></td><td>Iowa</td><td>Big Ten</td><td><div class=\"dni-plaintext\"><pre>55</pre></div></td><td><div class=\"dni-plaintext\"><pre>11</pre></div></td><td>https://d9ioojyvhqpok.cloudfront.net/assets/logos/_colleges/iowa.svg</td><td><div class=\"dni-plaintext\"><pre>&lt;null&gt;</pre></div></td><td>Big Ten</td></tr><tr style=\"display: none\"><td><i><div class=\"dni-plaintext\"><pre>18</pre></div></i></td><td>Iowa State</td><td>Big 12</td><td><div class=\"dni-plaintext\"><pre>52</pre></div></td><td><div class=\"dni-plaintext\"><pre>6</pre></div></td><td>https://d9ioojyvhqpok.cloudfront.net/assets/logos/_colleges/iowa_st.svg</td><td><div class=\"dni-plaintext\"><pre>&lt;null&gt;</pre></div></td><td>Big 12</td></tr><tr style=\"display: none\"><td><i><div class=\"dni-plaintext\"><pre>19</pre></div></i></td><td>Kentucky</td><td>SEC</td><td><div class=\"dni-plaintext\"><pre>47</pre></div></td><td><div class=\"dni-plaintext\"><pre>10</pre></div></td><td>https://d9ioojyvhqpok.cloudfront.net/assets/logos/_colleges/kentucky.svg</td><td><div class=\"dni-plaintext\"><pre>&lt;null&gt;</pre></div></td><td>SEC</td></tr><tr style=\"display: none\"><td><i><div class=\"dni-plaintext\"><pre>20</pre></div></i></td><td>North Carolina</td><td>ACC</td><td><div class=\"dni-plaintext\"><pre>47</pre></div></td><td><div class=\"dni-plaintext\"><pre>9</pre></div></td><td>https://d9ioojyvhqpok.cloudfront.net/assets/logos/_colleges/north_carolina.svg</td><td><div class=\"dni-plaintext\"><pre>&lt;null&gt;</pre></div></td><td>ACC</td></tr><tr style=\"display: none\"><td><i><div class=\"dni-plaintext\"><pre>21</pre></div></i></td><td>Florida State</td><td>ACC</td><td><div class=\"dni-plaintext\"><pre>46</pre></div></td><td><div class=\"dni-plaintext\"><pre>14</pre></div></td><td>https://d9ioojyvhqpok.cloudfront.net/assets/logos/_colleges/florida_st.svg</td><td><div class=\"dni-plaintext\"><pre>&lt;null&gt;</pre></div></td><td>ACC</td></tr><tr style=\"display: none\"><td><i><div class=\"dni-plaintext\"><pre>22</pre></div></i></td><td>Minnesota</td><td>Big Ten</td><td><div class=\"dni-plaintext\"><pre>44</pre></div></td><td><div class=\"dni-plaintext\"><pre>11</pre></div></td><td>https://d9ioojyvhqpok.cloudfront.net/assets/logos/_colleges/minnesota.svg</td><td><div class=\"dni-plaintext\"><pre>&lt;null&gt;</pre></div></td><td>Big Ten</td></tr><tr style=\"display: none\"><td><i><div class=\"dni-plaintext\"><pre>23</pre></div></i></td><td>Boston College</td><td>ACC</td><td><div class=\"dni-plaintext\"><pre>42</pre></div></td><td><div class=\"dni-plaintext\"><pre>6</pre></div></td><td>https://d9ioojyvhqpok.cloudfront.net/assets/logos/_colleges/boston_college.svg</td><td><div class=\"dni-plaintext\"><pre>&lt;null&gt;</pre></div></td><td>ACC</td></tr><tr style=\"display: none\"><td><i><div class=\"dni-plaintext\"><pre>24</pre></div></i></td><td>Boise State</td><td>FBS - Mountain West</td><td><div class=\"dni-plaintext\"><pre>42</pre></div></td><td><div class=\"dni-plaintext\"><pre>4</pre></div></td><td>https://d9ioojyvhqpok.cloudfront.net/assets/logos/_colleges/boise_st.svg</td><td><div class=\"dni-plaintext\"><pre>&lt;null&gt;</pre></div></td><td>RandomSmallSchool</td></tr><tr style=\"display: none\"><td><i><div class=\"dni-plaintext\"><pre>25</pre></div></i></td><td>Virginia Tech</td><td>ACC</td><td><div class=\"dni-plaintext\"><pre>39</pre></div></td><td><div class=\"dni-plaintext\"><pre>10</pre></div></td><td>https://d9ioojyvhqpok.cloudfront.net/assets/logos/_colleges/virginia_tech.svg</td><td><div class=\"dni-plaintext\"><pre>&lt;null&gt;</pre></div></td><td>ACC</td></tr><tr style=\"display: none\"><td><i><div class=\"dni-plaintext\"><pre>26</pre></div></i></td><td>Florida</td><td>SEC</td><td><div class=\"dni-plaintext\"><pre>37</pre></div></td><td><div class=\"dni-plaintext\"><pre>13</pre></div></td><td>https://d9ioojyvhqpok.cloudfront.net/assets/logos/_colleges/florida.svg</td><td><div class=\"dni-plaintext\"><pre>&lt;null&gt;</pre></div></td><td>SEC</td></tr><tr style=\"display: none\"><td><i><div class=\"dni-plaintext\"><pre>27</pre></div></i></td><td>UCLA</td><td>Big Ten</td><td><div class=\"dni-plaintext\"><pre>37</pre></div></td><td><div class=\"dni-plaintext\"><pre>7</pre></div></td><td>https://d9ioojyvhqpok.cloudfront.net/assets/logos/_colleges/ucla.svg</td><td><div class=\"dni-plaintext\"><pre>&lt;null&gt;</pre></div></td><td>Big Ten</td></tr><tr style=\"display: none\"><td><i><div class=\"dni-plaintext\"><pre>28</pre></div></i></td><td>Arkansas</td><td>SEC</td><td><div class=\"dni-plaintext\"><pre>36</pre></div></td><td><div class=\"dni-plaintext\"><pre>10</pre></div></td><td>https://d9ioojyvhqpok.cloudfront.net/assets/logos/_colleges/arkansas.svg</td><td><div class=\"dni-plaintext\"><pre>&lt;null&gt;</pre></div></td><td>SEC</td></tr><tr style=\"display: none\"><td><i><div class=\"dni-plaintext\"><pre>29</pre></div></i></td><td>Louisville</td><td>ACC</td><td><div class=\"dni-plaintext\"><pre>35</pre></div></td><td><div class=\"dni-plaintext\"><pre>9</pre></div></td><td>https://d9ioojyvhqpok.cloudfront.net/assets/logos/_colleges/louisville.svg</td><td><div class=\"dni-plaintext\"><pre>&lt;null&gt;</pre></div></td><td>ACC</td></tr><tr style=\"display: none\"><td><i><div class=\"dni-plaintext\"><pre>30</pre></div></i></td><td>Syracuse</td><td>ACC</td><td><div class=\"dni-plaintext\"><pre>32</pre></div></td><td><div class=\"dni-plaintext\"><pre>9</pre></div></td><td>https://d9ioojyvhqpok.cloudfront.net/assets/logos/_colleges/syracuse.svg</td><td><div class=\"dni-plaintext\"><pre>&lt;null&gt;</pre></div></td><td>ACC</td></tr><tr style=\"display: none\"><td><i><div class=\"dni-plaintext\"><pre>31</pre></div></i></td><td>Kansas</td><td>Big 12</td><td><div class=\"dni-plaintext\"><pre>30</pre></div></td><td><div class=\"dni-plaintext\"><pre>8</pre></div></td><td>https://d9ioojyvhqpok.cloudfront.net/assets/logos/_colleges/kansas.svg</td><td><div class=\"dni-plaintext\"><pre>&lt;null&gt;</pre></div></td><td>Big 12</td></tr><tr style=\"display: none\"><td><i><div class=\"dni-plaintext\"><pre>32</pre></div></i></td><td>Marshall</td><td>FBS - CUSA</td><td><div class=\"dni-plaintext\"><pre>30</pre></div></td><td><div class=\"dni-plaintext\"><pre>1</pre></div></td><td>https://d9ioojyvhqpok.cloudfront.net/assets/logos/_colleges/marshall.svg</td><td><div class=\"dni-plaintext\"><pre>&lt;null&gt;</pre></div></td><td>RandomSmallSchool</td></tr><tr style=\"display: none\"><td><i><div class=\"dni-plaintext\"><pre>33</pre></div></i></td><td>Maryland</td><td>Big Ten</td><td><div class=\"dni-plaintext\"><pre>29</pre></div></td><td><div class=\"dni-plaintext\"><pre>8</pre></div></td><td>https://d9ioojyvhqpok.cloudfront.net/assets/logos/_colleges/maryland.svg</td><td><div class=\"dni-plaintext\"><pre>&lt;null&gt;</pre></div></td><td>Big Ten</td></tr><tr style=\"display: none\"><td><i><div class=\"dni-plaintext\"><pre>34</pre></div></i></td><td>TCU</td><td>Big 12</td><td><div class=\"dni-plaintext\"><pre>28</pre></div></td><td><div class=\"dni-plaintext\"><pre>5</pre></div></td><td>https://d9ioojyvhqpok.cloudfront.net/assets/logos/_colleges/tcu.svg</td><td><div class=\"dni-plaintext\"><pre>&lt;null&gt;</pre></div></td><td>Big 12</td></tr><tr style=\"display: none\"><td><i><div class=\"dni-plaintext\"><pre>35</pre></div></i></td><td>North Dakota State</td><td>FCS</td><td><div class=\"dni-plaintext\"><pre>25</pre></div></td><td><div class=\"dni-plaintext\"><pre>1</pre></div></td><td>https://d9ioojyvhqpok.cloudfront.net/assets/logos/_colleges/north_dakota_st.svg</td><td><div class=\"dni-plaintext\"><pre>&lt;null&gt;</pre></div></td><td>RandomSmallSchool</td></tr><tr style=\"display: none\"><td><i><div class=\"dni-plaintext\"><pre>36</pre></div></i></td><td>Nebraska</td><td>Big Ten</td><td><div class=\"dni-plaintext\"><pre>24</pre></div></td><td><div class=\"dni-plaintext\"><pre>9</pre></div></td><td>https://d9ioojyvhqpok.cloudfront.net/assets/logos/_colleges/nebraska.svg</td><td><div class=\"dni-plaintext\"><pre>&lt;null&gt;</pre></div></td><td>Big Ten</td></tr><tr style=\"display: none\"><td><i><div class=\"dni-plaintext\"><pre>37</pre></div></i></td><td>Kansas State</td><td>Big 12</td><td><div class=\"dni-plaintext\"><pre>24</pre></div></td><td><div class=\"dni-plaintext\"><pre>7</pre></div></td><td>https://d9ioojyvhqpok.cloudfront.net/assets/logos/_colleges/kansas_st.svg</td><td><div class=\"dni-plaintext\"><pre>&lt;null&gt;</pre></div></td><td>Big 12</td></tr><tr style=\"display: none\"><td><i><div class=\"dni-plaintext\"><pre>38</pre></div></i></td><td>Clemson</td><td>ACC</td><td><div class=\"dni-plaintext\"><pre>24</pre></div></td><td><div class=\"dni-plaintext\"><pre>7</pre></div></td><td>https://d9ioojyvhqpok.cloudfront.net/assets/logos/_colleges/clemson.svg</td><td><div class=\"dni-plaintext\"><pre>&lt;null&gt;</pre></div></td><td>ACC</td></tr><tr style=\"display: none\"><td><i><div class=\"dni-plaintext\"><pre>39</pre></div></i></td><td>Toledo</td><td>FBS - MAC</td><td><div class=\"dni-plaintext\"><pre>24</pre></div></td><td><div class=\"dni-plaintext\"><pre>5</pre></div></td><td>https://d9ioojyvhqpok.cloudfront.net/assets/logos/_colleges/toledo.svg</td><td><div class=\"dni-plaintext\"><pre>&lt;null&gt;</pre></div></td><td>RandomSmallSchool</td></tr><tr style=\"display: none\"><td><i><div class=\"dni-plaintext\"><pre>40</pre></div></i></td><td>Rutgers</td><td>Big Ten</td><td><div class=\"dni-plaintext\"><pre>23</pre></div></td><td><div class=\"dni-plaintext\"><pre>9</pre></div></td><td>https://d9ioojyvhqpok.cloudfront.net/assets/logos/_colleges/rutgers.svg</td><td><div class=\"dni-plaintext\"><pre>&lt;null&gt;</pre></div></td><td>Big Ten</td></tr><tr style=\"display: none\"><td><i><div class=\"dni-plaintext\"><pre>41</pre></div></i></td><td>UCF</td><td>Big 12</td><td><div class=\"dni-plaintext\"><pre>22</pre></div></td><td><div class=\"dni-plaintext\"><pre>11</pre></div></td><td>https://d9ioojyvhqpok.cloudfront.net/assets/logos/_colleges/ucf.svg</td><td><div class=\"dni-plaintext\"><pre>&lt;null&gt;</pre></div></td><td>Big 12</td></tr><tr style=\"display: none\"><td><i><div class=\"dni-plaintext\"><pre>42</pre></div></i></td><td>West Virginia</td><td>Big 12</td><td><div class=\"dni-plaintext\"><pre>22</pre></div></td><td><div class=\"dni-plaintext\"><pre>8</pre></div></td><td>https://d9ioojyvhqpok.cloudfront.net/assets/logos/_colleges/west_virginia.svg</td><td><div class=\"dni-plaintext\"><pre>&lt;null&gt;</pre></div></td><td>Big 12</td></tr><tr style=\"display: none\"><td><i><div class=\"dni-plaintext\"><pre>43</pre></div></i></td><td>Oklahoma State</td><td>Big 12</td><td><div class=\"dni-plaintext\"><pre>22</pre></div></td><td><div class=\"dni-plaintext\"><pre>8</pre></div></td><td>https://d9ioojyvhqpok.cloudfront.net/assets/logos/_colleges/oklahoma_st.svg</td><td><div class=\"dni-plaintext\"><pre>&lt;null&gt;</pre></div></td><td>Big 12</td></tr><tr style=\"display: none\"><td><i><div class=\"dni-plaintext\"><pre>44</pre></div></i></td><td>Stanford</td><td>ACC</td><td><div class=\"dni-plaintext\"><pre>22</pre></div></td><td><div class=\"dni-plaintext\"><pre>2</pre></div></td><td>https://d9ioojyvhqpok.cloudfront.net/assets/logos/_colleges/stanford.svg</td><td><div class=\"dni-plaintext\"><pre>&lt;null&gt;</pre></div></td><td>ACC</td></tr><tr style=\"display: none\"><td><i><div class=\"dni-plaintext\"><pre>45</pre></div></i></td><td>Oklahoma</td><td>SEC</td><td><div class=\"dni-plaintext\"><pre>21</pre></div></td><td><div class=\"dni-plaintext\"><pre>8</pre></div></td><td>https://d9ioojyvhqpok.cloudfront.net/assets/logos/_colleges/oklahoma.svg</td><td><div class=\"dni-plaintext\"><pre>&lt;null&gt;</pre></div></td><td>SEC</td></tr><tr style=\"display: none\"><td><i><div class=\"dni-plaintext\"><pre>46</pre></div></i></td><td>California</td><td>ACC</td><td><div class=\"dni-plaintext\"><pre>21</pre></div></td><td><div class=\"dni-plaintext\"><pre>6</pre></div></td><td>https://d9ioojyvhqpok.cloudfront.net/assets/logos/_colleges/california.svg</td><td><div class=\"dni-plaintext\"><pre>&lt;null&gt;</pre></div></td><td>ACC</td></tr><tr style=\"display: none\"><td><i><div class=\"dni-plaintext\"><pre>47</pre></div></i></td><td>Indiana</td><td>Big Ten</td><td><div class=\"dni-plaintext\"><pre>20</pre></div></td><td><div class=\"dni-plaintext\"><pre>7</pre></div></td><td>https://d9ioojyvhqpok.cloudfront.net/assets/logos/_colleges/indiana.svg</td><td><div class=\"dni-plaintext\"><pre>&lt;null&gt;</pre></div></td><td>Big Ten</td></tr><tr style=\"display: none\"><td><i><div class=\"dni-plaintext\"><pre>48</pre></div></i></td><td>Texas Tech</td><td>Big 12</td><td><div class=\"dni-plaintext\"><pre>20</pre></div></td><td><div class=\"dni-plaintext\"><pre>5</pre></div></td><td>https://d9ioojyvhqpok.cloudfront.net/assets/logos/_colleges/texas_tech.svg</td><td><div class=\"dni-plaintext\"><pre>&lt;null&gt;</pre></div></td><td>Big 12</td></tr><tr style=\"display: none\"><td><i><div class=\"dni-plaintext\"><pre>49</pre></div></i></td><td>East Carolina</td><td>FBS - AAC</td><td><div class=\"dni-plaintext\"><pre>20</pre></div></td><td><div class=\"dni-plaintext\"><pre>1</pre></div></td><td>https://d9ioojyvhqpok.cloudfront.net/assets/logos/_colleges/east_carolina.svg</td><td><div class=\"dni-plaintext\"><pre>&lt;null&gt;</pre></div></td><td>RandomSmallSchool</td></tr><tr style=\"display: none\"><td><i><div class=\"dni-plaintext\"><pre>50</pre></div></i></td><td>Auburn</td><td>SEC</td><td><div class=\"dni-plaintext\"><pre>19</pre></div></td><td><div class=\"dni-plaintext\"><pre>10</pre></div></td><td>https://d9ioojyvhqpok.cloudfront.net/assets/logos/_colleges/auburn.svg</td><td><div class=\"dni-plaintext\"><pre>&lt;null&gt;</pre></div></td><td>SEC</td></tr><tr style=\"display: none\"><td><i><div class=\"dni-plaintext\"><pre>51</pre></div></i></td><td>Arizona State</td><td>Big 12</td><td><div class=\"dni-plaintext\"><pre>18</pre></div></td><td><div class=\"dni-plaintext\"><pre>4</pre></div></td><td>https://d9ioojyvhqpok.cloudfront.net/assets/logos/_colleges/arizona_st.svg</td><td><div class=\"dni-plaintext\"><pre>&lt;null&gt;</pre></div></td><td>Big 12</td></tr><tr style=\"display: none\"><td><i><div class=\"dni-plaintext\"><pre>52</pre></div></i></td><td>USC</td><td>Big Ten</td><td><div class=\"dni-plaintext\"><pre>17</pre></div></td><td><div class=\"dni-plaintext\"><pre>8</pre></div></td><td>https://d9ioojyvhqpok.cloudfront.net/assets/logos/_colleges/usc.svg</td><td><div class=\"dni-plaintext\"><pre>&lt;null&gt;</pre></div></td><td>Big Ten</td></tr><tr style=\"display: none\"><td><i><div class=\"dni-plaintext\"><pre>53</pre></div></i></td><td>Purdue</td><td>Big Ten</td><td><div class=\"dni-plaintext\"><pre>17</pre></div></td><td><div class=\"dni-plaintext\"><pre>3</pre></div></td><td>https://d9ioojyvhqpok.cloudfront.net/assets/logos/_colleges/purdue.svg</td><td><div class=\"dni-plaintext\"><pre>&lt;null&gt;</pre></div></td><td>Big Ten</td></tr><tr style=\"display: none\"><td><i><div class=\"dni-plaintext\"><pre>54</pre></div></i></td><td>NC State</td><td>ACC</td><td><div class=\"dni-plaintext\"><pre>16</pre></div></td><td><div class=\"dni-plaintext\"><pre>6</pre></div></td><td>https://d9ioojyvhqpok.cloudfront.net/assets/logos/_colleges/nc_st.svg</td><td><div class=\"dni-plaintext\"><pre>&lt;null&gt;</pre></div></td><td>ACC</td></tr><tr style=\"display: none\"><td><i><div class=\"dni-plaintext\"><pre>55</pre></div></i></td><td>SMU</td><td>ACC</td><td><div class=\"dni-plaintext\"><pre>15</pre></div></td><td><div class=\"dni-plaintext\"><pre>4</pre></div></td><td>https://d9ioojyvhqpok.cloudfront.net/assets/logos/_colleges/smu.svg</td><td><div class=\"dni-plaintext\"><pre>&lt;null&gt;</pre></div></td><td>ACC</td></tr><tr style=\"display: none\"><td><i><div class=\"dni-plaintext\"><pre>56</pre></div></i></td><td>Utah</td><td>Big 12</td><td><div class=\"dni-plaintext\"><pre>13</pre></div></td><td><div class=\"dni-plaintext\"><pre>8</pre></div></td><td>https://d9ioojyvhqpok.cloudfront.net/assets/logos/_colleges/utah.svg</td><td><div class=\"dni-plaintext\"><pre>&lt;null&gt;</pre></div></td><td>Big 12</td></tr><tr style=\"display: none\"><td><i><div class=\"dni-plaintext\"><pre>57</pre></div></i></td><td>Virginia</td><td>ACC</td><td><div class=\"dni-plaintext\"><pre>13</pre></div></td><td><div class=\"dni-plaintext\"><pre>7</pre></div></td><td>https://d9ioojyvhqpok.cloudfront.net/assets/logos/_colleges/virginia.svg</td><td><div class=\"dni-plaintext\"><pre>&lt;null&gt;</pre></div></td><td>ACC</td></tr><tr style=\"display: none\"><td><i><div class=\"dni-plaintext\"><pre>58</pre></div></i></td><td>Georgia Tech</td><td>ACC</td><td><div class=\"dni-plaintext\"><pre>13</pre></div></td><td><div class=\"dni-plaintext\"><pre>7</pre></div></td><td>https://d9ioojyvhqpok.cloudfront.net/assets/logos/_colleges/georgia_tech.svg</td><td><div class=\"dni-plaintext\"><pre>&lt;null&gt;</pre></div></td><td>ACC</td></tr><tr style=\"display: none\"><td><i><div class=\"dni-plaintext\"><pre>59</pre></div></i></td><td>Wisconsin</td><td>Big Ten</td><td><div class=\"dni-plaintext\"><pre>13</pre></div></td><td><div class=\"dni-plaintext\"><pre>5</pre></div></td><td>https://d9ioojyvhqpok.cloudfront.net/assets/logos/_colleges/wisconsin.svg</td><td><div class=\"dni-plaintext\"><pre>&lt;null&gt;</pre></div></td><td>Big Ten</td></tr><tr style=\"display: none\"><td><i><div class=\"dni-plaintext\"><pre>60</pre></div></i></td><td>Colorado State</td><td>FBS - Mountain West</td><td><div class=\"dni-plaintext\"><pre>12</pre></div></td><td><div class=\"dni-plaintext\"><pre>5</pre></div></td><td>https://d9ioojyvhqpok.cloudfront.net/assets/logos/_colleges/colorado_st.svg</td><td><div class=\"dni-plaintext\"><pre>&lt;null&gt;</pre></div></td><td>RandomSmallSchool</td></tr><tr style=\"display: none\"><td><i><div class=\"dni-plaintext\"><pre>61</pre></div></i></td><td>Bowling Green</td><td>FBS - MAC</td><td><div class=\"dni-plaintext\"><pre>12</pre></div></td><td><div class=\"dni-plaintext\"><pre>3</pre></div></td><td>https://d9ioojyvhqpok.cloudfront.net/assets/logos/_colleges/bowling_green.svg</td><td><div class=\"dni-plaintext\"><pre>&lt;null&gt;</pre></div></td><td>RandomSmallSchool</td></tr><tr style=\"display: none\"><td><i><div class=\"dni-plaintext\"><pre>62</pre></div></i></td><td>BYU</td><td>Big 12</td><td><div class=\"dni-plaintext\"><pre>11</pre></div></td><td><div class=\"dni-plaintext\"><pre>6</pre></div></td><td>https://d9ioojyvhqpok.cloudfront.net/assets/logos/_colleges/byu.svg</td><td><div class=\"dni-plaintext\"><pre>&lt;null&gt;</pre></div></td><td>Big 12</td></tr><tr style=\"display: none\"><td><i><div class=\"dni-plaintext\"><pre>63</pre></div></i></td><td>Utah State</td><td>FBS - Mountain West</td><td><div class=\"dni-plaintext\"><pre>11</pre></div></td><td><div class=\"dni-plaintext\"><pre>2</pre></div></td><td>https://d9ioojyvhqpok.cloudfront.net/assets/logos/_colleges/utah_st.svg</td><td><div class=\"dni-plaintext\"><pre>&lt;null&gt;</pre></div></td><td>RandomSmallSchool</td></tr><tr style=\"display: none\"><td><i><div class=\"dni-plaintext\"><pre>64</pre></div></i></td><td>Cincinnati</td><td>Big 12</td><td><div class=\"dni-plaintext\"><pre>10</pre></div></td><td><div class=\"dni-plaintext\"><pre>5</pre></div></td><td>https://d9ioojyvhqpok.cloudfront.net/assets/logos/_colleges/cincinnati.svg</td><td><div class=\"dni-plaintext\"><pre>&lt;null&gt;</pre></div></td><td>Big 12</td></tr><tr style=\"display: none\"><td><i><div class=\"dni-plaintext\"><pre>65</pre></div></i></td><td>Washington State</td><td>Pac 12</td><td><div class=\"dni-plaintext\"><pre>10</pre></div></td><td><div class=\"dni-plaintext\"><pre>3</pre></div></td><td>https://d9ioojyvhqpok.cloudfront.net/assets/logos/_colleges/washington_st.svg</td><td><div class=\"dni-plaintext\"><pre>&lt;null&gt;</pre></div></td><td>RandomSmallSchool</td></tr><tr style=\"display: none\"><td><i><div class=\"dni-plaintext\"><pre>66</pre></div></i></td><td>William &amp; Mary</td><td>FCS</td><td><div class=\"dni-plaintext\"><pre>10</pre></div></td><td><div class=\"dni-plaintext\"><pre>1</pre></div></td><td>https://d9ioojyvhqpok.cloudfront.net/assets/logos/_colleges/william&amp;amp;mary.svg</td><td><div class=\"dni-plaintext\"><pre>&lt;null&gt;</pre></div></td><td>RandomSmallSchool</td></tr><tr style=\"display: none\"><td><i><div class=\"dni-plaintext\"><pre>67</pre></div></i></td><td>Tulane</td><td>FBS - AAC</td><td><div class=\"dni-plaintext\"><pre>9</pre></div></td><td><div class=\"dni-plaintext\"><pre>4</pre></div></td><td>https://d9ioojyvhqpok.cloudfront.net/assets/logos/_colleges/tulane.svg</td><td><div class=\"dni-plaintext\"><pre>&lt;null&gt;</pre></div></td><td>RandomSmallSchool</td></tr><tr style=\"display: none\"><td><i><div class=\"dni-plaintext\"><pre>68</pre></div></i></td><td>Illinois</td><td>Big Ten</td><td><div class=\"dni-plaintext\"><pre>9</pre></div></td><td><div class=\"dni-plaintext\"><pre>4</pre></div></td><td>https://d9ioojyvhqpok.cloudfront.net/assets/logos/_colleges/illinois.svg</td><td><div class=\"dni-plaintext\"><pre>&lt;null&gt;</pre></div></td><td>Big Ten</td></tr><tr style=\"display: none\"><td><i><div class=\"dni-plaintext\"><pre>69</pre></div></i></td><td>UTSA</td><td>FBS - AAC</td><td><div class=\"dni-plaintext\"><pre>9</pre></div></td><td><div class=\"dni-plaintext\"><pre>3</pre></div></td><td>https://d9ioojyvhqpok.cloudfront.net/assets/logos/_colleges/utsa.svg</td><td><div class=\"dni-plaintext\"><pre>&lt;null&gt;</pre></div></td><td>RandomSmallSchool</td></tr><tr style=\"display: none\"><td><i><div class=\"dni-plaintext\"><pre>70</pre></div></i></td><td>Memphis</td><td>FBS - AAC</td><td><div class=\"dni-plaintext\"><pre>8</pre></div></td><td><div class=\"dni-plaintext\"><pre>6</pre></div></td><td>https://d9ioojyvhqpok.cloudfront.net/assets/logos/_colleges/memphis.svg</td><td><div class=\"dni-plaintext\"><pre>&lt;null&gt;</pre></div></td><td>RandomSmallSchool</td></tr><tr style=\"display: none\"><td><i><div class=\"dni-plaintext\"><pre>71</pre></div></i></td><td>UConn</td><td>FBS - AAC</td><td><div class=\"dni-plaintext\"><pre>8</pre></div></td><td><div class=\"dni-plaintext\"><pre>3</pre></div></td><td>https://d9ioojyvhqpok.cloudfront.net/assets/logos/_colleges/uconn.svg</td><td><div class=\"dni-plaintext\"><pre>&lt;null&gt;</pre></div></td><td>RandomSmallSchool</td></tr><tr style=\"display: none\"><td><i><div class=\"dni-plaintext\"><pre>72</pre></div></i></td><td>Central Arkansas</td><td>FCS</td><td><div class=\"dni-plaintext\"><pre>8</pre></div></td><td><div class=\"dni-plaintext\"><pre>2</pre></div></td><td>https://d9ioojyvhqpok.cloudfront.net/assets/logos/_colleges/central_arkansas.svg</td><td><div class=\"dni-plaintext\"><pre>&lt;null&gt;</pre></div></td><td>RandomSmallSchool</td></tr><tr style=\"display: none\"><td><i><div class=\"dni-plaintext\"><pre>73</pre></div></i></td><td>Oregon State</td><td>Pac 12</td><td><div class=\"dni-plaintext\"><pre>8</pre></div></td><td><div class=\"dni-plaintext\"><pre>2</pre></div></td><td>https://d9ioojyvhqpok.cloudfront.net/assets/logos/_colleges/oregon_st.svg</td><td><div class=\"dni-plaintext\"><pre>&lt;null&gt;</pre></div></td><td>RandomSmallSchool</td></tr><tr style=\"display: none\"><td><i><div class=\"dni-plaintext\"><pre>74</pre></div></i></td><td>Sacramento State</td><td>FCS</td><td><div class=\"dni-plaintext\"><pre>8</pre></div></td><td><div class=\"dni-plaintext\"><pre>1</pre></div></td><td>https://d9ioojyvhqpok.cloudfront.net/assets/logos/_colleges/sacramento_st.svg</td><td><div class=\"dni-plaintext\"><pre>&lt;null&gt;</pre></div></td><td>RandomSmallSchool</td></tr><tr style=\"display: none\"><td><i><div class=\"dni-plaintext\"><pre>75</pre></div></i></td><td>Pitt</td><td>ACC</td><td><div class=\"dni-plaintext\"><pre>7</pre></div></td><td><div class=\"dni-plaintext\"><pre>7</pre></div></td><td>https://d9ioojyvhqpok.cloudfront.net/assets/logos/_colleges/pittsburgh.svg</td><td><div class=\"dni-plaintext\"><pre>&lt;null&gt;</pre></div></td><td>ACC</td></tr><tr style=\"display: none\"><td><i><div class=\"dni-plaintext\"><pre>76</pre></div></i></td><td>UNLV</td><td>FBS - Mountain West</td><td><div class=\"dni-plaintext\"><pre>7</pre></div></td><td><div class=\"dni-plaintext\"><pre>3</pre></div></td><td>https://d9ioojyvhqpok.cloudfront.net/assets/logos/_colleges/unlv.svg</td><td><div class=\"dni-plaintext\"><pre>&lt;null&gt;</pre></div></td><td>RandomSmallSchool</td></tr><tr style=\"display: none\"><td><i><div class=\"dni-plaintext\"><pre>77</pre></div></i></td><td>Western Michigan</td><td>FBS - MAC</td><td><div class=\"dni-plaintext\"><pre>7</pre></div></td><td><div class=\"dni-plaintext\"><pre>3</pre></div></td><td>https://d9ioojyvhqpok.cloudfront.net/assets/logos/_colleges/western_michigan.svg</td><td><div class=\"dni-plaintext\"><pre>&lt;null&gt;</pre></div></td><td>RandomSmallSchool</td></tr><tr style=\"display: none\"><td><i><div class=\"dni-plaintext\"><pre>78</pre></div></i></td><td>Jacksonville State</td><td>FBS - CUSA</td><td><div class=\"dni-plaintext\"><pre>6</pre></div></td><td><div class=\"dni-plaintext\"><pre>2</pre></div></td><td>https://d9ioojyvhqpok.cloudfront.net/assets/logos/_colleges/jacksonville_st.svg</td><td><div class=\"dni-plaintext\"><pre>&lt;null&gt;</pre></div></td><td>RandomSmallSchool</td></tr><tr style=\"display: none\"><td><i><div class=\"dni-plaintext\"><pre>79</pre></div></i></td><td>Fresno State</td><td>FBS - Mountain West</td><td><div class=\"dni-plaintext\"><pre>6</pre></div></td><td><div class=\"dni-plaintext\"><pre>2</pre></div></td><td>https://d9ioojyvhqpok.cloudfront.net/assets/logos/_colleges/fresno_st.svg</td><td><div class=\"dni-plaintext\"><pre>&lt;null&gt;</pre></div></td><td>RandomSmallSchool</td></tr><tr style=\"display: none\"><td><i><div class=\"dni-plaintext\"><pre>80</pre></div></i></td><td>Delaware</td><td>FCS</td><td><div class=\"dni-plaintext\"><pre>6</pre></div></td><td><div class=\"dni-plaintext\"><pre>2</pre></div></td><td>https://d9ioojyvhqpok.cloudfront.net/assets/logos/_colleges/delaware.svg</td><td><div class=\"dni-plaintext\"><pre>&lt;null&gt;</pre></div></td><td>RandomSmallSchool</td></tr><tr style=\"display: none\"><td><i><div class=\"dni-plaintext\"><pre>81</pre></div></i></td><td>San Jose State</td><td>FBS - Mountain West</td><td><div class=\"dni-plaintext\"><pre>6</pre></div></td><td><div class=\"dni-plaintext\"><pre>1</pre></div></td><td>https://d9ioojyvhqpok.cloudfront.net/assets/logos/_colleges/san_jose_st.svg</td><td><div class=\"dni-plaintext\"><pre>&lt;null&gt;</pre></div></td><td>RandomSmallSchool</td></tr><tr style=\"display: none\"><td><i><div class=\"dni-plaintext\"><pre>82</pre></div></i></td><td>Baylor</td><td>Big 12</td><td><div class=\"dni-plaintext\"><pre>5</pre></div></td><td><div class=\"dni-plaintext\"><pre>5</pre></div></td><td>https://d9ioojyvhqpok.cloudfront.net/assets/logos/_colleges/baylor.svg</td><td><div class=\"dni-plaintext\"><pre>&lt;null&gt;</pre></div></td><td>Big 12</td></tr><tr style=\"display: none\"><td><i><div class=\"dni-plaintext\"><pre>83</pre></div></i></td><td>Michigan State</td><td>Big Ten</td><td><div class=\"dni-plaintext\"><pre>5</pre></div></td><td><div class=\"dni-plaintext\"><pre>5</pre></div></td><td>https://d9ioojyvhqpok.cloudfront.net/assets/logos/_colleges/michigan_st.svg</td><td><div class=\"dni-plaintext\"><pre>&lt;null&gt;</pre></div></td><td>Big Ten</td></tr><tr style=\"display: none\"><td><i><div class=\"dni-plaintext\"><pre>84</pre></div></i></td><td>Washington</td><td>Big Ten</td><td><div class=\"dni-plaintext\"><pre>5</pre></div></td><td><div class=\"dni-plaintext\"><pre>5</pre></div></td><td>https://d9ioojyvhqpok.cloudfront.net/assets/logos/_colleges/washington.svg</td><td><div class=\"dni-plaintext\"><pre>&lt;null&gt;</pre></div></td><td>Big Ten</td></tr><tr style=\"display: none\"><td><i><div class=\"dni-plaintext\"><pre>85</pre></div></i></td><td>Western Kentucky</td><td>FBS - CUSA</td><td><div class=\"dni-plaintext\"><pre>5</pre></div></td><td><div class=\"dni-plaintext\"><pre>1</pre></div></td><td>https://d9ioojyvhqpok.cloudfront.net/assets/logos/_colleges/western_kentucky.svg</td><td><div class=\"dni-plaintext\"><pre>&lt;null&gt;</pre></div></td><td>RandomSmallSchool</td></tr><tr style=\"display: none\"><td><i><div class=\"dni-plaintext\"><pre>86</pre></div></i></td><td>Eastern Washington</td><td>FCS</td><td><div class=\"dni-plaintext\"><pre>5</pre></div></td><td><div class=\"dni-plaintext\"><pre>1</pre></div></td><td>https://d9ioojyvhqpok.cloudfront.net/assets/logos/_colleges/eastern_washington.svg</td><td><div class=\"dni-plaintext\"><pre>&lt;null&gt;</pre></div></td><td>RandomSmallSchool</td></tr><tr style=\"display: none\"><td><i><div class=\"dni-plaintext\"><pre>87</pre></div></i></td><td>Alabama A&amp;M</td><td>FCS</td><td><div class=\"dni-plaintext\"><pre>5</pre></div></td><td><div class=\"dni-plaintext\"><pre>1</pre></div></td><td>https://d9ioojyvhqpok.cloudfront.net/assets/logos/_colleges/alabama_a&amp;amp;m.svg</td><td><div class=\"dni-plaintext\"><pre>&lt;null&gt;</pre></div></td><td>RandomSmallSchool</td></tr><tr style=\"display: none\"><td><i><div class=\"dni-plaintext\"><pre>88</pre></div></i></td><td>Texas State</td><td>FBS - Sun Belt</td><td><div class=\"dni-plaintext\"><pre>3</pre></div></td><td><div class=\"dni-plaintext\"><pre>3</pre></div></td><td>https://d9ioojyvhqpok.cloudfront.net/assets/logos/_colleges/texas_st.svg</td><td><div class=\"dni-plaintext\"><pre>&lt;null&gt;</pre></div></td><td>RandomSmallSchool</td></tr><tr style=\"display: none\"><td><i><div class=\"dni-plaintext\"><pre>89</pre></div></i></td><td>Arkansas State</td><td>FBS - Sun Belt</td><td><div class=\"dni-plaintext\"><pre>3</pre></div></td><td><div class=\"dni-plaintext\"><pre>3</pre></div></td><td>https://d9ioojyvhqpok.cloudfront.net/assets/logos/_colleges/arkansas_st.svg</td><td><div class=\"dni-plaintext\"><pre>&lt;null&gt;</pre></div></td><td>RandomSmallSchool</td></tr><tr style=\"display: none\"><td><i><div class=\"dni-plaintext\"><pre>90</pre></div></i></td><td>North Texas</td><td>FBS - AAC</td><td><div class=\"dni-plaintext\"><pre>3</pre></div></td><td><div class=\"dni-plaintext\"><pre>3</pre></div></td><td>https://d9ioojyvhqpok.cloudfront.net/assets/logos/_colleges/north_texas.svg</td><td><div class=\"dni-plaintext\"><pre>&lt;null&gt;</pre></div></td><td>RandomSmallSchool</td></tr><tr style=\"display: none\"><td><i><div class=\"dni-plaintext\"><pre>91</pre></div></i></td><td>Miami (OH)</td><td>FBS - MAC</td><td><div class=\"dni-plaintext\"><pre>3</pre></div></td><td><div class=\"dni-plaintext\"><pre>3</pre></div></td><td>https://d9ioojyvhqpok.cloudfront.net/assets/logos/_colleges/miami_oh.svg</td><td><div class=\"dni-plaintext\"><pre>&lt;null&gt;</pre></div></td><td>RandomSmallSchool</td></tr><tr style=\"display: none\"><td><i><div class=\"dni-plaintext\"><pre>92</pre></div></i></td><td>Montana State</td><td>FCS</td><td><div class=\"dni-plaintext\"><pre>3</pre></div></td><td><div class=\"dni-plaintext\"><pre>2</pre></div></td><td>https://d9ioojyvhqpok.cloudfront.net/assets/logos/_colleges/montana_st.svg</td><td><div class=\"dni-plaintext\"><pre>&lt;null&gt;</pre></div></td><td>RandomSmallSchool</td></tr><tr style=\"display: none\"><td><i><div class=\"dni-plaintext\"><pre>93</pre></div></i></td><td>Vanderbilt</td><td>SEC</td><td><div class=\"dni-plaintext\"><pre>2</pre></div></td><td><div class=\"dni-plaintext\"><pre>2</pre></div></td><td>https://d9ioojyvhqpok.cloudfront.net/assets/logos/_colleges/vanderbilt.svg</td><td><div class=\"dni-plaintext\"><pre>&lt;null&gt;</pre></div></td><td>SEC</td></tr><tr style=\"display: none\"><td><i><div class=\"dni-plaintext\"><pre>94</pre></div></i></td><td>Navy</td><td>FBS - AAC</td><td><div class=\"dni-plaintext\"><pre>2</pre></div></td><td><div class=\"dni-plaintext\"><pre>2</pre></div></td><td>https://d9ioojyvhqpok.cloudfront.net/assets/logos/_colleges/navy.svg</td><td><div class=\"dni-plaintext\"><pre>&lt;null&gt;</pre></div></td><td>RandomSmallSchool</td></tr><tr style=\"display: none\"><td><i><div class=\"dni-plaintext\"><pre>95</pre></div></i></td><td>Wake Forest</td><td>ACC</td><td><div class=\"dni-plaintext\"><pre>2</pre></div></td><td><div class=\"dni-plaintext\"><pre>2</pre></div></td><td>https://d9ioojyvhqpok.cloudfront.net/assets/logos/_colleges/wake_forest.svg</td><td><div class=\"dni-plaintext\"><pre>&lt;null&gt;</pre></div></td><td>ACC</td></tr><tr style=\"display: none\"><td><i><div class=\"dni-plaintext\"><pre>96</pre></div></i></td><td>Florida A&amp;M</td><td>FCS</td><td><div class=\"dni-plaintext\"><pre>2</pre></div></td><td><div class=\"dni-plaintext\"><pre>2</pre></div></td><td>https://d9ioojyvhqpok.cloudfront.net/assets/logos/_colleges/florida_a&amp;amp;m.svg</td><td><div class=\"dni-plaintext\"><pre>&lt;null&gt;</pre></div></td><td>RandomSmallSchool</td></tr><tr style=\"display: none\"><td><i><div class=\"dni-plaintext\"><pre>97</pre></div></i></td><td>Houston</td><td>Big 12</td><td><div class=\"dni-plaintext\"><pre>2</pre></div></td><td><div class=\"dni-plaintext\"><pre>2</pre></div></td><td>https://d9ioojyvhqpok.cloudfront.net/assets/logos/_colleges/houston.svg</td><td><div class=\"dni-plaintext\"><pre>&lt;null&gt;</pre></div></td><td>Big 12</td></tr><tr style=\"display: none\"><td><i><div class=\"dni-plaintext\"><pre>98</pre></div></i></td><td>Northern Illinois</td><td>FBS - MAC</td><td><div class=\"dni-plaintext\"><pre>2</pre></div></td><td><div class=\"dni-plaintext\"><pre>2</pre></div></td><td>https://d9ioojyvhqpok.cloudfront.net/assets/logos/_colleges/northern_illinois.svg</td><td><div class=\"dni-plaintext\"><pre>&lt;null&gt;</pre></div></td><td>RandomSmallSchool</td></tr><tr style=\"display: none\"><td><i><div class=\"dni-plaintext\"><pre>99</pre></div></i></td><td>Mississippi State</td><td>SEC</td><td><div class=\"dni-plaintext\"><pre>2</pre></div></td><td><div class=\"dni-plaintext\"><pre>2</pre></div></td><td>https://d9ioojyvhqpok.cloudfront.net/assets/logos/_colleges/mississippi_st.svg</td><td><div class=\"dni-plaintext\"><pre>&lt;null&gt;</pre></div></td><td>SEC</td></tr><tr style=\"display: none\"><td><i><div class=\"dni-plaintext\"><pre>100</pre></div></i></td><td>Nevada</td><td>FBS - Mountain West</td><td><div class=\"dni-plaintext\"><pre>2</pre></div></td><td><div class=\"dni-plaintext\"><pre>1</pre></div></td><td>https://d9ioojyvhqpok.cloudfront.net/assets/logos/_colleges/nevada.svg</td><td><div class=\"dni-plaintext\"><pre>&lt;null&gt;</pre></div></td><td>RandomSmallSchool</td></tr><tr style=\"display: none\"><td><i><div class=\"dni-plaintext\"><pre>101</pre></div></i></td><td>Buffalo</td><td>FBS - MAC</td><td><div class=\"dni-plaintext\"><pre>2</pre></div></td><td><div class=\"dni-plaintext\"><pre>1</pre></div></td><td>https://d9ioojyvhqpok.cloudfront.net/assets/logos/_colleges/buffalo.svg</td><td><div class=\"dni-plaintext\"><pre>&lt;null&gt;</pre></div></td><td>RandomSmallSchool</td></tr><tr style=\"display: none\"><td><i><div class=\"dni-plaintext\"><pre>102</pre></div></i></td><td>South Carolina State</td><td>FCS</td><td><div class=\"dni-plaintext\"><pre>1</pre></div></td><td><div class=\"dni-plaintext\"><pre>1</pre></div></td><td>https://d9ioojyvhqpok.cloudfront.net/assets/logos/_colleges/south_carolina_st.svg</td><td><div class=\"dni-plaintext\"><pre>&lt;null&gt;</pre></div></td><td>RandomSmallSchool</td></tr><tr style=\"display: none\"><td><i><div class=\"dni-plaintext\"><pre>103</pre></div></i></td><td>Jackson State</td><td>FCS</td><td><div class=\"dni-plaintext\"><pre>1</pre></div></td><td><div class=\"dni-plaintext\"><pre>1</pre></div></td><td>https://d9ioojyvhqpok.cloudfront.net/assets/logos/_colleges/jackson_st.svg</td><td><div class=\"dni-plaintext\"><pre>&lt;null&gt;</pre></div></td><td>RandomSmallSchool</td></tr><tr style=\"display: none\"><td><i><div class=\"dni-plaintext\"><pre>104</pre></div></i></td><td>Middlebury</td><td>D3</td><td><div class=\"dni-plaintext\"><pre>1</pre></div></td><td><div class=\"dni-plaintext\"><pre>1</pre></div></td><td>https://d9ioojyvhqpok.cloudfront.net/assets/logos/_colleges/middlebury.svg</td><td><div class=\"dni-plaintext\"><pre>&lt;null&gt;</pre></div></td><td>RandomSmallSchool</td></tr><tr style=\"display: none\"><td><i><div class=\"dni-plaintext\"><pre>105</pre></div></i></td><td>Cal Poly</td><td>FCS</td><td><div class=\"dni-plaintext\"><pre>1</pre></div></td><td><div class=\"dni-plaintext\"><pre>1</pre></div></td><td>https://d9ioojyvhqpok.cloudfront.net/assets/logos/_colleges/cal_poly.svg</td><td><div class=\"dni-plaintext\"><pre>&lt;null&gt;</pre></div></td><td>RandomSmallSchool</td></tr><tr style=\"display: none\"><td><i><div class=\"dni-plaintext\"><pre>106</pre></div></i></td><td>South Alabama</td><td>FBS - Sun Belt</td><td><div class=\"dni-plaintext\"><pre>1</pre></div></td><td><div class=\"dni-plaintext\"><pre>1</pre></div></td><td>https://d9ioojyvhqpok.cloudfront.net/assets/logos/_colleges/south_alabama.svg</td><td><div class=\"dni-plaintext\"><pre>&lt;null&gt;</pre></div></td><td>RandomSmallSchool</td></tr><tr style=\"display: none\"><td><i><div class=\"dni-plaintext\"><pre>107</pre></div></i></td><td>Lindenwood</td><td>D2</td><td><div class=\"dni-plaintext\"><pre>1</pre></div></td><td><div class=\"dni-plaintext\"><pre>1</pre></div></td><td>https://d9ioojyvhqpok.cloudfront.net/assets/logos/_colleges/lindenwood.svg</td><td><div class=\"dni-plaintext\"><pre>&lt;null&gt;</pre></div></td><td>RandomSmallSchool</td></tr><tr style=\"display: none\"><td><i><div class=\"dni-plaintext\"><pre>108</pre></div></i></td><td>Southern Arkansas</td><td>D2</td><td><div class=\"dni-plaintext\"><pre>1</pre></div></td><td><div class=\"dni-plaintext\"><pre>1</pre></div></td><td>https://d9ioojyvhqpok.cloudfront.net/assets/logos/_colleges/southern_arkansas.svg</td><td><div class=\"dni-plaintext\"><pre>&lt;null&gt;</pre></div></td><td>RandomSmallSchool</td></tr><tr style=\"display: none\"><td><i><div class=\"dni-plaintext\"><pre>109</pre></div></i></td><td>Villanova</td><td>FCS</td><td><div class=\"dni-plaintext\"><pre>1</pre></div></td><td><div class=\"dni-plaintext\"><pre>1</pre></div></td><td>https://d9ioojyvhqpok.cloudfront.net/assets/logos/_colleges/villanova.svg</td><td><div class=\"dni-plaintext\"><pre>&lt;null&gt;</pre></div></td><td>RandomSmallSchool</td></tr><tr style=\"display: none\"><td><i><div class=\"dni-plaintext\"><pre>110</pre></div></i></td><td>Wilfrid Laurier</td><td>D3</td><td><div class=\"dni-plaintext\"><pre>1</pre></div></td><td><div class=\"dni-plaintext\"><pre>1</pre></div></td><td>https://d9ioojyvhqpok.cloudfront.net/assets/logos/_colleges/laurier.png</td><td><div class=\"dni-plaintext\"><pre>&lt;null&gt;</pre></div></td><td>RandomSmallSchool</td></tr><tr style=\"display: none\"><td><i><div class=\"dni-plaintext\"><pre>111</pre></div></i></td><td>Towson</td><td>FCS</td><td><div class=\"dni-plaintext\"><pre>1</pre></div></td><td><div class=\"dni-plaintext\"><pre>1</pre></div></td><td>https://d9ioojyvhqpok.cloudfront.net/assets/logos/_colleges/towson.svg</td><td><div class=\"dni-plaintext\"><pre>&lt;null&gt;</pre></div></td><td>RandomSmallSchool</td></tr><tr style=\"display: none\"><td><i><div class=\"dni-plaintext\"><pre>112</pre></div></i></td><td>Illinois State</td><td>FCS</td><td><div class=\"dni-plaintext\"><pre>1</pre></div></td><td><div class=\"dni-plaintext\"><pre>1</pre></div></td><td>https://d9ioojyvhqpok.cloudfront.net/assets/logos/_colleges/illinois_st.svg</td><td><div class=\"dni-plaintext\"><pre>&lt;null&gt;</pre></div></td><td>RandomSmallSchool</td></tr><tr style=\"display: none\"><td><i><div class=\"dni-plaintext\"><pre>113</pre></div></i></td><td>Northern Iowa</td><td>FCS</td><td><div class=\"dni-plaintext\"><pre>1</pre></div></td><td><div class=\"dni-plaintext\"><pre>1</pre></div></td><td>https://d9ioojyvhqpok.cloudfront.net/assets/logos/_colleges/northern_iowa.svg</td><td><div class=\"dni-plaintext\"><pre>&lt;null&gt;</pre></div></td><td>RandomSmallSchool</td></tr><tr style=\"display: none\"><td><i><div class=\"dni-plaintext\"><pre>114</pre></div></i></td><td>Minnesota Duluth</td><td>D2</td><td><div class=\"dni-plaintext\"><pre>1</pre></div></td><td><div class=\"dni-plaintext\"><pre>1</pre></div></td><td>https://d9ioojyvhqpok.cloudfront.net/assets/logos/_colleges/minnesota_duluth.svg</td><td><div class=\"dni-plaintext\"><pre>&lt;null&gt;</pre></div></td><td>RandomSmallSchool</td></tr><tr style=\"display: none\"><td><i><div class=\"dni-plaintext\"><pre>115</pre></div></i></td><td>Howard</td><td>FCS</td><td><div class=\"dni-plaintext\"><pre>1</pre></div></td><td><div class=\"dni-plaintext\"><pre>1</pre></div></td><td>https://d9ioojyvhqpok.cloudfront.net/assets/logos/_colleges/howard.svg</td><td><div class=\"dni-plaintext\"><pre>&lt;null&gt;</pre></div></td><td>RandomSmallSchool</td></tr><tr style=\"display: none\"><td><i><div class=\"dni-plaintext\"><pre>116</pre></div></i></td><td>Tulsa</td><td>FBS - AAC</td><td><div class=\"dni-plaintext\"><pre>1</pre></div></td><td><div class=\"dni-plaintext\"><pre>1</pre></div></td><td>https://d9ioojyvhqpok.cloudfront.net/assets/logos/_colleges/tulsa.svg</td><td><div class=\"dni-plaintext\"><pre>&lt;null&gt;</pre></div></td><td>RandomSmallSchool</td></tr><tr style=\"display: none\"><td><i><div class=\"dni-plaintext\"><pre>117</pre></div></i></td><td>UC Davis</td><td>FCS</td><td><div class=\"dni-plaintext\"><pre>1</pre></div></td><td><div class=\"dni-plaintext\"><pre>1</pre></div></td><td>https://d9ioojyvhqpok.cloudfront.net/assets/logos/_colleges/uc_davis.svg</td><td><div class=\"dni-plaintext\"><pre>&lt;null&gt;</pre></div></td><td>RandomSmallSchool</td></tr><tr style=\"display: none\"><td><i><div class=\"dni-plaintext\"><pre>118</pre></div></i></td><td>Morgan State</td><td>FCS</td><td><div class=\"dni-plaintext\"><pre>1</pre></div></td><td><div class=\"dni-plaintext\"><pre>1</pre></div></td><td>https://d9ioojyvhqpok.cloudfront.net/assets/logos/_colleges/morgan_st.svg</td><td><div class=\"dni-plaintext\"><pre>&lt;null&gt;</pre></div></td><td>RandomSmallSchool</td></tr><tr style=\"display: none\"><td><i><div class=\"dni-plaintext\"><pre>119</pre></div></i></td><td>South Dakota State</td><td>FCS</td><td><div class=\"dni-plaintext\"><pre>1</pre></div></td><td><div class=\"dni-plaintext\"><pre>1</pre></div></td><td>https://d9ioojyvhqpok.cloudfront.net/assets/logos/_colleges/south_dakota_st.svg</td><td><div class=\"dni-plaintext\"><pre>&lt;null&gt;</pre></div></td><td>RandomSmallSchool</td></tr><tr style=\"display: none\"><td><i><div class=\"dni-plaintext\"><pre>120</pre></div></i></td><td>Liberty</td><td>FBS - CUSA</td><td><div class=\"dni-plaintext\"><pre>1</pre></div></td><td><div class=\"dni-plaintext\"><pre>1</pre></div></td><td>https://d9ioojyvhqpok.cloudfront.net/assets/logos/_colleges/liberty.svg</td><td><div class=\"dni-plaintext\"><pre>&lt;null&gt;</pre></div></td><td>RandomSmallSchool</td></tr><tr style=\"display: none\"><td><i><div class=\"dni-plaintext\"><pre>121</pre></div></i></td><td>Wyoming</td><td>FBS - Mountain West</td><td><div class=\"dni-plaintext\"><pre>1</pre></div></td><td><div class=\"dni-plaintext\"><pre>1</pre></div></td><td>https://d9ioojyvhqpok.cloudfront.net/assets/logos/_colleges/wyoming.svg</td><td><div class=\"dni-plaintext\"><pre>&lt;null&gt;</pre></div></td><td>RandomSmallSchool</td></tr><tr style=\"display: none\"><td><i><div class=\"dni-plaintext\"><pre>122</pre></div></i></td><td>South Florida</td><td>FBS - AAC</td><td><div class=\"dni-plaintext\"><pre>1</pre></div></td><td><div class=\"dni-plaintext\"><pre>1</pre></div></td><td>https://d9ioojyvhqpok.cloudfront.net/assets/logos/_colleges/south_florida.svg</td><td><div class=\"dni-plaintext\"><pre>&lt;null&gt;</pre></div></td><td>RandomSmallSchool</td></tr><tr style=\"display: none\"><td><i><div class=\"dni-plaintext\"><pre>123</pre></div></i></td><td>Louisiana-Monroe</td><td>FBS - Sun Belt</td><td><div class=\"dni-plaintext\"><pre>1</pre></div></td><td><div class=\"dni-plaintext\"><pre>1</pre></div></td><td>https://d9ioojyvhqpok.cloudfront.net/assets/logos/_colleges/louisiana_monroe.svg</td><td><div class=\"dni-plaintext\"><pre>&lt;null&gt;</pre></div></td><td>RandomSmallSchool</td></tr><tr style=\"display: none\"><td><i><div class=\"dni-plaintext\"><pre>124</pre></div></i></td><td>Lenoir–Rhyne</td><td>D2</td><td><div class=\"dni-plaintext\"><pre>1</pre></div></td><td><div class=\"dni-plaintext\"><pre>1</pre></div></td><td>https://d9ioojyvhqpok.cloudfront.net/assets/logos/_colleges/lenoir_rhyne.png</td><td><div class=\"dni-plaintext\"><pre>&lt;null&gt;</pre></div></td><td>RandomSmallSchool</td></tr><tr style=\"display: none\"><td><i><div class=\"dni-plaintext\"><pre>125</pre></div></i></td><td>Georgia State</td><td>FBS - Sun Belt</td><td><div class=\"dni-plaintext\"><pre>1</pre></div></td><td><div class=\"dni-plaintext\"><pre>1</pre></div></td><td>https://d9ioojyvhqpok.cloudfront.net/assets/logos/_colleges/georgia_st.svg</td><td><div class=\"dni-plaintext\"><pre>&lt;null&gt;</pre></div></td><td>RandomSmallSchool</td></tr><tr style=\"display: none\"><td><i><div class=\"dni-plaintext\"><pre>126</pre></div></i></td><td>Florida International</td><td>FBS - CUSA</td><td><div class=\"dni-plaintext\"><pre>1</pre></div></td><td><div class=\"dni-plaintext\"><pre>1</pre></div></td><td>https://d9ioojyvhqpok.cloudfront.net/assets/logos/_colleges/florida_international.svg</td><td><div class=\"dni-plaintext\"><pre>&lt;null&gt;</pre></div></td><td>RandomSmallSchool</td></tr><tr style=\"display: none\"><td><i><div class=\"dni-plaintext\"><pre>127</pre></div></i></td><td>Coastal Carolina</td><td>FCS</td><td><div class=\"dni-plaintext\"><pre>1</pre></div></td><td><div class=\"dni-plaintext\"><pre>1</pre></div></td><td>https://d9ioojyvhqpok.cloudfront.net/assets/logos/_colleges/coastal_carolina.svg</td><td><div class=\"dni-plaintext\"><pre>&lt;null&gt;</pre></div></td><td>RandomSmallSchool</td></tr><tr style=\"display: none\"><td><i><div class=\"dni-plaintext\"><pre>128</pre></div></i></td><td>Northwestern</td><td>Big Ten</td><td><div class=\"dni-plaintext\"><pre>1</pre></div></td><td><div class=\"dni-plaintext\"><pre>1</pre></div></td><td>https://d9ioojyvhqpok.cloudfront.net/assets/logos/_colleges/northwestern.svg</td><td><div class=\"dni-plaintext\"><pre>&lt;null&gt;</pre></div></td><td>Big Ten</td></tr><tr style=\"display: none\"><td><i><div class=\"dni-plaintext\"><pre>129</pre></div></i></td><td>Georgia Southern</td><td>FBS - Sun Belt</td><td><div class=\"dni-plaintext\"><pre>1</pre></div></td><td><div class=\"dni-plaintext\"><pre>1</pre></div></td><td>https://d9ioojyvhqpok.cloudfront.net/assets/logos/_colleges/georgia_southern.svg</td><td><div class=\"dni-plaintext\"><pre>&lt;null&gt;</pre></div></td><td>RandomSmallSchool</td></tr><tr style=\"display: none\"><td><i><div class=\"dni-plaintext\"><pre>130</pre></div></i></td><td>Central Michigan</td><td>FBS - MAC</td><td><div class=\"dni-plaintext\"><pre>1</pre></div></td><td><div class=\"dni-plaintext\"><pre>1</pre></div></td><td>https://d9ioojyvhqpok.cloudfront.net/assets/logos/_colleges/central_michigan.svg</td><td><div class=\"dni-plaintext\"><pre>&lt;null&gt;</pre></div></td><td>RandomSmallSchool</td></tr><tr style=\"display: none\"><td><i><div class=\"dni-plaintext\"><pre>131</pre></div></i></td><td>Duke</td><td>ACC</td><td><div class=\"dni-plaintext\"><pre>1</pre></div></td><td><div class=\"dni-plaintext\"><pre>1</pre></div></td><td>https://d9ioojyvhqpok.cloudfront.net/assets/logos/_colleges/duke.svg</td><td><div class=\"dni-plaintext\"><pre>&lt;null&gt;</pre></div></td><td>ACC</td></tr><tr style=\"display: none\"><td><i><div class=\"dni-plaintext\"><pre>132</pre></div></i></td><td>North Carolina A&amp;T</td><td>FCS</td><td><div class=\"dni-plaintext\"><pre>1</pre></div></td><td><div class=\"dni-plaintext\"><pre>1</pre></div></td><td>https://d9ioojyvhqpok.cloudfront.net/assets/logos/_colleges/north_carolina_a&amp;amp;t.svg</td><td><div class=\"dni-plaintext\"><pre>&lt;null&gt;</pre></div></td><td>RandomSmallSchool</td></tr><tr style=\"display: none\"><td><i><div class=\"dni-plaintext\"><pre>133</pre></div></i></td><td>Massachusetts</td><td>FBS - MAC</td><td><div class=\"dni-plaintext\"><pre>1</pre></div></td><td><div class=\"dni-plaintext\"><pre>1</pre></div></td><td>https://d9ioojyvhqpok.cloudfront.net/assets/logos/_colleges/umass.svg</td><td><div class=\"dni-plaintext\"><pre>&lt;null&gt;</pre></div></td><td>RandomSmallSchool</td></tr><tr style=\"display: none\"><td><i><div class=\"dni-plaintext\"><pre>134</pre></div></i></td><td>Hawaii</td><td>FBS - Mountain West</td><td><div class=\"dni-plaintext\"><pre>1</pre></div></td><td><div class=\"dni-plaintext\"><pre>1</pre></div></td><td>https://d9ioojyvhqpok.cloudfront.net/assets/logos/_colleges/hawaii.svg</td><td><div class=\"dni-plaintext\"><pre>&lt;null&gt;</pre></div></td><td>RandomSmallSchool</td></tr><tr style=\"display: none\"><td><i><div class=\"dni-plaintext\"><pre>135</pre></div></i></td><td>Holy Cross</td><td>FCS</td><td><div class=\"dni-plaintext\"><pre>1</pre></div></td><td><div class=\"dni-plaintext\"><pre>1</pre></div></td><td>https://d9ioojyvhqpok.cloudfront.net/assets/logos/_colleges/holy_cross.svg</td><td><div class=\"dni-plaintext\"><pre>&lt;null&gt;</pre></div></td><td>RandomSmallSchool</td></tr><tr style=\"display: none\"><td><i><div class=\"dni-plaintext\"><pre>136</pre></div></i></td><td>Louisiana Tech</td><td>FBS - CUSA</td><td><div class=\"dni-plaintext\"><pre>1</pre></div></td><td><div class=\"dni-plaintext\"><pre>1</pre></div></td><td>https://d9ioojyvhqpok.cloudfront.net/assets/logos/_colleges/la_tech.svg</td><td><div class=\"dni-plaintext\"><pre>&lt;null&gt;</pre></div></td><td>RandomSmallSchool</td></tr><tr style=\"display: none\"><td><i><div class=\"dni-plaintext\"><pre>137</pre></div></i></td><td>Charlotte</td><td>FBS - AAC</td><td><div class=\"dni-plaintext\"><pre>1</pre></div></td><td><div class=\"dni-plaintext\"><pre>1</pre></div></td><td>https://d9ioojyvhqpok.cloudfront.net/assets/logos/_colleges/charlotte.svg</td><td><div class=\"dni-plaintext\"><pre>&lt;null&gt;</pre></div></td><td>RandomSmallSchool</td></tr><tr style=\"display: none\"><td><i><div class=\"dni-plaintext\"><pre>138</pre></div></i></td><td>James Madison</td><td>FBS - Sun Belt</td><td><div class=\"dni-plaintext\"><pre>1</pre></div></td><td><div class=\"dni-plaintext\"><pre>1</pre></div></td><td>https://d9ioojyvhqpok.cloudfront.net/assets/logos/_colleges/james_madison.svg</td><td><div class=\"dni-plaintext\"><pre>&lt;null&gt;</pre></div></td><td>RandomSmallSchool</td></tr><tr style=\"display: none\"><td><i><div class=\"dni-plaintext\"><pre>139</pre></div></i></td><td>New Mexico</td><td>FBS - Mountain West</td><td><div class=\"dni-plaintext\"><pre>1</pre></div></td><td><div class=\"dni-plaintext\"><pre>1</pre></div></td><td>https://d9ioojyvhqpok.cloudfront.net/assets/logos/_colleges/new_mexico.svg</td><td><div class=\"dni-plaintext\"><pre>&lt;null&gt;</pre></div></td><td>RandomSmallSchool</td></tr><tr style=\"display: none\"><td><i><div class=\"dni-plaintext\"><pre>140</pre></div></i></td><td>Abilene Christian</td><td>FCS</td><td><div class=\"dni-plaintext\"><pre>1</pre></div></td><td><div class=\"dni-plaintext\"><pre>1</pre></div></td><td>https://d9ioojyvhqpok.cloudfront.net/assets/logos/_colleges/abilene_christian.svg</td><td><div class=\"dni-plaintext\"><pre>&lt;null&gt;</pre></div></td><td>RandomSmallSchool</td></tr><tr style=\"display: none\"><td><i><div class=\"dni-plaintext\"><pre>141</pre></div></i></td><td>Eastern Kentucky</td><td>FCS</td><td><div class=\"dni-plaintext\"><pre>1</pre></div></td><td><div class=\"dni-plaintext\"><pre>1</pre></div></td><td>https://d9ioojyvhqpok.cloudfront.net/assets/logos/_colleges/eastern_kentucky.svg</td><td><div class=\"dni-plaintext\"><pre>&lt;null&gt;</pre></div></td><td>RandomSmallSchool</td></tr></tbody><tfoot><tr><td colspan=\"8\" style=\"text-align: center;\"><button style=\"margin: 2px;\" onclick=\"var allRows = document.querySelectorAll(&#39;#table_638792359359057979 tbody tr:nth-child(n)&#39;); for (let i = 0; i &lt; allRows.length; i++) { allRows[i].style.display=&#39;none&#39;; } document.querySelector(&#39;#page_638792359359057979&#39;).innerHTML = 1; var page = parseInt(document.querySelector(&#39;#page_638792359359057979&#39;).innerHTML) - 1; var pageRows = document.querySelectorAll(`#table_638792359359057979 tbody tr:nth-child(n + ${page * 25 + 1 })`); for (let j = 0; j &lt; 25; j++) { pageRows[j].style.display=&#39;table-row&#39;; } \">⏮</button><button style=\"margin: 2px;\" onclick=\"var allRows = document.querySelectorAll(&#39;#table_638792359359057979 tbody tr:nth-child(n)&#39;); for (let i = 0; i &lt; allRows.length; i++) { allRows[i].style.display=&#39;none&#39;; } var page = parseInt(document.querySelector(&#39;#page_638792359359057979&#39;).innerHTML) - 1; page = parseInt(page) + parseInt(-10); page = page &lt; 0 ? 0 : page; page = page > 5 ? 5 : page; document.querySelector(&#39;#page_638792359359057979&#39;).innerHTML = page + 1; var page = parseInt(document.querySelector(&#39;#page_638792359359057979&#39;).innerHTML) - 1; var pageRows = document.querySelectorAll(`#table_638792359359057979 tbody tr:nth-child(n + ${page * 25 + 1 })`); for (let j = 0; j &lt; 25; j++) { pageRows[j].style.display=&#39;table-row&#39;; } \">⏪</button><button style=\"margin: 2px;\" onclick=\"var allRows = document.querySelectorAll(&#39;#table_638792359359057979 tbody tr:nth-child(n)&#39;); for (let i = 0; i &lt; allRows.length; i++) { allRows[i].style.display=&#39;none&#39;; } var page = parseInt(document.querySelector(&#39;#page_638792359359057979&#39;).innerHTML) - 1; page = parseInt(page) + parseInt(-1); page = page &lt; 0 ? 0 : page; page = page > 5 ? 5 : page; document.querySelector(&#39;#page_638792359359057979&#39;).innerHTML = page + 1; var page = parseInt(document.querySelector(&#39;#page_638792359359057979&#39;).innerHTML) - 1; var pageRows = document.querySelectorAll(`#table_638792359359057979 tbody tr:nth-child(n + ${page * 25 + 1 })`); for (let j = 0; j &lt; 25; j++) { pageRows[j].style.display=&#39;table-row&#39;; } \">◀️</button><b style=\"margin: 2px;\">Page</b><b id=\"page_638792359359057979\" style=\"margin: 2px;\">1</b><button style=\"margin: 2px;\" onclick=\"var allRows = document.querySelectorAll(&#39;#table_638792359359057979 tbody tr:nth-child(n)&#39;); for (let i = 0; i &lt; allRows.length; i++) { allRows[i].style.display=&#39;none&#39;; } var page = parseInt(document.querySelector(&#39;#page_638792359359057979&#39;).innerHTML) - 1; page = parseInt(page) + parseInt(1); page = page &lt; 0 ? 0 : page; page = page > 5 ? 5 : page; document.querySelector(&#39;#page_638792359359057979&#39;).innerHTML = page + 1; var page = parseInt(document.querySelector(&#39;#page_638792359359057979&#39;).innerHTML) - 1; var pageRows = document.querySelectorAll(`#table_638792359359057979 tbody tr:nth-child(n + ${page * 25 + 1 })`); for (let j = 0; j &lt; 25; j++) { pageRows[j].style.display=&#39;table-row&#39;; } \">▶️</button><button style=\"margin: 2px;\" onclick=\"var allRows = document.querySelectorAll(&#39;#table_638792359359057979 tbody tr:nth-child(n)&#39;); for (let i = 0; i &lt; allRows.length; i++) { allRows[i].style.display=&#39;none&#39;; } var page = parseInt(document.querySelector(&#39;#page_638792359359057979&#39;).innerHTML) - 1; page = parseInt(page) + parseInt(10); page = page &lt; 0 ? 0 : page; page = page > 5 ? 5 : page; document.querySelector(&#39;#page_638792359359057979&#39;).innerHTML = page + 1; var page = parseInt(document.querySelector(&#39;#page_638792359359057979&#39;).innerHTML) - 1; var pageRows = document.querySelectorAll(`#table_638792359359057979 tbody tr:nth-child(n + ${page * 25 + 1 })`); for (let j = 0; j &lt; 25; j++) { pageRows[j].style.display=&#39;table-row&#39;; } \">⏩</button><button style=\"margin: 2px;\" onclick=\"var allRows = document.querySelectorAll(&#39;#table_638792359359057979 tbody tr:nth-child(n)&#39;); for (let i = 0; i &lt; allRows.length; i++) { allRows[i].style.display=&#39;none&#39;; } document.querySelector(&#39;#page_638792359359057979&#39;).innerHTML = 6; var page = parseInt(document.querySelector(&#39;#page_638792359359057979&#39;).innerHTML) - 1; var pageRows = document.querySelectorAll(`#table_638792359359057979 tbody tr:nth-child(n + ${page * 25 + 1 })`); for (let j = 0; j &lt; 25; j++) { pageRows[j].style.display=&#39;table-row&#39;; } \">⏭️</button></td></tr></tfoot></table><style>\r\n",
       ".dni-code-hint {\r\n",
       "    font-style: italic;\r\n",
       "    overflow: hidden;\r\n",
       "    white-space: nowrap;\r\n",
       "}\r\n",
       ".dni-treeview {\r\n",
       "    white-space: nowrap;\r\n",
       "}\r\n",
       ".dni-treeview td {\r\n",
       "    vertical-align: top;\r\n",
       "    text-align: start;\r\n",
       "}\r\n",
       "details.dni-treeview {\r\n",
       "    padding-left: 1em;\r\n",
       "}\r\n",
       "table td {\r\n",
       "    text-align: start;\r\n",
       "}\r\n",
       "table tr { \r\n",
       "    vertical-align: top; \r\n",
       "    margin: 0em 0px;\r\n",
       "}\r\n",
       "table tr td pre \r\n",
       "{ \r\n",
       "    vertical-align: top !important; \r\n",
       "    margin: 0em 0px !important;\r\n",
       "} \r\n",
       "table th {\r\n",
       "    text-align: start;\r\n",
       "}\r\n",
       "</style><script>var page = parseInt(document.querySelector('#page_638792359359057979').innerHTML) - 1; var pageRows = document.querySelectorAll(`#table_638792359359057979 tbody tr:nth-child(n + ${page * 25 + 1 })`); for (let j = 0; j < 25; j++) { pageRows[j].style.display='table-row'; } </script>"
      ]
     },
     "metadata": {},
     "output_type": "display_data"
    }
   ],
   "source": [
    "var conferenceToPosition = DataFrame.LoadCsv(\"conferenceToPosition.csv\");\n",
    "\n",
    "\n",
    "for (int i = 0; i < nextDraft.Rows.Count; i++)\n",
    "{\n",
    "    switch((string)nextDraft.Columns[\"Conference\"][i])\n",
    "    {\n",
    "        case \"SEC\":\n",
    "            nextDraft.Columns[\"LeagifyPosition\"][i] = \"SEC\";\n",
    "            break;\n",
    "        case \"ACC\":\n",
    "            nextDraft.Columns[\"LeagifyPosition\"][i] = \"ACC\";\n",
    "            break;\n",
    "        case \"Big 12\":\n",
    "            nextDraft.Columns[\"LeagifyPosition\"][i] = \"Big 12\";\n",
    "            break;\n",
    "        case \"Pac 12\":\n",
    "            nextDraft.Columns[\"LeagifyPosition\"][i] = \"RandomSmallSchool\";\n",
    "            break;\n",
    "        case \"Big Ten\":\n",
    "            nextDraft.Columns[\"LeagifyPosition\"][i] = \"Big Ten\";\n",
    "            break;\n",
    "        default:\n",
    "            nextDraft.Columns[\"LeagifyPosition\"][i] = \"RandomSmallSchool\";\n",
    "            break;\n",
    "    }\n",
    "    if ((string)nextDraft.Columns[\"School\"][i] == \"Notre Dame\")\n",
    "    {\n",
    "        nextDraft.Columns[\"LeagifyPosition\"][i] = \"Flex\";\n",
    "    }\n",
    "}\n",
    "\n",
    "\n",
    "nextDraft\n",
    "\n"
   ]
  },
  {
   "cell_type": "code",
   "execution_count": 6,
   "metadata": {
    "dotnet_interactive": {
     "language": "csharp"
    },
    "polyglot_notebook": {
     "kernelName": "csharp"
    },
    "vscode": {
     "languageId": "polyglot-notebook"
    }
   },
   "outputs": [
    {
     "data": {
      "text/html": [
       "<table id=\"table_638792359897321004\"><caption><h3 style=\"text-align: center;\">DataFrame - 142 rows </h3></caption><thead><tr><th><i>index</i></th><th>School</th><th>Conference</th><th>ProjectedPoints</th><th>NumberOfProspects</th><th>SchoolURL</th><th>SuggestedAuctionValue</th><th>LeagifyPosition</th><th>ProjectedPointsAboveAverage</th><th>ProjectedPointsAboveReplacement</th><th>AveragePointsForPosition</th><th>ReplacementValueAverageForPosition</th></tr></thead><tbody><tr style=\"display: none\"><td><i><div class=\"dni-plaintext\"><pre>0</pre></div></i></td><td>Ohio State</td><td>Big Ten</td><td><div class=\"dni-plaintext\"><pre>225</pre></div></td><td><div class=\"dni-plaintext\"><pre>17</pre></div></td><td>https://d9ioojyvhqpok.cloudfront.net/assets/logos/_colleges/ohio_st.svg</td><td><div class=\"dni-plaintext\"><pre>&lt;null&gt;</pre></div></td><td>Big Ten</td><td><div class=\"dni-plaintext\"><pre>&lt;null&gt;</pre></div></td><td><div class=\"dni-plaintext\"><pre>&lt;null&gt;</pre></div></td><td><div class=\"dni-plaintext\"><pre>&lt;null&gt;</pre></div></td><td><div class=\"dni-plaintext\"><pre>&lt;null&gt;</pre></div></td></tr><tr style=\"display: none\"><td><i><div class=\"dni-plaintext\"><pre>1</pre></div></i></td><td>Texas</td><td>SEC</td><td><div class=\"dni-plaintext\"><pre>202</pre></div></td><td><div class=\"dni-plaintext\"><pre>21</pre></div></td><td>https://d9ioojyvhqpok.cloudfront.net/assets/logos/_colleges/texas.svg</td><td><div class=\"dni-plaintext\"><pre>&lt;null&gt;</pre></div></td><td>SEC</td><td><div class=\"dni-plaintext\"><pre>&lt;null&gt;</pre></div></td><td><div class=\"dni-plaintext\"><pre>&lt;null&gt;</pre></div></td><td><div class=\"dni-plaintext\"><pre>&lt;null&gt;</pre></div></td><td><div class=\"dni-plaintext\"><pre>&lt;null&gt;</pre></div></td></tr><tr style=\"display: none\"><td><i><div class=\"dni-plaintext\"><pre>2</pre></div></i></td><td>Georgia</td><td>SEC</td><td><div class=\"dni-plaintext\"><pre>160</pre></div></td><td><div class=\"dni-plaintext\"><pre>18</pre></div></td><td>https://d9ioojyvhqpok.cloudfront.net/assets/logos/_colleges/georgia.svg</td><td><div class=\"dni-plaintext\"><pre>&lt;null&gt;</pre></div></td><td>SEC</td><td><div class=\"dni-plaintext\"><pre>&lt;null&gt;</pre></div></td><td><div class=\"dni-plaintext\"><pre>&lt;null&gt;</pre></div></td><td><div class=\"dni-plaintext\"><pre>&lt;null&gt;</pre></div></td><td><div class=\"dni-plaintext\"><pre>&lt;null&gt;</pre></div></td></tr><tr style=\"display: none\"><td><i><div class=\"dni-plaintext\"><pre>3</pre></div></i></td><td>Michigan</td><td>Big Ten</td><td><div class=\"dni-plaintext\"><pre>148</pre></div></td><td><div class=\"dni-plaintext\"><pre>13</pre></div></td><td>https://d9ioojyvhqpok.cloudfront.net/assets/logos/_colleges/michigan.svg</td><td><div class=\"dni-plaintext\"><pre>&lt;null&gt;</pre></div></td><td>Big Ten</td><td><div class=\"dni-plaintext\"><pre>&lt;null&gt;</pre></div></td><td><div class=\"dni-plaintext\"><pre>&lt;null&gt;</pre></div></td><td><div class=\"dni-plaintext\"><pre>&lt;null&gt;</pre></div></td><td><div class=\"dni-plaintext\"><pre>&lt;null&gt;</pre></div></td></tr><tr style=\"display: none\"><td><i><div class=\"dni-plaintext\"><pre>4</pre></div></i></td><td>Ole Miss</td><td>SEC</td><td><div class=\"dni-plaintext\"><pre>144</pre></div></td><td><div class=\"dni-plaintext\"><pre>16</pre></div></td><td>https://d9ioojyvhqpok.cloudfront.net/assets/logos/_colleges/mississippi.svg</td><td><div class=\"dni-plaintext\"><pre>&lt;null&gt;</pre></div></td><td>SEC</td><td><div class=\"dni-plaintext\"><pre>&lt;null&gt;</pre></div></td><td><div class=\"dni-plaintext\"><pre>&lt;null&gt;</pre></div></td><td><div class=\"dni-plaintext\"><pre>&lt;null&gt;</pre></div></td><td><div class=\"dni-plaintext\"><pre>&lt;null&gt;</pre></div></td></tr><tr style=\"display: none\"><td><i><div class=\"dni-plaintext\"><pre>5</pre></div></i></td><td>Oregon</td><td>Big Ten</td><td><div class=\"dni-plaintext\"><pre>116</pre></div></td><td><div class=\"dni-plaintext\"><pre>20</pre></div></td><td>https://d9ioojyvhqpok.cloudfront.net/assets/logos/_colleges/oregon.svg</td><td><div class=\"dni-plaintext\"><pre>&lt;null&gt;</pre></div></td><td>Big Ten</td><td><div class=\"dni-plaintext\"><pre>&lt;null&gt;</pre></div></td><td><div class=\"dni-plaintext\"><pre>&lt;null&gt;</pre></div></td><td><div class=\"dni-plaintext\"><pre>&lt;null&gt;</pre></div></td><td><div class=\"dni-plaintext\"><pre>&lt;null&gt;</pre></div></td></tr><tr style=\"display: none\"><td><i><div class=\"dni-plaintext\"><pre>6</pre></div></i></td><td>LSU</td><td>SEC</td><td><div class=\"dni-plaintext\"><pre>109</pre></div></td><td><div class=\"dni-plaintext\"><pre>13</pre></div></td><td>https://d9ioojyvhqpok.cloudfront.net/assets/logos/_colleges/lsu.svg</td><td><div class=\"dni-plaintext\"><pre>&lt;null&gt;</pre></div></td><td>SEC</td><td><div class=\"dni-plaintext\"><pre>&lt;null&gt;</pre></div></td><td><div class=\"dni-plaintext\"><pre>&lt;null&gt;</pre></div></td><td><div class=\"dni-plaintext\"><pre>&lt;null&gt;</pre></div></td><td><div class=\"dni-plaintext\"><pre>&lt;null&gt;</pre></div></td></tr><tr style=\"display: none\"><td><i><div class=\"dni-plaintext\"><pre>7</pre></div></i></td><td>Penn State</td><td>Big Ten</td><td><div class=\"dni-plaintext\"><pre>100</pre></div></td><td><div class=\"dni-plaintext\"><pre>12</pre></div></td><td>https://d9ioojyvhqpok.cloudfront.net/assets/logos/_colleges/penn_st.svg</td><td><div class=\"dni-plaintext\"><pre>&lt;null&gt;</pre></div></td><td>Big Ten</td><td><div class=\"dni-plaintext\"><pre>&lt;null&gt;</pre></div></td><td><div class=\"dni-plaintext\"><pre>&lt;null&gt;</pre></div></td><td><div class=\"dni-plaintext\"><pre>&lt;null&gt;</pre></div></td><td><div class=\"dni-plaintext\"><pre>&lt;null&gt;</pre></div></td></tr><tr style=\"display: none\"><td><i><div class=\"dni-plaintext\"><pre>8</pre></div></i></td><td>Alabama</td><td>SEC</td><td><div class=\"dni-plaintext\"><pre>95</pre></div></td><td><div class=\"dni-plaintext\"><pre>9</pre></div></td><td>https://d9ioojyvhqpok.cloudfront.net/assets/logos/_colleges/alabama.svg</td><td><div class=\"dni-plaintext\"><pre>&lt;null&gt;</pre></div></td><td>SEC</td><td><div class=\"dni-plaintext\"><pre>&lt;null&gt;</pre></div></td><td><div class=\"dni-plaintext\"><pre>&lt;null&gt;</pre></div></td><td><div class=\"dni-plaintext\"><pre>&lt;null&gt;</pre></div></td><td><div class=\"dni-plaintext\"><pre>&lt;null&gt;</pre></div></td></tr><tr style=\"display: none\"><td><i><div class=\"dni-plaintext\"><pre>9</pre></div></i></td><td>South Carolina</td><td>SEC</td><td><div class=\"dni-plaintext\"><pre>89</pre></div></td><td><div class=\"dni-plaintext\"><pre>16</pre></div></td><td>https://d9ioojyvhqpok.cloudfront.net/assets/logos/_colleges/south_carolina.svg</td><td><div class=\"dni-plaintext\"><pre>&lt;null&gt;</pre></div></td><td>SEC</td><td><div class=\"dni-plaintext\"><pre>&lt;null&gt;</pre></div></td><td><div class=\"dni-plaintext\"><pre>&lt;null&gt;</pre></div></td><td><div class=\"dni-plaintext\"><pre>&lt;null&gt;</pre></div></td><td><div class=\"dni-plaintext\"><pre>&lt;null&gt;</pre></div></td></tr><tr style=\"display: none\"><td><i><div class=\"dni-plaintext\"><pre>10</pre></div></i></td><td>Miami (FL)</td><td>ACC</td><td><div class=\"dni-plaintext\"><pre>89</pre></div></td><td><div class=\"dni-plaintext\"><pre>13</pre></div></td><td>https://d9ioojyvhqpok.cloudfront.net/assets/logos/_colleges/miami.svg</td><td><div class=\"dni-plaintext\"><pre>&lt;null&gt;</pre></div></td><td>ACC</td><td><div class=\"dni-plaintext\"><pre>&lt;null&gt;</pre></div></td><td><div class=\"dni-plaintext\"><pre>&lt;null&gt;</pre></div></td><td><div class=\"dni-plaintext\"><pre>&lt;null&gt;</pre></div></td><td><div class=\"dni-plaintext\"><pre>&lt;null&gt;</pre></div></td></tr><tr style=\"display: none\"><td><i><div class=\"dni-plaintext\"><pre>11</pre></div></i></td><td>Colorado</td><td>Big 12</td><td><div class=\"dni-plaintext\"><pre>84</pre></div></td><td><div class=\"dni-plaintext\"><pre>9</pre></div></td><td>https://d9ioojyvhqpok.cloudfront.net/assets/logos/_colleges/colorado.svg</td><td><div class=\"dni-plaintext\"><pre>&lt;null&gt;</pre></div></td><td>Big 12</td><td><div class=\"dni-plaintext\"><pre>&lt;null&gt;</pre></div></td><td><div class=\"dni-plaintext\"><pre>&lt;null&gt;</pre></div></td><td><div class=\"dni-plaintext\"><pre>&lt;null&gt;</pre></div></td><td><div class=\"dni-plaintext\"><pre>&lt;null&gt;</pre></div></td></tr><tr style=\"display: none\"><td><i><div class=\"dni-plaintext\"><pre>12</pre></div></i></td><td>Notre Dame</td><td>FBS - Independent</td><td><div class=\"dni-plaintext\"><pre>75</pre></div></td><td><div class=\"dni-plaintext\"><pre>13</pre></div></td><td>https://d9ioojyvhqpok.cloudfront.net/assets/logos/_colleges/notre_dame.svg</td><td><div class=\"dni-plaintext\"><pre>&lt;null&gt;</pre></div></td><td>Flex</td><td><div class=\"dni-plaintext\"><pre>&lt;null&gt;</pre></div></td><td><div class=\"dni-plaintext\"><pre>&lt;null&gt;</pre></div></td><td><div class=\"dni-plaintext\"><pre>&lt;null&gt;</pre></div></td><td><div class=\"dni-plaintext\"><pre>&lt;null&gt;</pre></div></td></tr><tr style=\"display: none\"><td><i><div class=\"dni-plaintext\"><pre>13</pre></div></i></td><td>Missouri</td><td>SEC</td><td><div class=\"dni-plaintext\"><pre>73</pre></div></td><td><div class=\"dni-plaintext\"><pre>9</pre></div></td><td>https://d9ioojyvhqpok.cloudfront.net/assets/logos/_colleges/missouri.svg</td><td><div class=\"dni-plaintext\"><pre>&lt;null&gt;</pre></div></td><td>SEC</td><td><div class=\"dni-plaintext\"><pre>&lt;null&gt;</pre></div></td><td><div class=\"dni-plaintext\"><pre>&lt;null&gt;</pre></div></td><td><div class=\"dni-plaintext\"><pre>&lt;null&gt;</pre></div></td><td><div class=\"dni-plaintext\"><pre>&lt;null&gt;</pre></div></td></tr><tr style=\"display: none\"><td><i><div class=\"dni-plaintext\"><pre>14</pre></div></i></td><td>Tennessee</td><td>SEC</td><td><div class=\"dni-plaintext\"><pre>65</pre></div></td><td><div class=\"dni-plaintext\"><pre>11</pre></div></td><td>https://d9ioojyvhqpok.cloudfront.net/assets/logos/_colleges/tennessee.svg</td><td><div class=\"dni-plaintext\"><pre>&lt;null&gt;</pre></div></td><td>SEC</td><td><div class=\"dni-plaintext\"><pre>&lt;null&gt;</pre></div></td><td><div class=\"dni-plaintext\"><pre>&lt;null&gt;</pre></div></td><td><div class=\"dni-plaintext\"><pre>&lt;null&gt;</pre></div></td><td><div class=\"dni-plaintext\"><pre>&lt;null&gt;</pre></div></td></tr><tr style=\"display: none\"><td><i><div class=\"dni-plaintext\"><pre>15</pre></div></i></td><td>Texas A&amp;M</td><td>SEC</td><td><div class=\"dni-plaintext\"><pre>65</pre></div></td><td><div class=\"dni-plaintext\"><pre>8</pre></div></td><td>https://d9ioojyvhqpok.cloudfront.net/assets/logos/_colleges/texas_a&amp;amp;m.svg</td><td><div class=\"dni-plaintext\"><pre>&lt;null&gt;</pre></div></td><td>SEC</td><td><div class=\"dni-plaintext\"><pre>&lt;null&gt;</pre></div></td><td><div class=\"dni-plaintext\"><pre>&lt;null&gt;</pre></div></td><td><div class=\"dni-plaintext\"><pre>&lt;null&gt;</pre></div></td><td><div class=\"dni-plaintext\"><pre>&lt;null&gt;</pre></div></td></tr><tr style=\"display: none\"><td><i><div class=\"dni-plaintext\"><pre>16</pre></div></i></td><td>Arizona</td><td>Big 12</td><td><div class=\"dni-plaintext\"><pre>57</pre></div></td><td><div class=\"dni-plaintext\"><pre>5</pre></div></td><td>https://d9ioojyvhqpok.cloudfront.net/assets/logos/_colleges/arizona.svg</td><td><div class=\"dni-plaintext\"><pre>&lt;null&gt;</pre></div></td><td>Big 12</td><td><div class=\"dni-plaintext\"><pre>&lt;null&gt;</pre></div></td><td><div class=\"dni-plaintext\"><pre>&lt;null&gt;</pre></div></td><td><div class=\"dni-plaintext\"><pre>&lt;null&gt;</pre></div></td><td><div class=\"dni-plaintext\"><pre>&lt;null&gt;</pre></div></td></tr><tr style=\"display: none\"><td><i><div class=\"dni-plaintext\"><pre>17</pre></div></i></td><td>Iowa</td><td>Big Ten</td><td><div class=\"dni-plaintext\"><pre>55</pre></div></td><td><div class=\"dni-plaintext\"><pre>11</pre></div></td><td>https://d9ioojyvhqpok.cloudfront.net/assets/logos/_colleges/iowa.svg</td><td><div class=\"dni-plaintext\"><pre>&lt;null&gt;</pre></div></td><td>Big Ten</td><td><div class=\"dni-plaintext\"><pre>&lt;null&gt;</pre></div></td><td><div class=\"dni-plaintext\"><pre>&lt;null&gt;</pre></div></td><td><div class=\"dni-plaintext\"><pre>&lt;null&gt;</pre></div></td><td><div class=\"dni-plaintext\"><pre>&lt;null&gt;</pre></div></td></tr><tr style=\"display: none\"><td><i><div class=\"dni-plaintext\"><pre>18</pre></div></i></td><td>Iowa State</td><td>Big 12</td><td><div class=\"dni-plaintext\"><pre>52</pre></div></td><td><div class=\"dni-plaintext\"><pre>6</pre></div></td><td>https://d9ioojyvhqpok.cloudfront.net/assets/logos/_colleges/iowa_st.svg</td><td><div class=\"dni-plaintext\"><pre>&lt;null&gt;</pre></div></td><td>Big 12</td><td><div class=\"dni-plaintext\"><pre>&lt;null&gt;</pre></div></td><td><div class=\"dni-plaintext\"><pre>&lt;null&gt;</pre></div></td><td><div class=\"dni-plaintext\"><pre>&lt;null&gt;</pre></div></td><td><div class=\"dni-plaintext\"><pre>&lt;null&gt;</pre></div></td></tr><tr style=\"display: none\"><td><i><div class=\"dni-plaintext\"><pre>19</pre></div></i></td><td>Kentucky</td><td>SEC</td><td><div class=\"dni-plaintext\"><pre>47</pre></div></td><td><div class=\"dni-plaintext\"><pre>10</pre></div></td><td>https://d9ioojyvhqpok.cloudfront.net/assets/logos/_colleges/kentucky.svg</td><td><div class=\"dni-plaintext\"><pre>&lt;null&gt;</pre></div></td><td>SEC</td><td><div class=\"dni-plaintext\"><pre>&lt;null&gt;</pre></div></td><td><div class=\"dni-plaintext\"><pre>&lt;null&gt;</pre></div></td><td><div class=\"dni-plaintext\"><pre>&lt;null&gt;</pre></div></td><td><div class=\"dni-plaintext\"><pre>&lt;null&gt;</pre></div></td></tr><tr style=\"display: none\"><td><i><div class=\"dni-plaintext\"><pre>20</pre></div></i></td><td>North Carolina</td><td>ACC</td><td><div class=\"dni-plaintext\"><pre>47</pre></div></td><td><div class=\"dni-plaintext\"><pre>9</pre></div></td><td>https://d9ioojyvhqpok.cloudfront.net/assets/logos/_colleges/north_carolina.svg</td><td><div class=\"dni-plaintext\"><pre>&lt;null&gt;</pre></div></td><td>ACC</td><td><div class=\"dni-plaintext\"><pre>&lt;null&gt;</pre></div></td><td><div class=\"dni-plaintext\"><pre>&lt;null&gt;</pre></div></td><td><div class=\"dni-plaintext\"><pre>&lt;null&gt;</pre></div></td><td><div class=\"dni-plaintext\"><pre>&lt;null&gt;</pre></div></td></tr><tr style=\"display: none\"><td><i><div class=\"dni-plaintext\"><pre>21</pre></div></i></td><td>Florida State</td><td>ACC</td><td><div class=\"dni-plaintext\"><pre>46</pre></div></td><td><div class=\"dni-plaintext\"><pre>14</pre></div></td><td>https://d9ioojyvhqpok.cloudfront.net/assets/logos/_colleges/florida_st.svg</td><td><div class=\"dni-plaintext\"><pre>&lt;null&gt;</pre></div></td><td>ACC</td><td><div class=\"dni-plaintext\"><pre>&lt;null&gt;</pre></div></td><td><div class=\"dni-plaintext\"><pre>&lt;null&gt;</pre></div></td><td><div class=\"dni-plaintext\"><pre>&lt;null&gt;</pre></div></td><td><div class=\"dni-plaintext\"><pre>&lt;null&gt;</pre></div></td></tr><tr style=\"display: none\"><td><i><div class=\"dni-plaintext\"><pre>22</pre></div></i></td><td>Minnesota</td><td>Big Ten</td><td><div class=\"dni-plaintext\"><pre>44</pre></div></td><td><div class=\"dni-plaintext\"><pre>11</pre></div></td><td>https://d9ioojyvhqpok.cloudfront.net/assets/logos/_colleges/minnesota.svg</td><td><div class=\"dni-plaintext\"><pre>&lt;null&gt;</pre></div></td><td>Big Ten</td><td><div class=\"dni-plaintext\"><pre>&lt;null&gt;</pre></div></td><td><div class=\"dni-plaintext\"><pre>&lt;null&gt;</pre></div></td><td><div class=\"dni-plaintext\"><pre>&lt;null&gt;</pre></div></td><td><div class=\"dni-plaintext\"><pre>&lt;null&gt;</pre></div></td></tr><tr style=\"display: none\"><td><i><div class=\"dni-plaintext\"><pre>23</pre></div></i></td><td>Boston College</td><td>ACC</td><td><div class=\"dni-plaintext\"><pre>42</pre></div></td><td><div class=\"dni-plaintext\"><pre>6</pre></div></td><td>https://d9ioojyvhqpok.cloudfront.net/assets/logos/_colleges/boston_college.svg</td><td><div class=\"dni-plaintext\"><pre>&lt;null&gt;</pre></div></td><td>ACC</td><td><div class=\"dni-plaintext\"><pre>&lt;null&gt;</pre></div></td><td><div class=\"dni-plaintext\"><pre>&lt;null&gt;</pre></div></td><td><div class=\"dni-plaintext\"><pre>&lt;null&gt;</pre></div></td><td><div class=\"dni-plaintext\"><pre>&lt;null&gt;</pre></div></td></tr><tr style=\"display: none\"><td><i><div class=\"dni-plaintext\"><pre>24</pre></div></i></td><td>Boise State</td><td>FBS - Mountain West</td><td><div class=\"dni-plaintext\"><pre>42</pre></div></td><td><div class=\"dni-plaintext\"><pre>4</pre></div></td><td>https://d9ioojyvhqpok.cloudfront.net/assets/logos/_colleges/boise_st.svg</td><td><div class=\"dni-plaintext\"><pre>&lt;null&gt;</pre></div></td><td>RandomSmallSchool</td><td><div class=\"dni-plaintext\"><pre>&lt;null&gt;</pre></div></td><td><div class=\"dni-plaintext\"><pre>&lt;null&gt;</pre></div></td><td><div class=\"dni-plaintext\"><pre>&lt;null&gt;</pre></div></td><td><div class=\"dni-plaintext\"><pre>&lt;null&gt;</pre></div></td></tr><tr style=\"display: none\"><td><i><div class=\"dni-plaintext\"><pre>25</pre></div></i></td><td>Virginia Tech</td><td>ACC</td><td><div class=\"dni-plaintext\"><pre>39</pre></div></td><td><div class=\"dni-plaintext\"><pre>10</pre></div></td><td>https://d9ioojyvhqpok.cloudfront.net/assets/logos/_colleges/virginia_tech.svg</td><td><div class=\"dni-plaintext\"><pre>&lt;null&gt;</pre></div></td><td>ACC</td><td><div class=\"dni-plaintext\"><pre>&lt;null&gt;</pre></div></td><td><div class=\"dni-plaintext\"><pre>&lt;null&gt;</pre></div></td><td><div class=\"dni-plaintext\"><pre>&lt;null&gt;</pre></div></td><td><div class=\"dni-plaintext\"><pre>&lt;null&gt;</pre></div></td></tr><tr style=\"display: none\"><td><i><div class=\"dni-plaintext\"><pre>26</pre></div></i></td><td>Florida</td><td>SEC</td><td><div class=\"dni-plaintext\"><pre>37</pre></div></td><td><div class=\"dni-plaintext\"><pre>13</pre></div></td><td>https://d9ioojyvhqpok.cloudfront.net/assets/logos/_colleges/florida.svg</td><td><div class=\"dni-plaintext\"><pre>&lt;null&gt;</pre></div></td><td>SEC</td><td><div class=\"dni-plaintext\"><pre>&lt;null&gt;</pre></div></td><td><div class=\"dni-plaintext\"><pre>&lt;null&gt;</pre></div></td><td><div class=\"dni-plaintext\"><pre>&lt;null&gt;</pre></div></td><td><div class=\"dni-plaintext\"><pre>&lt;null&gt;</pre></div></td></tr><tr style=\"display: none\"><td><i><div class=\"dni-plaintext\"><pre>27</pre></div></i></td><td>UCLA</td><td>Big Ten</td><td><div class=\"dni-plaintext\"><pre>37</pre></div></td><td><div class=\"dni-plaintext\"><pre>7</pre></div></td><td>https://d9ioojyvhqpok.cloudfront.net/assets/logos/_colleges/ucla.svg</td><td><div class=\"dni-plaintext\"><pre>&lt;null&gt;</pre></div></td><td>Big Ten</td><td><div class=\"dni-plaintext\"><pre>&lt;null&gt;</pre></div></td><td><div class=\"dni-plaintext\"><pre>&lt;null&gt;</pre></div></td><td><div class=\"dni-plaintext\"><pre>&lt;null&gt;</pre></div></td><td><div class=\"dni-plaintext\"><pre>&lt;null&gt;</pre></div></td></tr><tr style=\"display: none\"><td><i><div class=\"dni-plaintext\"><pre>28</pre></div></i></td><td>Arkansas</td><td>SEC</td><td><div class=\"dni-plaintext\"><pre>36</pre></div></td><td><div class=\"dni-plaintext\"><pre>10</pre></div></td><td>https://d9ioojyvhqpok.cloudfront.net/assets/logos/_colleges/arkansas.svg</td><td><div class=\"dni-plaintext\"><pre>&lt;null&gt;</pre></div></td><td>SEC</td><td><div class=\"dni-plaintext\"><pre>&lt;null&gt;</pre></div></td><td><div class=\"dni-plaintext\"><pre>&lt;null&gt;</pre></div></td><td><div class=\"dni-plaintext\"><pre>&lt;null&gt;</pre></div></td><td><div class=\"dni-plaintext\"><pre>&lt;null&gt;</pre></div></td></tr><tr style=\"display: none\"><td><i><div class=\"dni-plaintext\"><pre>29</pre></div></i></td><td>Louisville</td><td>ACC</td><td><div class=\"dni-plaintext\"><pre>35</pre></div></td><td><div class=\"dni-plaintext\"><pre>9</pre></div></td><td>https://d9ioojyvhqpok.cloudfront.net/assets/logos/_colleges/louisville.svg</td><td><div class=\"dni-plaintext\"><pre>&lt;null&gt;</pre></div></td><td>ACC</td><td><div class=\"dni-plaintext\"><pre>&lt;null&gt;</pre></div></td><td><div class=\"dni-plaintext\"><pre>&lt;null&gt;</pre></div></td><td><div class=\"dni-plaintext\"><pre>&lt;null&gt;</pre></div></td><td><div class=\"dni-plaintext\"><pre>&lt;null&gt;</pre></div></td></tr><tr style=\"display: none\"><td><i><div class=\"dni-plaintext\"><pre>30</pre></div></i></td><td>Syracuse</td><td>ACC</td><td><div class=\"dni-plaintext\"><pre>32</pre></div></td><td><div class=\"dni-plaintext\"><pre>9</pre></div></td><td>https://d9ioojyvhqpok.cloudfront.net/assets/logos/_colleges/syracuse.svg</td><td><div class=\"dni-plaintext\"><pre>&lt;null&gt;</pre></div></td><td>ACC</td><td><div class=\"dni-plaintext\"><pre>&lt;null&gt;</pre></div></td><td><div class=\"dni-plaintext\"><pre>&lt;null&gt;</pre></div></td><td><div class=\"dni-plaintext\"><pre>&lt;null&gt;</pre></div></td><td><div class=\"dni-plaintext\"><pre>&lt;null&gt;</pre></div></td></tr><tr style=\"display: none\"><td><i><div class=\"dni-plaintext\"><pre>31</pre></div></i></td><td>Kansas</td><td>Big 12</td><td><div class=\"dni-plaintext\"><pre>30</pre></div></td><td><div class=\"dni-plaintext\"><pre>8</pre></div></td><td>https://d9ioojyvhqpok.cloudfront.net/assets/logos/_colleges/kansas.svg</td><td><div class=\"dni-plaintext\"><pre>&lt;null&gt;</pre></div></td><td>Big 12</td><td><div class=\"dni-plaintext\"><pre>&lt;null&gt;</pre></div></td><td><div class=\"dni-plaintext\"><pre>&lt;null&gt;</pre></div></td><td><div class=\"dni-plaintext\"><pre>&lt;null&gt;</pre></div></td><td><div class=\"dni-plaintext\"><pre>&lt;null&gt;</pre></div></td></tr><tr style=\"display: none\"><td><i><div class=\"dni-plaintext\"><pre>32</pre></div></i></td><td>Marshall</td><td>FBS - CUSA</td><td><div class=\"dni-plaintext\"><pre>30</pre></div></td><td><div class=\"dni-plaintext\"><pre>1</pre></div></td><td>https://d9ioojyvhqpok.cloudfront.net/assets/logos/_colleges/marshall.svg</td><td><div class=\"dni-plaintext\"><pre>&lt;null&gt;</pre></div></td><td>RandomSmallSchool</td><td><div class=\"dni-plaintext\"><pre>&lt;null&gt;</pre></div></td><td><div class=\"dni-plaintext\"><pre>&lt;null&gt;</pre></div></td><td><div class=\"dni-plaintext\"><pre>&lt;null&gt;</pre></div></td><td><div class=\"dni-plaintext\"><pre>&lt;null&gt;</pre></div></td></tr><tr style=\"display: none\"><td><i><div class=\"dni-plaintext\"><pre>33</pre></div></i></td><td>Maryland</td><td>Big Ten</td><td><div class=\"dni-plaintext\"><pre>29</pre></div></td><td><div class=\"dni-plaintext\"><pre>8</pre></div></td><td>https://d9ioojyvhqpok.cloudfront.net/assets/logos/_colleges/maryland.svg</td><td><div class=\"dni-plaintext\"><pre>&lt;null&gt;</pre></div></td><td>Big Ten</td><td><div class=\"dni-plaintext\"><pre>&lt;null&gt;</pre></div></td><td><div class=\"dni-plaintext\"><pre>&lt;null&gt;</pre></div></td><td><div class=\"dni-plaintext\"><pre>&lt;null&gt;</pre></div></td><td><div class=\"dni-plaintext\"><pre>&lt;null&gt;</pre></div></td></tr><tr style=\"display: none\"><td><i><div class=\"dni-plaintext\"><pre>34</pre></div></i></td><td>TCU</td><td>Big 12</td><td><div class=\"dni-plaintext\"><pre>28</pre></div></td><td><div class=\"dni-plaintext\"><pre>5</pre></div></td><td>https://d9ioojyvhqpok.cloudfront.net/assets/logos/_colleges/tcu.svg</td><td><div class=\"dni-plaintext\"><pre>&lt;null&gt;</pre></div></td><td>Big 12</td><td><div class=\"dni-plaintext\"><pre>&lt;null&gt;</pre></div></td><td><div class=\"dni-plaintext\"><pre>&lt;null&gt;</pre></div></td><td><div class=\"dni-plaintext\"><pre>&lt;null&gt;</pre></div></td><td><div class=\"dni-plaintext\"><pre>&lt;null&gt;</pre></div></td></tr><tr style=\"display: none\"><td><i><div class=\"dni-plaintext\"><pre>35</pre></div></i></td><td>North Dakota State</td><td>FCS</td><td><div class=\"dni-plaintext\"><pre>25</pre></div></td><td><div class=\"dni-plaintext\"><pre>1</pre></div></td><td>https://d9ioojyvhqpok.cloudfront.net/assets/logos/_colleges/north_dakota_st.svg</td><td><div class=\"dni-plaintext\"><pre>&lt;null&gt;</pre></div></td><td>RandomSmallSchool</td><td><div class=\"dni-plaintext\"><pre>&lt;null&gt;</pre></div></td><td><div class=\"dni-plaintext\"><pre>&lt;null&gt;</pre></div></td><td><div class=\"dni-plaintext\"><pre>&lt;null&gt;</pre></div></td><td><div class=\"dni-plaintext\"><pre>&lt;null&gt;</pre></div></td></tr><tr style=\"display: none\"><td><i><div class=\"dni-plaintext\"><pre>36</pre></div></i></td><td>Nebraska</td><td>Big Ten</td><td><div class=\"dni-plaintext\"><pre>24</pre></div></td><td><div class=\"dni-plaintext\"><pre>9</pre></div></td><td>https://d9ioojyvhqpok.cloudfront.net/assets/logos/_colleges/nebraska.svg</td><td><div class=\"dni-plaintext\"><pre>&lt;null&gt;</pre></div></td><td>Big Ten</td><td><div class=\"dni-plaintext\"><pre>&lt;null&gt;</pre></div></td><td><div class=\"dni-plaintext\"><pre>&lt;null&gt;</pre></div></td><td><div class=\"dni-plaintext\"><pre>&lt;null&gt;</pre></div></td><td><div class=\"dni-plaintext\"><pre>&lt;null&gt;</pre></div></td></tr><tr style=\"display: none\"><td><i><div class=\"dni-plaintext\"><pre>37</pre></div></i></td><td>Kansas State</td><td>Big 12</td><td><div class=\"dni-plaintext\"><pre>24</pre></div></td><td><div class=\"dni-plaintext\"><pre>7</pre></div></td><td>https://d9ioojyvhqpok.cloudfront.net/assets/logos/_colleges/kansas_st.svg</td><td><div class=\"dni-plaintext\"><pre>&lt;null&gt;</pre></div></td><td>Big 12</td><td><div class=\"dni-plaintext\"><pre>&lt;null&gt;</pre></div></td><td><div class=\"dni-plaintext\"><pre>&lt;null&gt;</pre></div></td><td><div class=\"dni-plaintext\"><pre>&lt;null&gt;</pre></div></td><td><div class=\"dni-plaintext\"><pre>&lt;null&gt;</pre></div></td></tr><tr style=\"display: none\"><td><i><div class=\"dni-plaintext\"><pre>38</pre></div></i></td><td>Clemson</td><td>ACC</td><td><div class=\"dni-plaintext\"><pre>24</pre></div></td><td><div class=\"dni-plaintext\"><pre>7</pre></div></td><td>https://d9ioojyvhqpok.cloudfront.net/assets/logos/_colleges/clemson.svg</td><td><div class=\"dni-plaintext\"><pre>&lt;null&gt;</pre></div></td><td>ACC</td><td><div class=\"dni-plaintext\"><pre>&lt;null&gt;</pre></div></td><td><div class=\"dni-plaintext\"><pre>&lt;null&gt;</pre></div></td><td><div class=\"dni-plaintext\"><pre>&lt;null&gt;</pre></div></td><td><div class=\"dni-plaintext\"><pre>&lt;null&gt;</pre></div></td></tr><tr style=\"display: none\"><td><i><div class=\"dni-plaintext\"><pre>39</pre></div></i></td><td>Toledo</td><td>FBS - MAC</td><td><div class=\"dni-plaintext\"><pre>24</pre></div></td><td><div class=\"dni-plaintext\"><pre>5</pre></div></td><td>https://d9ioojyvhqpok.cloudfront.net/assets/logos/_colleges/toledo.svg</td><td><div class=\"dni-plaintext\"><pre>&lt;null&gt;</pre></div></td><td>RandomSmallSchool</td><td><div class=\"dni-plaintext\"><pre>&lt;null&gt;</pre></div></td><td><div class=\"dni-plaintext\"><pre>&lt;null&gt;</pre></div></td><td><div class=\"dni-plaintext\"><pre>&lt;null&gt;</pre></div></td><td><div class=\"dni-plaintext\"><pre>&lt;null&gt;</pre></div></td></tr><tr style=\"display: none\"><td><i><div class=\"dni-plaintext\"><pre>40</pre></div></i></td><td>Rutgers</td><td>Big Ten</td><td><div class=\"dni-plaintext\"><pre>23</pre></div></td><td><div class=\"dni-plaintext\"><pre>9</pre></div></td><td>https://d9ioojyvhqpok.cloudfront.net/assets/logos/_colleges/rutgers.svg</td><td><div class=\"dni-plaintext\"><pre>&lt;null&gt;</pre></div></td><td>Big Ten</td><td><div class=\"dni-plaintext\"><pre>&lt;null&gt;</pre></div></td><td><div class=\"dni-plaintext\"><pre>&lt;null&gt;</pre></div></td><td><div class=\"dni-plaintext\"><pre>&lt;null&gt;</pre></div></td><td><div class=\"dni-plaintext\"><pre>&lt;null&gt;</pre></div></td></tr><tr style=\"display: none\"><td><i><div class=\"dni-plaintext\"><pre>41</pre></div></i></td><td>UCF</td><td>Big 12</td><td><div class=\"dni-plaintext\"><pre>22</pre></div></td><td><div class=\"dni-plaintext\"><pre>11</pre></div></td><td>https://d9ioojyvhqpok.cloudfront.net/assets/logos/_colleges/ucf.svg</td><td><div class=\"dni-plaintext\"><pre>&lt;null&gt;</pre></div></td><td>Big 12</td><td><div class=\"dni-plaintext\"><pre>&lt;null&gt;</pre></div></td><td><div class=\"dni-plaintext\"><pre>&lt;null&gt;</pre></div></td><td><div class=\"dni-plaintext\"><pre>&lt;null&gt;</pre></div></td><td><div class=\"dni-plaintext\"><pre>&lt;null&gt;</pre></div></td></tr><tr style=\"display: none\"><td><i><div class=\"dni-plaintext\"><pre>42</pre></div></i></td><td>West Virginia</td><td>Big 12</td><td><div class=\"dni-plaintext\"><pre>22</pre></div></td><td><div class=\"dni-plaintext\"><pre>8</pre></div></td><td>https://d9ioojyvhqpok.cloudfront.net/assets/logos/_colleges/west_virginia.svg</td><td><div class=\"dni-plaintext\"><pre>&lt;null&gt;</pre></div></td><td>Big 12</td><td><div class=\"dni-plaintext\"><pre>&lt;null&gt;</pre></div></td><td><div class=\"dni-plaintext\"><pre>&lt;null&gt;</pre></div></td><td><div class=\"dni-plaintext\"><pre>&lt;null&gt;</pre></div></td><td><div class=\"dni-plaintext\"><pre>&lt;null&gt;</pre></div></td></tr><tr style=\"display: none\"><td><i><div class=\"dni-plaintext\"><pre>43</pre></div></i></td><td>Oklahoma State</td><td>Big 12</td><td><div class=\"dni-plaintext\"><pre>22</pre></div></td><td><div class=\"dni-plaintext\"><pre>8</pre></div></td><td>https://d9ioojyvhqpok.cloudfront.net/assets/logos/_colleges/oklahoma_st.svg</td><td><div class=\"dni-plaintext\"><pre>&lt;null&gt;</pre></div></td><td>Big 12</td><td><div class=\"dni-plaintext\"><pre>&lt;null&gt;</pre></div></td><td><div class=\"dni-plaintext\"><pre>&lt;null&gt;</pre></div></td><td><div class=\"dni-plaintext\"><pre>&lt;null&gt;</pre></div></td><td><div class=\"dni-plaintext\"><pre>&lt;null&gt;</pre></div></td></tr><tr style=\"display: none\"><td><i><div class=\"dni-plaintext\"><pre>44</pre></div></i></td><td>Stanford</td><td>ACC</td><td><div class=\"dni-plaintext\"><pre>22</pre></div></td><td><div class=\"dni-plaintext\"><pre>2</pre></div></td><td>https://d9ioojyvhqpok.cloudfront.net/assets/logos/_colleges/stanford.svg</td><td><div class=\"dni-plaintext\"><pre>&lt;null&gt;</pre></div></td><td>ACC</td><td><div class=\"dni-plaintext\"><pre>&lt;null&gt;</pre></div></td><td><div class=\"dni-plaintext\"><pre>&lt;null&gt;</pre></div></td><td><div class=\"dni-plaintext\"><pre>&lt;null&gt;</pre></div></td><td><div class=\"dni-plaintext\"><pre>&lt;null&gt;</pre></div></td></tr><tr style=\"display: none\"><td><i><div class=\"dni-plaintext\"><pre>45</pre></div></i></td><td>Oklahoma</td><td>SEC</td><td><div class=\"dni-plaintext\"><pre>21</pre></div></td><td><div class=\"dni-plaintext\"><pre>8</pre></div></td><td>https://d9ioojyvhqpok.cloudfront.net/assets/logos/_colleges/oklahoma.svg</td><td><div class=\"dni-plaintext\"><pre>&lt;null&gt;</pre></div></td><td>SEC</td><td><div class=\"dni-plaintext\"><pre>&lt;null&gt;</pre></div></td><td><div class=\"dni-plaintext\"><pre>&lt;null&gt;</pre></div></td><td><div class=\"dni-plaintext\"><pre>&lt;null&gt;</pre></div></td><td><div class=\"dni-plaintext\"><pre>&lt;null&gt;</pre></div></td></tr><tr style=\"display: none\"><td><i><div class=\"dni-plaintext\"><pre>46</pre></div></i></td><td>California</td><td>ACC</td><td><div class=\"dni-plaintext\"><pre>21</pre></div></td><td><div class=\"dni-plaintext\"><pre>6</pre></div></td><td>https://d9ioojyvhqpok.cloudfront.net/assets/logos/_colleges/california.svg</td><td><div class=\"dni-plaintext\"><pre>&lt;null&gt;</pre></div></td><td>ACC</td><td><div class=\"dni-plaintext\"><pre>&lt;null&gt;</pre></div></td><td><div class=\"dni-plaintext\"><pre>&lt;null&gt;</pre></div></td><td><div class=\"dni-plaintext\"><pre>&lt;null&gt;</pre></div></td><td><div class=\"dni-plaintext\"><pre>&lt;null&gt;</pre></div></td></tr><tr style=\"display: none\"><td><i><div class=\"dni-plaintext\"><pre>47</pre></div></i></td><td>Indiana</td><td>Big Ten</td><td><div class=\"dni-plaintext\"><pre>20</pre></div></td><td><div class=\"dni-plaintext\"><pre>7</pre></div></td><td>https://d9ioojyvhqpok.cloudfront.net/assets/logos/_colleges/indiana.svg</td><td><div class=\"dni-plaintext\"><pre>&lt;null&gt;</pre></div></td><td>Big Ten</td><td><div class=\"dni-plaintext\"><pre>&lt;null&gt;</pre></div></td><td><div class=\"dni-plaintext\"><pre>&lt;null&gt;</pre></div></td><td><div class=\"dni-plaintext\"><pre>&lt;null&gt;</pre></div></td><td><div class=\"dni-plaintext\"><pre>&lt;null&gt;</pre></div></td></tr><tr style=\"display: none\"><td><i><div class=\"dni-plaintext\"><pre>48</pre></div></i></td><td>Texas Tech</td><td>Big 12</td><td><div class=\"dni-plaintext\"><pre>20</pre></div></td><td><div class=\"dni-plaintext\"><pre>5</pre></div></td><td>https://d9ioojyvhqpok.cloudfront.net/assets/logos/_colleges/texas_tech.svg</td><td><div class=\"dni-plaintext\"><pre>&lt;null&gt;</pre></div></td><td>Big 12</td><td><div class=\"dni-plaintext\"><pre>&lt;null&gt;</pre></div></td><td><div class=\"dni-plaintext\"><pre>&lt;null&gt;</pre></div></td><td><div class=\"dni-plaintext\"><pre>&lt;null&gt;</pre></div></td><td><div class=\"dni-plaintext\"><pre>&lt;null&gt;</pre></div></td></tr><tr style=\"display: none\"><td><i><div class=\"dni-plaintext\"><pre>49</pre></div></i></td><td>East Carolina</td><td>FBS - AAC</td><td><div class=\"dni-plaintext\"><pre>20</pre></div></td><td><div class=\"dni-plaintext\"><pre>1</pre></div></td><td>https://d9ioojyvhqpok.cloudfront.net/assets/logos/_colleges/east_carolina.svg</td><td><div class=\"dni-plaintext\"><pre>&lt;null&gt;</pre></div></td><td>RandomSmallSchool</td><td><div class=\"dni-plaintext\"><pre>&lt;null&gt;</pre></div></td><td><div class=\"dni-plaintext\"><pre>&lt;null&gt;</pre></div></td><td><div class=\"dni-plaintext\"><pre>&lt;null&gt;</pre></div></td><td><div class=\"dni-plaintext\"><pre>&lt;null&gt;</pre></div></td></tr><tr style=\"display: none\"><td><i><div class=\"dni-plaintext\"><pre>50</pre></div></i></td><td>Auburn</td><td>SEC</td><td><div class=\"dni-plaintext\"><pre>19</pre></div></td><td><div class=\"dni-plaintext\"><pre>10</pre></div></td><td>https://d9ioojyvhqpok.cloudfront.net/assets/logos/_colleges/auburn.svg</td><td><div class=\"dni-plaintext\"><pre>&lt;null&gt;</pre></div></td><td>SEC</td><td><div class=\"dni-plaintext\"><pre>&lt;null&gt;</pre></div></td><td><div class=\"dni-plaintext\"><pre>&lt;null&gt;</pre></div></td><td><div class=\"dni-plaintext\"><pre>&lt;null&gt;</pre></div></td><td><div class=\"dni-plaintext\"><pre>&lt;null&gt;</pre></div></td></tr><tr style=\"display: none\"><td><i><div class=\"dni-plaintext\"><pre>51</pre></div></i></td><td>Arizona State</td><td>Big 12</td><td><div class=\"dni-plaintext\"><pre>18</pre></div></td><td><div class=\"dni-plaintext\"><pre>4</pre></div></td><td>https://d9ioojyvhqpok.cloudfront.net/assets/logos/_colleges/arizona_st.svg</td><td><div class=\"dni-plaintext\"><pre>&lt;null&gt;</pre></div></td><td>Big 12</td><td><div class=\"dni-plaintext\"><pre>&lt;null&gt;</pre></div></td><td><div class=\"dni-plaintext\"><pre>&lt;null&gt;</pre></div></td><td><div class=\"dni-plaintext\"><pre>&lt;null&gt;</pre></div></td><td><div class=\"dni-plaintext\"><pre>&lt;null&gt;</pre></div></td></tr><tr style=\"display: none\"><td><i><div class=\"dni-plaintext\"><pre>52</pre></div></i></td><td>USC</td><td>Big Ten</td><td><div class=\"dni-plaintext\"><pre>17</pre></div></td><td><div class=\"dni-plaintext\"><pre>8</pre></div></td><td>https://d9ioojyvhqpok.cloudfront.net/assets/logos/_colleges/usc.svg</td><td><div class=\"dni-plaintext\"><pre>&lt;null&gt;</pre></div></td><td>Big Ten</td><td><div class=\"dni-plaintext\"><pre>&lt;null&gt;</pre></div></td><td><div class=\"dni-plaintext\"><pre>&lt;null&gt;</pre></div></td><td><div class=\"dni-plaintext\"><pre>&lt;null&gt;</pre></div></td><td><div class=\"dni-plaintext\"><pre>&lt;null&gt;</pre></div></td></tr><tr style=\"display: none\"><td><i><div class=\"dni-plaintext\"><pre>53</pre></div></i></td><td>Purdue</td><td>Big Ten</td><td><div class=\"dni-plaintext\"><pre>17</pre></div></td><td><div class=\"dni-plaintext\"><pre>3</pre></div></td><td>https://d9ioojyvhqpok.cloudfront.net/assets/logos/_colleges/purdue.svg</td><td><div class=\"dni-plaintext\"><pre>&lt;null&gt;</pre></div></td><td>Big Ten</td><td><div class=\"dni-plaintext\"><pre>&lt;null&gt;</pre></div></td><td><div class=\"dni-plaintext\"><pre>&lt;null&gt;</pre></div></td><td><div class=\"dni-plaintext\"><pre>&lt;null&gt;</pre></div></td><td><div class=\"dni-plaintext\"><pre>&lt;null&gt;</pre></div></td></tr><tr style=\"display: none\"><td><i><div class=\"dni-plaintext\"><pre>54</pre></div></i></td><td>NC State</td><td>ACC</td><td><div class=\"dni-plaintext\"><pre>16</pre></div></td><td><div class=\"dni-plaintext\"><pre>6</pre></div></td><td>https://d9ioojyvhqpok.cloudfront.net/assets/logos/_colleges/nc_st.svg</td><td><div class=\"dni-plaintext\"><pre>&lt;null&gt;</pre></div></td><td>ACC</td><td><div class=\"dni-plaintext\"><pre>&lt;null&gt;</pre></div></td><td><div class=\"dni-plaintext\"><pre>&lt;null&gt;</pre></div></td><td><div class=\"dni-plaintext\"><pre>&lt;null&gt;</pre></div></td><td><div class=\"dni-plaintext\"><pre>&lt;null&gt;</pre></div></td></tr><tr style=\"display: none\"><td><i><div class=\"dni-plaintext\"><pre>55</pre></div></i></td><td>SMU</td><td>ACC</td><td><div class=\"dni-plaintext\"><pre>15</pre></div></td><td><div class=\"dni-plaintext\"><pre>4</pre></div></td><td>https://d9ioojyvhqpok.cloudfront.net/assets/logos/_colleges/smu.svg</td><td><div class=\"dni-plaintext\"><pre>&lt;null&gt;</pre></div></td><td>ACC</td><td><div class=\"dni-plaintext\"><pre>&lt;null&gt;</pre></div></td><td><div class=\"dni-plaintext\"><pre>&lt;null&gt;</pre></div></td><td><div class=\"dni-plaintext\"><pre>&lt;null&gt;</pre></div></td><td><div class=\"dni-plaintext\"><pre>&lt;null&gt;</pre></div></td></tr><tr style=\"display: none\"><td><i><div class=\"dni-plaintext\"><pre>56</pre></div></i></td><td>Utah</td><td>Big 12</td><td><div class=\"dni-plaintext\"><pre>13</pre></div></td><td><div class=\"dni-plaintext\"><pre>8</pre></div></td><td>https://d9ioojyvhqpok.cloudfront.net/assets/logos/_colleges/utah.svg</td><td><div class=\"dni-plaintext\"><pre>&lt;null&gt;</pre></div></td><td>Big 12</td><td><div class=\"dni-plaintext\"><pre>&lt;null&gt;</pre></div></td><td><div class=\"dni-plaintext\"><pre>&lt;null&gt;</pre></div></td><td><div class=\"dni-plaintext\"><pre>&lt;null&gt;</pre></div></td><td><div class=\"dni-plaintext\"><pre>&lt;null&gt;</pre></div></td></tr><tr style=\"display: none\"><td><i><div class=\"dni-plaintext\"><pre>57</pre></div></i></td><td>Virginia</td><td>ACC</td><td><div class=\"dni-plaintext\"><pre>13</pre></div></td><td><div class=\"dni-plaintext\"><pre>7</pre></div></td><td>https://d9ioojyvhqpok.cloudfront.net/assets/logos/_colleges/virginia.svg</td><td><div class=\"dni-plaintext\"><pre>&lt;null&gt;</pre></div></td><td>ACC</td><td><div class=\"dni-plaintext\"><pre>&lt;null&gt;</pre></div></td><td><div class=\"dni-plaintext\"><pre>&lt;null&gt;</pre></div></td><td><div class=\"dni-plaintext\"><pre>&lt;null&gt;</pre></div></td><td><div class=\"dni-plaintext\"><pre>&lt;null&gt;</pre></div></td></tr><tr style=\"display: none\"><td><i><div class=\"dni-plaintext\"><pre>58</pre></div></i></td><td>Georgia Tech</td><td>ACC</td><td><div class=\"dni-plaintext\"><pre>13</pre></div></td><td><div class=\"dni-plaintext\"><pre>7</pre></div></td><td>https://d9ioojyvhqpok.cloudfront.net/assets/logos/_colleges/georgia_tech.svg</td><td><div class=\"dni-plaintext\"><pre>&lt;null&gt;</pre></div></td><td>ACC</td><td><div class=\"dni-plaintext\"><pre>&lt;null&gt;</pre></div></td><td><div class=\"dni-plaintext\"><pre>&lt;null&gt;</pre></div></td><td><div class=\"dni-plaintext\"><pre>&lt;null&gt;</pre></div></td><td><div class=\"dni-plaintext\"><pre>&lt;null&gt;</pre></div></td></tr><tr style=\"display: none\"><td><i><div class=\"dni-plaintext\"><pre>59</pre></div></i></td><td>Wisconsin</td><td>Big Ten</td><td><div class=\"dni-plaintext\"><pre>13</pre></div></td><td><div class=\"dni-plaintext\"><pre>5</pre></div></td><td>https://d9ioojyvhqpok.cloudfront.net/assets/logos/_colleges/wisconsin.svg</td><td><div class=\"dni-plaintext\"><pre>&lt;null&gt;</pre></div></td><td>Big Ten</td><td><div class=\"dni-plaintext\"><pre>&lt;null&gt;</pre></div></td><td><div class=\"dni-plaintext\"><pre>&lt;null&gt;</pre></div></td><td><div class=\"dni-plaintext\"><pre>&lt;null&gt;</pre></div></td><td><div class=\"dni-plaintext\"><pre>&lt;null&gt;</pre></div></td></tr><tr style=\"display: none\"><td><i><div class=\"dni-plaintext\"><pre>60</pre></div></i></td><td>Colorado State</td><td>FBS - Mountain West</td><td><div class=\"dni-plaintext\"><pre>12</pre></div></td><td><div class=\"dni-plaintext\"><pre>5</pre></div></td><td>https://d9ioojyvhqpok.cloudfront.net/assets/logos/_colleges/colorado_st.svg</td><td><div class=\"dni-plaintext\"><pre>&lt;null&gt;</pre></div></td><td>RandomSmallSchool</td><td><div class=\"dni-plaintext\"><pre>&lt;null&gt;</pre></div></td><td><div class=\"dni-plaintext\"><pre>&lt;null&gt;</pre></div></td><td><div class=\"dni-plaintext\"><pre>&lt;null&gt;</pre></div></td><td><div class=\"dni-plaintext\"><pre>&lt;null&gt;</pre></div></td></tr><tr style=\"display: none\"><td><i><div class=\"dni-plaintext\"><pre>61</pre></div></i></td><td>Bowling Green</td><td>FBS - MAC</td><td><div class=\"dni-plaintext\"><pre>12</pre></div></td><td><div class=\"dni-plaintext\"><pre>3</pre></div></td><td>https://d9ioojyvhqpok.cloudfront.net/assets/logos/_colleges/bowling_green.svg</td><td><div class=\"dni-plaintext\"><pre>&lt;null&gt;</pre></div></td><td>RandomSmallSchool</td><td><div class=\"dni-plaintext\"><pre>&lt;null&gt;</pre></div></td><td><div class=\"dni-plaintext\"><pre>&lt;null&gt;</pre></div></td><td><div class=\"dni-plaintext\"><pre>&lt;null&gt;</pre></div></td><td><div class=\"dni-plaintext\"><pre>&lt;null&gt;</pre></div></td></tr><tr style=\"display: none\"><td><i><div class=\"dni-plaintext\"><pre>62</pre></div></i></td><td>BYU</td><td>Big 12</td><td><div class=\"dni-plaintext\"><pre>11</pre></div></td><td><div class=\"dni-plaintext\"><pre>6</pre></div></td><td>https://d9ioojyvhqpok.cloudfront.net/assets/logos/_colleges/byu.svg</td><td><div class=\"dni-plaintext\"><pre>&lt;null&gt;</pre></div></td><td>Big 12</td><td><div class=\"dni-plaintext\"><pre>&lt;null&gt;</pre></div></td><td><div class=\"dni-plaintext\"><pre>&lt;null&gt;</pre></div></td><td><div class=\"dni-plaintext\"><pre>&lt;null&gt;</pre></div></td><td><div class=\"dni-plaintext\"><pre>&lt;null&gt;</pre></div></td></tr><tr style=\"display: none\"><td><i><div class=\"dni-plaintext\"><pre>63</pre></div></i></td><td>Utah State</td><td>FBS - Mountain West</td><td><div class=\"dni-plaintext\"><pre>11</pre></div></td><td><div class=\"dni-plaintext\"><pre>2</pre></div></td><td>https://d9ioojyvhqpok.cloudfront.net/assets/logos/_colleges/utah_st.svg</td><td><div class=\"dni-plaintext\"><pre>&lt;null&gt;</pre></div></td><td>RandomSmallSchool</td><td><div class=\"dni-plaintext\"><pre>&lt;null&gt;</pre></div></td><td><div class=\"dni-plaintext\"><pre>&lt;null&gt;</pre></div></td><td><div class=\"dni-plaintext\"><pre>&lt;null&gt;</pre></div></td><td><div class=\"dni-plaintext\"><pre>&lt;null&gt;</pre></div></td></tr><tr style=\"display: none\"><td><i><div class=\"dni-plaintext\"><pre>64</pre></div></i></td><td>Cincinnati</td><td>Big 12</td><td><div class=\"dni-plaintext\"><pre>10</pre></div></td><td><div class=\"dni-plaintext\"><pre>5</pre></div></td><td>https://d9ioojyvhqpok.cloudfront.net/assets/logos/_colleges/cincinnati.svg</td><td><div class=\"dni-plaintext\"><pre>&lt;null&gt;</pre></div></td><td>Big 12</td><td><div class=\"dni-plaintext\"><pre>&lt;null&gt;</pre></div></td><td><div class=\"dni-plaintext\"><pre>&lt;null&gt;</pre></div></td><td><div class=\"dni-plaintext\"><pre>&lt;null&gt;</pre></div></td><td><div class=\"dni-plaintext\"><pre>&lt;null&gt;</pre></div></td></tr><tr style=\"display: none\"><td><i><div class=\"dni-plaintext\"><pre>65</pre></div></i></td><td>Washington State</td><td>Pac 12</td><td><div class=\"dni-plaintext\"><pre>10</pre></div></td><td><div class=\"dni-plaintext\"><pre>3</pre></div></td><td>https://d9ioojyvhqpok.cloudfront.net/assets/logos/_colleges/washington_st.svg</td><td><div class=\"dni-plaintext\"><pre>&lt;null&gt;</pre></div></td><td>RandomSmallSchool</td><td><div class=\"dni-plaintext\"><pre>&lt;null&gt;</pre></div></td><td><div class=\"dni-plaintext\"><pre>&lt;null&gt;</pre></div></td><td><div class=\"dni-plaintext\"><pre>&lt;null&gt;</pre></div></td><td><div class=\"dni-plaintext\"><pre>&lt;null&gt;</pre></div></td></tr><tr style=\"display: none\"><td><i><div class=\"dni-plaintext\"><pre>66</pre></div></i></td><td>William &amp; Mary</td><td>FCS</td><td><div class=\"dni-plaintext\"><pre>10</pre></div></td><td><div class=\"dni-plaintext\"><pre>1</pre></div></td><td>https://d9ioojyvhqpok.cloudfront.net/assets/logos/_colleges/william&amp;amp;mary.svg</td><td><div class=\"dni-plaintext\"><pre>&lt;null&gt;</pre></div></td><td>RandomSmallSchool</td><td><div class=\"dni-plaintext\"><pre>&lt;null&gt;</pre></div></td><td><div class=\"dni-plaintext\"><pre>&lt;null&gt;</pre></div></td><td><div class=\"dni-plaintext\"><pre>&lt;null&gt;</pre></div></td><td><div class=\"dni-plaintext\"><pre>&lt;null&gt;</pre></div></td></tr><tr style=\"display: none\"><td><i><div class=\"dni-plaintext\"><pre>67</pre></div></i></td><td>Tulane</td><td>FBS - AAC</td><td><div class=\"dni-plaintext\"><pre>9</pre></div></td><td><div class=\"dni-plaintext\"><pre>4</pre></div></td><td>https://d9ioojyvhqpok.cloudfront.net/assets/logos/_colleges/tulane.svg</td><td><div class=\"dni-plaintext\"><pre>&lt;null&gt;</pre></div></td><td>RandomSmallSchool</td><td><div class=\"dni-plaintext\"><pre>&lt;null&gt;</pre></div></td><td><div class=\"dni-plaintext\"><pre>&lt;null&gt;</pre></div></td><td><div class=\"dni-plaintext\"><pre>&lt;null&gt;</pre></div></td><td><div class=\"dni-plaintext\"><pre>&lt;null&gt;</pre></div></td></tr><tr style=\"display: none\"><td><i><div class=\"dni-plaintext\"><pre>68</pre></div></i></td><td>Illinois</td><td>Big Ten</td><td><div class=\"dni-plaintext\"><pre>9</pre></div></td><td><div class=\"dni-plaintext\"><pre>4</pre></div></td><td>https://d9ioojyvhqpok.cloudfront.net/assets/logos/_colleges/illinois.svg</td><td><div class=\"dni-plaintext\"><pre>&lt;null&gt;</pre></div></td><td>Big Ten</td><td><div class=\"dni-plaintext\"><pre>&lt;null&gt;</pre></div></td><td><div class=\"dni-plaintext\"><pre>&lt;null&gt;</pre></div></td><td><div class=\"dni-plaintext\"><pre>&lt;null&gt;</pre></div></td><td><div class=\"dni-plaintext\"><pre>&lt;null&gt;</pre></div></td></tr><tr style=\"display: none\"><td><i><div class=\"dni-plaintext\"><pre>69</pre></div></i></td><td>UTSA</td><td>FBS - AAC</td><td><div class=\"dni-plaintext\"><pre>9</pre></div></td><td><div class=\"dni-plaintext\"><pre>3</pre></div></td><td>https://d9ioojyvhqpok.cloudfront.net/assets/logos/_colleges/utsa.svg</td><td><div class=\"dni-plaintext\"><pre>&lt;null&gt;</pre></div></td><td>RandomSmallSchool</td><td><div class=\"dni-plaintext\"><pre>&lt;null&gt;</pre></div></td><td><div class=\"dni-plaintext\"><pre>&lt;null&gt;</pre></div></td><td><div class=\"dni-plaintext\"><pre>&lt;null&gt;</pre></div></td><td><div class=\"dni-plaintext\"><pre>&lt;null&gt;</pre></div></td></tr><tr style=\"display: none\"><td><i><div class=\"dni-plaintext\"><pre>70</pre></div></i></td><td>Memphis</td><td>FBS - AAC</td><td><div class=\"dni-plaintext\"><pre>8</pre></div></td><td><div class=\"dni-plaintext\"><pre>6</pre></div></td><td>https://d9ioojyvhqpok.cloudfront.net/assets/logos/_colleges/memphis.svg</td><td><div class=\"dni-plaintext\"><pre>&lt;null&gt;</pre></div></td><td>RandomSmallSchool</td><td><div class=\"dni-plaintext\"><pre>&lt;null&gt;</pre></div></td><td><div class=\"dni-plaintext\"><pre>&lt;null&gt;</pre></div></td><td><div class=\"dni-plaintext\"><pre>&lt;null&gt;</pre></div></td><td><div class=\"dni-plaintext\"><pre>&lt;null&gt;</pre></div></td></tr><tr style=\"display: none\"><td><i><div class=\"dni-plaintext\"><pre>71</pre></div></i></td><td>UConn</td><td>FBS - AAC</td><td><div class=\"dni-plaintext\"><pre>8</pre></div></td><td><div class=\"dni-plaintext\"><pre>3</pre></div></td><td>https://d9ioojyvhqpok.cloudfront.net/assets/logos/_colleges/uconn.svg</td><td><div class=\"dni-plaintext\"><pre>&lt;null&gt;</pre></div></td><td>RandomSmallSchool</td><td><div class=\"dni-plaintext\"><pre>&lt;null&gt;</pre></div></td><td><div class=\"dni-plaintext\"><pre>&lt;null&gt;</pre></div></td><td><div class=\"dni-plaintext\"><pre>&lt;null&gt;</pre></div></td><td><div class=\"dni-plaintext\"><pre>&lt;null&gt;</pre></div></td></tr><tr style=\"display: none\"><td><i><div class=\"dni-plaintext\"><pre>72</pre></div></i></td><td>Central Arkansas</td><td>FCS</td><td><div class=\"dni-plaintext\"><pre>8</pre></div></td><td><div class=\"dni-plaintext\"><pre>2</pre></div></td><td>https://d9ioojyvhqpok.cloudfront.net/assets/logos/_colleges/central_arkansas.svg</td><td><div class=\"dni-plaintext\"><pre>&lt;null&gt;</pre></div></td><td>RandomSmallSchool</td><td><div class=\"dni-plaintext\"><pre>&lt;null&gt;</pre></div></td><td><div class=\"dni-plaintext\"><pre>&lt;null&gt;</pre></div></td><td><div class=\"dni-plaintext\"><pre>&lt;null&gt;</pre></div></td><td><div class=\"dni-plaintext\"><pre>&lt;null&gt;</pre></div></td></tr><tr style=\"display: none\"><td><i><div class=\"dni-plaintext\"><pre>73</pre></div></i></td><td>Oregon State</td><td>Pac 12</td><td><div class=\"dni-plaintext\"><pre>8</pre></div></td><td><div class=\"dni-plaintext\"><pre>2</pre></div></td><td>https://d9ioojyvhqpok.cloudfront.net/assets/logos/_colleges/oregon_st.svg</td><td><div class=\"dni-plaintext\"><pre>&lt;null&gt;</pre></div></td><td>RandomSmallSchool</td><td><div class=\"dni-plaintext\"><pre>&lt;null&gt;</pre></div></td><td><div class=\"dni-plaintext\"><pre>&lt;null&gt;</pre></div></td><td><div class=\"dni-plaintext\"><pre>&lt;null&gt;</pre></div></td><td><div class=\"dni-plaintext\"><pre>&lt;null&gt;</pre></div></td></tr><tr style=\"display: none\"><td><i><div class=\"dni-plaintext\"><pre>74</pre></div></i></td><td>Sacramento State</td><td>FCS</td><td><div class=\"dni-plaintext\"><pre>8</pre></div></td><td><div class=\"dni-plaintext\"><pre>1</pre></div></td><td>https://d9ioojyvhqpok.cloudfront.net/assets/logos/_colleges/sacramento_st.svg</td><td><div class=\"dni-plaintext\"><pre>&lt;null&gt;</pre></div></td><td>RandomSmallSchool</td><td><div class=\"dni-plaintext\"><pre>&lt;null&gt;</pre></div></td><td><div class=\"dni-plaintext\"><pre>&lt;null&gt;</pre></div></td><td><div class=\"dni-plaintext\"><pre>&lt;null&gt;</pre></div></td><td><div class=\"dni-plaintext\"><pre>&lt;null&gt;</pre></div></td></tr><tr style=\"display: none\"><td><i><div class=\"dni-plaintext\"><pre>75</pre></div></i></td><td>Pitt</td><td>ACC</td><td><div class=\"dni-plaintext\"><pre>7</pre></div></td><td><div class=\"dni-plaintext\"><pre>7</pre></div></td><td>https://d9ioojyvhqpok.cloudfront.net/assets/logos/_colleges/pittsburgh.svg</td><td><div class=\"dni-plaintext\"><pre>&lt;null&gt;</pre></div></td><td>ACC</td><td><div class=\"dni-plaintext\"><pre>&lt;null&gt;</pre></div></td><td><div class=\"dni-plaintext\"><pre>&lt;null&gt;</pre></div></td><td><div class=\"dni-plaintext\"><pre>&lt;null&gt;</pre></div></td><td><div class=\"dni-plaintext\"><pre>&lt;null&gt;</pre></div></td></tr><tr style=\"display: none\"><td><i><div class=\"dni-plaintext\"><pre>76</pre></div></i></td><td>UNLV</td><td>FBS - Mountain West</td><td><div class=\"dni-plaintext\"><pre>7</pre></div></td><td><div class=\"dni-plaintext\"><pre>3</pre></div></td><td>https://d9ioojyvhqpok.cloudfront.net/assets/logos/_colleges/unlv.svg</td><td><div class=\"dni-plaintext\"><pre>&lt;null&gt;</pre></div></td><td>RandomSmallSchool</td><td><div class=\"dni-plaintext\"><pre>&lt;null&gt;</pre></div></td><td><div class=\"dni-plaintext\"><pre>&lt;null&gt;</pre></div></td><td><div class=\"dni-plaintext\"><pre>&lt;null&gt;</pre></div></td><td><div class=\"dni-plaintext\"><pre>&lt;null&gt;</pre></div></td></tr><tr style=\"display: none\"><td><i><div class=\"dni-plaintext\"><pre>77</pre></div></i></td><td>Western Michigan</td><td>FBS - MAC</td><td><div class=\"dni-plaintext\"><pre>7</pre></div></td><td><div class=\"dni-plaintext\"><pre>3</pre></div></td><td>https://d9ioojyvhqpok.cloudfront.net/assets/logos/_colleges/western_michigan.svg</td><td><div class=\"dni-plaintext\"><pre>&lt;null&gt;</pre></div></td><td>RandomSmallSchool</td><td><div class=\"dni-plaintext\"><pre>&lt;null&gt;</pre></div></td><td><div class=\"dni-plaintext\"><pre>&lt;null&gt;</pre></div></td><td><div class=\"dni-plaintext\"><pre>&lt;null&gt;</pre></div></td><td><div class=\"dni-plaintext\"><pre>&lt;null&gt;</pre></div></td></tr><tr style=\"display: none\"><td><i><div class=\"dni-plaintext\"><pre>78</pre></div></i></td><td>Jacksonville State</td><td>FBS - CUSA</td><td><div class=\"dni-plaintext\"><pre>6</pre></div></td><td><div class=\"dni-plaintext\"><pre>2</pre></div></td><td>https://d9ioojyvhqpok.cloudfront.net/assets/logos/_colleges/jacksonville_st.svg</td><td><div class=\"dni-plaintext\"><pre>&lt;null&gt;</pre></div></td><td>RandomSmallSchool</td><td><div class=\"dni-plaintext\"><pre>&lt;null&gt;</pre></div></td><td><div class=\"dni-plaintext\"><pre>&lt;null&gt;</pre></div></td><td><div class=\"dni-plaintext\"><pre>&lt;null&gt;</pre></div></td><td><div class=\"dni-plaintext\"><pre>&lt;null&gt;</pre></div></td></tr><tr style=\"display: none\"><td><i><div class=\"dni-plaintext\"><pre>79</pre></div></i></td><td>Fresno State</td><td>FBS - Mountain West</td><td><div class=\"dni-plaintext\"><pre>6</pre></div></td><td><div class=\"dni-plaintext\"><pre>2</pre></div></td><td>https://d9ioojyvhqpok.cloudfront.net/assets/logos/_colleges/fresno_st.svg</td><td><div class=\"dni-plaintext\"><pre>&lt;null&gt;</pre></div></td><td>RandomSmallSchool</td><td><div class=\"dni-plaintext\"><pre>&lt;null&gt;</pre></div></td><td><div class=\"dni-plaintext\"><pre>&lt;null&gt;</pre></div></td><td><div class=\"dni-plaintext\"><pre>&lt;null&gt;</pre></div></td><td><div class=\"dni-plaintext\"><pre>&lt;null&gt;</pre></div></td></tr><tr style=\"display: none\"><td><i><div class=\"dni-plaintext\"><pre>80</pre></div></i></td><td>Delaware</td><td>FCS</td><td><div class=\"dni-plaintext\"><pre>6</pre></div></td><td><div class=\"dni-plaintext\"><pre>2</pre></div></td><td>https://d9ioojyvhqpok.cloudfront.net/assets/logos/_colleges/delaware.svg</td><td><div class=\"dni-plaintext\"><pre>&lt;null&gt;</pre></div></td><td>RandomSmallSchool</td><td><div class=\"dni-plaintext\"><pre>&lt;null&gt;</pre></div></td><td><div class=\"dni-plaintext\"><pre>&lt;null&gt;</pre></div></td><td><div class=\"dni-plaintext\"><pre>&lt;null&gt;</pre></div></td><td><div class=\"dni-plaintext\"><pre>&lt;null&gt;</pre></div></td></tr><tr style=\"display: none\"><td><i><div class=\"dni-plaintext\"><pre>81</pre></div></i></td><td>San Jose State</td><td>FBS - Mountain West</td><td><div class=\"dni-plaintext\"><pre>6</pre></div></td><td><div class=\"dni-plaintext\"><pre>1</pre></div></td><td>https://d9ioojyvhqpok.cloudfront.net/assets/logos/_colleges/san_jose_st.svg</td><td><div class=\"dni-plaintext\"><pre>&lt;null&gt;</pre></div></td><td>RandomSmallSchool</td><td><div class=\"dni-plaintext\"><pre>&lt;null&gt;</pre></div></td><td><div class=\"dni-plaintext\"><pre>&lt;null&gt;</pre></div></td><td><div class=\"dni-plaintext\"><pre>&lt;null&gt;</pre></div></td><td><div class=\"dni-plaintext\"><pre>&lt;null&gt;</pre></div></td></tr><tr style=\"display: none\"><td><i><div class=\"dni-plaintext\"><pre>82</pre></div></i></td><td>Baylor</td><td>Big 12</td><td><div class=\"dni-plaintext\"><pre>5</pre></div></td><td><div class=\"dni-plaintext\"><pre>5</pre></div></td><td>https://d9ioojyvhqpok.cloudfront.net/assets/logos/_colleges/baylor.svg</td><td><div class=\"dni-plaintext\"><pre>&lt;null&gt;</pre></div></td><td>Big 12</td><td><div class=\"dni-plaintext\"><pre>&lt;null&gt;</pre></div></td><td><div class=\"dni-plaintext\"><pre>&lt;null&gt;</pre></div></td><td><div class=\"dni-plaintext\"><pre>&lt;null&gt;</pre></div></td><td><div class=\"dni-plaintext\"><pre>&lt;null&gt;</pre></div></td></tr><tr style=\"display: none\"><td><i><div class=\"dni-plaintext\"><pre>83</pre></div></i></td><td>Michigan State</td><td>Big Ten</td><td><div class=\"dni-plaintext\"><pre>5</pre></div></td><td><div class=\"dni-plaintext\"><pre>5</pre></div></td><td>https://d9ioojyvhqpok.cloudfront.net/assets/logos/_colleges/michigan_st.svg</td><td><div class=\"dni-plaintext\"><pre>&lt;null&gt;</pre></div></td><td>Big Ten</td><td><div class=\"dni-plaintext\"><pre>&lt;null&gt;</pre></div></td><td><div class=\"dni-plaintext\"><pre>&lt;null&gt;</pre></div></td><td><div class=\"dni-plaintext\"><pre>&lt;null&gt;</pre></div></td><td><div class=\"dni-plaintext\"><pre>&lt;null&gt;</pre></div></td></tr><tr style=\"display: none\"><td><i><div class=\"dni-plaintext\"><pre>84</pre></div></i></td><td>Washington</td><td>Big Ten</td><td><div class=\"dni-plaintext\"><pre>5</pre></div></td><td><div class=\"dni-plaintext\"><pre>5</pre></div></td><td>https://d9ioojyvhqpok.cloudfront.net/assets/logos/_colleges/washington.svg</td><td><div class=\"dni-plaintext\"><pre>&lt;null&gt;</pre></div></td><td>Big Ten</td><td><div class=\"dni-plaintext\"><pre>&lt;null&gt;</pre></div></td><td><div class=\"dni-plaintext\"><pre>&lt;null&gt;</pre></div></td><td><div class=\"dni-plaintext\"><pre>&lt;null&gt;</pre></div></td><td><div class=\"dni-plaintext\"><pre>&lt;null&gt;</pre></div></td></tr><tr style=\"display: none\"><td><i><div class=\"dni-plaintext\"><pre>85</pre></div></i></td><td>Western Kentucky</td><td>FBS - CUSA</td><td><div class=\"dni-plaintext\"><pre>5</pre></div></td><td><div class=\"dni-plaintext\"><pre>1</pre></div></td><td>https://d9ioojyvhqpok.cloudfront.net/assets/logos/_colleges/western_kentucky.svg</td><td><div class=\"dni-plaintext\"><pre>&lt;null&gt;</pre></div></td><td>RandomSmallSchool</td><td><div class=\"dni-plaintext\"><pre>&lt;null&gt;</pre></div></td><td><div class=\"dni-plaintext\"><pre>&lt;null&gt;</pre></div></td><td><div class=\"dni-plaintext\"><pre>&lt;null&gt;</pre></div></td><td><div class=\"dni-plaintext\"><pre>&lt;null&gt;</pre></div></td></tr><tr style=\"display: none\"><td><i><div class=\"dni-plaintext\"><pre>86</pre></div></i></td><td>Eastern Washington</td><td>FCS</td><td><div class=\"dni-plaintext\"><pre>5</pre></div></td><td><div class=\"dni-plaintext\"><pre>1</pre></div></td><td>https://d9ioojyvhqpok.cloudfront.net/assets/logos/_colleges/eastern_washington.svg</td><td><div class=\"dni-plaintext\"><pre>&lt;null&gt;</pre></div></td><td>RandomSmallSchool</td><td><div class=\"dni-plaintext\"><pre>&lt;null&gt;</pre></div></td><td><div class=\"dni-plaintext\"><pre>&lt;null&gt;</pre></div></td><td><div class=\"dni-plaintext\"><pre>&lt;null&gt;</pre></div></td><td><div class=\"dni-plaintext\"><pre>&lt;null&gt;</pre></div></td></tr><tr style=\"display: none\"><td><i><div class=\"dni-plaintext\"><pre>87</pre></div></i></td><td>Alabama A&amp;M</td><td>FCS</td><td><div class=\"dni-plaintext\"><pre>5</pre></div></td><td><div class=\"dni-plaintext\"><pre>1</pre></div></td><td>https://d9ioojyvhqpok.cloudfront.net/assets/logos/_colleges/alabama_a&amp;amp;m.svg</td><td><div class=\"dni-plaintext\"><pre>&lt;null&gt;</pre></div></td><td>RandomSmallSchool</td><td><div class=\"dni-plaintext\"><pre>&lt;null&gt;</pre></div></td><td><div class=\"dni-plaintext\"><pre>&lt;null&gt;</pre></div></td><td><div class=\"dni-plaintext\"><pre>&lt;null&gt;</pre></div></td><td><div class=\"dni-plaintext\"><pre>&lt;null&gt;</pre></div></td></tr><tr style=\"display: none\"><td><i><div class=\"dni-plaintext\"><pre>88</pre></div></i></td><td>Texas State</td><td>FBS - Sun Belt</td><td><div class=\"dni-plaintext\"><pre>3</pre></div></td><td><div class=\"dni-plaintext\"><pre>3</pre></div></td><td>https://d9ioojyvhqpok.cloudfront.net/assets/logos/_colleges/texas_st.svg</td><td><div class=\"dni-plaintext\"><pre>&lt;null&gt;</pre></div></td><td>RandomSmallSchool</td><td><div class=\"dni-plaintext\"><pre>&lt;null&gt;</pre></div></td><td><div class=\"dni-plaintext\"><pre>&lt;null&gt;</pre></div></td><td><div class=\"dni-plaintext\"><pre>&lt;null&gt;</pre></div></td><td><div class=\"dni-plaintext\"><pre>&lt;null&gt;</pre></div></td></tr><tr style=\"display: none\"><td><i><div class=\"dni-plaintext\"><pre>89</pre></div></i></td><td>Arkansas State</td><td>FBS - Sun Belt</td><td><div class=\"dni-plaintext\"><pre>3</pre></div></td><td><div class=\"dni-plaintext\"><pre>3</pre></div></td><td>https://d9ioojyvhqpok.cloudfront.net/assets/logos/_colleges/arkansas_st.svg</td><td><div class=\"dni-plaintext\"><pre>&lt;null&gt;</pre></div></td><td>RandomSmallSchool</td><td><div class=\"dni-plaintext\"><pre>&lt;null&gt;</pre></div></td><td><div class=\"dni-plaintext\"><pre>&lt;null&gt;</pre></div></td><td><div class=\"dni-plaintext\"><pre>&lt;null&gt;</pre></div></td><td><div class=\"dni-plaintext\"><pre>&lt;null&gt;</pre></div></td></tr><tr style=\"display: none\"><td><i><div class=\"dni-plaintext\"><pre>90</pre></div></i></td><td>North Texas</td><td>FBS - AAC</td><td><div class=\"dni-plaintext\"><pre>3</pre></div></td><td><div class=\"dni-plaintext\"><pre>3</pre></div></td><td>https://d9ioojyvhqpok.cloudfront.net/assets/logos/_colleges/north_texas.svg</td><td><div class=\"dni-plaintext\"><pre>&lt;null&gt;</pre></div></td><td>RandomSmallSchool</td><td><div class=\"dni-plaintext\"><pre>&lt;null&gt;</pre></div></td><td><div class=\"dni-plaintext\"><pre>&lt;null&gt;</pre></div></td><td><div class=\"dni-plaintext\"><pre>&lt;null&gt;</pre></div></td><td><div class=\"dni-plaintext\"><pre>&lt;null&gt;</pre></div></td></tr><tr style=\"display: none\"><td><i><div class=\"dni-plaintext\"><pre>91</pre></div></i></td><td>Miami (OH)</td><td>FBS - MAC</td><td><div class=\"dni-plaintext\"><pre>3</pre></div></td><td><div class=\"dni-plaintext\"><pre>3</pre></div></td><td>https://d9ioojyvhqpok.cloudfront.net/assets/logos/_colleges/miami_oh.svg</td><td><div class=\"dni-plaintext\"><pre>&lt;null&gt;</pre></div></td><td>RandomSmallSchool</td><td><div class=\"dni-plaintext\"><pre>&lt;null&gt;</pre></div></td><td><div class=\"dni-plaintext\"><pre>&lt;null&gt;</pre></div></td><td><div class=\"dni-plaintext\"><pre>&lt;null&gt;</pre></div></td><td><div class=\"dni-plaintext\"><pre>&lt;null&gt;</pre></div></td></tr><tr style=\"display: none\"><td><i><div class=\"dni-plaintext\"><pre>92</pre></div></i></td><td>Montana State</td><td>FCS</td><td><div class=\"dni-plaintext\"><pre>3</pre></div></td><td><div class=\"dni-plaintext\"><pre>2</pre></div></td><td>https://d9ioojyvhqpok.cloudfront.net/assets/logos/_colleges/montana_st.svg</td><td><div class=\"dni-plaintext\"><pre>&lt;null&gt;</pre></div></td><td>RandomSmallSchool</td><td><div class=\"dni-plaintext\"><pre>&lt;null&gt;</pre></div></td><td><div class=\"dni-plaintext\"><pre>&lt;null&gt;</pre></div></td><td><div class=\"dni-plaintext\"><pre>&lt;null&gt;</pre></div></td><td><div class=\"dni-plaintext\"><pre>&lt;null&gt;</pre></div></td></tr><tr style=\"display: none\"><td><i><div class=\"dni-plaintext\"><pre>93</pre></div></i></td><td>Vanderbilt</td><td>SEC</td><td><div class=\"dni-plaintext\"><pre>2</pre></div></td><td><div class=\"dni-plaintext\"><pre>2</pre></div></td><td>https://d9ioojyvhqpok.cloudfront.net/assets/logos/_colleges/vanderbilt.svg</td><td><div class=\"dni-plaintext\"><pre>&lt;null&gt;</pre></div></td><td>SEC</td><td><div class=\"dni-plaintext\"><pre>&lt;null&gt;</pre></div></td><td><div class=\"dni-plaintext\"><pre>&lt;null&gt;</pre></div></td><td><div class=\"dni-plaintext\"><pre>&lt;null&gt;</pre></div></td><td><div class=\"dni-plaintext\"><pre>&lt;null&gt;</pre></div></td></tr><tr style=\"display: none\"><td><i><div class=\"dni-plaintext\"><pre>94</pre></div></i></td><td>Navy</td><td>FBS - AAC</td><td><div class=\"dni-plaintext\"><pre>2</pre></div></td><td><div class=\"dni-plaintext\"><pre>2</pre></div></td><td>https://d9ioojyvhqpok.cloudfront.net/assets/logos/_colleges/navy.svg</td><td><div class=\"dni-plaintext\"><pre>&lt;null&gt;</pre></div></td><td>RandomSmallSchool</td><td><div class=\"dni-plaintext\"><pre>&lt;null&gt;</pre></div></td><td><div class=\"dni-plaintext\"><pre>&lt;null&gt;</pre></div></td><td><div class=\"dni-plaintext\"><pre>&lt;null&gt;</pre></div></td><td><div class=\"dni-plaintext\"><pre>&lt;null&gt;</pre></div></td></tr><tr style=\"display: none\"><td><i><div class=\"dni-plaintext\"><pre>95</pre></div></i></td><td>Wake Forest</td><td>ACC</td><td><div class=\"dni-plaintext\"><pre>2</pre></div></td><td><div class=\"dni-plaintext\"><pre>2</pre></div></td><td>https://d9ioojyvhqpok.cloudfront.net/assets/logos/_colleges/wake_forest.svg</td><td><div class=\"dni-plaintext\"><pre>&lt;null&gt;</pre></div></td><td>ACC</td><td><div class=\"dni-plaintext\"><pre>&lt;null&gt;</pre></div></td><td><div class=\"dni-plaintext\"><pre>&lt;null&gt;</pre></div></td><td><div class=\"dni-plaintext\"><pre>&lt;null&gt;</pre></div></td><td><div class=\"dni-plaintext\"><pre>&lt;null&gt;</pre></div></td></tr><tr style=\"display: none\"><td><i><div class=\"dni-plaintext\"><pre>96</pre></div></i></td><td>Florida A&amp;M</td><td>FCS</td><td><div class=\"dni-plaintext\"><pre>2</pre></div></td><td><div class=\"dni-plaintext\"><pre>2</pre></div></td><td>https://d9ioojyvhqpok.cloudfront.net/assets/logos/_colleges/florida_a&amp;amp;m.svg</td><td><div class=\"dni-plaintext\"><pre>&lt;null&gt;</pre></div></td><td>RandomSmallSchool</td><td><div class=\"dni-plaintext\"><pre>&lt;null&gt;</pre></div></td><td><div class=\"dni-plaintext\"><pre>&lt;null&gt;</pre></div></td><td><div class=\"dni-plaintext\"><pre>&lt;null&gt;</pre></div></td><td><div class=\"dni-plaintext\"><pre>&lt;null&gt;</pre></div></td></tr><tr style=\"display: none\"><td><i><div class=\"dni-plaintext\"><pre>97</pre></div></i></td><td>Houston</td><td>Big 12</td><td><div class=\"dni-plaintext\"><pre>2</pre></div></td><td><div class=\"dni-plaintext\"><pre>2</pre></div></td><td>https://d9ioojyvhqpok.cloudfront.net/assets/logos/_colleges/houston.svg</td><td><div class=\"dni-plaintext\"><pre>&lt;null&gt;</pre></div></td><td>Big 12</td><td><div class=\"dni-plaintext\"><pre>&lt;null&gt;</pre></div></td><td><div class=\"dni-plaintext\"><pre>&lt;null&gt;</pre></div></td><td><div class=\"dni-plaintext\"><pre>&lt;null&gt;</pre></div></td><td><div class=\"dni-plaintext\"><pre>&lt;null&gt;</pre></div></td></tr><tr style=\"display: none\"><td><i><div class=\"dni-plaintext\"><pre>98</pre></div></i></td><td>Northern Illinois</td><td>FBS - MAC</td><td><div class=\"dni-plaintext\"><pre>2</pre></div></td><td><div class=\"dni-plaintext\"><pre>2</pre></div></td><td>https://d9ioojyvhqpok.cloudfront.net/assets/logos/_colleges/northern_illinois.svg</td><td><div class=\"dni-plaintext\"><pre>&lt;null&gt;</pre></div></td><td>RandomSmallSchool</td><td><div class=\"dni-plaintext\"><pre>&lt;null&gt;</pre></div></td><td><div class=\"dni-plaintext\"><pre>&lt;null&gt;</pre></div></td><td><div class=\"dni-plaintext\"><pre>&lt;null&gt;</pre></div></td><td><div class=\"dni-plaintext\"><pre>&lt;null&gt;</pre></div></td></tr><tr style=\"display: none\"><td><i><div class=\"dni-plaintext\"><pre>99</pre></div></i></td><td>Mississippi State</td><td>SEC</td><td><div class=\"dni-plaintext\"><pre>2</pre></div></td><td><div class=\"dni-plaintext\"><pre>2</pre></div></td><td>https://d9ioojyvhqpok.cloudfront.net/assets/logos/_colleges/mississippi_st.svg</td><td><div class=\"dni-plaintext\"><pre>&lt;null&gt;</pre></div></td><td>SEC</td><td><div class=\"dni-plaintext\"><pre>&lt;null&gt;</pre></div></td><td><div class=\"dni-plaintext\"><pre>&lt;null&gt;</pre></div></td><td><div class=\"dni-plaintext\"><pre>&lt;null&gt;</pre></div></td><td><div class=\"dni-plaintext\"><pre>&lt;null&gt;</pre></div></td></tr><tr style=\"display: none\"><td><i><div class=\"dni-plaintext\"><pre>100</pre></div></i></td><td>Nevada</td><td>FBS - Mountain West</td><td><div class=\"dni-plaintext\"><pre>2</pre></div></td><td><div class=\"dni-plaintext\"><pre>1</pre></div></td><td>https://d9ioojyvhqpok.cloudfront.net/assets/logos/_colleges/nevada.svg</td><td><div class=\"dni-plaintext\"><pre>&lt;null&gt;</pre></div></td><td>RandomSmallSchool</td><td><div class=\"dni-plaintext\"><pre>&lt;null&gt;</pre></div></td><td><div class=\"dni-plaintext\"><pre>&lt;null&gt;</pre></div></td><td><div class=\"dni-plaintext\"><pre>&lt;null&gt;</pre></div></td><td><div class=\"dni-plaintext\"><pre>&lt;null&gt;</pre></div></td></tr><tr style=\"display: none\"><td><i><div class=\"dni-plaintext\"><pre>101</pre></div></i></td><td>Buffalo</td><td>FBS - MAC</td><td><div class=\"dni-plaintext\"><pre>2</pre></div></td><td><div class=\"dni-plaintext\"><pre>1</pre></div></td><td>https://d9ioojyvhqpok.cloudfront.net/assets/logos/_colleges/buffalo.svg</td><td><div class=\"dni-plaintext\"><pre>&lt;null&gt;</pre></div></td><td>RandomSmallSchool</td><td><div class=\"dni-plaintext\"><pre>&lt;null&gt;</pre></div></td><td><div class=\"dni-plaintext\"><pre>&lt;null&gt;</pre></div></td><td><div class=\"dni-plaintext\"><pre>&lt;null&gt;</pre></div></td><td><div class=\"dni-plaintext\"><pre>&lt;null&gt;</pre></div></td></tr><tr style=\"display: none\"><td><i><div class=\"dni-plaintext\"><pre>102</pre></div></i></td><td>South Carolina State</td><td>FCS</td><td><div class=\"dni-plaintext\"><pre>1</pre></div></td><td><div class=\"dni-plaintext\"><pre>1</pre></div></td><td>https://d9ioojyvhqpok.cloudfront.net/assets/logos/_colleges/south_carolina_st.svg</td><td><div class=\"dni-plaintext\"><pre>&lt;null&gt;</pre></div></td><td>RandomSmallSchool</td><td><div class=\"dni-plaintext\"><pre>&lt;null&gt;</pre></div></td><td><div class=\"dni-plaintext\"><pre>&lt;null&gt;</pre></div></td><td><div class=\"dni-plaintext\"><pre>&lt;null&gt;</pre></div></td><td><div class=\"dni-plaintext\"><pre>&lt;null&gt;</pre></div></td></tr><tr style=\"display: none\"><td><i><div class=\"dni-plaintext\"><pre>103</pre></div></i></td><td>Jackson State</td><td>FCS</td><td><div class=\"dni-plaintext\"><pre>1</pre></div></td><td><div class=\"dni-plaintext\"><pre>1</pre></div></td><td>https://d9ioojyvhqpok.cloudfront.net/assets/logos/_colleges/jackson_st.svg</td><td><div class=\"dni-plaintext\"><pre>&lt;null&gt;</pre></div></td><td>RandomSmallSchool</td><td><div class=\"dni-plaintext\"><pre>&lt;null&gt;</pre></div></td><td><div class=\"dni-plaintext\"><pre>&lt;null&gt;</pre></div></td><td><div class=\"dni-plaintext\"><pre>&lt;null&gt;</pre></div></td><td><div class=\"dni-plaintext\"><pre>&lt;null&gt;</pre></div></td></tr><tr style=\"display: none\"><td><i><div class=\"dni-plaintext\"><pre>104</pre></div></i></td><td>Middlebury</td><td>D3</td><td><div class=\"dni-plaintext\"><pre>1</pre></div></td><td><div class=\"dni-plaintext\"><pre>1</pre></div></td><td>https://d9ioojyvhqpok.cloudfront.net/assets/logos/_colleges/middlebury.svg</td><td><div class=\"dni-plaintext\"><pre>&lt;null&gt;</pre></div></td><td>RandomSmallSchool</td><td><div class=\"dni-plaintext\"><pre>&lt;null&gt;</pre></div></td><td><div class=\"dni-plaintext\"><pre>&lt;null&gt;</pre></div></td><td><div class=\"dni-plaintext\"><pre>&lt;null&gt;</pre></div></td><td><div class=\"dni-plaintext\"><pre>&lt;null&gt;</pre></div></td></tr><tr style=\"display: none\"><td><i><div class=\"dni-plaintext\"><pre>105</pre></div></i></td><td>Cal Poly</td><td>FCS</td><td><div class=\"dni-plaintext\"><pre>1</pre></div></td><td><div class=\"dni-plaintext\"><pre>1</pre></div></td><td>https://d9ioojyvhqpok.cloudfront.net/assets/logos/_colleges/cal_poly.svg</td><td><div class=\"dni-plaintext\"><pre>&lt;null&gt;</pre></div></td><td>RandomSmallSchool</td><td><div class=\"dni-plaintext\"><pre>&lt;null&gt;</pre></div></td><td><div class=\"dni-plaintext\"><pre>&lt;null&gt;</pre></div></td><td><div class=\"dni-plaintext\"><pre>&lt;null&gt;</pre></div></td><td><div class=\"dni-plaintext\"><pre>&lt;null&gt;</pre></div></td></tr><tr style=\"display: none\"><td><i><div class=\"dni-plaintext\"><pre>106</pre></div></i></td><td>South Alabama</td><td>FBS - Sun Belt</td><td><div class=\"dni-plaintext\"><pre>1</pre></div></td><td><div class=\"dni-plaintext\"><pre>1</pre></div></td><td>https://d9ioojyvhqpok.cloudfront.net/assets/logos/_colleges/south_alabama.svg</td><td><div class=\"dni-plaintext\"><pre>&lt;null&gt;</pre></div></td><td>RandomSmallSchool</td><td><div class=\"dni-plaintext\"><pre>&lt;null&gt;</pre></div></td><td><div class=\"dni-plaintext\"><pre>&lt;null&gt;</pre></div></td><td><div class=\"dni-plaintext\"><pre>&lt;null&gt;</pre></div></td><td><div class=\"dni-plaintext\"><pre>&lt;null&gt;</pre></div></td></tr><tr style=\"display: none\"><td><i><div class=\"dni-plaintext\"><pre>107</pre></div></i></td><td>Lindenwood</td><td>D2</td><td><div class=\"dni-plaintext\"><pre>1</pre></div></td><td><div class=\"dni-plaintext\"><pre>1</pre></div></td><td>https://d9ioojyvhqpok.cloudfront.net/assets/logos/_colleges/lindenwood.svg</td><td><div class=\"dni-plaintext\"><pre>&lt;null&gt;</pre></div></td><td>RandomSmallSchool</td><td><div class=\"dni-plaintext\"><pre>&lt;null&gt;</pre></div></td><td><div class=\"dni-plaintext\"><pre>&lt;null&gt;</pre></div></td><td><div class=\"dni-plaintext\"><pre>&lt;null&gt;</pre></div></td><td><div class=\"dni-plaintext\"><pre>&lt;null&gt;</pre></div></td></tr><tr style=\"display: none\"><td><i><div class=\"dni-plaintext\"><pre>108</pre></div></i></td><td>Southern Arkansas</td><td>D2</td><td><div class=\"dni-plaintext\"><pre>1</pre></div></td><td><div class=\"dni-plaintext\"><pre>1</pre></div></td><td>https://d9ioojyvhqpok.cloudfront.net/assets/logos/_colleges/southern_arkansas.svg</td><td><div class=\"dni-plaintext\"><pre>&lt;null&gt;</pre></div></td><td>RandomSmallSchool</td><td><div class=\"dni-plaintext\"><pre>&lt;null&gt;</pre></div></td><td><div class=\"dni-plaintext\"><pre>&lt;null&gt;</pre></div></td><td><div class=\"dni-plaintext\"><pre>&lt;null&gt;</pre></div></td><td><div class=\"dni-plaintext\"><pre>&lt;null&gt;</pre></div></td></tr><tr style=\"display: none\"><td><i><div class=\"dni-plaintext\"><pre>109</pre></div></i></td><td>Villanova</td><td>FCS</td><td><div class=\"dni-plaintext\"><pre>1</pre></div></td><td><div class=\"dni-plaintext\"><pre>1</pre></div></td><td>https://d9ioojyvhqpok.cloudfront.net/assets/logos/_colleges/villanova.svg</td><td><div class=\"dni-plaintext\"><pre>&lt;null&gt;</pre></div></td><td>RandomSmallSchool</td><td><div class=\"dni-plaintext\"><pre>&lt;null&gt;</pre></div></td><td><div class=\"dni-plaintext\"><pre>&lt;null&gt;</pre></div></td><td><div class=\"dni-plaintext\"><pre>&lt;null&gt;</pre></div></td><td><div class=\"dni-plaintext\"><pre>&lt;null&gt;</pre></div></td></tr><tr style=\"display: none\"><td><i><div class=\"dni-plaintext\"><pre>110</pre></div></i></td><td>Wilfrid Laurier</td><td>D3</td><td><div class=\"dni-plaintext\"><pre>1</pre></div></td><td><div class=\"dni-plaintext\"><pre>1</pre></div></td><td>https://d9ioojyvhqpok.cloudfront.net/assets/logos/_colleges/laurier.png</td><td><div class=\"dni-plaintext\"><pre>&lt;null&gt;</pre></div></td><td>RandomSmallSchool</td><td><div class=\"dni-plaintext\"><pre>&lt;null&gt;</pre></div></td><td><div class=\"dni-plaintext\"><pre>&lt;null&gt;</pre></div></td><td><div class=\"dni-plaintext\"><pre>&lt;null&gt;</pre></div></td><td><div class=\"dni-plaintext\"><pre>&lt;null&gt;</pre></div></td></tr><tr style=\"display: none\"><td><i><div class=\"dni-plaintext\"><pre>111</pre></div></i></td><td>Towson</td><td>FCS</td><td><div class=\"dni-plaintext\"><pre>1</pre></div></td><td><div class=\"dni-plaintext\"><pre>1</pre></div></td><td>https://d9ioojyvhqpok.cloudfront.net/assets/logos/_colleges/towson.svg</td><td><div class=\"dni-plaintext\"><pre>&lt;null&gt;</pre></div></td><td>RandomSmallSchool</td><td><div class=\"dni-plaintext\"><pre>&lt;null&gt;</pre></div></td><td><div class=\"dni-plaintext\"><pre>&lt;null&gt;</pre></div></td><td><div class=\"dni-plaintext\"><pre>&lt;null&gt;</pre></div></td><td><div class=\"dni-plaintext\"><pre>&lt;null&gt;</pre></div></td></tr><tr style=\"display: none\"><td><i><div class=\"dni-plaintext\"><pre>112</pre></div></i></td><td>Illinois State</td><td>FCS</td><td><div class=\"dni-plaintext\"><pre>1</pre></div></td><td><div class=\"dni-plaintext\"><pre>1</pre></div></td><td>https://d9ioojyvhqpok.cloudfront.net/assets/logos/_colleges/illinois_st.svg</td><td><div class=\"dni-plaintext\"><pre>&lt;null&gt;</pre></div></td><td>RandomSmallSchool</td><td><div class=\"dni-plaintext\"><pre>&lt;null&gt;</pre></div></td><td><div class=\"dni-plaintext\"><pre>&lt;null&gt;</pre></div></td><td><div class=\"dni-plaintext\"><pre>&lt;null&gt;</pre></div></td><td><div class=\"dni-plaintext\"><pre>&lt;null&gt;</pre></div></td></tr><tr style=\"display: none\"><td><i><div class=\"dni-plaintext\"><pre>113</pre></div></i></td><td>Northern Iowa</td><td>FCS</td><td><div class=\"dni-plaintext\"><pre>1</pre></div></td><td><div class=\"dni-plaintext\"><pre>1</pre></div></td><td>https://d9ioojyvhqpok.cloudfront.net/assets/logos/_colleges/northern_iowa.svg</td><td><div class=\"dni-plaintext\"><pre>&lt;null&gt;</pre></div></td><td>RandomSmallSchool</td><td><div class=\"dni-plaintext\"><pre>&lt;null&gt;</pre></div></td><td><div class=\"dni-plaintext\"><pre>&lt;null&gt;</pre></div></td><td><div class=\"dni-plaintext\"><pre>&lt;null&gt;</pre></div></td><td><div class=\"dni-plaintext\"><pre>&lt;null&gt;</pre></div></td></tr><tr style=\"display: none\"><td><i><div class=\"dni-plaintext\"><pre>114</pre></div></i></td><td>Minnesota Duluth</td><td>D2</td><td><div class=\"dni-plaintext\"><pre>1</pre></div></td><td><div class=\"dni-plaintext\"><pre>1</pre></div></td><td>https://d9ioojyvhqpok.cloudfront.net/assets/logos/_colleges/minnesota_duluth.svg</td><td><div class=\"dni-plaintext\"><pre>&lt;null&gt;</pre></div></td><td>RandomSmallSchool</td><td><div class=\"dni-plaintext\"><pre>&lt;null&gt;</pre></div></td><td><div class=\"dni-plaintext\"><pre>&lt;null&gt;</pre></div></td><td><div class=\"dni-plaintext\"><pre>&lt;null&gt;</pre></div></td><td><div class=\"dni-plaintext\"><pre>&lt;null&gt;</pre></div></td></tr><tr style=\"display: none\"><td><i><div class=\"dni-plaintext\"><pre>115</pre></div></i></td><td>Howard</td><td>FCS</td><td><div class=\"dni-plaintext\"><pre>1</pre></div></td><td><div class=\"dni-plaintext\"><pre>1</pre></div></td><td>https://d9ioojyvhqpok.cloudfront.net/assets/logos/_colleges/howard.svg</td><td><div class=\"dni-plaintext\"><pre>&lt;null&gt;</pre></div></td><td>RandomSmallSchool</td><td><div class=\"dni-plaintext\"><pre>&lt;null&gt;</pre></div></td><td><div class=\"dni-plaintext\"><pre>&lt;null&gt;</pre></div></td><td><div class=\"dni-plaintext\"><pre>&lt;null&gt;</pre></div></td><td><div class=\"dni-plaintext\"><pre>&lt;null&gt;</pre></div></td></tr><tr style=\"display: none\"><td><i><div class=\"dni-plaintext\"><pre>116</pre></div></i></td><td>Tulsa</td><td>FBS - AAC</td><td><div class=\"dni-plaintext\"><pre>1</pre></div></td><td><div class=\"dni-plaintext\"><pre>1</pre></div></td><td>https://d9ioojyvhqpok.cloudfront.net/assets/logos/_colleges/tulsa.svg</td><td><div class=\"dni-plaintext\"><pre>&lt;null&gt;</pre></div></td><td>RandomSmallSchool</td><td><div class=\"dni-plaintext\"><pre>&lt;null&gt;</pre></div></td><td><div class=\"dni-plaintext\"><pre>&lt;null&gt;</pre></div></td><td><div class=\"dni-plaintext\"><pre>&lt;null&gt;</pre></div></td><td><div class=\"dni-plaintext\"><pre>&lt;null&gt;</pre></div></td></tr><tr style=\"display: none\"><td><i><div class=\"dni-plaintext\"><pre>117</pre></div></i></td><td>UC Davis</td><td>FCS</td><td><div class=\"dni-plaintext\"><pre>1</pre></div></td><td><div class=\"dni-plaintext\"><pre>1</pre></div></td><td>https://d9ioojyvhqpok.cloudfront.net/assets/logos/_colleges/uc_davis.svg</td><td><div class=\"dni-plaintext\"><pre>&lt;null&gt;</pre></div></td><td>RandomSmallSchool</td><td><div class=\"dni-plaintext\"><pre>&lt;null&gt;</pre></div></td><td><div class=\"dni-plaintext\"><pre>&lt;null&gt;</pre></div></td><td><div class=\"dni-plaintext\"><pre>&lt;null&gt;</pre></div></td><td><div class=\"dni-plaintext\"><pre>&lt;null&gt;</pre></div></td></tr><tr style=\"display: none\"><td><i><div class=\"dni-plaintext\"><pre>118</pre></div></i></td><td>Morgan State</td><td>FCS</td><td><div class=\"dni-plaintext\"><pre>1</pre></div></td><td><div class=\"dni-plaintext\"><pre>1</pre></div></td><td>https://d9ioojyvhqpok.cloudfront.net/assets/logos/_colleges/morgan_st.svg</td><td><div class=\"dni-plaintext\"><pre>&lt;null&gt;</pre></div></td><td>RandomSmallSchool</td><td><div class=\"dni-plaintext\"><pre>&lt;null&gt;</pre></div></td><td><div class=\"dni-plaintext\"><pre>&lt;null&gt;</pre></div></td><td><div class=\"dni-plaintext\"><pre>&lt;null&gt;</pre></div></td><td><div class=\"dni-plaintext\"><pre>&lt;null&gt;</pre></div></td></tr><tr style=\"display: none\"><td><i><div class=\"dni-plaintext\"><pre>119</pre></div></i></td><td>South Dakota State</td><td>FCS</td><td><div class=\"dni-plaintext\"><pre>1</pre></div></td><td><div class=\"dni-plaintext\"><pre>1</pre></div></td><td>https://d9ioojyvhqpok.cloudfront.net/assets/logos/_colleges/south_dakota_st.svg</td><td><div class=\"dni-plaintext\"><pre>&lt;null&gt;</pre></div></td><td>RandomSmallSchool</td><td><div class=\"dni-plaintext\"><pre>&lt;null&gt;</pre></div></td><td><div class=\"dni-plaintext\"><pre>&lt;null&gt;</pre></div></td><td><div class=\"dni-plaintext\"><pre>&lt;null&gt;</pre></div></td><td><div class=\"dni-plaintext\"><pre>&lt;null&gt;</pre></div></td></tr><tr style=\"display: none\"><td><i><div class=\"dni-plaintext\"><pre>120</pre></div></i></td><td>Liberty</td><td>FBS - CUSA</td><td><div class=\"dni-plaintext\"><pre>1</pre></div></td><td><div class=\"dni-plaintext\"><pre>1</pre></div></td><td>https://d9ioojyvhqpok.cloudfront.net/assets/logos/_colleges/liberty.svg</td><td><div class=\"dni-plaintext\"><pre>&lt;null&gt;</pre></div></td><td>RandomSmallSchool</td><td><div class=\"dni-plaintext\"><pre>&lt;null&gt;</pre></div></td><td><div class=\"dni-plaintext\"><pre>&lt;null&gt;</pre></div></td><td><div class=\"dni-plaintext\"><pre>&lt;null&gt;</pre></div></td><td><div class=\"dni-plaintext\"><pre>&lt;null&gt;</pre></div></td></tr><tr style=\"display: none\"><td><i><div class=\"dni-plaintext\"><pre>121</pre></div></i></td><td>Wyoming</td><td>FBS - Mountain West</td><td><div class=\"dni-plaintext\"><pre>1</pre></div></td><td><div class=\"dni-plaintext\"><pre>1</pre></div></td><td>https://d9ioojyvhqpok.cloudfront.net/assets/logos/_colleges/wyoming.svg</td><td><div class=\"dni-plaintext\"><pre>&lt;null&gt;</pre></div></td><td>RandomSmallSchool</td><td><div class=\"dni-plaintext\"><pre>&lt;null&gt;</pre></div></td><td><div class=\"dni-plaintext\"><pre>&lt;null&gt;</pre></div></td><td><div class=\"dni-plaintext\"><pre>&lt;null&gt;</pre></div></td><td><div class=\"dni-plaintext\"><pre>&lt;null&gt;</pre></div></td></tr><tr style=\"display: none\"><td><i><div class=\"dni-plaintext\"><pre>122</pre></div></i></td><td>South Florida</td><td>FBS - AAC</td><td><div class=\"dni-plaintext\"><pre>1</pre></div></td><td><div class=\"dni-plaintext\"><pre>1</pre></div></td><td>https://d9ioojyvhqpok.cloudfront.net/assets/logos/_colleges/south_florida.svg</td><td><div class=\"dni-plaintext\"><pre>&lt;null&gt;</pre></div></td><td>RandomSmallSchool</td><td><div class=\"dni-plaintext\"><pre>&lt;null&gt;</pre></div></td><td><div class=\"dni-plaintext\"><pre>&lt;null&gt;</pre></div></td><td><div class=\"dni-plaintext\"><pre>&lt;null&gt;</pre></div></td><td><div class=\"dni-plaintext\"><pre>&lt;null&gt;</pre></div></td></tr><tr style=\"display: none\"><td><i><div class=\"dni-plaintext\"><pre>123</pre></div></i></td><td>Louisiana-Monroe</td><td>FBS - Sun Belt</td><td><div class=\"dni-plaintext\"><pre>1</pre></div></td><td><div class=\"dni-plaintext\"><pre>1</pre></div></td><td>https://d9ioojyvhqpok.cloudfront.net/assets/logos/_colleges/louisiana_monroe.svg</td><td><div class=\"dni-plaintext\"><pre>&lt;null&gt;</pre></div></td><td>RandomSmallSchool</td><td><div class=\"dni-plaintext\"><pre>&lt;null&gt;</pre></div></td><td><div class=\"dni-plaintext\"><pre>&lt;null&gt;</pre></div></td><td><div class=\"dni-plaintext\"><pre>&lt;null&gt;</pre></div></td><td><div class=\"dni-plaintext\"><pre>&lt;null&gt;</pre></div></td></tr><tr style=\"display: none\"><td><i><div class=\"dni-plaintext\"><pre>124</pre></div></i></td><td>Lenoir–Rhyne</td><td>D2</td><td><div class=\"dni-plaintext\"><pre>1</pre></div></td><td><div class=\"dni-plaintext\"><pre>1</pre></div></td><td>https://d9ioojyvhqpok.cloudfront.net/assets/logos/_colleges/lenoir_rhyne.png</td><td><div class=\"dni-plaintext\"><pre>&lt;null&gt;</pre></div></td><td>RandomSmallSchool</td><td><div class=\"dni-plaintext\"><pre>&lt;null&gt;</pre></div></td><td><div class=\"dni-plaintext\"><pre>&lt;null&gt;</pre></div></td><td><div class=\"dni-plaintext\"><pre>&lt;null&gt;</pre></div></td><td><div class=\"dni-plaintext\"><pre>&lt;null&gt;</pre></div></td></tr><tr style=\"display: none\"><td><i><div class=\"dni-plaintext\"><pre>125</pre></div></i></td><td>Georgia State</td><td>FBS - Sun Belt</td><td><div class=\"dni-plaintext\"><pre>1</pre></div></td><td><div class=\"dni-plaintext\"><pre>1</pre></div></td><td>https://d9ioojyvhqpok.cloudfront.net/assets/logos/_colleges/georgia_st.svg</td><td><div class=\"dni-plaintext\"><pre>&lt;null&gt;</pre></div></td><td>RandomSmallSchool</td><td><div class=\"dni-plaintext\"><pre>&lt;null&gt;</pre></div></td><td><div class=\"dni-plaintext\"><pre>&lt;null&gt;</pre></div></td><td><div class=\"dni-plaintext\"><pre>&lt;null&gt;</pre></div></td><td><div class=\"dni-plaintext\"><pre>&lt;null&gt;</pre></div></td></tr><tr style=\"display: none\"><td><i><div class=\"dni-plaintext\"><pre>126</pre></div></i></td><td>Florida International</td><td>FBS - CUSA</td><td><div class=\"dni-plaintext\"><pre>1</pre></div></td><td><div class=\"dni-plaintext\"><pre>1</pre></div></td><td>https://d9ioojyvhqpok.cloudfront.net/assets/logos/_colleges/florida_international.svg</td><td><div class=\"dni-plaintext\"><pre>&lt;null&gt;</pre></div></td><td>RandomSmallSchool</td><td><div class=\"dni-plaintext\"><pre>&lt;null&gt;</pre></div></td><td><div class=\"dni-plaintext\"><pre>&lt;null&gt;</pre></div></td><td><div class=\"dni-plaintext\"><pre>&lt;null&gt;</pre></div></td><td><div class=\"dni-plaintext\"><pre>&lt;null&gt;</pre></div></td></tr><tr style=\"display: none\"><td><i><div class=\"dni-plaintext\"><pre>127</pre></div></i></td><td>Coastal Carolina</td><td>FCS</td><td><div class=\"dni-plaintext\"><pre>1</pre></div></td><td><div class=\"dni-plaintext\"><pre>1</pre></div></td><td>https://d9ioojyvhqpok.cloudfront.net/assets/logos/_colleges/coastal_carolina.svg</td><td><div class=\"dni-plaintext\"><pre>&lt;null&gt;</pre></div></td><td>RandomSmallSchool</td><td><div class=\"dni-plaintext\"><pre>&lt;null&gt;</pre></div></td><td><div class=\"dni-plaintext\"><pre>&lt;null&gt;</pre></div></td><td><div class=\"dni-plaintext\"><pre>&lt;null&gt;</pre></div></td><td><div class=\"dni-plaintext\"><pre>&lt;null&gt;</pre></div></td></tr><tr style=\"display: none\"><td><i><div class=\"dni-plaintext\"><pre>128</pre></div></i></td><td>Northwestern</td><td>Big Ten</td><td><div class=\"dni-plaintext\"><pre>1</pre></div></td><td><div class=\"dni-plaintext\"><pre>1</pre></div></td><td>https://d9ioojyvhqpok.cloudfront.net/assets/logos/_colleges/northwestern.svg</td><td><div class=\"dni-plaintext\"><pre>&lt;null&gt;</pre></div></td><td>Big Ten</td><td><div class=\"dni-plaintext\"><pre>&lt;null&gt;</pre></div></td><td><div class=\"dni-plaintext\"><pre>&lt;null&gt;</pre></div></td><td><div class=\"dni-plaintext\"><pre>&lt;null&gt;</pre></div></td><td><div class=\"dni-plaintext\"><pre>&lt;null&gt;</pre></div></td></tr><tr style=\"display: none\"><td><i><div class=\"dni-plaintext\"><pre>129</pre></div></i></td><td>Georgia Southern</td><td>FBS - Sun Belt</td><td><div class=\"dni-plaintext\"><pre>1</pre></div></td><td><div class=\"dni-plaintext\"><pre>1</pre></div></td><td>https://d9ioojyvhqpok.cloudfront.net/assets/logos/_colleges/georgia_southern.svg</td><td><div class=\"dni-plaintext\"><pre>&lt;null&gt;</pre></div></td><td>RandomSmallSchool</td><td><div class=\"dni-plaintext\"><pre>&lt;null&gt;</pre></div></td><td><div class=\"dni-plaintext\"><pre>&lt;null&gt;</pre></div></td><td><div class=\"dni-plaintext\"><pre>&lt;null&gt;</pre></div></td><td><div class=\"dni-plaintext\"><pre>&lt;null&gt;</pre></div></td></tr><tr style=\"display: none\"><td><i><div class=\"dni-plaintext\"><pre>130</pre></div></i></td><td>Central Michigan</td><td>FBS - MAC</td><td><div class=\"dni-plaintext\"><pre>1</pre></div></td><td><div class=\"dni-plaintext\"><pre>1</pre></div></td><td>https://d9ioojyvhqpok.cloudfront.net/assets/logos/_colleges/central_michigan.svg</td><td><div class=\"dni-plaintext\"><pre>&lt;null&gt;</pre></div></td><td>RandomSmallSchool</td><td><div class=\"dni-plaintext\"><pre>&lt;null&gt;</pre></div></td><td><div class=\"dni-plaintext\"><pre>&lt;null&gt;</pre></div></td><td><div class=\"dni-plaintext\"><pre>&lt;null&gt;</pre></div></td><td><div class=\"dni-plaintext\"><pre>&lt;null&gt;</pre></div></td></tr><tr style=\"display: none\"><td><i><div class=\"dni-plaintext\"><pre>131</pre></div></i></td><td>Duke</td><td>ACC</td><td><div class=\"dni-plaintext\"><pre>1</pre></div></td><td><div class=\"dni-plaintext\"><pre>1</pre></div></td><td>https://d9ioojyvhqpok.cloudfront.net/assets/logos/_colleges/duke.svg</td><td><div class=\"dni-plaintext\"><pre>&lt;null&gt;</pre></div></td><td>ACC</td><td><div class=\"dni-plaintext\"><pre>&lt;null&gt;</pre></div></td><td><div class=\"dni-plaintext\"><pre>&lt;null&gt;</pre></div></td><td><div class=\"dni-plaintext\"><pre>&lt;null&gt;</pre></div></td><td><div class=\"dni-plaintext\"><pre>&lt;null&gt;</pre></div></td></tr><tr style=\"display: none\"><td><i><div class=\"dni-plaintext\"><pre>132</pre></div></i></td><td>North Carolina A&amp;T</td><td>FCS</td><td><div class=\"dni-plaintext\"><pre>1</pre></div></td><td><div class=\"dni-plaintext\"><pre>1</pre></div></td><td>https://d9ioojyvhqpok.cloudfront.net/assets/logos/_colleges/north_carolina_a&amp;amp;t.svg</td><td><div class=\"dni-plaintext\"><pre>&lt;null&gt;</pre></div></td><td>RandomSmallSchool</td><td><div class=\"dni-plaintext\"><pre>&lt;null&gt;</pre></div></td><td><div class=\"dni-plaintext\"><pre>&lt;null&gt;</pre></div></td><td><div class=\"dni-plaintext\"><pre>&lt;null&gt;</pre></div></td><td><div class=\"dni-plaintext\"><pre>&lt;null&gt;</pre></div></td></tr><tr style=\"display: none\"><td><i><div class=\"dni-plaintext\"><pre>133</pre></div></i></td><td>Massachusetts</td><td>FBS - MAC</td><td><div class=\"dni-plaintext\"><pre>1</pre></div></td><td><div class=\"dni-plaintext\"><pre>1</pre></div></td><td>https://d9ioojyvhqpok.cloudfront.net/assets/logos/_colleges/umass.svg</td><td><div class=\"dni-plaintext\"><pre>&lt;null&gt;</pre></div></td><td>RandomSmallSchool</td><td><div class=\"dni-plaintext\"><pre>&lt;null&gt;</pre></div></td><td><div class=\"dni-plaintext\"><pre>&lt;null&gt;</pre></div></td><td><div class=\"dni-plaintext\"><pre>&lt;null&gt;</pre></div></td><td><div class=\"dni-plaintext\"><pre>&lt;null&gt;</pre></div></td></tr><tr style=\"display: none\"><td><i><div class=\"dni-plaintext\"><pre>134</pre></div></i></td><td>Hawaii</td><td>FBS - Mountain West</td><td><div class=\"dni-plaintext\"><pre>1</pre></div></td><td><div class=\"dni-plaintext\"><pre>1</pre></div></td><td>https://d9ioojyvhqpok.cloudfront.net/assets/logos/_colleges/hawaii.svg</td><td><div class=\"dni-plaintext\"><pre>&lt;null&gt;</pre></div></td><td>RandomSmallSchool</td><td><div class=\"dni-plaintext\"><pre>&lt;null&gt;</pre></div></td><td><div class=\"dni-plaintext\"><pre>&lt;null&gt;</pre></div></td><td><div class=\"dni-plaintext\"><pre>&lt;null&gt;</pre></div></td><td><div class=\"dni-plaintext\"><pre>&lt;null&gt;</pre></div></td></tr><tr style=\"display: none\"><td><i><div class=\"dni-plaintext\"><pre>135</pre></div></i></td><td>Holy Cross</td><td>FCS</td><td><div class=\"dni-plaintext\"><pre>1</pre></div></td><td><div class=\"dni-plaintext\"><pre>1</pre></div></td><td>https://d9ioojyvhqpok.cloudfront.net/assets/logos/_colleges/holy_cross.svg</td><td><div class=\"dni-plaintext\"><pre>&lt;null&gt;</pre></div></td><td>RandomSmallSchool</td><td><div class=\"dni-plaintext\"><pre>&lt;null&gt;</pre></div></td><td><div class=\"dni-plaintext\"><pre>&lt;null&gt;</pre></div></td><td><div class=\"dni-plaintext\"><pre>&lt;null&gt;</pre></div></td><td><div class=\"dni-plaintext\"><pre>&lt;null&gt;</pre></div></td></tr><tr style=\"display: none\"><td><i><div class=\"dni-plaintext\"><pre>136</pre></div></i></td><td>Louisiana Tech</td><td>FBS - CUSA</td><td><div class=\"dni-plaintext\"><pre>1</pre></div></td><td><div class=\"dni-plaintext\"><pre>1</pre></div></td><td>https://d9ioojyvhqpok.cloudfront.net/assets/logos/_colleges/la_tech.svg</td><td><div class=\"dni-plaintext\"><pre>&lt;null&gt;</pre></div></td><td>RandomSmallSchool</td><td><div class=\"dni-plaintext\"><pre>&lt;null&gt;</pre></div></td><td><div class=\"dni-plaintext\"><pre>&lt;null&gt;</pre></div></td><td><div class=\"dni-plaintext\"><pre>&lt;null&gt;</pre></div></td><td><div class=\"dni-plaintext\"><pre>&lt;null&gt;</pre></div></td></tr><tr style=\"display: none\"><td><i><div class=\"dni-plaintext\"><pre>137</pre></div></i></td><td>Charlotte</td><td>FBS - AAC</td><td><div class=\"dni-plaintext\"><pre>1</pre></div></td><td><div class=\"dni-plaintext\"><pre>1</pre></div></td><td>https://d9ioojyvhqpok.cloudfront.net/assets/logos/_colleges/charlotte.svg</td><td><div class=\"dni-plaintext\"><pre>&lt;null&gt;</pre></div></td><td>RandomSmallSchool</td><td><div class=\"dni-plaintext\"><pre>&lt;null&gt;</pre></div></td><td><div class=\"dni-plaintext\"><pre>&lt;null&gt;</pre></div></td><td><div class=\"dni-plaintext\"><pre>&lt;null&gt;</pre></div></td><td><div class=\"dni-plaintext\"><pre>&lt;null&gt;</pre></div></td></tr><tr style=\"display: none\"><td><i><div class=\"dni-plaintext\"><pre>138</pre></div></i></td><td>James Madison</td><td>FBS - Sun Belt</td><td><div class=\"dni-plaintext\"><pre>1</pre></div></td><td><div class=\"dni-plaintext\"><pre>1</pre></div></td><td>https://d9ioojyvhqpok.cloudfront.net/assets/logos/_colleges/james_madison.svg</td><td><div class=\"dni-plaintext\"><pre>&lt;null&gt;</pre></div></td><td>RandomSmallSchool</td><td><div class=\"dni-plaintext\"><pre>&lt;null&gt;</pre></div></td><td><div class=\"dni-plaintext\"><pre>&lt;null&gt;</pre></div></td><td><div class=\"dni-plaintext\"><pre>&lt;null&gt;</pre></div></td><td><div class=\"dni-plaintext\"><pre>&lt;null&gt;</pre></div></td></tr><tr style=\"display: none\"><td><i><div class=\"dni-plaintext\"><pre>139</pre></div></i></td><td>New Mexico</td><td>FBS - Mountain West</td><td><div class=\"dni-plaintext\"><pre>1</pre></div></td><td><div class=\"dni-plaintext\"><pre>1</pre></div></td><td>https://d9ioojyvhqpok.cloudfront.net/assets/logos/_colleges/new_mexico.svg</td><td><div class=\"dni-plaintext\"><pre>&lt;null&gt;</pre></div></td><td>RandomSmallSchool</td><td><div class=\"dni-plaintext\"><pre>&lt;null&gt;</pre></div></td><td><div class=\"dni-plaintext\"><pre>&lt;null&gt;</pre></div></td><td><div class=\"dni-plaintext\"><pre>&lt;null&gt;</pre></div></td><td><div class=\"dni-plaintext\"><pre>&lt;null&gt;</pre></div></td></tr><tr style=\"display: none\"><td><i><div class=\"dni-plaintext\"><pre>140</pre></div></i></td><td>Abilene Christian</td><td>FCS</td><td><div class=\"dni-plaintext\"><pre>1</pre></div></td><td><div class=\"dni-plaintext\"><pre>1</pre></div></td><td>https://d9ioojyvhqpok.cloudfront.net/assets/logos/_colleges/abilene_christian.svg</td><td><div class=\"dni-plaintext\"><pre>&lt;null&gt;</pre></div></td><td>RandomSmallSchool</td><td><div class=\"dni-plaintext\"><pre>&lt;null&gt;</pre></div></td><td><div class=\"dni-plaintext\"><pre>&lt;null&gt;</pre></div></td><td><div class=\"dni-plaintext\"><pre>&lt;null&gt;</pre></div></td><td><div class=\"dni-plaintext\"><pre>&lt;null&gt;</pre></div></td></tr><tr style=\"display: none\"><td><i><div class=\"dni-plaintext\"><pre>141</pre></div></i></td><td>Eastern Kentucky</td><td>FCS</td><td><div class=\"dni-plaintext\"><pre>1</pre></div></td><td><div class=\"dni-plaintext\"><pre>1</pre></div></td><td>https://d9ioojyvhqpok.cloudfront.net/assets/logos/_colleges/eastern_kentucky.svg</td><td><div class=\"dni-plaintext\"><pre>&lt;null&gt;</pre></div></td><td>RandomSmallSchool</td><td><div class=\"dni-plaintext\"><pre>&lt;null&gt;</pre></div></td><td><div class=\"dni-plaintext\"><pre>&lt;null&gt;</pre></div></td><td><div class=\"dni-plaintext\"><pre>&lt;null&gt;</pre></div></td><td><div class=\"dni-plaintext\"><pre>&lt;null&gt;</pre></div></td></tr></tbody><tfoot><tr><td colspan=\"12\" style=\"text-align: center;\"><button style=\"margin: 2px;\" onclick=\"var allRows = document.querySelectorAll(&#39;#table_638792359897321004 tbody tr:nth-child(n)&#39;); for (let i = 0; i &lt; allRows.length; i++) { allRows[i].style.display=&#39;none&#39;; } document.querySelector(&#39;#page_638792359897321004&#39;).innerHTML = 1; var page = parseInt(document.querySelector(&#39;#page_638792359897321004&#39;).innerHTML) - 1; var pageRows = document.querySelectorAll(`#table_638792359897321004 tbody tr:nth-child(n + ${page * 25 + 1 })`); for (let j = 0; j &lt; 25; j++) { pageRows[j].style.display=&#39;table-row&#39;; } \">⏮</button><button style=\"margin: 2px;\" onclick=\"var allRows = document.querySelectorAll(&#39;#table_638792359897321004 tbody tr:nth-child(n)&#39;); for (let i = 0; i &lt; allRows.length; i++) { allRows[i].style.display=&#39;none&#39;; } var page = parseInt(document.querySelector(&#39;#page_638792359897321004&#39;).innerHTML) - 1; page = parseInt(page) + parseInt(-10); page = page &lt; 0 ? 0 : page; page = page > 5 ? 5 : page; document.querySelector(&#39;#page_638792359897321004&#39;).innerHTML = page + 1; var page = parseInt(document.querySelector(&#39;#page_638792359897321004&#39;).innerHTML) - 1; var pageRows = document.querySelectorAll(`#table_638792359897321004 tbody tr:nth-child(n + ${page * 25 + 1 })`); for (let j = 0; j &lt; 25; j++) { pageRows[j].style.display=&#39;table-row&#39;; } \">⏪</button><button style=\"margin: 2px;\" onclick=\"var allRows = document.querySelectorAll(&#39;#table_638792359897321004 tbody tr:nth-child(n)&#39;); for (let i = 0; i &lt; allRows.length; i++) { allRows[i].style.display=&#39;none&#39;; } var page = parseInt(document.querySelector(&#39;#page_638792359897321004&#39;).innerHTML) - 1; page = parseInt(page) + parseInt(-1); page = page &lt; 0 ? 0 : page; page = page > 5 ? 5 : page; document.querySelector(&#39;#page_638792359897321004&#39;).innerHTML = page + 1; var page = parseInt(document.querySelector(&#39;#page_638792359897321004&#39;).innerHTML) - 1; var pageRows = document.querySelectorAll(`#table_638792359897321004 tbody tr:nth-child(n + ${page * 25 + 1 })`); for (let j = 0; j &lt; 25; j++) { pageRows[j].style.display=&#39;table-row&#39;; } \">◀️</button><b style=\"margin: 2px;\">Page</b><b id=\"page_638792359897321004\" style=\"margin: 2px;\">1</b><button style=\"margin: 2px;\" onclick=\"var allRows = document.querySelectorAll(&#39;#table_638792359897321004 tbody tr:nth-child(n)&#39;); for (let i = 0; i &lt; allRows.length; i++) { allRows[i].style.display=&#39;none&#39;; } var page = parseInt(document.querySelector(&#39;#page_638792359897321004&#39;).innerHTML) - 1; page = parseInt(page) + parseInt(1); page = page &lt; 0 ? 0 : page; page = page > 5 ? 5 : page; document.querySelector(&#39;#page_638792359897321004&#39;).innerHTML = page + 1; var page = parseInt(document.querySelector(&#39;#page_638792359897321004&#39;).innerHTML) - 1; var pageRows = document.querySelectorAll(`#table_638792359897321004 tbody tr:nth-child(n + ${page * 25 + 1 })`); for (let j = 0; j &lt; 25; j++) { pageRows[j].style.display=&#39;table-row&#39;; } \">▶️</button><button style=\"margin: 2px;\" onclick=\"var allRows = document.querySelectorAll(&#39;#table_638792359897321004 tbody tr:nth-child(n)&#39;); for (let i = 0; i &lt; allRows.length; i++) { allRows[i].style.display=&#39;none&#39;; } var page = parseInt(document.querySelector(&#39;#page_638792359897321004&#39;).innerHTML) - 1; page = parseInt(page) + parseInt(10); page = page &lt; 0 ? 0 : page; page = page > 5 ? 5 : page; document.querySelector(&#39;#page_638792359897321004&#39;).innerHTML = page + 1; var page = parseInt(document.querySelector(&#39;#page_638792359897321004&#39;).innerHTML) - 1; var pageRows = document.querySelectorAll(`#table_638792359897321004 tbody tr:nth-child(n + ${page * 25 + 1 })`); for (let j = 0; j &lt; 25; j++) { pageRows[j].style.display=&#39;table-row&#39;; } \">⏩</button><button style=\"margin: 2px;\" onclick=\"var allRows = document.querySelectorAll(&#39;#table_638792359897321004 tbody tr:nth-child(n)&#39;); for (let i = 0; i &lt; allRows.length; i++) { allRows[i].style.display=&#39;none&#39;; } document.querySelector(&#39;#page_638792359897321004&#39;).innerHTML = 6; var page = parseInt(document.querySelector(&#39;#page_638792359897321004&#39;).innerHTML) - 1; var pageRows = document.querySelectorAll(`#table_638792359897321004 tbody tr:nth-child(n + ${page * 25 + 1 })`); for (let j = 0; j &lt; 25; j++) { pageRows[j].style.display=&#39;table-row&#39;; } \">⏭️</button></td></tr></tfoot></table><style>\r\n",
       ".dni-code-hint {\r\n",
       "    font-style: italic;\r\n",
       "    overflow: hidden;\r\n",
       "    white-space: nowrap;\r\n",
       "}\r\n",
       ".dni-treeview {\r\n",
       "    white-space: nowrap;\r\n",
       "}\r\n",
       ".dni-treeview td {\r\n",
       "    vertical-align: top;\r\n",
       "    text-align: start;\r\n",
       "}\r\n",
       "details.dni-treeview {\r\n",
       "    padding-left: 1em;\r\n",
       "}\r\n",
       "table td {\r\n",
       "    text-align: start;\r\n",
       "}\r\n",
       "table tr { \r\n",
       "    vertical-align: top; \r\n",
       "    margin: 0em 0px;\r\n",
       "}\r\n",
       "table tr td pre \r\n",
       "{ \r\n",
       "    vertical-align: top !important; \r\n",
       "    margin: 0em 0px !important;\r\n",
       "} \r\n",
       "table th {\r\n",
       "    text-align: start;\r\n",
       "}\r\n",
       "</style><script>var page = parseInt(document.querySelector('#page_638792359897321004').innerHTML) - 1; var pageRows = document.querySelectorAll(`#table_638792359897321004 tbody tr:nth-child(n + ${page * 25 + 1 })`); for (let j = 0; j < 25; j++) { pageRows[j].style.display='table-row'; } </script>"
      ]
     },
     "metadata": {},
     "output_type": "display_data"
    }
   ],
   "source": [
    "nextDraft.Columns.Add(new PrimitiveDataFrameColumn<double>(\"ProjectedPointsAboveAverage\", nextDraft.Rows.Count()));\n",
    "nextDraft.Columns.Add(new PrimitiveDataFrameColumn<double>(\"ProjectedPointsAboveReplacement\", nextDraft.Rows.Count()));\n",
    "nextDraft.Columns.Add(new PrimitiveDataFrameColumn<double>(\"AveragePointsForPosition\", nextDraft.Rows.Count()));\n",
    "nextDraft.Columns.Add(new PrimitiveDataFrameColumn<double>(\"ReplacementValueAverageForPosition\", nextDraft.Rows.Count()));\n",
    "\n",
    "nextDraft"
   ]
  },
  {
   "cell_type": "code",
   "execution_count": 7,
   "metadata": {
    "dotnet_interactive": {
     "language": "csharp"
    },
    "polyglot_notebook": {
     "kernelName": "csharp"
    },
    "vscode": {
     "languageId": "polyglot-notebook"
    }
   },
   "outputs": [
    {
     "name": "stdout",
     "output_type": "stream",
     "text": [
      "Leagify Position: ACC\r\n"
     ]
    },
    {
     "data": {
      "text/plain": [
       "Conference ACC only needs a top 5"
      ]
     },
     "metadata": {},
     "output_type": "display_data"
    },
    {
     "data": {
      "text/plain": [
       "Average points for draftable schools from ACC: 52.6"
      ]
     },
     "metadata": {},
     "output_type": "display_data"
    },
    {
     "data": {
      "text/plain": [
       "Average points for replacement value schools from ACC: 16.75"
      ]
     },
     "metadata": {},
     "output_type": "display_data"
    },
    {
     "name": "stdout",
     "output_type": "stream",
     "text": [
      "Leagify Position: SEC\r\n"
     ]
    },
    {
     "data": {
      "text/plain": [
       "Conference SEC needs a top 10."
      ]
     },
     "metadata": {},
     "output_type": "display_data"
    },
    {
     "data": {
      "text/plain": [
       "Average points for draftable schools from SEC: 104.9"
      ]
     },
     "metadata": {},
     "output_type": "display_data"
    },
    {
     "data": {
      "text/plain": [
       "Average points for replacement value schools from SEC: 19.5"
      ]
     },
     "metadata": {},
     "output_type": "display_data"
    },
    {
     "name": "stdout",
     "output_type": "stream",
     "text": [
      "Leagify Position: Big Ten\r\n"
     ]
    },
    {
     "data": {
      "text/plain": [
       "Conference Big Ten needs a top 10."
      ]
     },
     "metadata": {},
     "output_type": "display_data"
    },
    {
     "data": {
      "text/plain": [
       "Average points for draftable schools from Big Ten: 80.1"
      ]
     },
     "metadata": {},
     "output_type": "display_data"
    },
    {
     "data": {
      "text/plain": [
       "Average points for replacement value schools from Big Ten: 10.875"
      ]
     },
     "metadata": {},
     "output_type": "display_data"
    },
    {
     "name": "stdout",
     "output_type": "stream",
     "text": [
      "Leagify Position: Big 12\r\n"
     ]
    },
    {
     "data": {
      "text/plain": [
       "Conference Big 12 only needs a top 5"
      ]
     },
     "metadata": {},
     "output_type": "display_data"
    },
    {
     "data": {
      "text/plain": [
       "Average points for draftable schools from Big 12: 50.2"
      ]
     },
     "metadata": {},
     "output_type": "display_data"
    },
    {
     "data": {
      "text/plain": [
       "Average points for replacement value schools from Big 12: 15.363636363636363"
      ]
     },
     "metadata": {},
     "output_type": "display_data"
    },
    {
     "name": "stdout",
     "output_type": "stream",
     "text": [
      "Leagify Position: RandomSmallSchool\r\n"
     ]
    },
    {
     "data": {
      "text/plain": [
       "Conference RandomSmallSchool only needs a top 5"
      ]
     },
     "metadata": {},
     "output_type": "display_data"
    },
    {
     "data": {
      "text/plain": [
       "Average points for draftable schools from RandomSmallSchool: 28.2"
      ]
     },
     "metadata": {},
     "output_type": "display_data"
    },
    {
     "data": {
      "text/plain": [
       "Average points for replacement value schools from RandomSmallSchool: 3.318840579710145"
      ]
     },
     "metadata": {},
     "output_type": "display_data"
    },
    {
     "name": "stdout",
     "output_type": "stream",
     "text": [
      "Leagify Position: Flex\r\n"
     ]
    },
    {
     "data": {
      "text/plain": [
       "This is Notre Dame, I'm not doing stats on this school."
      ]
     },
     "metadata": {},
     "output_type": "display_data"
    }
   ],
   "source": [
    "// Let's do some stats on available schools here.\n",
    "// Get the distinct LeagifyPosition values\n",
    "string[] leagifyPositions = {\"ACC\", \"SEC\", \"Big Ten\", \"Big 12\", \"RandomSmallSchool\", \"Flex\"};\n",
    "\n",
    "IDictionary<string, double> draftableAverages = new Dictionary<string, double>();\n",
    "IDictionary<string, double> replacementAverages = new Dictionary<string, double>();\n",
    "\n",
    "// Loop over each LeagifyPosition value and get the corresponding rows\n",
    "foreach (var position in leagifyPositions)\n",
    "{\n",
    "    Console.WriteLine(\"Leagify Position: \" + position);\n",
    "    var rowsForPosition = nextDraft.Rows\n",
    "        .Where(row => row[6].ToString() == position.ToString());\n",
    "    \n",
    "    // Make sure rows are in descending order by potential points.\n",
    "    var sortedRows = rowsForPosition\n",
    "    .OrderByDescending(row => row[2])\n",
    "    .ToList();\n",
    "\n",
    "    double averageOfTopRows;\n",
    "    double averageOfRemainingRows;\n",
    "    if(position.Equals(\"SEC\") || position.Equals(\"Big Ten\"))\n",
    "    {\n",
    "        display($\"Conference {position} needs a top 10.\");\n",
    "        var topRows = sortedRows.Take(10);\n",
    "        averageOfTopRows = topRows.Average(row => Convert.ToDouble(row[2]));\n",
    "        display($\"Average points for draftable schools from {position}: {averageOfTopRows}\");\n",
    "        var remainingRows = sortedRows;\n",
    "        remainingRows.RemoveRange(0,10);\n",
    "        averageOfRemainingRows = remainingRows.Average(row => Convert.ToDouble(row[2]));\n",
    "        display($\"Average points for replacement value schools from {position}: {averageOfRemainingRows}\");\n",
    "\n",
    "\n",
    "        \n",
    "    }\n",
    "    else if(position.Equals(\"Flex\"))\n",
    "    {\n",
    "        display(\"This is Notre Dame, I'm not doing stats on this school.\");\n",
    "        averageOfTopRows = sortedRows.Average(row => Convert.ToDouble(row[2]));\n",
    "        averageOfRemainingRows = sortedRows.Average(row => Convert.ToDouble(row[2]));\n",
    "    }\n",
    "    else\n",
    "    {\n",
    "        display($\"Conference {position} only needs a top 5\");\n",
    "        var topRows = sortedRows.Take(5);\n",
    "        averageOfTopRows = topRows.Average(row => Convert.ToDouble(row[2]));\n",
    "        display($\"Average points for draftable schools from {position}: {averageOfTopRows}\");\n",
    "\n",
    "        var remainingRows = sortedRows;\n",
    "        remainingRows.RemoveRange(0,5);\n",
    "        averageOfRemainingRows = remainingRows.Average(row => Convert.ToDouble(row[2]));\n",
    "        display($\"Average points for replacement value schools from {position}: {averageOfRemainingRows}\");\n",
    "    }\n",
    "\n",
    "    draftableAverages.Add(position, Math.Truncate(averageOfTopRows * 100) / 100);\n",
    "    replacementAverages.Add(position, Math.Truncate(averageOfRemainingRows * 100) / 100);\n",
    "}\n",
    "\n",
    "\n",
    "\n"
   ]
  },
  {
   "cell_type": "code",
   "execution_count": 8,
   "metadata": {
    "dotnet_interactive": {
     "language": "csharp"
    },
    "polyglot_notebook": {
     "kernelName": "csharp"
    },
    "vscode": {
     "languageId": "polyglot-notebook"
    }
   },
   "outputs": [
    {
     "data": {
      "text/html": [
       "<table><thead><tr><th><i>key</i></th><th>value</th></tr></thead><tbody><tr><td><div class=\"dni-plaintext\"><pre>ACC</pre></div></td><td><div class=\"dni-plaintext\"><pre>52.6</pre></div></td></tr><tr><td><div class=\"dni-plaintext\"><pre>SEC</pre></div></td><td><div class=\"dni-plaintext\"><pre>104.9</pre></div></td></tr><tr><td><div class=\"dni-plaintext\"><pre>Big Ten</pre></div></td><td><div class=\"dni-plaintext\"><pre>80.09</pre></div></td></tr><tr><td><div class=\"dni-plaintext\"><pre>Big 12</pre></div></td><td><div class=\"dni-plaintext\"><pre>50.2</pre></div></td></tr><tr><td><div class=\"dni-plaintext\"><pre>RandomSmallSchool</pre></div></td><td><div class=\"dni-plaintext\"><pre>28.2</pre></div></td></tr><tr><td><div class=\"dni-plaintext\"><pre>Flex</pre></div></td><td><div class=\"dni-plaintext\"><pre>75</pre></div></td></tr></tbody></table><style>\r\n",
       ".dni-code-hint {\r\n",
       "    font-style: italic;\r\n",
       "    overflow: hidden;\r\n",
       "    white-space: nowrap;\r\n",
       "}\r\n",
       ".dni-treeview {\r\n",
       "    white-space: nowrap;\r\n",
       "}\r\n",
       ".dni-treeview td {\r\n",
       "    vertical-align: top;\r\n",
       "    text-align: start;\r\n",
       "}\r\n",
       "details.dni-treeview {\r\n",
       "    padding-left: 1em;\r\n",
       "}\r\n",
       "table td {\r\n",
       "    text-align: start;\r\n",
       "}\r\n",
       "table tr { \r\n",
       "    vertical-align: top; \r\n",
       "    margin: 0em 0px;\r\n",
       "}\r\n",
       "table tr td pre \r\n",
       "{ \r\n",
       "    vertical-align: top !important; \r\n",
       "    margin: 0em 0px !important;\r\n",
       "} \r\n",
       "table th {\r\n",
       "    text-align: start;\r\n",
       "}\r\n",
       "</style>"
      ]
     },
     "metadata": {},
     "output_type": "display_data"
    },
    {
     "data": {
      "text/html": [
       "<table><thead><tr><th><i>key</i></th><th>value</th></tr></thead><tbody><tr><td><div class=\"dni-plaintext\"><pre>ACC</pre></div></td><td><div class=\"dni-plaintext\"><pre>16.75</pre></div></td></tr><tr><td><div class=\"dni-plaintext\"><pre>SEC</pre></div></td><td><div class=\"dni-plaintext\"><pre>19.5</pre></div></td></tr><tr><td><div class=\"dni-plaintext\"><pre>Big Ten</pre></div></td><td><div class=\"dni-plaintext\"><pre>10.87</pre></div></td></tr><tr><td><div class=\"dni-plaintext\"><pre>Big 12</pre></div></td><td><div class=\"dni-plaintext\"><pre>15.36</pre></div></td></tr><tr><td><div class=\"dni-plaintext\"><pre>RandomSmallSchool</pre></div></td><td><div class=\"dni-plaintext\"><pre>3.31</pre></div></td></tr><tr><td><div class=\"dni-plaintext\"><pre>Flex</pre></div></td><td><div class=\"dni-plaintext\"><pre>75</pre></div></td></tr></tbody></table><style>\r\n",
       ".dni-code-hint {\r\n",
       "    font-style: italic;\r\n",
       "    overflow: hidden;\r\n",
       "    white-space: nowrap;\r\n",
       "}\r\n",
       ".dni-treeview {\r\n",
       "    white-space: nowrap;\r\n",
       "}\r\n",
       ".dni-treeview td {\r\n",
       "    vertical-align: top;\r\n",
       "    text-align: start;\r\n",
       "}\r\n",
       "details.dni-treeview {\r\n",
       "    padding-left: 1em;\r\n",
       "}\r\n",
       "table td {\r\n",
       "    text-align: start;\r\n",
       "}\r\n",
       "table tr { \r\n",
       "    vertical-align: top; \r\n",
       "    margin: 0em 0px;\r\n",
       "}\r\n",
       "table tr td pre \r\n",
       "{ \r\n",
       "    vertical-align: top !important; \r\n",
       "    margin: 0em 0px !important;\r\n",
       "} \r\n",
       "table th {\r\n",
       "    text-align: start;\r\n",
       "}\r\n",
       "</style>"
      ]
     },
     "metadata": {},
     "output_type": "display_data"
    },
    {
     "data": {
      "text/plain": [
       "School Ohio State in conference Big Ten has Leagify position Big Ten"
      ]
     },
     "metadata": {},
     "output_type": "display_data"
    },
    {
     "data": {
      "text/plain": [
       "School Texas in conference SEC has Leagify position SEC"
      ]
     },
     "metadata": {},
     "output_type": "display_data"
    },
    {
     "data": {
      "text/plain": [
       "School Georgia in conference SEC has Leagify position SEC"
      ]
     },
     "metadata": {},
     "output_type": "display_data"
    },
    {
     "data": {
      "text/plain": [
       "School Michigan in conference Big Ten has Leagify position Big Ten"
      ]
     },
     "metadata": {},
     "output_type": "display_data"
    },
    {
     "data": {
      "text/plain": [
       "School Ole Miss in conference SEC has Leagify position SEC"
      ]
     },
     "metadata": {},
     "output_type": "display_data"
    },
    {
     "data": {
      "text/plain": [
       "School Oregon in conference Big Ten has Leagify position Big Ten"
      ]
     },
     "metadata": {},
     "output_type": "display_data"
    },
    {
     "data": {
      "text/plain": [
       "School LSU in conference SEC has Leagify position SEC"
      ]
     },
     "metadata": {},
     "output_type": "display_data"
    },
    {
     "data": {
      "text/plain": [
       "School Penn State in conference Big Ten has Leagify position Big Ten"
      ]
     },
     "metadata": {},
     "output_type": "display_data"
    },
    {
     "data": {
      "text/plain": [
       "School Alabama in conference SEC has Leagify position SEC"
      ]
     },
     "metadata": {},
     "output_type": "display_data"
    },
    {
     "data": {
      "text/plain": [
       "School South Carolina in conference SEC has Leagify position SEC"
      ]
     },
     "metadata": {},
     "output_type": "display_data"
    },
    {
     "data": {
      "text/plain": [
       "School Miami (FL) in conference ACC has Leagify position ACC"
      ]
     },
     "metadata": {},
     "output_type": "display_data"
    },
    {
     "data": {
      "text/plain": [
       "School Colorado in conference Big 12 has Leagify position Big 12"
      ]
     },
     "metadata": {},
     "output_type": "display_data"
    },
    {
     "data": {
      "text/plain": [
       "School Notre Dame in conference FBS - Independent has Leagify position Flex"
      ]
     },
     "metadata": {},
     "output_type": "display_data"
    },
    {
     "data": {
      "text/plain": [
       "School Missouri in conference SEC has Leagify position SEC"
      ]
     },
     "metadata": {},
     "output_type": "display_data"
    },
    {
     "data": {
      "text/plain": [
       "School Tennessee in conference SEC has Leagify position SEC"
      ]
     },
     "metadata": {},
     "output_type": "display_data"
    },
    {
     "data": {
      "text/plain": [
       "School Texas A&M in conference SEC has Leagify position SEC"
      ]
     },
     "metadata": {},
     "output_type": "display_data"
    },
    {
     "data": {
      "text/plain": [
       "School Arizona in conference Big 12 has Leagify position Big 12"
      ]
     },
     "metadata": {},
     "output_type": "display_data"
    },
    {
     "data": {
      "text/plain": [
       "School Iowa in conference Big Ten has Leagify position Big Ten"
      ]
     },
     "metadata": {},
     "output_type": "display_data"
    },
    {
     "data": {
      "text/plain": [
       "School Iowa State in conference Big 12 has Leagify position Big 12"
      ]
     },
     "metadata": {},
     "output_type": "display_data"
    },
    {
     "data": {
      "text/plain": [
       "School Kentucky in conference SEC has Leagify position SEC"
      ]
     },
     "metadata": {},
     "output_type": "display_data"
    },
    {
     "data": {
      "text/plain": [
       "School North Carolina in conference ACC has Leagify position ACC"
      ]
     },
     "metadata": {},
     "output_type": "display_data"
    },
    {
     "data": {
      "text/plain": [
       "School Florida State in conference ACC has Leagify position ACC"
      ]
     },
     "metadata": {},
     "output_type": "display_data"
    },
    {
     "data": {
      "text/plain": [
       "School Minnesota in conference Big Ten has Leagify position Big Ten"
      ]
     },
     "metadata": {},
     "output_type": "display_data"
    },
    {
     "data": {
      "text/plain": [
       "School Boston College in conference ACC has Leagify position ACC"
      ]
     },
     "metadata": {},
     "output_type": "display_data"
    },
    {
     "data": {
      "text/plain": [
       "School Boise State in conference FBS - Mountain West has Leagify position RandomSmallSchool"
      ]
     },
     "metadata": {},
     "output_type": "display_data"
    },
    {
     "data": {
      "text/plain": [
       "School Virginia Tech in conference ACC has Leagify position ACC"
      ]
     },
     "metadata": {},
     "output_type": "display_data"
    },
    {
     "data": {
      "text/plain": [
       "School Florida in conference SEC has Leagify position SEC"
      ]
     },
     "metadata": {},
     "output_type": "display_data"
    },
    {
     "data": {
      "text/plain": [
       "School UCLA in conference Big Ten has Leagify position Big Ten"
      ]
     },
     "metadata": {},
     "output_type": "display_data"
    },
    {
     "data": {
      "text/plain": [
       "School Arkansas in conference SEC has Leagify position SEC"
      ]
     },
     "metadata": {},
     "output_type": "display_data"
    },
    {
     "data": {
      "text/plain": [
       "School Louisville in conference ACC has Leagify position ACC"
      ]
     },
     "metadata": {},
     "output_type": "display_data"
    },
    {
     "data": {
      "text/plain": [
       "School Syracuse in conference ACC has Leagify position ACC"
      ]
     },
     "metadata": {},
     "output_type": "display_data"
    },
    {
     "data": {
      "text/plain": [
       "School Kansas in conference Big 12 has Leagify position Big 12"
      ]
     },
     "metadata": {},
     "output_type": "display_data"
    },
    {
     "data": {
      "text/plain": [
       "School Marshall in conference FBS - CUSA has Leagify position RandomSmallSchool"
      ]
     },
     "metadata": {},
     "output_type": "display_data"
    },
    {
     "data": {
      "text/plain": [
       "School Maryland in conference Big Ten has Leagify position Big Ten"
      ]
     },
     "metadata": {},
     "output_type": "display_data"
    },
    {
     "data": {
      "text/plain": [
       "School TCU in conference Big 12 has Leagify position Big 12"
      ]
     },
     "metadata": {},
     "output_type": "display_data"
    },
    {
     "data": {
      "text/plain": [
       "School North Dakota State in conference FCS has Leagify position RandomSmallSchool"
      ]
     },
     "metadata": {},
     "output_type": "display_data"
    },
    {
     "data": {
      "text/plain": [
       "School Nebraska in conference Big Ten has Leagify position Big Ten"
      ]
     },
     "metadata": {},
     "output_type": "display_data"
    },
    {
     "data": {
      "text/plain": [
       "School Kansas State in conference Big 12 has Leagify position Big 12"
      ]
     },
     "metadata": {},
     "output_type": "display_data"
    },
    {
     "data": {
      "text/plain": [
       "School Clemson in conference ACC has Leagify position ACC"
      ]
     },
     "metadata": {},
     "output_type": "display_data"
    },
    {
     "data": {
      "text/plain": [
       "School Toledo in conference FBS - MAC has Leagify position RandomSmallSchool"
      ]
     },
     "metadata": {},
     "output_type": "display_data"
    },
    {
     "data": {
      "text/plain": [
       "School Rutgers in conference Big Ten has Leagify position Big Ten"
      ]
     },
     "metadata": {},
     "output_type": "display_data"
    },
    {
     "data": {
      "text/plain": [
       "School UCF in conference Big 12 has Leagify position Big 12"
      ]
     },
     "metadata": {},
     "output_type": "display_data"
    },
    {
     "data": {
      "text/plain": [
       "School West Virginia in conference Big 12 has Leagify position Big 12"
      ]
     },
     "metadata": {},
     "output_type": "display_data"
    },
    {
     "data": {
      "text/plain": [
       "School Oklahoma State in conference Big 12 has Leagify position Big 12"
      ]
     },
     "metadata": {},
     "output_type": "display_data"
    },
    {
     "data": {
      "text/plain": [
       "School Stanford in conference ACC has Leagify position ACC"
      ]
     },
     "metadata": {},
     "output_type": "display_data"
    },
    {
     "data": {
      "text/plain": [
       "School Oklahoma in conference SEC has Leagify position SEC"
      ]
     },
     "metadata": {},
     "output_type": "display_data"
    },
    {
     "data": {
      "text/plain": [
       "School California in conference ACC has Leagify position ACC"
      ]
     },
     "metadata": {},
     "output_type": "display_data"
    },
    {
     "data": {
      "text/plain": [
       "School Indiana in conference Big Ten has Leagify position Big Ten"
      ]
     },
     "metadata": {},
     "output_type": "display_data"
    },
    {
     "data": {
      "text/plain": [
       "School Texas Tech in conference Big 12 has Leagify position Big 12"
      ]
     },
     "metadata": {},
     "output_type": "display_data"
    },
    {
     "data": {
      "text/plain": [
       "School East Carolina in conference FBS - AAC has Leagify position RandomSmallSchool"
      ]
     },
     "metadata": {},
     "output_type": "display_data"
    },
    {
     "data": {
      "text/plain": [
       "School Auburn in conference SEC has Leagify position SEC"
      ]
     },
     "metadata": {},
     "output_type": "display_data"
    },
    {
     "data": {
      "text/plain": [
       "School Arizona State in conference Big 12 has Leagify position Big 12"
      ]
     },
     "metadata": {},
     "output_type": "display_data"
    },
    {
     "data": {
      "text/plain": [
       "School USC in conference Big Ten has Leagify position Big Ten"
      ]
     },
     "metadata": {},
     "output_type": "display_data"
    },
    {
     "data": {
      "text/plain": [
       "School Purdue in conference Big Ten has Leagify position Big Ten"
      ]
     },
     "metadata": {},
     "output_type": "display_data"
    },
    {
     "data": {
      "text/plain": [
       "School NC State in conference ACC has Leagify position ACC"
      ]
     },
     "metadata": {},
     "output_type": "display_data"
    },
    {
     "data": {
      "text/plain": [
       "School SMU in conference ACC has Leagify position ACC"
      ]
     },
     "metadata": {},
     "output_type": "display_data"
    },
    {
     "data": {
      "text/plain": [
       "School Utah in conference Big 12 has Leagify position Big 12"
      ]
     },
     "metadata": {},
     "output_type": "display_data"
    },
    {
     "data": {
      "text/plain": [
       "School Virginia in conference ACC has Leagify position ACC"
      ]
     },
     "metadata": {},
     "output_type": "display_data"
    },
    {
     "data": {
      "text/plain": [
       "School Georgia Tech in conference ACC has Leagify position ACC"
      ]
     },
     "metadata": {},
     "output_type": "display_data"
    },
    {
     "data": {
      "text/plain": [
       "School Wisconsin in conference Big Ten has Leagify position Big Ten"
      ]
     },
     "metadata": {},
     "output_type": "display_data"
    },
    {
     "data": {
      "text/plain": [
       "School Colorado State in conference FBS - Mountain West has Leagify position RandomSmallSchool"
      ]
     },
     "metadata": {},
     "output_type": "display_data"
    },
    {
     "data": {
      "text/plain": [
       "School Bowling Green in conference FBS - MAC has Leagify position RandomSmallSchool"
      ]
     },
     "metadata": {},
     "output_type": "display_data"
    },
    {
     "data": {
      "text/plain": [
       "School BYU in conference Big 12 has Leagify position Big 12"
      ]
     },
     "metadata": {},
     "output_type": "display_data"
    },
    {
     "data": {
      "text/plain": [
       "School Utah State in conference FBS - Mountain West has Leagify position RandomSmallSchool"
      ]
     },
     "metadata": {},
     "output_type": "display_data"
    },
    {
     "data": {
      "text/plain": [
       "School Cincinnati in conference Big 12 has Leagify position Big 12"
      ]
     },
     "metadata": {},
     "output_type": "display_data"
    },
    {
     "data": {
      "text/plain": [
       "School Washington State in conference Pac 12 has Leagify position RandomSmallSchool"
      ]
     },
     "metadata": {},
     "output_type": "display_data"
    },
    {
     "data": {
      "text/plain": [
       "School William & Mary in conference FCS has Leagify position RandomSmallSchool"
      ]
     },
     "metadata": {},
     "output_type": "display_data"
    },
    {
     "data": {
      "text/plain": [
       "School Tulane in conference FBS - AAC has Leagify position RandomSmallSchool"
      ]
     },
     "metadata": {},
     "output_type": "display_data"
    },
    {
     "data": {
      "text/plain": [
       "School Illinois in conference Big Ten has Leagify position Big Ten"
      ]
     },
     "metadata": {},
     "output_type": "display_data"
    },
    {
     "data": {
      "text/plain": [
       "School UTSA in conference FBS - AAC has Leagify position RandomSmallSchool"
      ]
     },
     "metadata": {},
     "output_type": "display_data"
    },
    {
     "data": {
      "text/plain": [
       "School Memphis in conference FBS - AAC has Leagify position RandomSmallSchool"
      ]
     },
     "metadata": {},
     "output_type": "display_data"
    },
    {
     "data": {
      "text/plain": [
       "School UConn in conference FBS - AAC has Leagify position RandomSmallSchool"
      ]
     },
     "metadata": {},
     "output_type": "display_data"
    },
    {
     "data": {
      "text/plain": [
       "School Central Arkansas in conference FCS has Leagify position RandomSmallSchool"
      ]
     },
     "metadata": {},
     "output_type": "display_data"
    },
    {
     "data": {
      "text/plain": [
       "School Oregon State in conference Pac 12 has Leagify position RandomSmallSchool"
      ]
     },
     "metadata": {},
     "output_type": "display_data"
    },
    {
     "data": {
      "text/plain": [
       "School Sacramento State in conference FCS has Leagify position RandomSmallSchool"
      ]
     },
     "metadata": {},
     "output_type": "display_data"
    },
    {
     "data": {
      "text/plain": [
       "School Pitt in conference ACC has Leagify position ACC"
      ]
     },
     "metadata": {},
     "output_type": "display_data"
    },
    {
     "data": {
      "text/plain": [
       "School UNLV in conference FBS - Mountain West has Leagify position RandomSmallSchool"
      ]
     },
     "metadata": {},
     "output_type": "display_data"
    },
    {
     "data": {
      "text/plain": [
       "School Western Michigan in conference FBS - MAC has Leagify position RandomSmallSchool"
      ]
     },
     "metadata": {},
     "output_type": "display_data"
    },
    {
     "data": {
      "text/plain": [
       "School Jacksonville State in conference FBS - CUSA has Leagify position RandomSmallSchool"
      ]
     },
     "metadata": {},
     "output_type": "display_data"
    },
    {
     "data": {
      "text/plain": [
       "School Fresno State in conference FBS - Mountain West has Leagify position RandomSmallSchool"
      ]
     },
     "metadata": {},
     "output_type": "display_data"
    },
    {
     "data": {
      "text/plain": [
       "School Delaware in conference FCS has Leagify position RandomSmallSchool"
      ]
     },
     "metadata": {},
     "output_type": "display_data"
    },
    {
     "data": {
      "text/plain": [
       "School San Jose State in conference FBS - Mountain West has Leagify position RandomSmallSchool"
      ]
     },
     "metadata": {},
     "output_type": "display_data"
    },
    {
     "data": {
      "text/plain": [
       "School Baylor in conference Big 12 has Leagify position Big 12"
      ]
     },
     "metadata": {},
     "output_type": "display_data"
    },
    {
     "data": {
      "text/plain": [
       "School Michigan State in conference Big Ten has Leagify position Big Ten"
      ]
     },
     "metadata": {},
     "output_type": "display_data"
    },
    {
     "data": {
      "text/plain": [
       "School Washington in conference Big Ten has Leagify position Big Ten"
      ]
     },
     "metadata": {},
     "output_type": "display_data"
    },
    {
     "data": {
      "text/plain": [
       "School Western Kentucky in conference FBS - CUSA has Leagify position RandomSmallSchool"
      ]
     },
     "metadata": {},
     "output_type": "display_data"
    },
    {
     "data": {
      "text/plain": [
       "School Eastern Washington in conference FCS has Leagify position RandomSmallSchool"
      ]
     },
     "metadata": {},
     "output_type": "display_data"
    },
    {
     "data": {
      "text/plain": [
       "School Alabama A&M in conference FCS has Leagify position RandomSmallSchool"
      ]
     },
     "metadata": {},
     "output_type": "display_data"
    },
    {
     "data": {
      "text/plain": [
       "School Texas State in conference FBS - Sun Belt has Leagify position RandomSmallSchool"
      ]
     },
     "metadata": {},
     "output_type": "display_data"
    },
    {
     "data": {
      "text/plain": [
       "School Arkansas State in conference FBS - Sun Belt has Leagify position RandomSmallSchool"
      ]
     },
     "metadata": {},
     "output_type": "display_data"
    },
    {
     "data": {
      "text/plain": [
       "School North Texas in conference FBS - AAC has Leagify position RandomSmallSchool"
      ]
     },
     "metadata": {},
     "output_type": "display_data"
    },
    {
     "data": {
      "text/plain": [
       "School Miami (OH) in conference FBS - MAC has Leagify position RandomSmallSchool"
      ]
     },
     "metadata": {},
     "output_type": "display_data"
    },
    {
     "data": {
      "text/plain": [
       "School Montana State in conference FCS has Leagify position RandomSmallSchool"
      ]
     },
     "metadata": {},
     "output_type": "display_data"
    },
    {
     "data": {
      "text/plain": [
       "School Vanderbilt in conference SEC has Leagify position SEC"
      ]
     },
     "metadata": {},
     "output_type": "display_data"
    },
    {
     "data": {
      "text/plain": [
       "School Navy in conference FBS - AAC has Leagify position RandomSmallSchool"
      ]
     },
     "metadata": {},
     "output_type": "display_data"
    },
    {
     "data": {
      "text/plain": [
       "School Wake Forest in conference ACC has Leagify position ACC"
      ]
     },
     "metadata": {},
     "output_type": "display_data"
    },
    {
     "data": {
      "text/plain": [
       "School Florida A&M in conference FCS has Leagify position RandomSmallSchool"
      ]
     },
     "metadata": {},
     "output_type": "display_data"
    },
    {
     "data": {
      "text/plain": [
       "School Houston in conference Big 12 has Leagify position Big 12"
      ]
     },
     "metadata": {},
     "output_type": "display_data"
    },
    {
     "data": {
      "text/plain": [
       "School Northern Illinois in conference FBS - MAC has Leagify position RandomSmallSchool"
      ]
     },
     "metadata": {},
     "output_type": "display_data"
    },
    {
     "data": {
      "text/plain": [
       "School Mississippi State in conference SEC has Leagify position SEC"
      ]
     },
     "metadata": {},
     "output_type": "display_data"
    },
    {
     "data": {
      "text/plain": [
       "School Nevada in conference FBS - Mountain West has Leagify position RandomSmallSchool"
      ]
     },
     "metadata": {},
     "output_type": "display_data"
    },
    {
     "data": {
      "text/plain": [
       "School Buffalo in conference FBS - MAC has Leagify position RandomSmallSchool"
      ]
     },
     "metadata": {},
     "output_type": "display_data"
    },
    {
     "data": {
      "text/plain": [
       "School South Carolina State in conference FCS has Leagify position RandomSmallSchool"
      ]
     },
     "metadata": {},
     "output_type": "display_data"
    },
    {
     "data": {
      "text/plain": [
       "School Jackson State in conference FCS has Leagify position RandomSmallSchool"
      ]
     },
     "metadata": {},
     "output_type": "display_data"
    },
    {
     "data": {
      "text/plain": [
       "School Middlebury in conference D3 has Leagify position RandomSmallSchool"
      ]
     },
     "metadata": {},
     "output_type": "display_data"
    },
    {
     "data": {
      "text/plain": [
       "School Cal Poly in conference FCS has Leagify position RandomSmallSchool"
      ]
     },
     "metadata": {},
     "output_type": "display_data"
    },
    {
     "data": {
      "text/plain": [
       "School South Alabama in conference FBS - Sun Belt has Leagify position RandomSmallSchool"
      ]
     },
     "metadata": {},
     "output_type": "display_data"
    },
    {
     "data": {
      "text/plain": [
       "School Lindenwood in conference D2 has Leagify position RandomSmallSchool"
      ]
     },
     "metadata": {},
     "output_type": "display_data"
    },
    {
     "data": {
      "text/plain": [
       "School Southern Arkansas in conference D2 has Leagify position RandomSmallSchool"
      ]
     },
     "metadata": {},
     "output_type": "display_data"
    },
    {
     "data": {
      "text/plain": [
       "School Villanova in conference FCS has Leagify position RandomSmallSchool"
      ]
     },
     "metadata": {},
     "output_type": "display_data"
    },
    {
     "data": {
      "text/plain": [
       "School Wilfrid Laurier in conference D3 has Leagify position RandomSmallSchool"
      ]
     },
     "metadata": {},
     "output_type": "display_data"
    },
    {
     "data": {
      "text/plain": [
       "School Towson in conference FCS has Leagify position RandomSmallSchool"
      ]
     },
     "metadata": {},
     "output_type": "display_data"
    },
    {
     "data": {
      "text/plain": [
       "School Illinois State in conference FCS has Leagify position RandomSmallSchool"
      ]
     },
     "metadata": {},
     "output_type": "display_data"
    },
    {
     "data": {
      "text/plain": [
       "School Northern Iowa in conference FCS has Leagify position RandomSmallSchool"
      ]
     },
     "metadata": {},
     "output_type": "display_data"
    },
    {
     "data": {
      "text/plain": [
       "School Minnesota Duluth in conference D2 has Leagify position RandomSmallSchool"
      ]
     },
     "metadata": {},
     "output_type": "display_data"
    },
    {
     "data": {
      "text/plain": [
       "School Howard in conference FCS has Leagify position RandomSmallSchool"
      ]
     },
     "metadata": {},
     "output_type": "display_data"
    },
    {
     "data": {
      "text/plain": [
       "School Tulsa in conference FBS - AAC has Leagify position RandomSmallSchool"
      ]
     },
     "metadata": {},
     "output_type": "display_data"
    },
    {
     "data": {
      "text/plain": [
       "School UC Davis in conference FCS has Leagify position RandomSmallSchool"
      ]
     },
     "metadata": {},
     "output_type": "display_data"
    },
    {
     "data": {
      "text/plain": [
       "School Morgan State in conference FCS has Leagify position RandomSmallSchool"
      ]
     },
     "metadata": {},
     "output_type": "display_data"
    },
    {
     "data": {
      "text/plain": [
       "School South Dakota State in conference FCS has Leagify position RandomSmallSchool"
      ]
     },
     "metadata": {},
     "output_type": "display_data"
    },
    {
     "data": {
      "text/plain": [
       "School Liberty in conference FBS - CUSA has Leagify position RandomSmallSchool"
      ]
     },
     "metadata": {},
     "output_type": "display_data"
    },
    {
     "data": {
      "text/plain": [
       "School Wyoming in conference FBS - Mountain West has Leagify position RandomSmallSchool"
      ]
     },
     "metadata": {},
     "output_type": "display_data"
    },
    {
     "data": {
      "text/plain": [
       "School South Florida in conference FBS - AAC has Leagify position RandomSmallSchool"
      ]
     },
     "metadata": {},
     "output_type": "display_data"
    },
    {
     "data": {
      "text/plain": [
       "School Louisiana-Monroe in conference FBS - Sun Belt has Leagify position RandomSmallSchool"
      ]
     },
     "metadata": {},
     "output_type": "display_data"
    },
    {
     "data": {
      "text/plain": [
       "School Lenoir–Rhyne in conference D2 has Leagify position RandomSmallSchool"
      ]
     },
     "metadata": {},
     "output_type": "display_data"
    },
    {
     "data": {
      "text/plain": [
       "School Georgia State in conference FBS - Sun Belt has Leagify position RandomSmallSchool"
      ]
     },
     "metadata": {},
     "output_type": "display_data"
    },
    {
     "data": {
      "text/plain": [
       "School Florida International in conference FBS - CUSA has Leagify position RandomSmallSchool"
      ]
     },
     "metadata": {},
     "output_type": "display_data"
    },
    {
     "data": {
      "text/plain": [
       "School Coastal Carolina in conference FCS has Leagify position RandomSmallSchool"
      ]
     },
     "metadata": {},
     "output_type": "display_data"
    },
    {
     "data": {
      "text/plain": [
       "School Northwestern in conference Big Ten has Leagify position Big Ten"
      ]
     },
     "metadata": {},
     "output_type": "display_data"
    },
    {
     "data": {
      "text/plain": [
       "School Georgia Southern in conference FBS - Sun Belt has Leagify position RandomSmallSchool"
      ]
     },
     "metadata": {},
     "output_type": "display_data"
    },
    {
     "data": {
      "text/plain": [
       "School Central Michigan in conference FBS - MAC has Leagify position RandomSmallSchool"
      ]
     },
     "metadata": {},
     "output_type": "display_data"
    },
    {
     "data": {
      "text/plain": [
       "School Duke in conference ACC has Leagify position ACC"
      ]
     },
     "metadata": {},
     "output_type": "display_data"
    },
    {
     "data": {
      "text/plain": [
       "School North Carolina A&T in conference FCS has Leagify position RandomSmallSchool"
      ]
     },
     "metadata": {},
     "output_type": "display_data"
    },
    {
     "data": {
      "text/plain": [
       "School Massachusetts in conference FBS - MAC has Leagify position RandomSmallSchool"
      ]
     },
     "metadata": {},
     "output_type": "display_data"
    },
    {
     "data": {
      "text/plain": [
       "School Hawaii in conference FBS - Mountain West has Leagify position RandomSmallSchool"
      ]
     },
     "metadata": {},
     "output_type": "display_data"
    },
    {
     "data": {
      "text/plain": [
       "School Holy Cross in conference FCS has Leagify position RandomSmallSchool"
      ]
     },
     "metadata": {},
     "output_type": "display_data"
    },
    {
     "data": {
      "text/plain": [
       "School Louisiana Tech in conference FBS - CUSA has Leagify position RandomSmallSchool"
      ]
     },
     "metadata": {},
     "output_type": "display_data"
    },
    {
     "data": {
      "text/plain": [
       "School Charlotte in conference FBS - AAC has Leagify position RandomSmallSchool"
      ]
     },
     "metadata": {},
     "output_type": "display_data"
    },
    {
     "data": {
      "text/plain": [
       "School James Madison in conference FBS - Sun Belt has Leagify position RandomSmallSchool"
      ]
     },
     "metadata": {},
     "output_type": "display_data"
    },
    {
     "data": {
      "text/plain": [
       "School New Mexico in conference FBS - Mountain West has Leagify position RandomSmallSchool"
      ]
     },
     "metadata": {},
     "output_type": "display_data"
    },
    {
     "data": {
      "text/plain": [
       "School Abilene Christian in conference FCS has Leagify position RandomSmallSchool"
      ]
     },
     "metadata": {},
     "output_type": "display_data"
    },
    {
     "data": {
      "text/plain": [
       "School Eastern Kentucky in conference FCS has Leagify position RandomSmallSchool"
      ]
     },
     "metadata": {},
     "output_type": "display_data"
    },
    {
     "data": {
      "text/html": [
       "<table id=\"table_638792360240073704\"><caption><h3 style=\"text-align: center;\">DataFrame - 142 rows </h3></caption><thead><tr><th><i>index</i></th><th>School</th><th>Conference</th><th>ProjectedPoints</th><th>NumberOfProspects</th><th>SchoolURL</th><th>SuggestedAuctionValue</th><th>LeagifyPosition</th><th>ProjectedPointsAboveAverage</th><th>ProjectedPointsAboveReplacement</th><th>AveragePointsForPosition</th><th>ReplacementValueAverageForPosition</th></tr></thead><tbody><tr style=\"display: none\"><td><i><div class=\"dni-plaintext\"><pre>0</pre></div></i></td><td>Ohio State</td><td>Big Ten</td><td><div class=\"dni-plaintext\"><pre>225</pre></div></td><td><div class=\"dni-plaintext\"><pre>17</pre></div></td><td>https://d9ioojyvhqpok.cloudfront.net/assets/logos/_colleges/ohio_st.svg</td><td><div class=\"dni-plaintext\"><pre>&lt;null&gt;</pre></div></td><td>Big Ten</td><td><div class=\"dni-plaintext\"><pre>144.91</pre></div></td><td><div class=\"dni-plaintext\"><pre>214.13</pre></div></td><td><div class=\"dni-plaintext\"><pre>80.09</pre></div></td><td><div class=\"dni-plaintext\"><pre>10.87</pre></div></td></tr><tr style=\"display: none\"><td><i><div class=\"dni-plaintext\"><pre>1</pre></div></i></td><td>Texas</td><td>SEC</td><td><div class=\"dni-plaintext\"><pre>202</pre></div></td><td><div class=\"dni-plaintext\"><pre>21</pre></div></td><td>https://d9ioojyvhqpok.cloudfront.net/assets/logos/_colleges/texas.svg</td><td><div class=\"dni-plaintext\"><pre>&lt;null&gt;</pre></div></td><td>SEC</td><td><div class=\"dni-plaintext\"><pre>97.1</pre></div></td><td><div class=\"dni-plaintext\"><pre>182.5</pre></div></td><td><div class=\"dni-plaintext\"><pre>104.9</pre></div></td><td><div class=\"dni-plaintext\"><pre>19.5</pre></div></td></tr><tr style=\"display: none\"><td><i><div class=\"dni-plaintext\"><pre>2</pre></div></i></td><td>Georgia</td><td>SEC</td><td><div class=\"dni-plaintext\"><pre>160</pre></div></td><td><div class=\"dni-plaintext\"><pre>18</pre></div></td><td>https://d9ioojyvhqpok.cloudfront.net/assets/logos/_colleges/georgia.svg</td><td><div class=\"dni-plaintext\"><pre>&lt;null&gt;</pre></div></td><td>SEC</td><td><div class=\"dni-plaintext\"><pre>55.09</pre></div></td><td><div class=\"dni-plaintext\"><pre>140.5</pre></div></td><td><div class=\"dni-plaintext\"><pre>104.9</pre></div></td><td><div class=\"dni-plaintext\"><pre>19.5</pre></div></td></tr><tr style=\"display: none\"><td><i><div class=\"dni-plaintext\"><pre>3</pre></div></i></td><td>Michigan</td><td>Big Ten</td><td><div class=\"dni-plaintext\"><pre>148</pre></div></td><td><div class=\"dni-plaintext\"><pre>13</pre></div></td><td>https://d9ioojyvhqpok.cloudfront.net/assets/logos/_colleges/michigan.svg</td><td><div class=\"dni-plaintext\"><pre>&lt;null&gt;</pre></div></td><td>Big Ten</td><td><div class=\"dni-plaintext\"><pre>67.91</pre></div></td><td><div class=\"dni-plaintext\"><pre>137.13</pre></div></td><td><div class=\"dni-plaintext\"><pre>80.09</pre></div></td><td><div class=\"dni-plaintext\"><pre>10.87</pre></div></td></tr><tr style=\"display: none\"><td><i><div class=\"dni-plaintext\"><pre>4</pre></div></i></td><td>Ole Miss</td><td>SEC</td><td><div class=\"dni-plaintext\"><pre>144</pre></div></td><td><div class=\"dni-plaintext\"><pre>16</pre></div></td><td>https://d9ioojyvhqpok.cloudfront.net/assets/logos/_colleges/mississippi.svg</td><td><div class=\"dni-plaintext\"><pre>&lt;null&gt;</pre></div></td><td>SEC</td><td><div class=\"dni-plaintext\"><pre>39.09</pre></div></td><td><div class=\"dni-plaintext\"><pre>124.5</pre></div></td><td><div class=\"dni-plaintext\"><pre>104.9</pre></div></td><td><div class=\"dni-plaintext\"><pre>19.5</pre></div></td></tr><tr style=\"display: none\"><td><i><div class=\"dni-plaintext\"><pre>5</pre></div></i></td><td>Oregon</td><td>Big Ten</td><td><div class=\"dni-plaintext\"><pre>116</pre></div></td><td><div class=\"dni-plaintext\"><pre>20</pre></div></td><td>https://d9ioojyvhqpok.cloudfront.net/assets/logos/_colleges/oregon.svg</td><td><div class=\"dni-plaintext\"><pre>&lt;null&gt;</pre></div></td><td>Big Ten</td><td><div class=\"dni-plaintext\"><pre>35.9</pre></div></td><td><div class=\"dni-plaintext\"><pre>105.13</pre></div></td><td><div class=\"dni-plaintext\"><pre>80.09</pre></div></td><td><div class=\"dni-plaintext\"><pre>10.87</pre></div></td></tr><tr style=\"display: none\"><td><i><div class=\"dni-plaintext\"><pre>6</pre></div></i></td><td>LSU</td><td>SEC</td><td><div class=\"dni-plaintext\"><pre>109</pre></div></td><td><div class=\"dni-plaintext\"><pre>13</pre></div></td><td>https://d9ioojyvhqpok.cloudfront.net/assets/logos/_colleges/lsu.svg</td><td><div class=\"dni-plaintext\"><pre>&lt;null&gt;</pre></div></td><td>SEC</td><td><div class=\"dni-plaintext\"><pre>4.09</pre></div></td><td><div class=\"dni-plaintext\"><pre>89.5</pre></div></td><td><div class=\"dni-plaintext\"><pre>104.9</pre></div></td><td><div class=\"dni-plaintext\"><pre>19.5</pre></div></td></tr><tr style=\"display: none\"><td><i><div class=\"dni-plaintext\"><pre>7</pre></div></i></td><td>Penn State</td><td>Big Ten</td><td><div class=\"dni-plaintext\"><pre>100</pre></div></td><td><div class=\"dni-plaintext\"><pre>12</pre></div></td><td>https://d9ioojyvhqpok.cloudfront.net/assets/logos/_colleges/penn_st.svg</td><td><div class=\"dni-plaintext\"><pre>&lt;null&gt;</pre></div></td><td>Big Ten</td><td><div class=\"dni-plaintext\"><pre>19.9</pre></div></td><td><div class=\"dni-plaintext\"><pre>89.13</pre></div></td><td><div class=\"dni-plaintext\"><pre>80.09</pre></div></td><td><div class=\"dni-plaintext\"><pre>10.87</pre></div></td></tr><tr style=\"display: none\"><td><i><div class=\"dni-plaintext\"><pre>8</pre></div></i></td><td>Alabama</td><td>SEC</td><td><div class=\"dni-plaintext\"><pre>95</pre></div></td><td><div class=\"dni-plaintext\"><pre>9</pre></div></td><td>https://d9ioojyvhqpok.cloudfront.net/assets/logos/_colleges/alabama.svg</td><td><div class=\"dni-plaintext\"><pre>&lt;null&gt;</pre></div></td><td>SEC</td><td><div class=\"dni-plaintext\"><pre>-9.9</pre></div></td><td><div class=\"dni-plaintext\"><pre>75.5</pre></div></td><td><div class=\"dni-plaintext\"><pre>104.9</pre></div></td><td><div class=\"dni-plaintext\"><pre>19.5</pre></div></td></tr><tr style=\"display: none\"><td><i><div class=\"dni-plaintext\"><pre>9</pre></div></i></td><td>South Carolina</td><td>SEC</td><td><div class=\"dni-plaintext\"><pre>89</pre></div></td><td><div class=\"dni-plaintext\"><pre>16</pre></div></td><td>https://d9ioojyvhqpok.cloudfront.net/assets/logos/_colleges/south_carolina.svg</td><td><div class=\"dni-plaintext\"><pre>&lt;null&gt;</pre></div></td><td>SEC</td><td><div class=\"dni-plaintext\"><pre>-15.9</pre></div></td><td><div class=\"dni-plaintext\"><pre>69.5</pre></div></td><td><div class=\"dni-plaintext\"><pre>104.9</pre></div></td><td><div class=\"dni-plaintext\"><pre>19.5</pre></div></td></tr><tr style=\"display: none\"><td><i><div class=\"dni-plaintext\"><pre>10</pre></div></i></td><td>Miami (FL)</td><td>ACC</td><td><div class=\"dni-plaintext\"><pre>89</pre></div></td><td><div class=\"dni-plaintext\"><pre>13</pre></div></td><td>https://d9ioojyvhqpok.cloudfront.net/assets/logos/_colleges/miami.svg</td><td><div class=\"dni-plaintext\"><pre>&lt;null&gt;</pre></div></td><td>ACC</td><td><div class=\"dni-plaintext\"><pre>36.4</pre></div></td><td><div class=\"dni-plaintext\"><pre>72.25</pre></div></td><td><div class=\"dni-plaintext\"><pre>52.6</pre></div></td><td><div class=\"dni-plaintext\"><pre>16.75</pre></div></td></tr><tr style=\"display: none\"><td><i><div class=\"dni-plaintext\"><pre>11</pre></div></i></td><td>Colorado</td><td>Big 12</td><td><div class=\"dni-plaintext\"><pre>84</pre></div></td><td><div class=\"dni-plaintext\"><pre>9</pre></div></td><td>https://d9ioojyvhqpok.cloudfront.net/assets/logos/_colleges/colorado.svg</td><td><div class=\"dni-plaintext\"><pre>&lt;null&gt;</pre></div></td><td>Big 12</td><td><div class=\"dni-plaintext\"><pre>33.79</pre></div></td><td><div class=\"dni-plaintext\"><pre>68.64</pre></div></td><td><div class=\"dni-plaintext\"><pre>50.2</pre></div></td><td><div class=\"dni-plaintext\"><pre>15.36</pre></div></td></tr><tr style=\"display: none\"><td><i><div class=\"dni-plaintext\"><pre>12</pre></div></i></td><td>Notre Dame</td><td>FBS - Independent</td><td><div class=\"dni-plaintext\"><pre>75</pre></div></td><td><div class=\"dni-plaintext\"><pre>13</pre></div></td><td>https://d9ioojyvhqpok.cloudfront.net/assets/logos/_colleges/notre_dame.svg</td><td><div class=\"dni-plaintext\"><pre>&lt;null&gt;</pre></div></td><td>Flex</td><td><div class=\"dni-plaintext\"><pre>0</pre></div></td><td><div class=\"dni-plaintext\"><pre>0</pre></div></td><td><div class=\"dni-plaintext\"><pre>75</pre></div></td><td><div class=\"dni-plaintext\"><pre>75</pre></div></td></tr><tr style=\"display: none\"><td><i><div class=\"dni-plaintext\"><pre>13</pre></div></i></td><td>Missouri</td><td>SEC</td><td><div class=\"dni-plaintext\"><pre>73</pre></div></td><td><div class=\"dni-plaintext\"><pre>9</pre></div></td><td>https://d9ioojyvhqpok.cloudfront.net/assets/logos/_colleges/missouri.svg</td><td><div class=\"dni-plaintext\"><pre>&lt;null&gt;</pre></div></td><td>SEC</td><td><div class=\"dni-plaintext\"><pre>-31.9</pre></div></td><td><div class=\"dni-plaintext\"><pre>53.5</pre></div></td><td><div class=\"dni-plaintext\"><pre>104.9</pre></div></td><td><div class=\"dni-plaintext\"><pre>19.5</pre></div></td></tr><tr style=\"display: none\"><td><i><div class=\"dni-plaintext\"><pre>14</pre></div></i></td><td>Tennessee</td><td>SEC</td><td><div class=\"dni-plaintext\"><pre>65</pre></div></td><td><div class=\"dni-plaintext\"><pre>11</pre></div></td><td>https://d9ioojyvhqpok.cloudfront.net/assets/logos/_colleges/tennessee.svg</td><td><div class=\"dni-plaintext\"><pre>&lt;null&gt;</pre></div></td><td>SEC</td><td><div class=\"dni-plaintext\"><pre>-39.9</pre></div></td><td><div class=\"dni-plaintext\"><pre>45.5</pre></div></td><td><div class=\"dni-plaintext\"><pre>104.9</pre></div></td><td><div class=\"dni-plaintext\"><pre>19.5</pre></div></td></tr><tr style=\"display: none\"><td><i><div class=\"dni-plaintext\"><pre>15</pre></div></i></td><td>Texas A&amp;M</td><td>SEC</td><td><div class=\"dni-plaintext\"><pre>65</pre></div></td><td><div class=\"dni-plaintext\"><pre>8</pre></div></td><td>https://d9ioojyvhqpok.cloudfront.net/assets/logos/_colleges/texas_a&amp;amp;m.svg</td><td><div class=\"dni-plaintext\"><pre>&lt;null&gt;</pre></div></td><td>SEC</td><td><div class=\"dni-plaintext\"><pre>-39.9</pre></div></td><td><div class=\"dni-plaintext\"><pre>45.5</pre></div></td><td><div class=\"dni-plaintext\"><pre>104.9</pre></div></td><td><div class=\"dni-plaintext\"><pre>19.5</pre></div></td></tr><tr style=\"display: none\"><td><i><div class=\"dni-plaintext\"><pre>16</pre></div></i></td><td>Arizona</td><td>Big 12</td><td><div class=\"dni-plaintext\"><pre>57</pre></div></td><td><div class=\"dni-plaintext\"><pre>5</pre></div></td><td>https://d9ioojyvhqpok.cloudfront.net/assets/logos/_colleges/arizona.svg</td><td><div class=\"dni-plaintext\"><pre>&lt;null&gt;</pre></div></td><td>Big 12</td><td><div class=\"dni-plaintext\"><pre>6.79</pre></div></td><td><div class=\"dni-plaintext\"><pre>41.64</pre></div></td><td><div class=\"dni-plaintext\"><pre>50.2</pre></div></td><td><div class=\"dni-plaintext\"><pre>15.36</pre></div></td></tr><tr style=\"display: none\"><td><i><div class=\"dni-plaintext\"><pre>17</pre></div></i></td><td>Iowa</td><td>Big Ten</td><td><div class=\"dni-plaintext\"><pre>55</pre></div></td><td><div class=\"dni-plaintext\"><pre>11</pre></div></td><td>https://d9ioojyvhqpok.cloudfront.net/assets/logos/_colleges/iowa.svg</td><td><div class=\"dni-plaintext\"><pre>&lt;null&gt;</pre></div></td><td>Big Ten</td><td><div class=\"dni-plaintext\"><pre>-25.09</pre></div></td><td><div class=\"dni-plaintext\"><pre>44.13</pre></div></td><td><div class=\"dni-plaintext\"><pre>80.09</pre></div></td><td><div class=\"dni-plaintext\"><pre>10.87</pre></div></td></tr><tr style=\"display: none\"><td><i><div class=\"dni-plaintext\"><pre>18</pre></div></i></td><td>Iowa State</td><td>Big 12</td><td><div class=\"dni-plaintext\"><pre>52</pre></div></td><td><div class=\"dni-plaintext\"><pre>6</pre></div></td><td>https://d9ioojyvhqpok.cloudfront.net/assets/logos/_colleges/iowa_st.svg</td><td><div class=\"dni-plaintext\"><pre>&lt;null&gt;</pre></div></td><td>Big 12</td><td><div class=\"dni-plaintext\"><pre>1.79</pre></div></td><td><div class=\"dni-plaintext\"><pre>36.64</pre></div></td><td><div class=\"dni-plaintext\"><pre>50.2</pre></div></td><td><div class=\"dni-plaintext\"><pre>15.36</pre></div></td></tr><tr style=\"display: none\"><td><i><div class=\"dni-plaintext\"><pre>19</pre></div></i></td><td>Kentucky</td><td>SEC</td><td><div class=\"dni-plaintext\"><pre>47</pre></div></td><td><div class=\"dni-plaintext\"><pre>10</pre></div></td><td>https://d9ioojyvhqpok.cloudfront.net/assets/logos/_colleges/kentucky.svg</td><td><div class=\"dni-plaintext\"><pre>&lt;null&gt;</pre></div></td><td>SEC</td><td><div class=\"dni-plaintext\"><pre>-57.9</pre></div></td><td><div class=\"dni-plaintext\"><pre>27.5</pre></div></td><td><div class=\"dni-plaintext\"><pre>104.9</pre></div></td><td><div class=\"dni-plaintext\"><pre>19.5</pre></div></td></tr><tr style=\"display: none\"><td><i><div class=\"dni-plaintext\"><pre>20</pre></div></i></td><td>North Carolina</td><td>ACC</td><td><div class=\"dni-plaintext\"><pre>47</pre></div></td><td><div class=\"dni-plaintext\"><pre>9</pre></div></td><td>https://d9ioojyvhqpok.cloudfront.net/assets/logos/_colleges/north_carolina.svg</td><td><div class=\"dni-plaintext\"><pre>&lt;null&gt;</pre></div></td><td>ACC</td><td><div class=\"dni-plaintext\"><pre>-5.6</pre></div></td><td><div class=\"dni-plaintext\"><pre>30.25</pre></div></td><td><div class=\"dni-plaintext\"><pre>52.6</pre></div></td><td><div class=\"dni-plaintext\"><pre>16.75</pre></div></td></tr><tr style=\"display: none\"><td><i><div class=\"dni-plaintext\"><pre>21</pre></div></i></td><td>Florida State</td><td>ACC</td><td><div class=\"dni-plaintext\"><pre>46</pre></div></td><td><div class=\"dni-plaintext\"><pre>14</pre></div></td><td>https://d9ioojyvhqpok.cloudfront.net/assets/logos/_colleges/florida_st.svg</td><td><div class=\"dni-plaintext\"><pre>&lt;null&gt;</pre></div></td><td>ACC</td><td><div class=\"dni-plaintext\"><pre>-6.6</pre></div></td><td><div class=\"dni-plaintext\"><pre>29.25</pre></div></td><td><div class=\"dni-plaintext\"><pre>52.6</pre></div></td><td><div class=\"dni-plaintext\"><pre>16.75</pre></div></td></tr><tr style=\"display: none\"><td><i><div class=\"dni-plaintext\"><pre>22</pre></div></i></td><td>Minnesota</td><td>Big Ten</td><td><div class=\"dni-plaintext\"><pre>44</pre></div></td><td><div class=\"dni-plaintext\"><pre>11</pre></div></td><td>https://d9ioojyvhqpok.cloudfront.net/assets/logos/_colleges/minnesota.svg</td><td><div class=\"dni-plaintext\"><pre>&lt;null&gt;</pre></div></td><td>Big Ten</td><td><div class=\"dni-plaintext\"><pre>-36.09</pre></div></td><td><div class=\"dni-plaintext\"><pre>33.13</pre></div></td><td><div class=\"dni-plaintext\"><pre>80.09</pre></div></td><td><div class=\"dni-plaintext\"><pre>10.87</pre></div></td></tr><tr style=\"display: none\"><td><i><div class=\"dni-plaintext\"><pre>23</pre></div></i></td><td>Boston College</td><td>ACC</td><td><div class=\"dni-plaintext\"><pre>42</pre></div></td><td><div class=\"dni-plaintext\"><pre>6</pre></div></td><td>https://d9ioojyvhqpok.cloudfront.net/assets/logos/_colleges/boston_college.svg</td><td><div class=\"dni-plaintext\"><pre>&lt;null&gt;</pre></div></td><td>ACC</td><td><div class=\"dni-plaintext\"><pre>-10.6</pre></div></td><td><div class=\"dni-plaintext\"><pre>25.25</pre></div></td><td><div class=\"dni-plaintext\"><pre>52.6</pre></div></td><td><div class=\"dni-plaintext\"><pre>16.75</pre></div></td></tr><tr style=\"display: none\"><td><i><div class=\"dni-plaintext\"><pre>24</pre></div></i></td><td>Boise State</td><td>FBS - Mountain West</td><td><div class=\"dni-plaintext\"><pre>42</pre></div></td><td><div class=\"dni-plaintext\"><pre>4</pre></div></td><td>https://d9ioojyvhqpok.cloudfront.net/assets/logos/_colleges/boise_st.svg</td><td><div class=\"dni-plaintext\"><pre>&lt;null&gt;</pre></div></td><td>RandomSmallSchool</td><td><div class=\"dni-plaintext\"><pre>13.8</pre></div></td><td><div class=\"dni-plaintext\"><pre>38.69</pre></div></td><td><div class=\"dni-plaintext\"><pre>28.2</pre></div></td><td><div class=\"dni-plaintext\"><pre>3.31</pre></div></td></tr><tr style=\"display: none\"><td><i><div class=\"dni-plaintext\"><pre>25</pre></div></i></td><td>Virginia Tech</td><td>ACC</td><td><div class=\"dni-plaintext\"><pre>39</pre></div></td><td><div class=\"dni-plaintext\"><pre>10</pre></div></td><td>https://d9ioojyvhqpok.cloudfront.net/assets/logos/_colleges/virginia_tech.svg</td><td><div class=\"dni-plaintext\"><pre>&lt;null&gt;</pre></div></td><td>ACC</td><td><div class=\"dni-plaintext\"><pre>-13.6</pre></div></td><td><div class=\"dni-plaintext\"><pre>22.25</pre></div></td><td><div class=\"dni-plaintext\"><pre>52.6</pre></div></td><td><div class=\"dni-plaintext\"><pre>16.75</pre></div></td></tr><tr style=\"display: none\"><td><i><div class=\"dni-plaintext\"><pre>26</pre></div></i></td><td>Florida</td><td>SEC</td><td><div class=\"dni-plaintext\"><pre>37</pre></div></td><td><div class=\"dni-plaintext\"><pre>13</pre></div></td><td>https://d9ioojyvhqpok.cloudfront.net/assets/logos/_colleges/florida.svg</td><td><div class=\"dni-plaintext\"><pre>&lt;null&gt;</pre></div></td><td>SEC</td><td><div class=\"dni-plaintext\"><pre>-67.9</pre></div></td><td><div class=\"dni-plaintext\"><pre>17.5</pre></div></td><td><div class=\"dni-plaintext\"><pre>104.9</pre></div></td><td><div class=\"dni-plaintext\"><pre>19.5</pre></div></td></tr><tr style=\"display: none\"><td><i><div class=\"dni-plaintext\"><pre>27</pre></div></i></td><td>UCLA</td><td>Big Ten</td><td><div class=\"dni-plaintext\"><pre>37</pre></div></td><td><div class=\"dni-plaintext\"><pre>7</pre></div></td><td>https://d9ioojyvhqpok.cloudfront.net/assets/logos/_colleges/ucla.svg</td><td><div class=\"dni-plaintext\"><pre>&lt;null&gt;</pre></div></td><td>Big Ten</td><td><div class=\"dni-plaintext\"><pre>-43.09</pre></div></td><td><div class=\"dni-plaintext\"><pre>26.13</pre></div></td><td><div class=\"dni-plaintext\"><pre>80.09</pre></div></td><td><div class=\"dni-plaintext\"><pre>10.87</pre></div></td></tr><tr style=\"display: none\"><td><i><div class=\"dni-plaintext\"><pre>28</pre></div></i></td><td>Arkansas</td><td>SEC</td><td><div class=\"dni-plaintext\"><pre>36</pre></div></td><td><div class=\"dni-plaintext\"><pre>10</pre></div></td><td>https://d9ioojyvhqpok.cloudfront.net/assets/logos/_colleges/arkansas.svg</td><td><div class=\"dni-plaintext\"><pre>&lt;null&gt;</pre></div></td><td>SEC</td><td><div class=\"dni-plaintext\"><pre>-68.9</pre></div></td><td><div class=\"dni-plaintext\"><pre>16.5</pre></div></td><td><div class=\"dni-plaintext\"><pre>104.9</pre></div></td><td><div class=\"dni-plaintext\"><pre>19.5</pre></div></td></tr><tr style=\"display: none\"><td><i><div class=\"dni-plaintext\"><pre>29</pre></div></i></td><td>Louisville</td><td>ACC</td><td><div class=\"dni-plaintext\"><pre>35</pre></div></td><td><div class=\"dni-plaintext\"><pre>9</pre></div></td><td>https://d9ioojyvhqpok.cloudfront.net/assets/logos/_colleges/louisville.svg</td><td><div class=\"dni-plaintext\"><pre>&lt;null&gt;</pre></div></td><td>ACC</td><td><div class=\"dni-plaintext\"><pre>-17.6</pre></div></td><td><div class=\"dni-plaintext\"><pre>18.25</pre></div></td><td><div class=\"dni-plaintext\"><pre>52.6</pre></div></td><td><div class=\"dni-plaintext\"><pre>16.75</pre></div></td></tr><tr style=\"display: none\"><td><i><div class=\"dni-plaintext\"><pre>30</pre></div></i></td><td>Syracuse</td><td>ACC</td><td><div class=\"dni-plaintext\"><pre>32</pre></div></td><td><div class=\"dni-plaintext\"><pre>9</pre></div></td><td>https://d9ioojyvhqpok.cloudfront.net/assets/logos/_colleges/syracuse.svg</td><td><div class=\"dni-plaintext\"><pre>&lt;null&gt;</pre></div></td><td>ACC</td><td><div class=\"dni-plaintext\"><pre>-20.6</pre></div></td><td><div class=\"dni-plaintext\"><pre>15.25</pre></div></td><td><div class=\"dni-plaintext\"><pre>52.6</pre></div></td><td><div class=\"dni-plaintext\"><pre>16.75</pre></div></td></tr><tr style=\"display: none\"><td><i><div class=\"dni-plaintext\"><pre>31</pre></div></i></td><td>Kansas</td><td>Big 12</td><td><div class=\"dni-plaintext\"><pre>30</pre></div></td><td><div class=\"dni-plaintext\"><pre>8</pre></div></td><td>https://d9ioojyvhqpok.cloudfront.net/assets/logos/_colleges/kansas.svg</td><td><div class=\"dni-plaintext\"><pre>&lt;null&gt;</pre></div></td><td>Big 12</td><td><div class=\"dni-plaintext\"><pre>-20.2</pre></div></td><td><div class=\"dni-plaintext\"><pre>14.64</pre></div></td><td><div class=\"dni-plaintext\"><pre>50.2</pre></div></td><td><div class=\"dni-plaintext\"><pre>15.36</pre></div></td></tr><tr style=\"display: none\"><td><i><div class=\"dni-plaintext\"><pre>32</pre></div></i></td><td>Marshall</td><td>FBS - CUSA</td><td><div class=\"dni-plaintext\"><pre>30</pre></div></td><td><div class=\"dni-plaintext\"><pre>1</pre></div></td><td>https://d9ioojyvhqpok.cloudfront.net/assets/logos/_colleges/marshall.svg</td><td><div class=\"dni-plaintext\"><pre>&lt;null&gt;</pre></div></td><td>RandomSmallSchool</td><td><div class=\"dni-plaintext\"><pre>1.8</pre></div></td><td><div class=\"dni-plaintext\"><pre>26.69</pre></div></td><td><div class=\"dni-plaintext\"><pre>28.2</pre></div></td><td><div class=\"dni-plaintext\"><pre>3.31</pre></div></td></tr><tr style=\"display: none\"><td><i><div class=\"dni-plaintext\"><pre>33</pre></div></i></td><td>Maryland</td><td>Big Ten</td><td><div class=\"dni-plaintext\"><pre>29</pre></div></td><td><div class=\"dni-plaintext\"><pre>8</pre></div></td><td>https://d9ioojyvhqpok.cloudfront.net/assets/logos/_colleges/maryland.svg</td><td><div class=\"dni-plaintext\"><pre>&lt;null&gt;</pre></div></td><td>Big Ten</td><td><div class=\"dni-plaintext\"><pre>-51.09</pre></div></td><td><div class=\"dni-plaintext\"><pre>18.13</pre></div></td><td><div class=\"dni-plaintext\"><pre>80.09</pre></div></td><td><div class=\"dni-plaintext\"><pre>10.87</pre></div></td></tr><tr style=\"display: none\"><td><i><div class=\"dni-plaintext\"><pre>34</pre></div></i></td><td>TCU</td><td>Big 12</td><td><div class=\"dni-plaintext\"><pre>28</pre></div></td><td><div class=\"dni-plaintext\"><pre>5</pre></div></td><td>https://d9ioojyvhqpok.cloudfront.net/assets/logos/_colleges/tcu.svg</td><td><div class=\"dni-plaintext\"><pre>&lt;null&gt;</pre></div></td><td>Big 12</td><td><div class=\"dni-plaintext\"><pre>-22.2</pre></div></td><td><div class=\"dni-plaintext\"><pre>12.64</pre></div></td><td><div class=\"dni-plaintext\"><pre>50.2</pre></div></td><td><div class=\"dni-plaintext\"><pre>15.36</pre></div></td></tr><tr style=\"display: none\"><td><i><div class=\"dni-plaintext\"><pre>35</pre></div></i></td><td>North Dakota State</td><td>FCS</td><td><div class=\"dni-plaintext\"><pre>25</pre></div></td><td><div class=\"dni-plaintext\"><pre>1</pre></div></td><td>https://d9ioojyvhqpok.cloudfront.net/assets/logos/_colleges/north_dakota_st.svg</td><td><div class=\"dni-plaintext\"><pre>&lt;null&gt;</pre></div></td><td>RandomSmallSchool</td><td><div class=\"dni-plaintext\"><pre>-3.19</pre></div></td><td><div class=\"dni-plaintext\"><pre>21.69</pre></div></td><td><div class=\"dni-plaintext\"><pre>28.2</pre></div></td><td><div class=\"dni-plaintext\"><pre>3.31</pre></div></td></tr><tr style=\"display: none\"><td><i><div class=\"dni-plaintext\"><pre>36</pre></div></i></td><td>Nebraska</td><td>Big Ten</td><td><div class=\"dni-plaintext\"><pre>24</pre></div></td><td><div class=\"dni-plaintext\"><pre>9</pre></div></td><td>https://d9ioojyvhqpok.cloudfront.net/assets/logos/_colleges/nebraska.svg</td><td><div class=\"dni-plaintext\"><pre>&lt;null&gt;</pre></div></td><td>Big Ten</td><td><div class=\"dni-plaintext\"><pre>-56.09</pre></div></td><td><div class=\"dni-plaintext\"><pre>13.13</pre></div></td><td><div class=\"dni-plaintext\"><pre>80.09</pre></div></td><td><div class=\"dni-plaintext\"><pre>10.87</pre></div></td></tr><tr style=\"display: none\"><td><i><div class=\"dni-plaintext\"><pre>37</pre></div></i></td><td>Kansas State</td><td>Big 12</td><td><div class=\"dni-plaintext\"><pre>24</pre></div></td><td><div class=\"dni-plaintext\"><pre>7</pre></div></td><td>https://d9ioojyvhqpok.cloudfront.net/assets/logos/_colleges/kansas_st.svg</td><td><div class=\"dni-plaintext\"><pre>&lt;null&gt;</pre></div></td><td>Big 12</td><td><div class=\"dni-plaintext\"><pre>-26.2</pre></div></td><td><div class=\"dni-plaintext\"><pre>8.64</pre></div></td><td><div class=\"dni-plaintext\"><pre>50.2</pre></div></td><td><div class=\"dni-plaintext\"><pre>15.36</pre></div></td></tr><tr style=\"display: none\"><td><i><div class=\"dni-plaintext\"><pre>38</pre></div></i></td><td>Clemson</td><td>ACC</td><td><div class=\"dni-plaintext\"><pre>24</pre></div></td><td><div class=\"dni-plaintext\"><pre>7</pre></div></td><td>https://d9ioojyvhqpok.cloudfront.net/assets/logos/_colleges/clemson.svg</td><td><div class=\"dni-plaintext\"><pre>&lt;null&gt;</pre></div></td><td>ACC</td><td><div class=\"dni-plaintext\"><pre>-28.6</pre></div></td><td><div class=\"dni-plaintext\"><pre>7.25</pre></div></td><td><div class=\"dni-plaintext\"><pre>52.6</pre></div></td><td><div class=\"dni-plaintext\"><pre>16.75</pre></div></td></tr><tr style=\"display: none\"><td><i><div class=\"dni-plaintext\"><pre>39</pre></div></i></td><td>Toledo</td><td>FBS - MAC</td><td><div class=\"dni-plaintext\"><pre>24</pre></div></td><td><div class=\"dni-plaintext\"><pre>5</pre></div></td><td>https://d9ioojyvhqpok.cloudfront.net/assets/logos/_colleges/toledo.svg</td><td><div class=\"dni-plaintext\"><pre>&lt;null&gt;</pre></div></td><td>RandomSmallSchool</td><td><div class=\"dni-plaintext\"><pre>-4.19</pre></div></td><td><div class=\"dni-plaintext\"><pre>20.69</pre></div></td><td><div class=\"dni-plaintext\"><pre>28.2</pre></div></td><td><div class=\"dni-plaintext\"><pre>3.31</pre></div></td></tr><tr style=\"display: none\"><td><i><div class=\"dni-plaintext\"><pre>40</pre></div></i></td><td>Rutgers</td><td>Big Ten</td><td><div class=\"dni-plaintext\"><pre>23</pre></div></td><td><div class=\"dni-plaintext\"><pre>9</pre></div></td><td>https://d9ioojyvhqpok.cloudfront.net/assets/logos/_colleges/rutgers.svg</td><td><div class=\"dni-plaintext\"><pre>&lt;null&gt;</pre></div></td><td>Big Ten</td><td><div class=\"dni-plaintext\"><pre>-57.09</pre></div></td><td><div class=\"dni-plaintext\"><pre>12.13</pre></div></td><td><div class=\"dni-plaintext\"><pre>80.09</pre></div></td><td><div class=\"dni-plaintext\"><pre>10.87</pre></div></td></tr><tr style=\"display: none\"><td><i><div class=\"dni-plaintext\"><pre>41</pre></div></i></td><td>UCF</td><td>Big 12</td><td><div class=\"dni-plaintext\"><pre>22</pre></div></td><td><div class=\"dni-plaintext\"><pre>11</pre></div></td><td>https://d9ioojyvhqpok.cloudfront.net/assets/logos/_colleges/ucf.svg</td><td><div class=\"dni-plaintext\"><pre>&lt;null&gt;</pre></div></td><td>Big 12</td><td><div class=\"dni-plaintext\"><pre>-28.2</pre></div></td><td><div class=\"dni-plaintext\"><pre>6.64</pre></div></td><td><div class=\"dni-plaintext\"><pre>50.2</pre></div></td><td><div class=\"dni-plaintext\"><pre>15.36</pre></div></td></tr><tr style=\"display: none\"><td><i><div class=\"dni-plaintext\"><pre>42</pre></div></i></td><td>West Virginia</td><td>Big 12</td><td><div class=\"dni-plaintext\"><pre>22</pre></div></td><td><div class=\"dni-plaintext\"><pre>8</pre></div></td><td>https://d9ioojyvhqpok.cloudfront.net/assets/logos/_colleges/west_virginia.svg</td><td><div class=\"dni-plaintext\"><pre>&lt;null&gt;</pre></div></td><td>Big 12</td><td><div class=\"dni-plaintext\"><pre>-28.2</pre></div></td><td><div class=\"dni-plaintext\"><pre>6.64</pre></div></td><td><div class=\"dni-plaintext\"><pre>50.2</pre></div></td><td><div class=\"dni-plaintext\"><pre>15.36</pre></div></td></tr><tr style=\"display: none\"><td><i><div class=\"dni-plaintext\"><pre>43</pre></div></i></td><td>Oklahoma State</td><td>Big 12</td><td><div class=\"dni-plaintext\"><pre>22</pre></div></td><td><div class=\"dni-plaintext\"><pre>8</pre></div></td><td>https://d9ioojyvhqpok.cloudfront.net/assets/logos/_colleges/oklahoma_st.svg</td><td><div class=\"dni-plaintext\"><pre>&lt;null&gt;</pre></div></td><td>Big 12</td><td><div class=\"dni-plaintext\"><pre>-28.2</pre></div></td><td><div class=\"dni-plaintext\"><pre>6.64</pre></div></td><td><div class=\"dni-plaintext\"><pre>50.2</pre></div></td><td><div class=\"dni-plaintext\"><pre>15.36</pre></div></td></tr><tr style=\"display: none\"><td><i><div class=\"dni-plaintext\"><pre>44</pre></div></i></td><td>Stanford</td><td>ACC</td><td><div class=\"dni-plaintext\"><pre>22</pre></div></td><td><div class=\"dni-plaintext\"><pre>2</pre></div></td><td>https://d9ioojyvhqpok.cloudfront.net/assets/logos/_colleges/stanford.svg</td><td><div class=\"dni-plaintext\"><pre>&lt;null&gt;</pre></div></td><td>ACC</td><td><div class=\"dni-plaintext\"><pre>-30.6</pre></div></td><td><div class=\"dni-plaintext\"><pre>5.25</pre></div></td><td><div class=\"dni-plaintext\"><pre>52.6</pre></div></td><td><div class=\"dni-plaintext\"><pre>16.75</pre></div></td></tr><tr style=\"display: none\"><td><i><div class=\"dni-plaintext\"><pre>45</pre></div></i></td><td>Oklahoma</td><td>SEC</td><td><div class=\"dni-plaintext\"><pre>21</pre></div></td><td><div class=\"dni-plaintext\"><pre>8</pre></div></td><td>https://d9ioojyvhqpok.cloudfront.net/assets/logos/_colleges/oklahoma.svg</td><td><div class=\"dni-plaintext\"><pre>&lt;null&gt;</pre></div></td><td>SEC</td><td><div class=\"dni-plaintext\"><pre>-83.9</pre></div></td><td><div class=\"dni-plaintext\"><pre>1.5</pre></div></td><td><div class=\"dni-plaintext\"><pre>104.9</pre></div></td><td><div class=\"dni-plaintext\"><pre>19.5</pre></div></td></tr><tr style=\"display: none\"><td><i><div class=\"dni-plaintext\"><pre>46</pre></div></i></td><td>California</td><td>ACC</td><td><div class=\"dni-plaintext\"><pre>21</pre></div></td><td><div class=\"dni-plaintext\"><pre>6</pre></div></td><td>https://d9ioojyvhqpok.cloudfront.net/assets/logos/_colleges/california.svg</td><td><div class=\"dni-plaintext\"><pre>&lt;null&gt;</pre></div></td><td>ACC</td><td><div class=\"dni-plaintext\"><pre>-31.6</pre></div></td><td><div class=\"dni-plaintext\"><pre>4.25</pre></div></td><td><div class=\"dni-plaintext\"><pre>52.6</pre></div></td><td><div class=\"dni-plaintext\"><pre>16.75</pre></div></td></tr><tr style=\"display: none\"><td><i><div class=\"dni-plaintext\"><pre>47</pre></div></i></td><td>Indiana</td><td>Big Ten</td><td><div class=\"dni-plaintext\"><pre>20</pre></div></td><td><div class=\"dni-plaintext\"><pre>7</pre></div></td><td>https://d9ioojyvhqpok.cloudfront.net/assets/logos/_colleges/indiana.svg</td><td><div class=\"dni-plaintext\"><pre>&lt;null&gt;</pre></div></td><td>Big Ten</td><td><div class=\"dni-plaintext\"><pre>-60.09</pre></div></td><td><div class=\"dni-plaintext\"><pre>9.13</pre></div></td><td><div class=\"dni-plaintext\"><pre>80.09</pre></div></td><td><div class=\"dni-plaintext\"><pre>10.87</pre></div></td></tr><tr style=\"display: none\"><td><i><div class=\"dni-plaintext\"><pre>48</pre></div></i></td><td>Texas Tech</td><td>Big 12</td><td><div class=\"dni-plaintext\"><pre>20</pre></div></td><td><div class=\"dni-plaintext\"><pre>5</pre></div></td><td>https://d9ioojyvhqpok.cloudfront.net/assets/logos/_colleges/texas_tech.svg</td><td><div class=\"dni-plaintext\"><pre>&lt;null&gt;</pre></div></td><td>Big 12</td><td><div class=\"dni-plaintext\"><pre>-30.2</pre></div></td><td><div class=\"dni-plaintext\"><pre>4.64</pre></div></td><td><div class=\"dni-plaintext\"><pre>50.2</pre></div></td><td><div class=\"dni-plaintext\"><pre>15.36</pre></div></td></tr><tr style=\"display: none\"><td><i><div class=\"dni-plaintext\"><pre>49</pre></div></i></td><td>East Carolina</td><td>FBS - AAC</td><td><div class=\"dni-plaintext\"><pre>20</pre></div></td><td><div class=\"dni-plaintext\"><pre>1</pre></div></td><td>https://d9ioojyvhqpok.cloudfront.net/assets/logos/_colleges/east_carolina.svg</td><td><div class=\"dni-plaintext\"><pre>&lt;null&gt;</pre></div></td><td>RandomSmallSchool</td><td><div class=\"dni-plaintext\"><pre>-8.19</pre></div></td><td><div class=\"dni-plaintext\"><pre>16.69</pre></div></td><td><div class=\"dni-plaintext\"><pre>28.2</pre></div></td><td><div class=\"dni-plaintext\"><pre>3.31</pre></div></td></tr><tr style=\"display: none\"><td><i><div class=\"dni-plaintext\"><pre>50</pre></div></i></td><td>Auburn</td><td>SEC</td><td><div class=\"dni-plaintext\"><pre>19</pre></div></td><td><div class=\"dni-plaintext\"><pre>10</pre></div></td><td>https://d9ioojyvhqpok.cloudfront.net/assets/logos/_colleges/auburn.svg</td><td><div class=\"dni-plaintext\"><pre>&lt;null&gt;</pre></div></td><td>SEC</td><td><div class=\"dni-plaintext\"><pre>-85.9</pre></div></td><td><div class=\"dni-plaintext\"><pre>-0.5</pre></div></td><td><div class=\"dni-plaintext\"><pre>104.9</pre></div></td><td><div class=\"dni-plaintext\"><pre>19.5</pre></div></td></tr><tr style=\"display: none\"><td><i><div class=\"dni-plaintext\"><pre>51</pre></div></i></td><td>Arizona State</td><td>Big 12</td><td><div class=\"dni-plaintext\"><pre>18</pre></div></td><td><div class=\"dni-plaintext\"><pre>4</pre></div></td><td>https://d9ioojyvhqpok.cloudfront.net/assets/logos/_colleges/arizona_st.svg</td><td><div class=\"dni-plaintext\"><pre>&lt;null&gt;</pre></div></td><td>Big 12</td><td><div class=\"dni-plaintext\"><pre>-32.2</pre></div></td><td><div class=\"dni-plaintext\"><pre>2.64</pre></div></td><td><div class=\"dni-plaintext\"><pre>50.2</pre></div></td><td><div class=\"dni-plaintext\"><pre>15.36</pre></div></td></tr><tr style=\"display: none\"><td><i><div class=\"dni-plaintext\"><pre>52</pre></div></i></td><td>USC</td><td>Big Ten</td><td><div class=\"dni-plaintext\"><pre>17</pre></div></td><td><div class=\"dni-plaintext\"><pre>8</pre></div></td><td>https://d9ioojyvhqpok.cloudfront.net/assets/logos/_colleges/usc.svg</td><td><div class=\"dni-plaintext\"><pre>&lt;null&gt;</pre></div></td><td>Big Ten</td><td><div class=\"dni-plaintext\"><pre>-63.09</pre></div></td><td><div class=\"dni-plaintext\"><pre>6.13</pre></div></td><td><div class=\"dni-plaintext\"><pre>80.09</pre></div></td><td><div class=\"dni-plaintext\"><pre>10.87</pre></div></td></tr><tr style=\"display: none\"><td><i><div class=\"dni-plaintext\"><pre>53</pre></div></i></td><td>Purdue</td><td>Big Ten</td><td><div class=\"dni-plaintext\"><pre>17</pre></div></td><td><div class=\"dni-plaintext\"><pre>3</pre></div></td><td>https://d9ioojyvhqpok.cloudfront.net/assets/logos/_colleges/purdue.svg</td><td><div class=\"dni-plaintext\"><pre>&lt;null&gt;</pre></div></td><td>Big Ten</td><td><div class=\"dni-plaintext\"><pre>-63.09</pre></div></td><td><div class=\"dni-plaintext\"><pre>6.13</pre></div></td><td><div class=\"dni-plaintext\"><pre>80.09</pre></div></td><td><div class=\"dni-plaintext\"><pre>10.87</pre></div></td></tr><tr style=\"display: none\"><td><i><div class=\"dni-plaintext\"><pre>54</pre></div></i></td><td>NC State</td><td>ACC</td><td><div class=\"dni-plaintext\"><pre>16</pre></div></td><td><div class=\"dni-plaintext\"><pre>6</pre></div></td><td>https://d9ioojyvhqpok.cloudfront.net/assets/logos/_colleges/nc_st.svg</td><td><div class=\"dni-plaintext\"><pre>&lt;null&gt;</pre></div></td><td>ACC</td><td><div class=\"dni-plaintext\"><pre>-36.6</pre></div></td><td><div class=\"dni-plaintext\"><pre>-0.75</pre></div></td><td><div class=\"dni-plaintext\"><pre>52.6</pre></div></td><td><div class=\"dni-plaintext\"><pre>16.75</pre></div></td></tr><tr style=\"display: none\"><td><i><div class=\"dni-plaintext\"><pre>55</pre></div></i></td><td>SMU</td><td>ACC</td><td><div class=\"dni-plaintext\"><pre>15</pre></div></td><td><div class=\"dni-plaintext\"><pre>4</pre></div></td><td>https://d9ioojyvhqpok.cloudfront.net/assets/logos/_colleges/smu.svg</td><td><div class=\"dni-plaintext\"><pre>&lt;null&gt;</pre></div></td><td>ACC</td><td><div class=\"dni-plaintext\"><pre>-37.6</pre></div></td><td><div class=\"dni-plaintext\"><pre>-1.75</pre></div></td><td><div class=\"dni-plaintext\"><pre>52.6</pre></div></td><td><div class=\"dni-plaintext\"><pre>16.75</pre></div></td></tr><tr style=\"display: none\"><td><i><div class=\"dni-plaintext\"><pre>56</pre></div></i></td><td>Utah</td><td>Big 12</td><td><div class=\"dni-plaintext\"><pre>13</pre></div></td><td><div class=\"dni-plaintext\"><pre>8</pre></div></td><td>https://d9ioojyvhqpok.cloudfront.net/assets/logos/_colleges/utah.svg</td><td><div class=\"dni-plaintext\"><pre>&lt;null&gt;</pre></div></td><td>Big 12</td><td><div class=\"dni-plaintext\"><pre>-37.2</pre></div></td><td><div class=\"dni-plaintext\"><pre>-2.35</pre></div></td><td><div class=\"dni-plaintext\"><pre>50.2</pre></div></td><td><div class=\"dni-plaintext\"><pre>15.36</pre></div></td></tr><tr style=\"display: none\"><td><i><div class=\"dni-plaintext\"><pre>57</pre></div></i></td><td>Virginia</td><td>ACC</td><td><div class=\"dni-plaintext\"><pre>13</pre></div></td><td><div class=\"dni-plaintext\"><pre>7</pre></div></td><td>https://d9ioojyvhqpok.cloudfront.net/assets/logos/_colleges/virginia.svg</td><td><div class=\"dni-plaintext\"><pre>&lt;null&gt;</pre></div></td><td>ACC</td><td><div class=\"dni-plaintext\"><pre>-39.6</pre></div></td><td><div class=\"dni-plaintext\"><pre>-3.75</pre></div></td><td><div class=\"dni-plaintext\"><pre>52.6</pre></div></td><td><div class=\"dni-plaintext\"><pre>16.75</pre></div></td></tr><tr style=\"display: none\"><td><i><div class=\"dni-plaintext\"><pre>58</pre></div></i></td><td>Georgia Tech</td><td>ACC</td><td><div class=\"dni-plaintext\"><pre>13</pre></div></td><td><div class=\"dni-plaintext\"><pre>7</pre></div></td><td>https://d9ioojyvhqpok.cloudfront.net/assets/logos/_colleges/georgia_tech.svg</td><td><div class=\"dni-plaintext\"><pre>&lt;null&gt;</pre></div></td><td>ACC</td><td><div class=\"dni-plaintext\"><pre>-39.6</pre></div></td><td><div class=\"dni-plaintext\"><pre>-3.75</pre></div></td><td><div class=\"dni-plaintext\"><pre>52.6</pre></div></td><td><div class=\"dni-plaintext\"><pre>16.75</pre></div></td></tr><tr style=\"display: none\"><td><i><div class=\"dni-plaintext\"><pre>59</pre></div></i></td><td>Wisconsin</td><td>Big Ten</td><td><div class=\"dni-plaintext\"><pre>13</pre></div></td><td><div class=\"dni-plaintext\"><pre>5</pre></div></td><td>https://d9ioojyvhqpok.cloudfront.net/assets/logos/_colleges/wisconsin.svg</td><td><div class=\"dni-plaintext\"><pre>&lt;null&gt;</pre></div></td><td>Big Ten</td><td><div class=\"dni-plaintext\"><pre>-67.09</pre></div></td><td><div class=\"dni-plaintext\"><pre>2.13</pre></div></td><td><div class=\"dni-plaintext\"><pre>80.09</pre></div></td><td><div class=\"dni-plaintext\"><pre>10.87</pre></div></td></tr><tr style=\"display: none\"><td><i><div class=\"dni-plaintext\"><pre>60</pre></div></i></td><td>Colorado State</td><td>FBS - Mountain West</td><td><div class=\"dni-plaintext\"><pre>12</pre></div></td><td><div class=\"dni-plaintext\"><pre>5</pre></div></td><td>https://d9ioojyvhqpok.cloudfront.net/assets/logos/_colleges/colorado_st.svg</td><td><div class=\"dni-plaintext\"><pre>&lt;null&gt;</pre></div></td><td>RandomSmallSchool</td><td><div class=\"dni-plaintext\"><pre>-16.2</pre></div></td><td><div class=\"dni-plaintext\"><pre>8.69</pre></div></td><td><div class=\"dni-plaintext\"><pre>28.2</pre></div></td><td><div class=\"dni-plaintext\"><pre>3.31</pre></div></td></tr><tr style=\"display: none\"><td><i><div class=\"dni-plaintext\"><pre>61</pre></div></i></td><td>Bowling Green</td><td>FBS - MAC</td><td><div class=\"dni-plaintext\"><pre>12</pre></div></td><td><div class=\"dni-plaintext\"><pre>3</pre></div></td><td>https://d9ioojyvhqpok.cloudfront.net/assets/logos/_colleges/bowling_green.svg</td><td><div class=\"dni-plaintext\"><pre>&lt;null&gt;</pre></div></td><td>RandomSmallSchool</td><td><div class=\"dni-plaintext\"><pre>-16.2</pre></div></td><td><div class=\"dni-plaintext\"><pre>8.69</pre></div></td><td><div class=\"dni-plaintext\"><pre>28.2</pre></div></td><td><div class=\"dni-plaintext\"><pre>3.31</pre></div></td></tr><tr style=\"display: none\"><td><i><div class=\"dni-plaintext\"><pre>62</pre></div></i></td><td>BYU</td><td>Big 12</td><td><div class=\"dni-plaintext\"><pre>11</pre></div></td><td><div class=\"dni-plaintext\"><pre>6</pre></div></td><td>https://d9ioojyvhqpok.cloudfront.net/assets/logos/_colleges/byu.svg</td><td><div class=\"dni-plaintext\"><pre>&lt;null&gt;</pre></div></td><td>Big 12</td><td><div class=\"dni-plaintext\"><pre>-39.2</pre></div></td><td><div class=\"dni-plaintext\"><pre>-4.35</pre></div></td><td><div class=\"dni-plaintext\"><pre>50.2</pre></div></td><td><div class=\"dni-plaintext\"><pre>15.36</pre></div></td></tr><tr style=\"display: none\"><td><i><div class=\"dni-plaintext\"><pre>63</pre></div></i></td><td>Utah State</td><td>FBS - Mountain West</td><td><div class=\"dni-plaintext\"><pre>11</pre></div></td><td><div class=\"dni-plaintext\"><pre>2</pre></div></td><td>https://d9ioojyvhqpok.cloudfront.net/assets/logos/_colleges/utah_st.svg</td><td><div class=\"dni-plaintext\"><pre>&lt;null&gt;</pre></div></td><td>RandomSmallSchool</td><td><div class=\"dni-plaintext\"><pre>-17.2</pre></div></td><td><div class=\"dni-plaintext\"><pre>7.69</pre></div></td><td><div class=\"dni-plaintext\"><pre>28.2</pre></div></td><td><div class=\"dni-plaintext\"><pre>3.31</pre></div></td></tr><tr style=\"display: none\"><td><i><div class=\"dni-plaintext\"><pre>64</pre></div></i></td><td>Cincinnati</td><td>Big 12</td><td><div class=\"dni-plaintext\"><pre>10</pre></div></td><td><div class=\"dni-plaintext\"><pre>5</pre></div></td><td>https://d9ioojyvhqpok.cloudfront.net/assets/logos/_colleges/cincinnati.svg</td><td><div class=\"dni-plaintext\"><pre>&lt;null&gt;</pre></div></td><td>Big 12</td><td><div class=\"dni-plaintext\"><pre>-40.2</pre></div></td><td><div class=\"dni-plaintext\"><pre>-5.36</pre></div></td><td><div class=\"dni-plaintext\"><pre>50.2</pre></div></td><td><div class=\"dni-plaintext\"><pre>15.36</pre></div></td></tr><tr style=\"display: none\"><td><i><div class=\"dni-plaintext\"><pre>65</pre></div></i></td><td>Washington State</td><td>Pac 12</td><td><div class=\"dni-plaintext\"><pre>10</pre></div></td><td><div class=\"dni-plaintext\"><pre>3</pre></div></td><td>https://d9ioojyvhqpok.cloudfront.net/assets/logos/_colleges/washington_st.svg</td><td><div class=\"dni-plaintext\"><pre>&lt;null&gt;</pre></div></td><td>RandomSmallSchool</td><td><div class=\"dni-plaintext\"><pre>-18.2</pre></div></td><td><div class=\"dni-plaintext\"><pre>6.69</pre></div></td><td><div class=\"dni-plaintext\"><pre>28.2</pre></div></td><td><div class=\"dni-plaintext\"><pre>3.31</pre></div></td></tr><tr style=\"display: none\"><td><i><div class=\"dni-plaintext\"><pre>66</pre></div></i></td><td>William &amp; Mary</td><td>FCS</td><td><div class=\"dni-plaintext\"><pre>10</pre></div></td><td><div class=\"dni-plaintext\"><pre>1</pre></div></td><td>https://d9ioojyvhqpok.cloudfront.net/assets/logos/_colleges/william&amp;amp;mary.svg</td><td><div class=\"dni-plaintext\"><pre>&lt;null&gt;</pre></div></td><td>RandomSmallSchool</td><td><div class=\"dni-plaintext\"><pre>-18.2</pre></div></td><td><div class=\"dni-plaintext\"><pre>6.69</pre></div></td><td><div class=\"dni-plaintext\"><pre>28.2</pre></div></td><td><div class=\"dni-plaintext\"><pre>3.31</pre></div></td></tr><tr style=\"display: none\"><td><i><div class=\"dni-plaintext\"><pre>67</pre></div></i></td><td>Tulane</td><td>FBS - AAC</td><td><div class=\"dni-plaintext\"><pre>9</pre></div></td><td><div class=\"dni-plaintext\"><pre>4</pre></div></td><td>https://d9ioojyvhqpok.cloudfront.net/assets/logos/_colleges/tulane.svg</td><td><div class=\"dni-plaintext\"><pre>&lt;null&gt;</pre></div></td><td>RandomSmallSchool</td><td><div class=\"dni-plaintext\"><pre>-19.2</pre></div></td><td><div class=\"dni-plaintext\"><pre>5.69</pre></div></td><td><div class=\"dni-plaintext\"><pre>28.2</pre></div></td><td><div class=\"dni-plaintext\"><pre>3.31</pre></div></td></tr><tr style=\"display: none\"><td><i><div class=\"dni-plaintext\"><pre>68</pre></div></i></td><td>Illinois</td><td>Big Ten</td><td><div class=\"dni-plaintext\"><pre>9</pre></div></td><td><div class=\"dni-plaintext\"><pre>4</pre></div></td><td>https://d9ioojyvhqpok.cloudfront.net/assets/logos/_colleges/illinois.svg</td><td><div class=\"dni-plaintext\"><pre>&lt;null&gt;</pre></div></td><td>Big Ten</td><td><div class=\"dni-plaintext\"><pre>-71.09</pre></div></td><td><div class=\"dni-plaintext\"><pre>-1.86</pre></div></td><td><div class=\"dni-plaintext\"><pre>80.09</pre></div></td><td><div class=\"dni-plaintext\"><pre>10.87</pre></div></td></tr><tr style=\"display: none\"><td><i><div class=\"dni-plaintext\"><pre>69</pre></div></i></td><td>UTSA</td><td>FBS - AAC</td><td><div class=\"dni-plaintext\"><pre>9</pre></div></td><td><div class=\"dni-plaintext\"><pre>3</pre></div></td><td>https://d9ioojyvhqpok.cloudfront.net/assets/logos/_colleges/utsa.svg</td><td><div class=\"dni-plaintext\"><pre>&lt;null&gt;</pre></div></td><td>RandomSmallSchool</td><td><div class=\"dni-plaintext\"><pre>-19.2</pre></div></td><td><div class=\"dni-plaintext\"><pre>5.69</pre></div></td><td><div class=\"dni-plaintext\"><pre>28.2</pre></div></td><td><div class=\"dni-plaintext\"><pre>3.31</pre></div></td></tr><tr style=\"display: none\"><td><i><div class=\"dni-plaintext\"><pre>70</pre></div></i></td><td>Memphis</td><td>FBS - AAC</td><td><div class=\"dni-plaintext\"><pre>8</pre></div></td><td><div class=\"dni-plaintext\"><pre>6</pre></div></td><td>https://d9ioojyvhqpok.cloudfront.net/assets/logos/_colleges/memphis.svg</td><td><div class=\"dni-plaintext\"><pre>&lt;null&gt;</pre></div></td><td>RandomSmallSchool</td><td><div class=\"dni-plaintext\"><pre>-20.2</pre></div></td><td><div class=\"dni-plaintext\"><pre>4.68</pre></div></td><td><div class=\"dni-plaintext\"><pre>28.2</pre></div></td><td><div class=\"dni-plaintext\"><pre>3.31</pre></div></td></tr><tr style=\"display: none\"><td><i><div class=\"dni-plaintext\"><pre>71</pre></div></i></td><td>UConn</td><td>FBS - AAC</td><td><div class=\"dni-plaintext\"><pre>8</pre></div></td><td><div class=\"dni-plaintext\"><pre>3</pre></div></td><td>https://d9ioojyvhqpok.cloudfront.net/assets/logos/_colleges/uconn.svg</td><td><div class=\"dni-plaintext\"><pre>&lt;null&gt;</pre></div></td><td>RandomSmallSchool</td><td><div class=\"dni-plaintext\"><pre>-20.2</pre></div></td><td><div class=\"dni-plaintext\"><pre>4.68</pre></div></td><td><div class=\"dni-plaintext\"><pre>28.2</pre></div></td><td><div class=\"dni-plaintext\"><pre>3.31</pre></div></td></tr><tr style=\"display: none\"><td><i><div class=\"dni-plaintext\"><pre>72</pre></div></i></td><td>Central Arkansas</td><td>FCS</td><td><div class=\"dni-plaintext\"><pre>8</pre></div></td><td><div class=\"dni-plaintext\"><pre>2</pre></div></td><td>https://d9ioojyvhqpok.cloudfront.net/assets/logos/_colleges/central_arkansas.svg</td><td><div class=\"dni-plaintext\"><pre>&lt;null&gt;</pre></div></td><td>RandomSmallSchool</td><td><div class=\"dni-plaintext\"><pre>-20.2</pre></div></td><td><div class=\"dni-plaintext\"><pre>4.68</pre></div></td><td><div class=\"dni-plaintext\"><pre>28.2</pre></div></td><td><div class=\"dni-plaintext\"><pre>3.31</pre></div></td></tr><tr style=\"display: none\"><td><i><div class=\"dni-plaintext\"><pre>73</pre></div></i></td><td>Oregon State</td><td>Pac 12</td><td><div class=\"dni-plaintext\"><pre>8</pre></div></td><td><div class=\"dni-plaintext\"><pre>2</pre></div></td><td>https://d9ioojyvhqpok.cloudfront.net/assets/logos/_colleges/oregon_st.svg</td><td><div class=\"dni-plaintext\"><pre>&lt;null&gt;</pre></div></td><td>RandomSmallSchool</td><td><div class=\"dni-plaintext\"><pre>-20.2</pre></div></td><td><div class=\"dni-plaintext\"><pre>4.68</pre></div></td><td><div class=\"dni-plaintext\"><pre>28.2</pre></div></td><td><div class=\"dni-plaintext\"><pre>3.31</pre></div></td></tr><tr style=\"display: none\"><td><i><div class=\"dni-plaintext\"><pre>74</pre></div></i></td><td>Sacramento State</td><td>FCS</td><td><div class=\"dni-plaintext\"><pre>8</pre></div></td><td><div class=\"dni-plaintext\"><pre>1</pre></div></td><td>https://d9ioojyvhqpok.cloudfront.net/assets/logos/_colleges/sacramento_st.svg</td><td><div class=\"dni-plaintext\"><pre>&lt;null&gt;</pre></div></td><td>RandomSmallSchool</td><td><div class=\"dni-plaintext\"><pre>-20.2</pre></div></td><td><div class=\"dni-plaintext\"><pre>4.68</pre></div></td><td><div class=\"dni-plaintext\"><pre>28.2</pre></div></td><td><div class=\"dni-plaintext\"><pre>3.31</pre></div></td></tr><tr style=\"display: none\"><td><i><div class=\"dni-plaintext\"><pre>75</pre></div></i></td><td>Pitt</td><td>ACC</td><td><div class=\"dni-plaintext\"><pre>7</pre></div></td><td><div class=\"dni-plaintext\"><pre>7</pre></div></td><td>https://d9ioojyvhqpok.cloudfront.net/assets/logos/_colleges/pittsburgh.svg</td><td><div class=\"dni-plaintext\"><pre>&lt;null&gt;</pre></div></td><td>ACC</td><td><div class=\"dni-plaintext\"><pre>-45.6</pre></div></td><td><div class=\"dni-plaintext\"><pre>-9.75</pre></div></td><td><div class=\"dni-plaintext\"><pre>52.6</pre></div></td><td><div class=\"dni-plaintext\"><pre>16.75</pre></div></td></tr><tr style=\"display: none\"><td><i><div class=\"dni-plaintext\"><pre>76</pre></div></i></td><td>UNLV</td><td>FBS - Mountain West</td><td><div class=\"dni-plaintext\"><pre>7</pre></div></td><td><div class=\"dni-plaintext\"><pre>3</pre></div></td><td>https://d9ioojyvhqpok.cloudfront.net/assets/logos/_colleges/unlv.svg</td><td><div class=\"dni-plaintext\"><pre>&lt;null&gt;</pre></div></td><td>RandomSmallSchool</td><td><div class=\"dni-plaintext\"><pre>-21.2</pre></div></td><td><div class=\"dni-plaintext\"><pre>3.69</pre></div></td><td><div class=\"dni-plaintext\"><pre>28.2</pre></div></td><td><div class=\"dni-plaintext\"><pre>3.31</pre></div></td></tr><tr style=\"display: none\"><td><i><div class=\"dni-plaintext\"><pre>77</pre></div></i></td><td>Western Michigan</td><td>FBS - MAC</td><td><div class=\"dni-plaintext\"><pre>7</pre></div></td><td><div class=\"dni-plaintext\"><pre>3</pre></div></td><td>https://d9ioojyvhqpok.cloudfront.net/assets/logos/_colleges/western_michigan.svg</td><td><div class=\"dni-plaintext\"><pre>&lt;null&gt;</pre></div></td><td>RandomSmallSchool</td><td><div class=\"dni-plaintext\"><pre>-21.2</pre></div></td><td><div class=\"dni-plaintext\"><pre>3.69</pre></div></td><td><div class=\"dni-plaintext\"><pre>28.2</pre></div></td><td><div class=\"dni-plaintext\"><pre>3.31</pre></div></td></tr><tr style=\"display: none\"><td><i><div class=\"dni-plaintext\"><pre>78</pre></div></i></td><td>Jacksonville State</td><td>FBS - CUSA</td><td><div class=\"dni-plaintext\"><pre>6</pre></div></td><td><div class=\"dni-plaintext\"><pre>2</pre></div></td><td>https://d9ioojyvhqpok.cloudfront.net/assets/logos/_colleges/jacksonville_st.svg</td><td><div class=\"dni-plaintext\"><pre>&lt;null&gt;</pre></div></td><td>RandomSmallSchool</td><td><div class=\"dni-plaintext\"><pre>-22.2</pre></div></td><td><div class=\"dni-plaintext\"><pre>2.69</pre></div></td><td><div class=\"dni-plaintext\"><pre>28.2</pre></div></td><td><div class=\"dni-plaintext\"><pre>3.31</pre></div></td></tr><tr style=\"display: none\"><td><i><div class=\"dni-plaintext\"><pre>79</pre></div></i></td><td>Fresno State</td><td>FBS - Mountain West</td><td><div class=\"dni-plaintext\"><pre>6</pre></div></td><td><div class=\"dni-plaintext\"><pre>2</pre></div></td><td>https://d9ioojyvhqpok.cloudfront.net/assets/logos/_colleges/fresno_st.svg</td><td><div class=\"dni-plaintext\"><pre>&lt;null&gt;</pre></div></td><td>RandomSmallSchool</td><td><div class=\"dni-plaintext\"><pre>-22.2</pre></div></td><td><div class=\"dni-plaintext\"><pre>2.69</pre></div></td><td><div class=\"dni-plaintext\"><pre>28.2</pre></div></td><td><div class=\"dni-plaintext\"><pre>3.31</pre></div></td></tr><tr style=\"display: none\"><td><i><div class=\"dni-plaintext\"><pre>80</pre></div></i></td><td>Delaware</td><td>FCS</td><td><div class=\"dni-plaintext\"><pre>6</pre></div></td><td><div class=\"dni-plaintext\"><pre>2</pre></div></td><td>https://d9ioojyvhqpok.cloudfront.net/assets/logos/_colleges/delaware.svg</td><td><div class=\"dni-plaintext\"><pre>&lt;null&gt;</pre></div></td><td>RandomSmallSchool</td><td><div class=\"dni-plaintext\"><pre>-22.2</pre></div></td><td><div class=\"dni-plaintext\"><pre>2.69</pre></div></td><td><div class=\"dni-plaintext\"><pre>28.2</pre></div></td><td><div class=\"dni-plaintext\"><pre>3.31</pre></div></td></tr><tr style=\"display: none\"><td><i><div class=\"dni-plaintext\"><pre>81</pre></div></i></td><td>San Jose State</td><td>FBS - Mountain West</td><td><div class=\"dni-plaintext\"><pre>6</pre></div></td><td><div class=\"dni-plaintext\"><pre>1</pre></div></td><td>https://d9ioojyvhqpok.cloudfront.net/assets/logos/_colleges/san_jose_st.svg</td><td><div class=\"dni-plaintext\"><pre>&lt;null&gt;</pre></div></td><td>RandomSmallSchool</td><td><div class=\"dni-plaintext\"><pre>-22.2</pre></div></td><td><div class=\"dni-plaintext\"><pre>2.69</pre></div></td><td><div class=\"dni-plaintext\"><pre>28.2</pre></div></td><td><div class=\"dni-plaintext\"><pre>3.31</pre></div></td></tr><tr style=\"display: none\"><td><i><div class=\"dni-plaintext\"><pre>82</pre></div></i></td><td>Baylor</td><td>Big 12</td><td><div class=\"dni-plaintext\"><pre>5</pre></div></td><td><div class=\"dni-plaintext\"><pre>5</pre></div></td><td>https://d9ioojyvhqpok.cloudfront.net/assets/logos/_colleges/baylor.svg</td><td><div class=\"dni-plaintext\"><pre>&lt;null&gt;</pre></div></td><td>Big 12</td><td><div class=\"dni-plaintext\"><pre>-45.2</pre></div></td><td><div class=\"dni-plaintext\"><pre>-10.36</pre></div></td><td><div class=\"dni-plaintext\"><pre>50.2</pre></div></td><td><div class=\"dni-plaintext\"><pre>15.36</pre></div></td></tr><tr style=\"display: none\"><td><i><div class=\"dni-plaintext\"><pre>83</pre></div></i></td><td>Michigan State</td><td>Big Ten</td><td><div class=\"dni-plaintext\"><pre>5</pre></div></td><td><div class=\"dni-plaintext\"><pre>5</pre></div></td><td>https://d9ioojyvhqpok.cloudfront.net/assets/logos/_colleges/michigan_st.svg</td><td><div class=\"dni-plaintext\"><pre>&lt;null&gt;</pre></div></td><td>Big Ten</td><td><div class=\"dni-plaintext\"><pre>-75.09</pre></div></td><td><div class=\"dni-plaintext\"><pre>-5.86</pre></div></td><td><div class=\"dni-plaintext\"><pre>80.09</pre></div></td><td><div class=\"dni-plaintext\"><pre>10.87</pre></div></td></tr><tr style=\"display: none\"><td><i><div class=\"dni-plaintext\"><pre>84</pre></div></i></td><td>Washington</td><td>Big Ten</td><td><div class=\"dni-plaintext\"><pre>5</pre></div></td><td><div class=\"dni-plaintext\"><pre>5</pre></div></td><td>https://d9ioojyvhqpok.cloudfront.net/assets/logos/_colleges/washington.svg</td><td><div class=\"dni-plaintext\"><pre>&lt;null&gt;</pre></div></td><td>Big Ten</td><td><div class=\"dni-plaintext\"><pre>-75.09</pre></div></td><td><div class=\"dni-plaintext\"><pre>-5.86</pre></div></td><td><div class=\"dni-plaintext\"><pre>80.09</pre></div></td><td><div class=\"dni-plaintext\"><pre>10.87</pre></div></td></tr><tr style=\"display: none\"><td><i><div class=\"dni-plaintext\"><pre>85</pre></div></i></td><td>Western Kentucky</td><td>FBS - CUSA</td><td><div class=\"dni-plaintext\"><pre>5</pre></div></td><td><div class=\"dni-plaintext\"><pre>1</pre></div></td><td>https://d9ioojyvhqpok.cloudfront.net/assets/logos/_colleges/western_kentucky.svg</td><td><div class=\"dni-plaintext\"><pre>&lt;null&gt;</pre></div></td><td>RandomSmallSchool</td><td><div class=\"dni-plaintext\"><pre>-23.2</pre></div></td><td><div class=\"dni-plaintext\"><pre>1.69</pre></div></td><td><div class=\"dni-plaintext\"><pre>28.2</pre></div></td><td><div class=\"dni-plaintext\"><pre>3.31</pre></div></td></tr><tr style=\"display: none\"><td><i><div class=\"dni-plaintext\"><pre>86</pre></div></i></td><td>Eastern Washington</td><td>FCS</td><td><div class=\"dni-plaintext\"><pre>5</pre></div></td><td><div class=\"dni-plaintext\"><pre>1</pre></div></td><td>https://d9ioojyvhqpok.cloudfront.net/assets/logos/_colleges/eastern_washington.svg</td><td><div class=\"dni-plaintext\"><pre>&lt;null&gt;</pre></div></td><td>RandomSmallSchool</td><td><div class=\"dni-plaintext\"><pre>-23.2</pre></div></td><td><div class=\"dni-plaintext\"><pre>1.69</pre></div></td><td><div class=\"dni-plaintext\"><pre>28.2</pre></div></td><td><div class=\"dni-plaintext\"><pre>3.31</pre></div></td></tr><tr style=\"display: none\"><td><i><div class=\"dni-plaintext\"><pre>87</pre></div></i></td><td>Alabama A&amp;M</td><td>FCS</td><td><div class=\"dni-plaintext\"><pre>5</pre></div></td><td><div class=\"dni-plaintext\"><pre>1</pre></div></td><td>https://d9ioojyvhqpok.cloudfront.net/assets/logos/_colleges/alabama_a&amp;amp;m.svg</td><td><div class=\"dni-plaintext\"><pre>&lt;null&gt;</pre></div></td><td>RandomSmallSchool</td><td><div class=\"dni-plaintext\"><pre>-23.2</pre></div></td><td><div class=\"dni-plaintext\"><pre>1.69</pre></div></td><td><div class=\"dni-plaintext\"><pre>28.2</pre></div></td><td><div class=\"dni-plaintext\"><pre>3.31</pre></div></td></tr><tr style=\"display: none\"><td><i><div class=\"dni-plaintext\"><pre>88</pre></div></i></td><td>Texas State</td><td>FBS - Sun Belt</td><td><div class=\"dni-plaintext\"><pre>3</pre></div></td><td><div class=\"dni-plaintext\"><pre>3</pre></div></td><td>https://d9ioojyvhqpok.cloudfront.net/assets/logos/_colleges/texas_st.svg</td><td><div class=\"dni-plaintext\"><pre>&lt;null&gt;</pre></div></td><td>RandomSmallSchool</td><td><div class=\"dni-plaintext\"><pre>-25.2</pre></div></td><td><div class=\"dni-plaintext\"><pre>-0.31</pre></div></td><td><div class=\"dni-plaintext\"><pre>28.2</pre></div></td><td><div class=\"dni-plaintext\"><pre>3.31</pre></div></td></tr><tr style=\"display: none\"><td><i><div class=\"dni-plaintext\"><pre>89</pre></div></i></td><td>Arkansas State</td><td>FBS - Sun Belt</td><td><div class=\"dni-plaintext\"><pre>3</pre></div></td><td><div class=\"dni-plaintext\"><pre>3</pre></div></td><td>https://d9ioojyvhqpok.cloudfront.net/assets/logos/_colleges/arkansas_st.svg</td><td><div class=\"dni-plaintext\"><pre>&lt;null&gt;</pre></div></td><td>RandomSmallSchool</td><td><div class=\"dni-plaintext\"><pre>-25.2</pre></div></td><td><div class=\"dni-plaintext\"><pre>-0.31</pre></div></td><td><div class=\"dni-plaintext\"><pre>28.2</pre></div></td><td><div class=\"dni-plaintext\"><pre>3.31</pre></div></td></tr><tr style=\"display: none\"><td><i><div class=\"dni-plaintext\"><pre>90</pre></div></i></td><td>North Texas</td><td>FBS - AAC</td><td><div class=\"dni-plaintext\"><pre>3</pre></div></td><td><div class=\"dni-plaintext\"><pre>3</pre></div></td><td>https://d9ioojyvhqpok.cloudfront.net/assets/logos/_colleges/north_texas.svg</td><td><div class=\"dni-plaintext\"><pre>&lt;null&gt;</pre></div></td><td>RandomSmallSchool</td><td><div class=\"dni-plaintext\"><pre>-25.2</pre></div></td><td><div class=\"dni-plaintext\"><pre>-0.31</pre></div></td><td><div class=\"dni-plaintext\"><pre>28.2</pre></div></td><td><div class=\"dni-plaintext\"><pre>3.31</pre></div></td></tr><tr style=\"display: none\"><td><i><div class=\"dni-plaintext\"><pre>91</pre></div></i></td><td>Miami (OH)</td><td>FBS - MAC</td><td><div class=\"dni-plaintext\"><pre>3</pre></div></td><td><div class=\"dni-plaintext\"><pre>3</pre></div></td><td>https://d9ioojyvhqpok.cloudfront.net/assets/logos/_colleges/miami_oh.svg</td><td><div class=\"dni-plaintext\"><pre>&lt;null&gt;</pre></div></td><td>RandomSmallSchool</td><td><div class=\"dni-plaintext\"><pre>-25.2</pre></div></td><td><div class=\"dni-plaintext\"><pre>-0.31</pre></div></td><td><div class=\"dni-plaintext\"><pre>28.2</pre></div></td><td><div class=\"dni-plaintext\"><pre>3.31</pre></div></td></tr><tr style=\"display: none\"><td><i><div class=\"dni-plaintext\"><pre>92</pre></div></i></td><td>Montana State</td><td>FCS</td><td><div class=\"dni-plaintext\"><pre>3</pre></div></td><td><div class=\"dni-plaintext\"><pre>2</pre></div></td><td>https://d9ioojyvhqpok.cloudfront.net/assets/logos/_colleges/montana_st.svg</td><td><div class=\"dni-plaintext\"><pre>&lt;null&gt;</pre></div></td><td>RandomSmallSchool</td><td><div class=\"dni-plaintext\"><pre>-25.2</pre></div></td><td><div class=\"dni-plaintext\"><pre>-0.31</pre></div></td><td><div class=\"dni-plaintext\"><pre>28.2</pre></div></td><td><div class=\"dni-plaintext\"><pre>3.31</pre></div></td></tr><tr style=\"display: none\"><td><i><div class=\"dni-plaintext\"><pre>93</pre></div></i></td><td>Vanderbilt</td><td>SEC</td><td><div class=\"dni-plaintext\"><pre>2</pre></div></td><td><div class=\"dni-plaintext\"><pre>2</pre></div></td><td>https://d9ioojyvhqpok.cloudfront.net/assets/logos/_colleges/vanderbilt.svg</td><td><div class=\"dni-plaintext\"><pre>&lt;null&gt;</pre></div></td><td>SEC</td><td><div class=\"dni-plaintext\"><pre>-102.9</pre></div></td><td><div class=\"dni-plaintext\"><pre>-17.5</pre></div></td><td><div class=\"dni-plaintext\"><pre>104.9</pre></div></td><td><div class=\"dni-plaintext\"><pre>19.5</pre></div></td></tr><tr style=\"display: none\"><td><i><div class=\"dni-plaintext\"><pre>94</pre></div></i></td><td>Navy</td><td>FBS - AAC</td><td><div class=\"dni-plaintext\"><pre>2</pre></div></td><td><div class=\"dni-plaintext\"><pre>2</pre></div></td><td>https://d9ioojyvhqpok.cloudfront.net/assets/logos/_colleges/navy.svg</td><td><div class=\"dni-plaintext\"><pre>&lt;null&gt;</pre></div></td><td>RandomSmallSchool</td><td><div class=\"dni-plaintext\"><pre>-26.2</pre></div></td><td><div class=\"dni-plaintext\"><pre>-1.31</pre></div></td><td><div class=\"dni-plaintext\"><pre>28.2</pre></div></td><td><div class=\"dni-plaintext\"><pre>3.31</pre></div></td></tr><tr style=\"display: none\"><td><i><div class=\"dni-plaintext\"><pre>95</pre></div></i></td><td>Wake Forest</td><td>ACC</td><td><div class=\"dni-plaintext\"><pre>2</pre></div></td><td><div class=\"dni-plaintext\"><pre>2</pre></div></td><td>https://d9ioojyvhqpok.cloudfront.net/assets/logos/_colleges/wake_forest.svg</td><td><div class=\"dni-plaintext\"><pre>&lt;null&gt;</pre></div></td><td>ACC</td><td><div class=\"dni-plaintext\"><pre>-50.6</pre></div></td><td><div class=\"dni-plaintext\"><pre>-14.75</pre></div></td><td><div class=\"dni-plaintext\"><pre>52.6</pre></div></td><td><div class=\"dni-plaintext\"><pre>16.75</pre></div></td></tr><tr style=\"display: none\"><td><i><div class=\"dni-plaintext\"><pre>96</pre></div></i></td><td>Florida A&amp;M</td><td>FCS</td><td><div class=\"dni-plaintext\"><pre>2</pre></div></td><td><div class=\"dni-plaintext\"><pre>2</pre></div></td><td>https://d9ioojyvhqpok.cloudfront.net/assets/logos/_colleges/florida_a&amp;amp;m.svg</td><td><div class=\"dni-plaintext\"><pre>&lt;null&gt;</pre></div></td><td>RandomSmallSchool</td><td><div class=\"dni-plaintext\"><pre>-26.2</pre></div></td><td><div class=\"dni-plaintext\"><pre>-1.31</pre></div></td><td><div class=\"dni-plaintext\"><pre>28.2</pre></div></td><td><div class=\"dni-plaintext\"><pre>3.31</pre></div></td></tr><tr style=\"display: none\"><td><i><div class=\"dni-plaintext\"><pre>97</pre></div></i></td><td>Houston</td><td>Big 12</td><td><div class=\"dni-plaintext\"><pre>2</pre></div></td><td><div class=\"dni-plaintext\"><pre>2</pre></div></td><td>https://d9ioojyvhqpok.cloudfront.net/assets/logos/_colleges/houston.svg</td><td><div class=\"dni-plaintext\"><pre>&lt;null&gt;</pre></div></td><td>Big 12</td><td><div class=\"dni-plaintext\"><pre>-48.2</pre></div></td><td><div class=\"dni-plaintext\"><pre>-13.36</pre></div></td><td><div class=\"dni-plaintext\"><pre>50.2</pre></div></td><td><div class=\"dni-plaintext\"><pre>15.36</pre></div></td></tr><tr style=\"display: none\"><td><i><div class=\"dni-plaintext\"><pre>98</pre></div></i></td><td>Northern Illinois</td><td>FBS - MAC</td><td><div class=\"dni-plaintext\"><pre>2</pre></div></td><td><div class=\"dni-plaintext\"><pre>2</pre></div></td><td>https://d9ioojyvhqpok.cloudfront.net/assets/logos/_colleges/northern_illinois.svg</td><td><div class=\"dni-plaintext\"><pre>&lt;null&gt;</pre></div></td><td>RandomSmallSchool</td><td><div class=\"dni-plaintext\"><pre>-26.2</pre></div></td><td><div class=\"dni-plaintext\"><pre>-1.31</pre></div></td><td><div class=\"dni-plaintext\"><pre>28.2</pre></div></td><td><div class=\"dni-plaintext\"><pre>3.31</pre></div></td></tr><tr style=\"display: none\"><td><i><div class=\"dni-plaintext\"><pre>99</pre></div></i></td><td>Mississippi State</td><td>SEC</td><td><div class=\"dni-plaintext\"><pre>2</pre></div></td><td><div class=\"dni-plaintext\"><pre>2</pre></div></td><td>https://d9ioojyvhqpok.cloudfront.net/assets/logos/_colleges/mississippi_st.svg</td><td><div class=\"dni-plaintext\"><pre>&lt;null&gt;</pre></div></td><td>SEC</td><td><div class=\"dni-plaintext\"><pre>-102.9</pre></div></td><td><div class=\"dni-plaintext\"><pre>-17.5</pre></div></td><td><div class=\"dni-plaintext\"><pre>104.9</pre></div></td><td><div class=\"dni-plaintext\"><pre>19.5</pre></div></td></tr><tr style=\"display: none\"><td><i><div class=\"dni-plaintext\"><pre>100</pre></div></i></td><td>Nevada</td><td>FBS - Mountain West</td><td><div class=\"dni-plaintext\"><pre>2</pre></div></td><td><div class=\"dni-plaintext\"><pre>1</pre></div></td><td>https://d9ioojyvhqpok.cloudfront.net/assets/logos/_colleges/nevada.svg</td><td><div class=\"dni-plaintext\"><pre>&lt;null&gt;</pre></div></td><td>RandomSmallSchool</td><td><div class=\"dni-plaintext\"><pre>-26.2</pre></div></td><td><div class=\"dni-plaintext\"><pre>-1.31</pre></div></td><td><div class=\"dni-plaintext\"><pre>28.2</pre></div></td><td><div class=\"dni-plaintext\"><pre>3.31</pre></div></td></tr><tr style=\"display: none\"><td><i><div class=\"dni-plaintext\"><pre>101</pre></div></i></td><td>Buffalo</td><td>FBS - MAC</td><td><div class=\"dni-plaintext\"><pre>2</pre></div></td><td><div class=\"dni-plaintext\"><pre>1</pre></div></td><td>https://d9ioojyvhqpok.cloudfront.net/assets/logos/_colleges/buffalo.svg</td><td><div class=\"dni-plaintext\"><pre>&lt;null&gt;</pre></div></td><td>RandomSmallSchool</td><td><div class=\"dni-plaintext\"><pre>-26.2</pre></div></td><td><div class=\"dni-plaintext\"><pre>-1.31</pre></div></td><td><div class=\"dni-plaintext\"><pre>28.2</pre></div></td><td><div class=\"dni-plaintext\"><pre>3.31</pre></div></td></tr><tr style=\"display: none\"><td><i><div class=\"dni-plaintext\"><pre>102</pre></div></i></td><td>South Carolina State</td><td>FCS</td><td><div class=\"dni-plaintext\"><pre>1</pre></div></td><td><div class=\"dni-plaintext\"><pre>1</pre></div></td><td>https://d9ioojyvhqpok.cloudfront.net/assets/logos/_colleges/south_carolina_st.svg</td><td><div class=\"dni-plaintext\"><pre>&lt;null&gt;</pre></div></td><td>RandomSmallSchool</td><td><div class=\"dni-plaintext\"><pre>-27.2</pre></div></td><td><div class=\"dni-plaintext\"><pre>-2.31</pre></div></td><td><div class=\"dni-plaintext\"><pre>28.2</pre></div></td><td><div class=\"dni-plaintext\"><pre>3.31</pre></div></td></tr><tr style=\"display: none\"><td><i><div class=\"dni-plaintext\"><pre>103</pre></div></i></td><td>Jackson State</td><td>FCS</td><td><div class=\"dni-plaintext\"><pre>1</pre></div></td><td><div class=\"dni-plaintext\"><pre>1</pre></div></td><td>https://d9ioojyvhqpok.cloudfront.net/assets/logos/_colleges/jackson_st.svg</td><td><div class=\"dni-plaintext\"><pre>&lt;null&gt;</pre></div></td><td>RandomSmallSchool</td><td><div class=\"dni-plaintext\"><pre>-27.2</pre></div></td><td><div class=\"dni-plaintext\"><pre>-2.31</pre></div></td><td><div class=\"dni-plaintext\"><pre>28.2</pre></div></td><td><div class=\"dni-plaintext\"><pre>3.31</pre></div></td></tr><tr style=\"display: none\"><td><i><div class=\"dni-plaintext\"><pre>104</pre></div></i></td><td>Middlebury</td><td>D3</td><td><div class=\"dni-plaintext\"><pre>1</pre></div></td><td><div class=\"dni-plaintext\"><pre>1</pre></div></td><td>https://d9ioojyvhqpok.cloudfront.net/assets/logos/_colleges/middlebury.svg</td><td><div class=\"dni-plaintext\"><pre>&lt;null&gt;</pre></div></td><td>RandomSmallSchool</td><td><div class=\"dni-plaintext\"><pre>-27.2</pre></div></td><td><div class=\"dni-plaintext\"><pre>-2.31</pre></div></td><td><div class=\"dni-plaintext\"><pre>28.2</pre></div></td><td><div class=\"dni-plaintext\"><pre>3.31</pre></div></td></tr><tr style=\"display: none\"><td><i><div class=\"dni-plaintext\"><pre>105</pre></div></i></td><td>Cal Poly</td><td>FCS</td><td><div class=\"dni-plaintext\"><pre>1</pre></div></td><td><div class=\"dni-plaintext\"><pre>1</pre></div></td><td>https://d9ioojyvhqpok.cloudfront.net/assets/logos/_colleges/cal_poly.svg</td><td><div class=\"dni-plaintext\"><pre>&lt;null&gt;</pre></div></td><td>RandomSmallSchool</td><td><div class=\"dni-plaintext\"><pre>-27.2</pre></div></td><td><div class=\"dni-plaintext\"><pre>-2.31</pre></div></td><td><div class=\"dni-plaintext\"><pre>28.2</pre></div></td><td><div class=\"dni-plaintext\"><pre>3.31</pre></div></td></tr><tr style=\"display: none\"><td><i><div class=\"dni-plaintext\"><pre>106</pre></div></i></td><td>South Alabama</td><td>FBS - Sun Belt</td><td><div class=\"dni-plaintext\"><pre>1</pre></div></td><td><div class=\"dni-plaintext\"><pre>1</pre></div></td><td>https://d9ioojyvhqpok.cloudfront.net/assets/logos/_colleges/south_alabama.svg</td><td><div class=\"dni-plaintext\"><pre>&lt;null&gt;</pre></div></td><td>RandomSmallSchool</td><td><div class=\"dni-plaintext\"><pre>-27.2</pre></div></td><td><div class=\"dni-plaintext\"><pre>-2.31</pre></div></td><td><div class=\"dni-plaintext\"><pre>28.2</pre></div></td><td><div class=\"dni-plaintext\"><pre>3.31</pre></div></td></tr><tr style=\"display: none\"><td><i><div class=\"dni-plaintext\"><pre>107</pre></div></i></td><td>Lindenwood</td><td>D2</td><td><div class=\"dni-plaintext\"><pre>1</pre></div></td><td><div class=\"dni-plaintext\"><pre>1</pre></div></td><td>https://d9ioojyvhqpok.cloudfront.net/assets/logos/_colleges/lindenwood.svg</td><td><div class=\"dni-plaintext\"><pre>&lt;null&gt;</pre></div></td><td>RandomSmallSchool</td><td><div class=\"dni-plaintext\"><pre>-27.2</pre></div></td><td><div class=\"dni-plaintext\"><pre>-2.31</pre></div></td><td><div class=\"dni-plaintext\"><pre>28.2</pre></div></td><td><div class=\"dni-plaintext\"><pre>3.31</pre></div></td></tr><tr style=\"display: none\"><td><i><div class=\"dni-plaintext\"><pre>108</pre></div></i></td><td>Southern Arkansas</td><td>D2</td><td><div class=\"dni-plaintext\"><pre>1</pre></div></td><td><div class=\"dni-plaintext\"><pre>1</pre></div></td><td>https://d9ioojyvhqpok.cloudfront.net/assets/logos/_colleges/southern_arkansas.svg</td><td><div class=\"dni-plaintext\"><pre>&lt;null&gt;</pre></div></td><td>RandomSmallSchool</td><td><div class=\"dni-plaintext\"><pre>-27.2</pre></div></td><td><div class=\"dni-plaintext\"><pre>-2.31</pre></div></td><td><div class=\"dni-plaintext\"><pre>28.2</pre></div></td><td><div class=\"dni-plaintext\"><pre>3.31</pre></div></td></tr><tr style=\"display: none\"><td><i><div class=\"dni-plaintext\"><pre>109</pre></div></i></td><td>Villanova</td><td>FCS</td><td><div class=\"dni-plaintext\"><pre>1</pre></div></td><td><div class=\"dni-plaintext\"><pre>1</pre></div></td><td>https://d9ioojyvhqpok.cloudfront.net/assets/logos/_colleges/villanova.svg</td><td><div class=\"dni-plaintext\"><pre>&lt;null&gt;</pre></div></td><td>RandomSmallSchool</td><td><div class=\"dni-plaintext\"><pre>-27.2</pre></div></td><td><div class=\"dni-plaintext\"><pre>-2.31</pre></div></td><td><div class=\"dni-plaintext\"><pre>28.2</pre></div></td><td><div class=\"dni-plaintext\"><pre>3.31</pre></div></td></tr><tr style=\"display: none\"><td><i><div class=\"dni-plaintext\"><pre>110</pre></div></i></td><td>Wilfrid Laurier</td><td>D3</td><td><div class=\"dni-plaintext\"><pre>1</pre></div></td><td><div class=\"dni-plaintext\"><pre>1</pre></div></td><td>https://d9ioojyvhqpok.cloudfront.net/assets/logos/_colleges/laurier.png</td><td><div class=\"dni-plaintext\"><pre>&lt;null&gt;</pre></div></td><td>RandomSmallSchool</td><td><div class=\"dni-plaintext\"><pre>-27.2</pre></div></td><td><div class=\"dni-plaintext\"><pre>-2.31</pre></div></td><td><div class=\"dni-plaintext\"><pre>28.2</pre></div></td><td><div class=\"dni-plaintext\"><pre>3.31</pre></div></td></tr><tr style=\"display: none\"><td><i><div class=\"dni-plaintext\"><pre>111</pre></div></i></td><td>Towson</td><td>FCS</td><td><div class=\"dni-plaintext\"><pre>1</pre></div></td><td><div class=\"dni-plaintext\"><pre>1</pre></div></td><td>https://d9ioojyvhqpok.cloudfront.net/assets/logos/_colleges/towson.svg</td><td><div class=\"dni-plaintext\"><pre>&lt;null&gt;</pre></div></td><td>RandomSmallSchool</td><td><div class=\"dni-plaintext\"><pre>-27.2</pre></div></td><td><div class=\"dni-plaintext\"><pre>-2.31</pre></div></td><td><div class=\"dni-plaintext\"><pre>28.2</pre></div></td><td><div class=\"dni-plaintext\"><pre>3.31</pre></div></td></tr><tr style=\"display: none\"><td><i><div class=\"dni-plaintext\"><pre>112</pre></div></i></td><td>Illinois State</td><td>FCS</td><td><div class=\"dni-plaintext\"><pre>1</pre></div></td><td><div class=\"dni-plaintext\"><pre>1</pre></div></td><td>https://d9ioojyvhqpok.cloudfront.net/assets/logos/_colleges/illinois_st.svg</td><td><div class=\"dni-plaintext\"><pre>&lt;null&gt;</pre></div></td><td>RandomSmallSchool</td><td><div class=\"dni-plaintext\"><pre>-27.2</pre></div></td><td><div class=\"dni-plaintext\"><pre>-2.31</pre></div></td><td><div class=\"dni-plaintext\"><pre>28.2</pre></div></td><td><div class=\"dni-plaintext\"><pre>3.31</pre></div></td></tr><tr style=\"display: none\"><td><i><div class=\"dni-plaintext\"><pre>113</pre></div></i></td><td>Northern Iowa</td><td>FCS</td><td><div class=\"dni-plaintext\"><pre>1</pre></div></td><td><div class=\"dni-plaintext\"><pre>1</pre></div></td><td>https://d9ioojyvhqpok.cloudfront.net/assets/logos/_colleges/northern_iowa.svg</td><td><div class=\"dni-plaintext\"><pre>&lt;null&gt;</pre></div></td><td>RandomSmallSchool</td><td><div class=\"dni-plaintext\"><pre>-27.2</pre></div></td><td><div class=\"dni-plaintext\"><pre>-2.31</pre></div></td><td><div class=\"dni-plaintext\"><pre>28.2</pre></div></td><td><div class=\"dni-plaintext\"><pre>3.31</pre></div></td></tr><tr style=\"display: none\"><td><i><div class=\"dni-plaintext\"><pre>114</pre></div></i></td><td>Minnesota Duluth</td><td>D2</td><td><div class=\"dni-plaintext\"><pre>1</pre></div></td><td><div class=\"dni-plaintext\"><pre>1</pre></div></td><td>https://d9ioojyvhqpok.cloudfront.net/assets/logos/_colleges/minnesota_duluth.svg</td><td><div class=\"dni-plaintext\"><pre>&lt;null&gt;</pre></div></td><td>RandomSmallSchool</td><td><div class=\"dni-plaintext\"><pre>-27.2</pre></div></td><td><div class=\"dni-plaintext\"><pre>-2.31</pre></div></td><td><div class=\"dni-plaintext\"><pre>28.2</pre></div></td><td><div class=\"dni-plaintext\"><pre>3.31</pre></div></td></tr><tr style=\"display: none\"><td><i><div class=\"dni-plaintext\"><pre>115</pre></div></i></td><td>Howard</td><td>FCS</td><td><div class=\"dni-plaintext\"><pre>1</pre></div></td><td><div class=\"dni-plaintext\"><pre>1</pre></div></td><td>https://d9ioojyvhqpok.cloudfront.net/assets/logos/_colleges/howard.svg</td><td><div class=\"dni-plaintext\"><pre>&lt;null&gt;</pre></div></td><td>RandomSmallSchool</td><td><div class=\"dni-plaintext\"><pre>-27.2</pre></div></td><td><div class=\"dni-plaintext\"><pre>-2.31</pre></div></td><td><div class=\"dni-plaintext\"><pre>28.2</pre></div></td><td><div class=\"dni-plaintext\"><pre>3.31</pre></div></td></tr><tr style=\"display: none\"><td><i><div class=\"dni-plaintext\"><pre>116</pre></div></i></td><td>Tulsa</td><td>FBS - AAC</td><td><div class=\"dni-plaintext\"><pre>1</pre></div></td><td><div class=\"dni-plaintext\"><pre>1</pre></div></td><td>https://d9ioojyvhqpok.cloudfront.net/assets/logos/_colleges/tulsa.svg</td><td><div class=\"dni-plaintext\"><pre>&lt;null&gt;</pre></div></td><td>RandomSmallSchool</td><td><div class=\"dni-plaintext\"><pre>-27.2</pre></div></td><td><div class=\"dni-plaintext\"><pre>-2.31</pre></div></td><td><div class=\"dni-plaintext\"><pre>28.2</pre></div></td><td><div class=\"dni-plaintext\"><pre>3.31</pre></div></td></tr><tr style=\"display: none\"><td><i><div class=\"dni-plaintext\"><pre>117</pre></div></i></td><td>UC Davis</td><td>FCS</td><td><div class=\"dni-plaintext\"><pre>1</pre></div></td><td><div class=\"dni-plaintext\"><pre>1</pre></div></td><td>https://d9ioojyvhqpok.cloudfront.net/assets/logos/_colleges/uc_davis.svg</td><td><div class=\"dni-plaintext\"><pre>&lt;null&gt;</pre></div></td><td>RandomSmallSchool</td><td><div class=\"dni-plaintext\"><pre>-27.2</pre></div></td><td><div class=\"dni-plaintext\"><pre>-2.31</pre></div></td><td><div class=\"dni-plaintext\"><pre>28.2</pre></div></td><td><div class=\"dni-plaintext\"><pre>3.31</pre></div></td></tr><tr style=\"display: none\"><td><i><div class=\"dni-plaintext\"><pre>118</pre></div></i></td><td>Morgan State</td><td>FCS</td><td><div class=\"dni-plaintext\"><pre>1</pre></div></td><td><div class=\"dni-plaintext\"><pre>1</pre></div></td><td>https://d9ioojyvhqpok.cloudfront.net/assets/logos/_colleges/morgan_st.svg</td><td><div class=\"dni-plaintext\"><pre>&lt;null&gt;</pre></div></td><td>RandomSmallSchool</td><td><div class=\"dni-plaintext\"><pre>-27.2</pre></div></td><td><div class=\"dni-plaintext\"><pre>-2.31</pre></div></td><td><div class=\"dni-plaintext\"><pre>28.2</pre></div></td><td><div class=\"dni-plaintext\"><pre>3.31</pre></div></td></tr><tr style=\"display: none\"><td><i><div class=\"dni-plaintext\"><pre>119</pre></div></i></td><td>South Dakota State</td><td>FCS</td><td><div class=\"dni-plaintext\"><pre>1</pre></div></td><td><div class=\"dni-plaintext\"><pre>1</pre></div></td><td>https://d9ioojyvhqpok.cloudfront.net/assets/logos/_colleges/south_dakota_st.svg</td><td><div class=\"dni-plaintext\"><pre>&lt;null&gt;</pre></div></td><td>RandomSmallSchool</td><td><div class=\"dni-plaintext\"><pre>-27.2</pre></div></td><td><div class=\"dni-plaintext\"><pre>-2.31</pre></div></td><td><div class=\"dni-plaintext\"><pre>28.2</pre></div></td><td><div class=\"dni-plaintext\"><pre>3.31</pre></div></td></tr><tr style=\"display: none\"><td><i><div class=\"dni-plaintext\"><pre>120</pre></div></i></td><td>Liberty</td><td>FBS - CUSA</td><td><div class=\"dni-plaintext\"><pre>1</pre></div></td><td><div class=\"dni-plaintext\"><pre>1</pre></div></td><td>https://d9ioojyvhqpok.cloudfront.net/assets/logos/_colleges/liberty.svg</td><td><div class=\"dni-plaintext\"><pre>&lt;null&gt;</pre></div></td><td>RandomSmallSchool</td><td><div class=\"dni-plaintext\"><pre>-27.2</pre></div></td><td><div class=\"dni-plaintext\"><pre>-2.31</pre></div></td><td><div class=\"dni-plaintext\"><pre>28.2</pre></div></td><td><div class=\"dni-plaintext\"><pre>3.31</pre></div></td></tr><tr style=\"display: none\"><td><i><div class=\"dni-plaintext\"><pre>121</pre></div></i></td><td>Wyoming</td><td>FBS - Mountain West</td><td><div class=\"dni-plaintext\"><pre>1</pre></div></td><td><div class=\"dni-plaintext\"><pre>1</pre></div></td><td>https://d9ioojyvhqpok.cloudfront.net/assets/logos/_colleges/wyoming.svg</td><td><div class=\"dni-plaintext\"><pre>&lt;null&gt;</pre></div></td><td>RandomSmallSchool</td><td><div class=\"dni-plaintext\"><pre>-27.2</pre></div></td><td><div class=\"dni-plaintext\"><pre>-2.31</pre></div></td><td><div class=\"dni-plaintext\"><pre>28.2</pre></div></td><td><div class=\"dni-plaintext\"><pre>3.31</pre></div></td></tr><tr style=\"display: none\"><td><i><div class=\"dni-plaintext\"><pre>122</pre></div></i></td><td>South Florida</td><td>FBS - AAC</td><td><div class=\"dni-plaintext\"><pre>1</pre></div></td><td><div class=\"dni-plaintext\"><pre>1</pre></div></td><td>https://d9ioojyvhqpok.cloudfront.net/assets/logos/_colleges/south_florida.svg</td><td><div class=\"dni-plaintext\"><pre>&lt;null&gt;</pre></div></td><td>RandomSmallSchool</td><td><div class=\"dni-plaintext\"><pre>-27.2</pre></div></td><td><div class=\"dni-plaintext\"><pre>-2.31</pre></div></td><td><div class=\"dni-plaintext\"><pre>28.2</pre></div></td><td><div class=\"dni-plaintext\"><pre>3.31</pre></div></td></tr><tr style=\"display: none\"><td><i><div class=\"dni-plaintext\"><pre>123</pre></div></i></td><td>Louisiana-Monroe</td><td>FBS - Sun Belt</td><td><div class=\"dni-plaintext\"><pre>1</pre></div></td><td><div class=\"dni-plaintext\"><pre>1</pre></div></td><td>https://d9ioojyvhqpok.cloudfront.net/assets/logos/_colleges/louisiana_monroe.svg</td><td><div class=\"dni-plaintext\"><pre>&lt;null&gt;</pre></div></td><td>RandomSmallSchool</td><td><div class=\"dni-plaintext\"><pre>-27.2</pre></div></td><td><div class=\"dni-plaintext\"><pre>-2.31</pre></div></td><td><div class=\"dni-plaintext\"><pre>28.2</pre></div></td><td><div class=\"dni-plaintext\"><pre>3.31</pre></div></td></tr><tr style=\"display: none\"><td><i><div class=\"dni-plaintext\"><pre>124</pre></div></i></td><td>Lenoir–Rhyne</td><td>D2</td><td><div class=\"dni-plaintext\"><pre>1</pre></div></td><td><div class=\"dni-plaintext\"><pre>1</pre></div></td><td>https://d9ioojyvhqpok.cloudfront.net/assets/logos/_colleges/lenoir_rhyne.png</td><td><div class=\"dni-plaintext\"><pre>&lt;null&gt;</pre></div></td><td>RandomSmallSchool</td><td><div class=\"dni-plaintext\"><pre>-27.2</pre></div></td><td><div class=\"dni-plaintext\"><pre>-2.31</pre></div></td><td><div class=\"dni-plaintext\"><pre>28.2</pre></div></td><td><div class=\"dni-plaintext\"><pre>3.31</pre></div></td></tr><tr style=\"display: none\"><td><i><div class=\"dni-plaintext\"><pre>125</pre></div></i></td><td>Georgia State</td><td>FBS - Sun Belt</td><td><div class=\"dni-plaintext\"><pre>1</pre></div></td><td><div class=\"dni-plaintext\"><pre>1</pre></div></td><td>https://d9ioojyvhqpok.cloudfront.net/assets/logos/_colleges/georgia_st.svg</td><td><div class=\"dni-plaintext\"><pre>&lt;null&gt;</pre></div></td><td>RandomSmallSchool</td><td><div class=\"dni-plaintext\"><pre>-27.2</pre></div></td><td><div class=\"dni-plaintext\"><pre>-2.31</pre></div></td><td><div class=\"dni-plaintext\"><pre>28.2</pre></div></td><td><div class=\"dni-plaintext\"><pre>3.31</pre></div></td></tr><tr style=\"display: none\"><td><i><div class=\"dni-plaintext\"><pre>126</pre></div></i></td><td>Florida International</td><td>FBS - CUSA</td><td><div class=\"dni-plaintext\"><pre>1</pre></div></td><td><div class=\"dni-plaintext\"><pre>1</pre></div></td><td>https://d9ioojyvhqpok.cloudfront.net/assets/logos/_colleges/florida_international.svg</td><td><div class=\"dni-plaintext\"><pre>&lt;null&gt;</pre></div></td><td>RandomSmallSchool</td><td><div class=\"dni-plaintext\"><pre>-27.2</pre></div></td><td><div class=\"dni-plaintext\"><pre>-2.31</pre></div></td><td><div class=\"dni-plaintext\"><pre>28.2</pre></div></td><td><div class=\"dni-plaintext\"><pre>3.31</pre></div></td></tr><tr style=\"display: none\"><td><i><div class=\"dni-plaintext\"><pre>127</pre></div></i></td><td>Coastal Carolina</td><td>FCS</td><td><div class=\"dni-plaintext\"><pre>1</pre></div></td><td><div class=\"dni-plaintext\"><pre>1</pre></div></td><td>https://d9ioojyvhqpok.cloudfront.net/assets/logos/_colleges/coastal_carolina.svg</td><td><div class=\"dni-plaintext\"><pre>&lt;null&gt;</pre></div></td><td>RandomSmallSchool</td><td><div class=\"dni-plaintext\"><pre>-27.2</pre></div></td><td><div class=\"dni-plaintext\"><pre>-2.31</pre></div></td><td><div class=\"dni-plaintext\"><pre>28.2</pre></div></td><td><div class=\"dni-plaintext\"><pre>3.31</pre></div></td></tr><tr style=\"display: none\"><td><i><div class=\"dni-plaintext\"><pre>128</pre></div></i></td><td>Northwestern</td><td>Big Ten</td><td><div class=\"dni-plaintext\"><pre>1</pre></div></td><td><div class=\"dni-plaintext\"><pre>1</pre></div></td><td>https://d9ioojyvhqpok.cloudfront.net/assets/logos/_colleges/northwestern.svg</td><td><div class=\"dni-plaintext\"><pre>&lt;null&gt;</pre></div></td><td>Big Ten</td><td><div class=\"dni-plaintext\"><pre>-79.09</pre></div></td><td><div class=\"dni-plaintext\"><pre>-9.86</pre></div></td><td><div class=\"dni-plaintext\"><pre>80.09</pre></div></td><td><div class=\"dni-plaintext\"><pre>10.87</pre></div></td></tr><tr style=\"display: none\"><td><i><div class=\"dni-plaintext\"><pre>129</pre></div></i></td><td>Georgia Southern</td><td>FBS - Sun Belt</td><td><div class=\"dni-plaintext\"><pre>1</pre></div></td><td><div class=\"dni-plaintext\"><pre>1</pre></div></td><td>https://d9ioojyvhqpok.cloudfront.net/assets/logos/_colleges/georgia_southern.svg</td><td><div class=\"dni-plaintext\"><pre>&lt;null&gt;</pre></div></td><td>RandomSmallSchool</td><td><div class=\"dni-plaintext\"><pre>-27.2</pre></div></td><td><div class=\"dni-plaintext\"><pre>-2.31</pre></div></td><td><div class=\"dni-plaintext\"><pre>28.2</pre></div></td><td><div class=\"dni-plaintext\"><pre>3.31</pre></div></td></tr><tr style=\"display: none\"><td><i><div class=\"dni-plaintext\"><pre>130</pre></div></i></td><td>Central Michigan</td><td>FBS - MAC</td><td><div class=\"dni-plaintext\"><pre>1</pre></div></td><td><div class=\"dni-plaintext\"><pre>1</pre></div></td><td>https://d9ioojyvhqpok.cloudfront.net/assets/logos/_colleges/central_michigan.svg</td><td><div class=\"dni-plaintext\"><pre>&lt;null&gt;</pre></div></td><td>RandomSmallSchool</td><td><div class=\"dni-plaintext\"><pre>-27.2</pre></div></td><td><div class=\"dni-plaintext\"><pre>-2.31</pre></div></td><td><div class=\"dni-plaintext\"><pre>28.2</pre></div></td><td><div class=\"dni-plaintext\"><pre>3.31</pre></div></td></tr><tr style=\"display: none\"><td><i><div class=\"dni-plaintext\"><pre>131</pre></div></i></td><td>Duke</td><td>ACC</td><td><div class=\"dni-plaintext\"><pre>1</pre></div></td><td><div class=\"dni-plaintext\"><pre>1</pre></div></td><td>https://d9ioojyvhqpok.cloudfront.net/assets/logos/_colleges/duke.svg</td><td><div class=\"dni-plaintext\"><pre>&lt;null&gt;</pre></div></td><td>ACC</td><td><div class=\"dni-plaintext\"><pre>-51.6</pre></div></td><td><div class=\"dni-plaintext\"><pre>-15.75</pre></div></td><td><div class=\"dni-plaintext\"><pre>52.6</pre></div></td><td><div class=\"dni-plaintext\"><pre>16.75</pre></div></td></tr><tr style=\"display: none\"><td><i><div class=\"dni-plaintext\"><pre>132</pre></div></i></td><td>North Carolina A&amp;T</td><td>FCS</td><td><div class=\"dni-plaintext\"><pre>1</pre></div></td><td><div class=\"dni-plaintext\"><pre>1</pre></div></td><td>https://d9ioojyvhqpok.cloudfront.net/assets/logos/_colleges/north_carolina_a&amp;amp;t.svg</td><td><div class=\"dni-plaintext\"><pre>&lt;null&gt;</pre></div></td><td>RandomSmallSchool</td><td><div class=\"dni-plaintext\"><pre>-27.2</pre></div></td><td><div class=\"dni-plaintext\"><pre>-2.31</pre></div></td><td><div class=\"dni-plaintext\"><pre>28.2</pre></div></td><td><div class=\"dni-plaintext\"><pre>3.31</pre></div></td></tr><tr style=\"display: none\"><td><i><div class=\"dni-plaintext\"><pre>133</pre></div></i></td><td>Massachusetts</td><td>FBS - MAC</td><td><div class=\"dni-plaintext\"><pre>1</pre></div></td><td><div class=\"dni-plaintext\"><pre>1</pre></div></td><td>https://d9ioojyvhqpok.cloudfront.net/assets/logos/_colleges/umass.svg</td><td><div class=\"dni-plaintext\"><pre>&lt;null&gt;</pre></div></td><td>RandomSmallSchool</td><td><div class=\"dni-plaintext\"><pre>-27.2</pre></div></td><td><div class=\"dni-plaintext\"><pre>-2.31</pre></div></td><td><div class=\"dni-plaintext\"><pre>28.2</pre></div></td><td><div class=\"dni-plaintext\"><pre>3.31</pre></div></td></tr><tr style=\"display: none\"><td><i><div class=\"dni-plaintext\"><pre>134</pre></div></i></td><td>Hawaii</td><td>FBS - Mountain West</td><td><div class=\"dni-plaintext\"><pre>1</pre></div></td><td><div class=\"dni-plaintext\"><pre>1</pre></div></td><td>https://d9ioojyvhqpok.cloudfront.net/assets/logos/_colleges/hawaii.svg</td><td><div class=\"dni-plaintext\"><pre>&lt;null&gt;</pre></div></td><td>RandomSmallSchool</td><td><div class=\"dni-plaintext\"><pre>-27.2</pre></div></td><td><div class=\"dni-plaintext\"><pre>-2.31</pre></div></td><td><div class=\"dni-plaintext\"><pre>28.2</pre></div></td><td><div class=\"dni-plaintext\"><pre>3.31</pre></div></td></tr><tr style=\"display: none\"><td><i><div class=\"dni-plaintext\"><pre>135</pre></div></i></td><td>Holy Cross</td><td>FCS</td><td><div class=\"dni-plaintext\"><pre>1</pre></div></td><td><div class=\"dni-plaintext\"><pre>1</pre></div></td><td>https://d9ioojyvhqpok.cloudfront.net/assets/logos/_colleges/holy_cross.svg</td><td><div class=\"dni-plaintext\"><pre>&lt;null&gt;</pre></div></td><td>RandomSmallSchool</td><td><div class=\"dni-plaintext\"><pre>-27.2</pre></div></td><td><div class=\"dni-plaintext\"><pre>-2.31</pre></div></td><td><div class=\"dni-plaintext\"><pre>28.2</pre></div></td><td><div class=\"dni-plaintext\"><pre>3.31</pre></div></td></tr><tr style=\"display: none\"><td><i><div class=\"dni-plaintext\"><pre>136</pre></div></i></td><td>Louisiana Tech</td><td>FBS - CUSA</td><td><div class=\"dni-plaintext\"><pre>1</pre></div></td><td><div class=\"dni-plaintext\"><pre>1</pre></div></td><td>https://d9ioojyvhqpok.cloudfront.net/assets/logos/_colleges/la_tech.svg</td><td><div class=\"dni-plaintext\"><pre>&lt;null&gt;</pre></div></td><td>RandomSmallSchool</td><td><div class=\"dni-plaintext\"><pre>-27.2</pre></div></td><td><div class=\"dni-plaintext\"><pre>-2.31</pre></div></td><td><div class=\"dni-plaintext\"><pre>28.2</pre></div></td><td><div class=\"dni-plaintext\"><pre>3.31</pre></div></td></tr><tr style=\"display: none\"><td><i><div class=\"dni-plaintext\"><pre>137</pre></div></i></td><td>Charlotte</td><td>FBS - AAC</td><td><div class=\"dni-plaintext\"><pre>1</pre></div></td><td><div class=\"dni-plaintext\"><pre>1</pre></div></td><td>https://d9ioojyvhqpok.cloudfront.net/assets/logos/_colleges/charlotte.svg</td><td><div class=\"dni-plaintext\"><pre>&lt;null&gt;</pre></div></td><td>RandomSmallSchool</td><td><div class=\"dni-plaintext\"><pre>-27.2</pre></div></td><td><div class=\"dni-plaintext\"><pre>-2.31</pre></div></td><td><div class=\"dni-plaintext\"><pre>28.2</pre></div></td><td><div class=\"dni-plaintext\"><pre>3.31</pre></div></td></tr><tr style=\"display: none\"><td><i><div class=\"dni-plaintext\"><pre>138</pre></div></i></td><td>James Madison</td><td>FBS - Sun Belt</td><td><div class=\"dni-plaintext\"><pre>1</pre></div></td><td><div class=\"dni-plaintext\"><pre>1</pre></div></td><td>https://d9ioojyvhqpok.cloudfront.net/assets/logos/_colleges/james_madison.svg</td><td><div class=\"dni-plaintext\"><pre>&lt;null&gt;</pre></div></td><td>RandomSmallSchool</td><td><div class=\"dni-plaintext\"><pre>-27.2</pre></div></td><td><div class=\"dni-plaintext\"><pre>-2.31</pre></div></td><td><div class=\"dni-plaintext\"><pre>28.2</pre></div></td><td><div class=\"dni-plaintext\"><pre>3.31</pre></div></td></tr><tr style=\"display: none\"><td><i><div class=\"dni-plaintext\"><pre>139</pre></div></i></td><td>New Mexico</td><td>FBS - Mountain West</td><td><div class=\"dni-plaintext\"><pre>1</pre></div></td><td><div class=\"dni-plaintext\"><pre>1</pre></div></td><td>https://d9ioojyvhqpok.cloudfront.net/assets/logos/_colleges/new_mexico.svg</td><td><div class=\"dni-plaintext\"><pre>&lt;null&gt;</pre></div></td><td>RandomSmallSchool</td><td><div class=\"dni-plaintext\"><pre>-27.2</pre></div></td><td><div class=\"dni-plaintext\"><pre>-2.31</pre></div></td><td><div class=\"dni-plaintext\"><pre>28.2</pre></div></td><td><div class=\"dni-plaintext\"><pre>3.31</pre></div></td></tr><tr style=\"display: none\"><td><i><div class=\"dni-plaintext\"><pre>140</pre></div></i></td><td>Abilene Christian</td><td>FCS</td><td><div class=\"dni-plaintext\"><pre>1</pre></div></td><td><div class=\"dni-plaintext\"><pre>1</pre></div></td><td>https://d9ioojyvhqpok.cloudfront.net/assets/logos/_colleges/abilene_christian.svg</td><td><div class=\"dni-plaintext\"><pre>&lt;null&gt;</pre></div></td><td>RandomSmallSchool</td><td><div class=\"dni-plaintext\"><pre>-27.2</pre></div></td><td><div class=\"dni-plaintext\"><pre>-2.31</pre></div></td><td><div class=\"dni-plaintext\"><pre>28.2</pre></div></td><td><div class=\"dni-plaintext\"><pre>3.31</pre></div></td></tr><tr style=\"display: none\"><td><i><div class=\"dni-plaintext\"><pre>141</pre></div></i></td><td>Eastern Kentucky</td><td>FCS</td><td><div class=\"dni-plaintext\"><pre>1</pre></div></td><td><div class=\"dni-plaintext\"><pre>1</pre></div></td><td>https://d9ioojyvhqpok.cloudfront.net/assets/logos/_colleges/eastern_kentucky.svg</td><td><div class=\"dni-plaintext\"><pre>&lt;null&gt;</pre></div></td><td>RandomSmallSchool</td><td><div class=\"dni-plaintext\"><pre>-27.2</pre></div></td><td><div class=\"dni-plaintext\"><pre>-2.31</pre></div></td><td><div class=\"dni-plaintext\"><pre>28.2</pre></div></td><td><div class=\"dni-plaintext\"><pre>3.31</pre></div></td></tr></tbody><tfoot><tr><td colspan=\"12\" style=\"text-align: center;\"><button style=\"margin: 2px;\" onclick=\"var allRows = document.querySelectorAll(&#39;#table_638792360240073704 tbody tr:nth-child(n)&#39;); for (let i = 0; i &lt; allRows.length; i++) { allRows[i].style.display=&#39;none&#39;; } document.querySelector(&#39;#page_638792360240073704&#39;).innerHTML = 1; var page = parseInt(document.querySelector(&#39;#page_638792360240073704&#39;).innerHTML) - 1; var pageRows = document.querySelectorAll(`#table_638792360240073704 tbody tr:nth-child(n + ${page * 25 + 1 })`); for (let j = 0; j &lt; 25; j++) { pageRows[j].style.display=&#39;table-row&#39;; } \">⏮</button><button style=\"margin: 2px;\" onclick=\"var allRows = document.querySelectorAll(&#39;#table_638792360240073704 tbody tr:nth-child(n)&#39;); for (let i = 0; i &lt; allRows.length; i++) { allRows[i].style.display=&#39;none&#39;; } var page = parseInt(document.querySelector(&#39;#page_638792360240073704&#39;).innerHTML) - 1; page = parseInt(page) + parseInt(-10); page = page &lt; 0 ? 0 : page; page = page > 5 ? 5 : page; document.querySelector(&#39;#page_638792360240073704&#39;).innerHTML = page + 1; var page = parseInt(document.querySelector(&#39;#page_638792360240073704&#39;).innerHTML) - 1; var pageRows = document.querySelectorAll(`#table_638792360240073704 tbody tr:nth-child(n + ${page * 25 + 1 })`); for (let j = 0; j &lt; 25; j++) { pageRows[j].style.display=&#39;table-row&#39;; } \">⏪</button><button style=\"margin: 2px;\" onclick=\"var allRows = document.querySelectorAll(&#39;#table_638792360240073704 tbody tr:nth-child(n)&#39;); for (let i = 0; i &lt; allRows.length; i++) { allRows[i].style.display=&#39;none&#39;; } var page = parseInt(document.querySelector(&#39;#page_638792360240073704&#39;).innerHTML) - 1; page = parseInt(page) + parseInt(-1); page = page &lt; 0 ? 0 : page; page = page > 5 ? 5 : page; document.querySelector(&#39;#page_638792360240073704&#39;).innerHTML = page + 1; var page = parseInt(document.querySelector(&#39;#page_638792360240073704&#39;).innerHTML) - 1; var pageRows = document.querySelectorAll(`#table_638792360240073704 tbody tr:nth-child(n + ${page * 25 + 1 })`); for (let j = 0; j &lt; 25; j++) { pageRows[j].style.display=&#39;table-row&#39;; } \">◀️</button><b style=\"margin: 2px;\">Page</b><b id=\"page_638792360240073704\" style=\"margin: 2px;\">1</b><button style=\"margin: 2px;\" onclick=\"var allRows = document.querySelectorAll(&#39;#table_638792360240073704 tbody tr:nth-child(n)&#39;); for (let i = 0; i &lt; allRows.length; i++) { allRows[i].style.display=&#39;none&#39;; } var page = parseInt(document.querySelector(&#39;#page_638792360240073704&#39;).innerHTML) - 1; page = parseInt(page) + parseInt(1); page = page &lt; 0 ? 0 : page; page = page > 5 ? 5 : page; document.querySelector(&#39;#page_638792360240073704&#39;).innerHTML = page + 1; var page = parseInt(document.querySelector(&#39;#page_638792360240073704&#39;).innerHTML) - 1; var pageRows = document.querySelectorAll(`#table_638792360240073704 tbody tr:nth-child(n + ${page * 25 + 1 })`); for (let j = 0; j &lt; 25; j++) { pageRows[j].style.display=&#39;table-row&#39;; } \">▶️</button><button style=\"margin: 2px;\" onclick=\"var allRows = document.querySelectorAll(&#39;#table_638792360240073704 tbody tr:nth-child(n)&#39;); for (let i = 0; i &lt; allRows.length; i++) { allRows[i].style.display=&#39;none&#39;; } var page = parseInt(document.querySelector(&#39;#page_638792360240073704&#39;).innerHTML) - 1; page = parseInt(page) + parseInt(10); page = page &lt; 0 ? 0 : page; page = page > 5 ? 5 : page; document.querySelector(&#39;#page_638792360240073704&#39;).innerHTML = page + 1; var page = parseInt(document.querySelector(&#39;#page_638792360240073704&#39;).innerHTML) - 1; var pageRows = document.querySelectorAll(`#table_638792360240073704 tbody tr:nth-child(n + ${page * 25 + 1 })`); for (let j = 0; j &lt; 25; j++) { pageRows[j].style.display=&#39;table-row&#39;; } \">⏩</button><button style=\"margin: 2px;\" onclick=\"var allRows = document.querySelectorAll(&#39;#table_638792360240073704 tbody tr:nth-child(n)&#39;); for (let i = 0; i &lt; allRows.length; i++) { allRows[i].style.display=&#39;none&#39;; } document.querySelector(&#39;#page_638792360240073704&#39;).innerHTML = 6; var page = parseInt(document.querySelector(&#39;#page_638792360240073704&#39;).innerHTML) - 1; var pageRows = document.querySelectorAll(`#table_638792360240073704 tbody tr:nth-child(n + ${page * 25 + 1 })`); for (let j = 0; j &lt; 25; j++) { pageRows[j].style.display=&#39;table-row&#39;; } \">⏭️</button></td></tr></tfoot></table><style>\r\n",
       ".dni-code-hint {\r\n",
       "    font-style: italic;\r\n",
       "    overflow: hidden;\r\n",
       "    white-space: nowrap;\r\n",
       "}\r\n",
       ".dni-treeview {\r\n",
       "    white-space: nowrap;\r\n",
       "}\r\n",
       ".dni-treeview td {\r\n",
       "    vertical-align: top;\r\n",
       "    text-align: start;\r\n",
       "}\r\n",
       "details.dni-treeview {\r\n",
       "    padding-left: 1em;\r\n",
       "}\r\n",
       "table td {\r\n",
       "    text-align: start;\r\n",
       "}\r\n",
       "table tr { \r\n",
       "    vertical-align: top; \r\n",
       "    margin: 0em 0px;\r\n",
       "}\r\n",
       "table tr td pre \r\n",
       "{ \r\n",
       "    vertical-align: top !important; \r\n",
       "    margin: 0em 0px !important;\r\n",
       "} \r\n",
       "table th {\r\n",
       "    text-align: start;\r\n",
       "}\r\n",
       "</style><script>var page = parseInt(document.querySelector('#page_638792360240073704').innerHTML) - 1; var pageRows = document.querySelectorAll(`#table_638792360240073704 tbody tr:nth-child(n + ${page * 25 + 1 })`); for (let j = 0; j < 25; j++) { pageRows[j].style.display='table-row'; } </script>"
      ]
     },
     "metadata": {},
     "output_type": "display_data"
    }
   ],
   "source": [
    "display(draftableAverages);\n",
    "display(replacementAverages);\n",
    "\n",
    "// Iterate over the rows and set the value of the new column based on the value in the Name column\n",
    "for (int i = 0; i < nextDraft.Rows.Count; i++)\n",
    "{\n",
    "    string leagifyPosition = \"\";\n",
    "    switch((string)nextDraft.Columns[\"LeagifyPosition\"][i])\n",
    "    {\n",
    "        \n",
    "        case \"SEC\":\n",
    "            leagifyPosition = \"SEC\";\n",
    "            break;\n",
    "        case \"ACC\":\n",
    "            leagifyPosition = \"ACC\";\n",
    "            break;\n",
    "        case \"Big 12\":\n",
    "            leagifyPosition = \"Big 12\";\n",
    "            break;\n",
    "        case \"Big Ten\":\n",
    "            leagifyPosition = \"Big Ten\";\n",
    "            break;\n",
    "        case \"RandomSmallSchool\":\n",
    "            leagifyPosition = \"RandomSmallSchool\";\n",
    "            break;\n",
    "        case \"Flex\":\n",
    "            leagifyPosition = \"Flex\";\n",
    "            break;\n",
    "        default:\n",
    "            leagifyPosition = \"RandomSmallSchool\";\n",
    "            break;\n",
    "\n",
    "    }\n",
    "\n",
    "    nextDraft.Columns[\"AveragePointsForPosition\"][i] = draftableAverages[leagifyPosition];\n",
    "    var projectedPointsAboveAverage = (Single)nextDraft.Columns[\"ProjectedPoints\"][i] - draftableAverages[leagifyPosition];\n",
    "    nextDraft.Columns[\"ProjectedPointsAboveAverage\"][i] = Math.Truncate(projectedPointsAboveAverage * 100) / 100;\n",
    "\n",
    "    nextDraft.Columns[\"ReplacementValueAverageForPosition\"][i] = replacementAverages[leagifyPosition];\n",
    "    var projectedPointsAboveReplacement = (Single)nextDraft.Columns[\"ProjectedPoints\"][i] - replacementAverages[leagifyPosition];\n",
    "    nextDraft.Columns[\"ProjectedPointsAboveReplacement\"][i] = Math.Truncate(projectedPointsAboveReplacement * 100) / 100;\n",
    "    display($\"School {(string)nextDraft.Columns[\"School\"][i]} in conference {(string)nextDraft.Columns[\"Conference\"][i]} has Leagify position {leagifyPosition}\");\n",
    "}\n",
    "\n",
    "display(nextDraft);"
   ]
  },
  {
   "cell_type": "code",
   "execution_count": 9,
   "metadata": {
    "dotnet_interactive": {
     "language": "csharp"
    },
    "polyglot_notebook": {
     "kernelName": "csharp"
    },
    "vscode": {
     "languageId": "polyglot-notebook"
    }
   },
   "outputs": [],
   "source": [
    "//nextDraft.Columns.Remove(\"SchoolURL\");\n",
    "DataFrame.WriteCsv(nextDraft,\"auctionDraftAverages-2025.csv\",',');"
   ]
  }
 ],
 "metadata": {
  "kernelspec": {
   "display_name": ".NET (C#)",
   "language": "C#",
   "name": ".net-csharp"
  },
  "language_info": {
   "name": "csharp"
  },
  "orig_nbformat": 4,
  "polyglot_notebook": {
   "kernelInfo": {
    "defaultKernelName": "csharp",
    "items": [
     {
      "aliases": [],
      "name": "csharp"
     }
    ]
   }
  }
 },
 "nbformat": 4,
 "nbformat_minor": 2
}
