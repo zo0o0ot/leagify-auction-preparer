{
 "cells": [
  {
   "cell_type": "code",
   "execution_count": 1,
   "metadata": {
    "dotnet_interactive": {
     "language": "csharp"
    },
    "polyglot_notebook": {
     "kernelName": "csharp"
    }
   },
   "outputs": [
    {
     "data": {
      "text/html": [
       "<div><div></div><div></div><div><strong>Installed Packages</strong><ul><li><span>Microsoft.Data.Analysis, 0.21.0</span></li><li><span>Microsoft.DotNet.Interactive.ExtensionLab, 1.0.0-beta.25323.1</span></li><li><span>Microsoft.ML, 4.0.2</span></li></ul></div></div>"
      ]
     },
     "metadata": {},
     "output_type": "display_data"
    },
    {
     "data": {
      "text/plain": [
       "Loading extensions from `/home/vscode/.nuget/packages/microsoft.data.analysis/0.21.0/interactive-extensions/dotnet/Microsoft.Data.Analysis.Interactive.dll`"
      ]
     },
     "metadata": {},
     "output_type": "display_data"
    },
    {
     "data": {
      "text/plain": [
       "Loading extension script from `/home/vscode/.nuget/packages/microsoft.dotnet.interactive.extensionlab/1.0.0-beta.25323.1/interactive-extensions/dotnet/extension.dib`"
      ]
     },
     "metadata": {},
     "output_type": "display_data"
    },
    {
     "data": {
      "text/html": [
       "<details><summary>Create strongly-typed dataframes using<code>#!linqify</code>.</summary>\r\n",
       "    <p>The <code>#!linqify</code> magic command replaces a <a href=\"https://www.nuget.org/packages/Microsoft.Data.Analysis/\"><code>Microsoft.Data.Analysis.DataFrame</code></a> variable with a generated, strongly-typed data frame, allowing the use of LINQ operations over the contained data.</p>\r\n",
       "    </details>"
      ]
     },
     "metadata": {},
     "output_type": "display_data"
    },
    {
     "data": {
      "text/html": [
       "<details><summary>ExplainCode</summary>\r\n",
       "    <p>This extension generates Sequence diagrams from csharp code using Mermaid kernel.</p>\r\n",
       "    </details>"
      ]
     },
     "metadata": {},
     "output_type": "display_data"
    },
    {
     "data": {
      "text/html": [
       "<details><summary>Inspect code compilation details using the <code>#!inspect</code> magic command.</summary>\r\n",
       "    <p>The <code>#!inspect</code> magic command allows you to see the C# decompilation, IL, and JIT Asm for the code in a C# cell.</p>\r\n",
       "    <img src=\"https://user-images.githubusercontent.com/547415/109560515-d5749a00-7a90-11eb-9fa3-51b737345bb4.png\" width=\"75%\" />\r\n",
       "    </details>"
      ]
     },
     "metadata": {},
     "output_type": "display_data"
    },
    {
     "data": {
      "text/html": [
       "<details><summary>Use the <code>#!record</code> magic command to keep a transcript of the code you run.</summary>\r\n",
       "    <p>Once you enable transcripts using <code>#!record</code>, each code submission (including re-running cells) is recorded in the specified file. The JSON format used is the same format recognized by the .NET Interactive <code>stdio</code> and <code>http</code> APIs and can be used to replay an interactive session via automation.</p>\r\n",
       "    <img src=\"https://user-images.githubusercontent.com/547415/109562409-343b1300-7a93-11eb-8ebf-79bb6af028cf.png\" width=\"75%\" />\r\n",
       "    </details>"
      ]
     },
     "metadata": {},
     "output_type": "display_data"
    }
   ],
   "source": [
    "// This top block may not need to be run at all, you can start with the using statements.\n",
    "// using nightly-build\n",
    "//#i \"nuget:https://pkgs.dev.azure.com/dnceng/public/_packaging/MachineLearning/nuget/v3/index.json\"\n",
    "#r \"nuget: Microsoft.Data.Analysis, 0.20.2\"\n",
    "#r \"nuget: Microsoft.ML, 4.0.2\"\n",
    "#r \"nuget:Microsoft.DotNet.Interactive.ExtensionLab,*-*\"\n",
    "//#r \"nuget:SandDance.InteractiveExtension, 1.0.53\"\n",
    "//#r \"nuget: XPlot.Plotly.Interactive, 4.0.6\"\n"
   ]
  },
  {
   "cell_type": "code",
   "execution_count": 2,
   "metadata": {
    "dotnet_interactive": {
     "language": "csharp"
    },
    "polyglot_notebook": {
     "kernelName": "csharp"
    }
   },
   "outputs": [],
   "source": [
    "using static Microsoft.DotNet.Interactive.Formatting.PocketViewTags;\n",
    "using Microsoft.DotNet.Interactive.Formatting;\n",
    "using Microsoft.DotNet.Interactive;\n",
    "//using XPlot.Plotly.Interactive;\n",
    "using Microsoft.Data.Analysis;\n",
    "using Microsoft.ML;\n",
    "using System.Collections.Generic;\n",
    "using System.IO;\n",
    "using System.Linq;"
   ]
  },
  {
   "cell_type": "code",
   "execution_count": 3,
   "metadata": {
    "dotnet_interactive": {
     "language": "csharp"
    },
    "polyglot_notebook": {
     "kernelName": "csharp"
    }
   },
   "outputs": [
    {
     "data": {
      "text/plain": [
       "This file exists.  Nothing has blown up.....yet."
      ]
     },
     "metadata": {},
     "output_type": "display_data"
    }
   ],
   "source": [
    "var fileExists = File.Exists(\"draft-info/2025-09-01-top-schools.csv\");\n",
    "if (fileExists)\n",
    "{\n",
    "    display(\"This file exists.  Nothing has blown up.....yet.\");\n",
    "}\n",
    "var nextDraft = DataFrame.LoadCsv(\"draft-info/2025-09-01-top-schools.csv\");"
   ]
  },
  {
   "cell_type": "code",
   "execution_count": 4,
   "metadata": {
    "dotnet_interactive": {
     "language": "csharp"
    },
    "polyglot_notebook": {
     "kernelName": "csharp"
    }
   },
   "outputs": [],
   "source": [
    "nextDraft.Columns.Add(new PrimitiveDataFrameColumn<int>(\"SuggestedAuctionValue\", nextDraft.Rows.Count()));\n",
    "nextDraft.Columns.Add(new StringDataFrameColumn(\"LeagifyPosition\", nextDraft.Rows.Count()));"
   ]
  },
  {
   "cell_type": "code",
   "execution_count": 5,
   "metadata": {
    "dotnet_interactive": {
     "language": "csharp"
    },
    "polyglot_notebook": {
     "kernelName": "csharp"
    }
   },
   "outputs": [
    {
     "data": {
      "text/html": [
       "<table id=\"table_638923845359705310\"><caption><h3 style=\"text-align: center;\">DataFrame - 130 rows </h3></caption><thead><tr><th><i>index</i></th><th>School</th><th>Conference</th><th>ProjectedPoints</th><th>NumberOfProspects</th><th>SchoolURL</th><th>SuggestedAuctionValue</th><th>LeagifyPosition</th></tr></thead><tbody><tr style=\"display: none\"><td><i><div class=\"dni-plaintext\"><pre>0</pre></div></i></td><td>Alabama</td><td>SEC</td><td><div class=\"dni-plaintext\"><pre>204</pre></div></td><td><div class=\"dni-plaintext\"><pre>34</pre></div></td><td>https://d9ioojyvhqpok.cloudfront.net/ipat9gfnm0mjkzxjgjduhgd3dhh5</td><td><div class=\"dni-plaintext\"><pre>&lt;null&gt;</pre></div></td><td>SEC</td></tr><tr style=\"display: none\"><td><i><div class=\"dni-plaintext\"><pre>1</pre></div></i></td><td>Clemson</td><td>ACC</td><td><div class=\"dni-plaintext\"><pre>202</pre></div></td><td><div class=\"dni-plaintext\"><pre>22</pre></div></td><td>https://d9ioojyvhqpok.cloudfront.net/qdoiydn8n7rrbe24fh91o35g46a2</td><td><div class=\"dni-plaintext\"><pre>&lt;null&gt;</pre></div></td><td>ACC</td></tr><tr style=\"display: none\"><td><i><div class=\"dni-plaintext\"><pre>2</pre></div></i></td><td>Penn State</td><td>Big Ten</td><td><div class=\"dni-plaintext\"><pre>176</pre></div></td><td><div class=\"dni-plaintext\"><pre>28</pre></div></td><td>https://d9ioojyvhqpok.cloudfront.net/r7ka9jaowmh2i9mbty8xvcw3lszi</td><td><div class=\"dni-plaintext\"><pre>&lt;null&gt;</pre></div></td><td>Big Ten</td></tr><tr style=\"display: none\"><td><i><div class=\"dni-plaintext\"><pre>3</pre></div></i></td><td>Texas</td><td>SEC</td><td><div class=\"dni-plaintext\"><pre>171</pre></div></td><td><div class=\"dni-plaintext\"><pre>26</pre></div></td><td>https://d9ioojyvhqpok.cloudfront.net/qg9cbgbb8dt3ibmkhhpbnxnmu2ym</td><td><div class=\"dni-plaintext\"><pre>&lt;null&gt;</pre></div></td><td>SEC</td></tr><tr style=\"display: none\"><td><i><div class=\"dni-plaintext\"><pre>4</pre></div></i></td><td>Oregon</td><td>Big Ten</td><td><div class=\"dni-plaintext\"><pre>165</pre></div></td><td><div class=\"dni-plaintext\"><pre>20</pre></div></td><td>https://d9ioojyvhqpok.cloudfront.net/jtm5dpazszqv0w6emkd6479rdrk8</td><td><div class=\"dni-plaintext\"><pre>&lt;null&gt;</pre></div></td><td>Big Ten</td></tr><tr style=\"display: none\"><td><i><div class=\"dni-plaintext\"><pre>5</pre></div></i></td><td>Ohio State</td><td>Big Ten</td><td><div class=\"dni-plaintext\"><pre>157</pre></div></td><td><div class=\"dni-plaintext\"><pre>30</pre></div></td><td>https://d9ioojyvhqpok.cloudfront.net/t0cc17koiq4lypyf6v0bjmb48dl1</td><td><div class=\"dni-plaintext\"><pre>&lt;null&gt;</pre></div></td><td>Big Ten</td></tr><tr style=\"display: none\"><td><i><div class=\"dni-plaintext\"><pre>6</pre></div></i></td><td>LSU</td><td>SEC</td><td><div class=\"dni-plaintext\"><pre>137</pre></div></td><td><div class=\"dni-plaintext\"><pre>28</pre></div></td><td>https://d9ioojyvhqpok.cloudfront.net/kotupd48marnkuttwxr1ueuusuq4</td><td><div class=\"dni-plaintext\"><pre>&lt;null&gt;</pre></div></td><td>SEC</td></tr><tr style=\"display: none\"><td><i><div class=\"dni-plaintext\"><pre>7</pre></div></i></td><td>Georgia</td><td>SEC</td><td><div class=\"dni-plaintext\"><pre>133</pre></div></td><td><div class=\"dni-plaintext\"><pre>30</pre></div></td><td>https://d9ioojyvhqpok.cloudfront.net/lk6cx1kv1jp68409gl92aapm1amw</td><td><div class=\"dni-plaintext\"><pre>&lt;null&gt;</pre></div></td><td>SEC</td></tr><tr style=\"display: none\"><td><i><div class=\"dni-plaintext\"><pre>8</pre></div></i></td><td>Florida</td><td>SEC</td><td><div class=\"dni-plaintext\"><pre>114</pre></div></td><td><div class=\"dni-plaintext\"><pre>18</pre></div></td><td>https://d9ioojyvhqpok.cloudfront.net/36khmjuee0xz2lxwa0xvcpewulbr</td><td><div class=\"dni-plaintext\"><pre>&lt;null&gt;</pre></div></td><td>SEC</td></tr><tr style=\"display: none\"><td><i><div class=\"dni-plaintext\"><pre>9</pre></div></i></td><td>Texas A&amp;M</td><td>SEC</td><td><div class=\"dni-plaintext\"><pre>110</pre></div></td><td><div class=\"dni-plaintext\"><pre>30</pre></div></td><td>https://d9ioojyvhqpok.cloudfront.net/2zs6v615in0lqkjlrpwr0ss7jal3</td><td><div class=\"dni-plaintext\"><pre>&lt;null&gt;</pre></div></td><td>SEC</td></tr><tr style=\"display: none\"><td><i><div class=\"dni-plaintext\"><pre>10</pre></div></i></td><td>Auburn</td><td>SEC</td><td><div class=\"dni-plaintext\"><pre>108</pre></div></td><td><div class=\"dni-plaintext\"><pre>12</pre></div></td><td>https://d9ioojyvhqpok.cloudfront.net/eleiezsd0lvxbat70oyxvobqj1wy</td><td><div class=\"dni-plaintext\"><pre>&lt;null&gt;</pre></div></td><td>SEC</td></tr><tr style=\"display: none\"><td><i><div class=\"dni-plaintext\"><pre>11</pre></div></i></td><td>Notre Dame</td><td>FBS - Independent</td><td><div class=\"dni-plaintext\"><pre>101</pre></div></td><td><div class=\"dni-plaintext\"><pre>18</pre></div></td><td>https://d9ioojyvhqpok.cloudfront.net/tbs37oz73f8lx0yton630db3mwil</td><td><div class=\"dni-plaintext\"><pre>&lt;null&gt;</pre></div></td><td>Flex</td></tr><tr style=\"display: none\"><td><i><div class=\"dni-plaintext\"><pre>12</pre></div></i></td><td>Utah</td><td>Big 12</td><td><div class=\"dni-plaintext\"><pre>94</pre></div></td><td><div class=\"dni-plaintext\"><pre>12</pre></div></td><td>https://d9ioojyvhqpok.cloudfront.net/6knutc24htvta65sc5lynfbx3bag</td><td><div class=\"dni-plaintext\"><pre>&lt;null&gt;</pre></div></td><td>Big 12</td></tr><tr style=\"display: none\"><td><i><div class=\"dni-plaintext\"><pre>13</pre></div></i></td><td>South Carolina</td><td>SEC</td><td><div class=\"dni-plaintext\"><pre>91</pre></div></td><td><div class=\"dni-plaintext\"><pre>14</pre></div></td><td>https://d9ioojyvhqpok.cloudfront.net/xf3wi54n26qaha5aventrscyqj9i</td><td><div class=\"dni-plaintext\"><pre>&lt;null&gt;</pre></div></td><td>SEC</td></tr><tr style=\"display: none\"><td><i><div class=\"dni-plaintext\"><pre>14</pre></div></i></td><td>Arizona State</td><td>Big 12</td><td><div class=\"dni-plaintext\"><pre>89</pre></div></td><td><div class=\"dni-plaintext\"><pre>17</pre></div></td><td>https://d9ioojyvhqpok.cloudfront.net/ki89e84ng0fbkdkof0pb7l8eavl7</td><td><div class=\"dni-plaintext\"><pre>&lt;null&gt;</pre></div></td><td>Big 12</td></tr><tr style=\"display: none\"><td><i><div class=\"dni-plaintext\"><pre>15</pre></div></i></td><td>Miami (FL)</td><td>ACC</td><td><div class=\"dni-plaintext\"><pre>77</pre></div></td><td><div class=\"dni-plaintext\"><pre>15</pre></div></td><td>https://d9ioojyvhqpok.cloudfront.net/ua8vtcmx37g6fru3tna1nygak655</td><td><div class=\"dni-plaintext\"><pre>&lt;null&gt;</pre></div></td><td>ACC</td></tr><tr style=\"display: none\"><td><i><div class=\"dni-plaintext\"><pre>16</pre></div></i></td><td>Indiana</td><td>Big Ten</td><td><div class=\"dni-plaintext\"><pre>75</pre></div></td><td><div class=\"dni-plaintext\"><pre>9</pre></div></td><td>https://d9ioojyvhqpok.cloudfront.net/wapph05yk3m4c6hzhc4793w94sxj</td><td><div class=\"dni-plaintext\"><pre>&lt;null&gt;</pre></div></td><td>Big Ten</td></tr><tr style=\"display: none\"><td><i><div class=\"dni-plaintext\"><pre>17</pre></div></i></td><td>USC</td><td>Big Ten</td><td><div class=\"dni-plaintext\"><pre>70</pre></div></td><td><div class=\"dni-plaintext\"><pre>14</pre></div></td><td>https://d9ioojyvhqpok.cloudfront.net/9qzau6lr9d2g4rnpah5m4o5l5wrb</td><td><div class=\"dni-plaintext\"><pre>&lt;null&gt;</pre></div></td><td>Big Ten</td></tr><tr style=\"display: none\"><td><i><div class=\"dni-plaintext\"><pre>18</pre></div></i></td><td>Oklahoma</td><td>SEC</td><td><div class=\"dni-plaintext\"><pre>66</pre></div></td><td><div class=\"dni-plaintext\"><pre>19</pre></div></td><td>https://d9ioojyvhqpok.cloudfront.net/2oxpf3x0lqqyaqu2vusmkrrfpvz4</td><td><div class=\"dni-plaintext\"><pre>&lt;null&gt;</pre></div></td><td>SEC</td></tr><tr style=\"display: none\"><td><i><div class=\"dni-plaintext\"><pre>19</pre></div></i></td><td>Michigan</td><td>Big Ten</td><td><div class=\"dni-plaintext\"><pre>57</pre></div></td><td><div class=\"dni-plaintext\"><pre>20</pre></div></td><td>https://d9ioojyvhqpok.cloudfront.net/q8wl5dk6g7zupims4dtdrh3ssr12</td><td><div class=\"dni-plaintext\"><pre>&lt;null&gt;</pre></div></td><td>Big Ten</td></tr><tr style=\"display: none\"><td><i><div class=\"dni-plaintext\"><pre>20</pre></div></i></td><td>Missouri</td><td>SEC</td><td><div class=\"dni-plaintext\"><pre>54</pre></div></td><td><div class=\"dni-plaintext\"><pre>11</pre></div></td><td>https://d9ioojyvhqpok.cloudfront.net/at4tedy432dma8a852zl29mhpl97</td><td><div class=\"dni-plaintext\"><pre>&lt;null&gt;</pre></div></td><td>SEC</td></tr><tr style=\"display: none\"><td><i><div class=\"dni-plaintext\"><pre>21</pre></div></i></td><td>Iowa</td><td>Big Ten</td><td><div class=\"dni-plaintext\"><pre>54</pre></div></td><td><div class=\"dni-plaintext\"><pre>10</pre></div></td><td>https://d9ioojyvhqpok.cloudfront.net/1v4qash6kghlbzawlc9mcktcv6et</td><td><div class=\"dni-plaintext\"><pre>&lt;null&gt;</pre></div></td><td>Big Ten</td></tr><tr style=\"display: none\"><td><i><div class=\"dni-plaintext\"><pre>22</pre></div></i></td><td>Illinois</td><td>Big Ten</td><td><div class=\"dni-plaintext\"><pre>49</pre></div></td><td><div class=\"dni-plaintext\"><pre>16</pre></div></td><td>https://d9ioojyvhqpok.cloudfront.net/ufjr2mjvb39qtuuxl324m16av9zg</td><td><div class=\"dni-plaintext\"><pre>&lt;null&gt;</pre></div></td><td>Big Ten</td></tr><tr style=\"display: none\"><td><i><div class=\"dni-plaintext\"><pre>23</pre></div></i></td><td>Tennessee</td><td>SEC</td><td><div class=\"dni-plaintext\"><pre>49</pre></div></td><td><div class=\"dni-plaintext\"><pre>14</pre></div></td><td>https://d9ioojyvhqpok.cloudfront.net/xvzdtm1u94la26tuf9s7k9biiobk</td><td><div class=\"dni-plaintext\"><pre>&lt;null&gt;</pre></div></td><td>SEC</td></tr><tr style=\"display: none\"><td><i><div class=\"dni-plaintext\"><pre>24</pre></div></i></td><td>Washington</td><td>Big Ten</td><td><div class=\"dni-plaintext\"><pre>47</pre></div></td><td><div class=\"dni-plaintext\"><pre>9</pre></div></td><td>https://d9ioojyvhqpok.cloudfront.net/ymbx2qwvtd64qbet6aw5rlpvlznq</td><td><div class=\"dni-plaintext\"><pre>&lt;null&gt;</pre></div></td><td>Big Ten</td></tr><tr style=\"display: none\"><td><i><div class=\"dni-plaintext\"><pre>25</pre></div></i></td><td>Louisville</td><td>ACC</td><td><div class=\"dni-plaintext\"><pre>43</pre></div></td><td><div class=\"dni-plaintext\"><pre>10</pre></div></td><td>https://d9ioojyvhqpok.cloudfront.net/6dtekr0ju42cquwnyoilhqr5048j</td><td><div class=\"dni-plaintext\"><pre>&lt;null&gt;</pre></div></td><td>ACC</td></tr><tr style=\"display: none\"><td><i><div class=\"dni-plaintext\"><pre>26</pre></div></i></td><td>Texas Tech</td><td>Big 12</td><td><div class=\"dni-plaintext\"><pre>40</pre></div></td><td><div class=\"dni-plaintext\"><pre>9</pre></div></td><td>https://d9ioojyvhqpok.cloudfront.net/kuscl9st1izh66xvf7t3cqs05xlc</td><td><div class=\"dni-plaintext\"><pre>&lt;null&gt;</pre></div></td><td>Big 12</td></tr><tr style=\"display: none\"><td><i><div class=\"dni-plaintext\"><pre>27</pre></div></i></td><td>Ole Miss</td><td>SEC</td><td><div class=\"dni-plaintext\"><pre>39</pre></div></td><td><div class=\"dni-plaintext\"><pre>13</pre></div></td><td>https://d9ioojyvhqpok.cloudfront.net/4ci7fizvkcl1pmfv17qg8ngxjghp</td><td><div class=\"dni-plaintext\"><pre>&lt;null&gt;</pre></div></td><td>SEC</td></tr><tr style=\"display: none\"><td><i><div class=\"dni-plaintext\"><pre>28</pre></div></i></td><td>SMU</td><td>ACC</td><td><div class=\"dni-plaintext\"><pre>37</pre></div></td><td><div class=\"dni-plaintext\"><pre>16</pre></div></td><td>https://d9ioojyvhqpok.cloudfront.net/nxpzs66whtpfsd8epy2yvfnl7o1l</td><td><div class=\"dni-plaintext\"><pre>&lt;null&gt;</pre></div></td><td>ACC</td></tr><tr style=\"display: none\"><td><i><div class=\"dni-plaintext\"><pre>29</pre></div></i></td><td>Colorado</td><td>Big 12</td><td><div class=\"dni-plaintext\"><pre>37</pre></div></td><td><div class=\"dni-plaintext\"><pre>13</pre></div></td><td>https://d9ioojyvhqpok.cloudfront.net/31k9h4jju8wo500iowlssig5xh2n</td><td><div class=\"dni-plaintext\"><pre>&lt;null&gt;</pre></div></td><td>Big 12</td></tr><tr style=\"display: none\"><td><i><div class=\"dni-plaintext\"><pre>30</pre></div></i></td><td>Florida State</td><td>ACC</td><td><div class=\"dni-plaintext\"><pre>33</pre></div></td><td><div class=\"dni-plaintext\"><pre>20</pre></div></td><td>https://d9ioojyvhqpok.cloudfront.net/m93iek4mxqk3riqkjcnkn6750owr</td><td><div class=\"dni-plaintext\"><pre>&lt;null&gt;</pre></div></td><td>ACC</td></tr><tr style=\"display: none\"><td><i><div class=\"dni-plaintext\"><pre>31</pre></div></i></td><td>Pitt</td><td>ACC</td><td><div class=\"dni-plaintext\"><pre>31</pre></div></td><td><div class=\"dni-plaintext\"><pre>11</pre></div></td><td>https://d9ioojyvhqpok.cloudfront.net/csd3a9od4s7wmvelf8ocfsz1iybj</td><td><div class=\"dni-plaintext\"><pre>&lt;null&gt;</pre></div></td><td>ACC</td></tr><tr style=\"display: none\"><td><i><div class=\"dni-plaintext\"><pre>32</pre></div></i></td><td>Vanderbilt</td><td>SEC</td><td><div class=\"dni-plaintext\"><pre>30</pre></div></td><td><div class=\"dni-plaintext\"><pre>11</pre></div></td><td>https://d9ioojyvhqpok.cloudfront.net/ks9tdyoxceupundm449cdwku6r07</td><td><div class=\"dni-plaintext\"><pre>&lt;null&gt;</pre></div></td><td>SEC</td></tr><tr style=\"display: none\"><td><i><div class=\"dni-plaintext\"><pre>33</pre></div></i></td><td>Minnesota</td><td>Big Ten</td><td><div class=\"dni-plaintext\"><pre>29</pre></div></td><td><div class=\"dni-plaintext\"><pre>8</pre></div></td><td>https://d9ioojyvhqpok.cloudfront.net/qwkosz3kmuu3cll5gejk03tlkbrc</td><td><div class=\"dni-plaintext\"><pre>&lt;null&gt;</pre></div></td><td>Big Ten</td></tr><tr style=\"display: none\"><td><i><div class=\"dni-plaintext\"><pre>34</pre></div></i></td><td>Northwestern</td><td>Big Ten</td><td><div class=\"dni-plaintext\"><pre>28</pre></div></td><td><div class=\"dni-plaintext\"><pre>5</pre></div></td><td>https://d9ioojyvhqpok.cloudfront.net/uzykooi74755tgvvarik104rhbwc</td><td><div class=\"dni-plaintext\"><pre>&lt;null&gt;</pre></div></td><td>Big Ten</td></tr><tr style=\"display: none\"><td><i><div class=\"dni-plaintext\"><pre>35</pre></div></i></td><td>Baylor</td><td>Big 12</td><td><div class=\"dni-plaintext\"><pre>27</pre></div></td><td><div class=\"dni-plaintext\"><pre>12</pre></div></td><td>https://d9ioojyvhqpok.cloudfront.net/680o8r6910ph1hh1y4x61eqn3q1a</td><td><div class=\"dni-plaintext\"><pre>&lt;null&gt;</pre></div></td><td>Big 12</td></tr><tr style=\"display: none\"><td><i><div class=\"dni-plaintext\"><pre>36</pre></div></i></td><td>Kansas</td><td>Big 12</td><td><div class=\"dni-plaintext\"><pre>27</pre></div></td><td><div class=\"dni-plaintext\"><pre>11</pre></div></td><td>https://d9ioojyvhqpok.cloudfront.net/3y3u2f1wfjxe2jgxqkfhh4bptcls</td><td><div class=\"dni-plaintext\"><pre>&lt;null&gt;</pre></div></td><td>Big 12</td></tr><tr style=\"display: none\"><td><i><div class=\"dni-plaintext\"><pre>37</pre></div></i></td><td>TCU</td><td>Big 12</td><td><div class=\"dni-plaintext\"><pre>25</pre></div></td><td><div class=\"dni-plaintext\"><pre>12</pre></div></td><td>https://d9ioojyvhqpok.cloudfront.net/3pn9fufuton7hpf2s6p0cdb71qau</td><td><div class=\"dni-plaintext\"><pre>&lt;null&gt;</pre></div></td><td>Big 12</td></tr><tr style=\"display: none\"><td><i><div class=\"dni-plaintext\"><pre>38</pre></div></i></td><td>Duke</td><td>ACC</td><td><div class=\"dni-plaintext\"><pre>25</pre></div></td><td><div class=\"dni-plaintext\"><pre>6</pre></div></td><td>https://d9ioojyvhqpok.cloudfront.net/mero0lt4runb7sfivdwof5kb4pfq</td><td><div class=\"dni-plaintext\"><pre>&lt;null&gt;</pre></div></td><td>ACC</td></tr><tr style=\"display: none\"><td><i><div class=\"dni-plaintext\"><pre>39</pre></div></i></td><td>Wisconsin</td><td>Big Ten</td><td><div class=\"dni-plaintext\"><pre>23</pre></div></td><td><div class=\"dni-plaintext\"><pre>10</pre></div></td><td>https://d9ioojyvhqpok.cloudfront.net/o4grd1s0303jrryu10vqeg74uw3y</td><td><div class=\"dni-plaintext\"><pre>&lt;null&gt;</pre></div></td><td>Big Ten</td></tr><tr style=\"display: none\"><td><i><div class=\"dni-plaintext\"><pre>40</pre></div></i></td><td>Cincinnati</td><td>Big 12</td><td><div class=\"dni-plaintext\"><pre>23</pre></div></td><td><div class=\"dni-plaintext\"><pre>7</pre></div></td><td>https://d9ioojyvhqpok.cloudfront.net/870bz02zmr1utzcq47atpmxmxhgn</td><td><div class=\"dni-plaintext\"><pre>&lt;null&gt;</pre></div></td><td>Big 12</td></tr><tr style=\"display: none\"><td><i><div class=\"dni-plaintext\"><pre>41</pre></div></i></td><td>Iowa State</td><td>Big 12</td><td><div class=\"dni-plaintext\"><pre>23</pre></div></td><td><div class=\"dni-plaintext\"><pre>6</pre></div></td><td>https://d9ioojyvhqpok.cloudfront.net/4y3zdnc9x1vnvvqjvq8h1ocvbph1</td><td><div class=\"dni-plaintext\"><pre>&lt;null&gt;</pre></div></td><td>Big 12</td></tr><tr style=\"display: none\"><td><i><div class=\"dni-plaintext\"><pre>42</pre></div></i></td><td>Virginia</td><td>ACC</td><td><div class=\"dni-plaintext\"><pre>21</pre></div></td><td><div class=\"dni-plaintext\"><pre>11</pre></div></td><td>https://d9ioojyvhqpok.cloudfront.net/n3p1twy2vglxg07gxs12mqum57ob</td><td><div class=\"dni-plaintext\"><pre>&lt;null&gt;</pre></div></td><td>ACC</td></tr><tr style=\"display: none\"><td><i><div class=\"dni-plaintext\"><pre>43</pre></div></i></td><td>Michigan State</td><td>Big Ten</td><td><div class=\"dni-plaintext\"><pre>21</pre></div></td><td><div class=\"dni-plaintext\"><pre>7</pre></div></td><td>https://d9ioojyvhqpok.cloudfront.net/cg1n9n8hr8srlsf1f5n8hshp7hn4</td><td><div class=\"dni-plaintext\"><pre>&lt;null&gt;</pre></div></td><td>Big Ten</td></tr><tr style=\"display: none\"><td><i><div class=\"dni-plaintext\"><pre>44</pre></div></i></td><td>Boston College</td><td>ACC</td><td><div class=\"dni-plaintext\"><pre>20</pre></div></td><td><div class=\"dni-plaintext\"><pre>6</pre></div></td><td>https://d9ioojyvhqpok.cloudfront.net/pvnuj3g9p7wjnr5tqceycvcd3cyj</td><td><div class=\"dni-plaintext\"><pre>&lt;null&gt;</pre></div></td><td>ACC</td></tr><tr style=\"display: none\"><td><i><div class=\"dni-plaintext\"><pre>45</pre></div></i></td><td>Georgia Tech</td><td>ACC</td><td><div class=\"dni-plaintext\"><pre>17</pre></div></td><td><div class=\"dni-plaintext\"><pre>7</pre></div></td><td>https://d9ioojyvhqpok.cloudfront.net/81nz08xlyuakuteawucr4up3suo8</td><td><div class=\"dni-plaintext\"><pre>&lt;null&gt;</pre></div></td><td>ACC</td></tr><tr style=\"display: none\"><td><i><div class=\"dni-plaintext\"><pre>46</pre></div></i></td><td>NC State</td><td>ACC</td><td><div class=\"dni-plaintext\"><pre>17</pre></div></td><td><div class=\"dni-plaintext\"><pre>7</pre></div></td><td>https://d9ioojyvhqpok.cloudfront.net/7fycbtf0wh1qkppyd2rk1262d70m</td><td><div class=\"dni-plaintext\"><pre>&lt;null&gt;</pre></div></td><td>ACC</td></tr><tr style=\"display: none\"><td><i><div class=\"dni-plaintext\"><pre>47</pre></div></i></td><td>Wake Forest</td><td>ACC</td><td><div class=\"dni-plaintext\"><pre>17</pre></div></td><td><div class=\"dni-plaintext\"><pre>6</pre></div></td><td>https://d9ioojyvhqpok.cloudfront.net/j2ohf1x4a1qpbbv4wc288wjlcxog</td><td><div class=\"dni-plaintext\"><pre>&lt;null&gt;</pre></div></td><td>ACC</td></tr><tr style=\"display: none\"><td><i><div class=\"dni-plaintext\"><pre>48</pre></div></i></td><td>North Carolina</td><td>ACC</td><td><div class=\"dni-plaintext\"><pre>16</pre></div></td><td><div class=\"dni-plaintext\"><pre>10</pre></div></td><td>https://d9ioojyvhqpok.cloudfront.net/5c23eybxnlio9jxtkswlc2alkceh</td><td><div class=\"dni-plaintext\"><pre>&lt;null&gt;</pre></div></td><td>ACC</td></tr><tr style=\"display: none\"><td><i><div class=\"dni-plaintext\"><pre>49</pre></div></i></td><td>Kentucky</td><td>SEC</td><td><div class=\"dni-plaintext\"><pre>15</pre></div></td><td><div class=\"dni-plaintext\"><pre>15</pre></div></td><td>https://d9ioojyvhqpok.cloudfront.net/ut5ldsk84c4ha7ugkge0nc6dhkn1</td><td><div class=\"dni-plaintext\"><pre>&lt;null&gt;</pre></div></td><td>SEC</td></tr><tr style=\"display: none\"><td><i><div class=\"dni-plaintext\"><pre>50</pre></div></i></td><td>California</td><td>ACC</td><td><div class=\"dni-plaintext\"><pre>15</pre></div></td><td><div class=\"dni-plaintext\"><pre>8</pre></div></td><td>https://d9ioojyvhqpok.cloudfront.net/auflw3knuli3lbv8xyfpf3isplcn</td><td><div class=\"dni-plaintext\"><pre>&lt;null&gt;</pre></div></td><td>ACC</td></tr><tr style=\"display: none\"><td><i><div class=\"dni-plaintext\"><pre>51</pre></div></i></td><td>UConn</td><td>FBS - AAC</td><td><div class=\"dni-plaintext\"><pre>14</pre></div></td><td><div class=\"dni-plaintext\"><pre>4</pre></div></td><td>https://d9ioojyvhqpok.cloudfront.net/rbfl7zbsn9fqyx2083lv9qh3abo1</td><td><div class=\"dni-plaintext\"><pre>&lt;null&gt;</pre></div></td><td>RandomSmallSchool</td></tr><tr style=\"display: none\"><td><i><div class=\"dni-plaintext\"><pre>52</pre></div></i></td><td>Nebraska</td><td>Big Ten</td><td><div class=\"dni-plaintext\"><pre>13</pre></div></td><td><div class=\"dni-plaintext\"><pre>7</pre></div></td><td>https://d9ioojyvhqpok.cloudfront.net/bggpjlssuaua1w9xvmk0l6adeexb</td><td><div class=\"dni-plaintext\"><pre>&lt;null&gt;</pre></div></td><td>Big Ten</td></tr><tr style=\"display: none\"><td><i><div class=\"dni-plaintext\"><pre>53</pre></div></i></td><td>Boise State</td><td>FBS - Mountain West</td><td><div class=\"dni-plaintext\"><pre>12</pre></div></td><td><div class=\"dni-plaintext\"><pre>5</pre></div></td><td>https://d9ioojyvhqpok.cloudfront.net/uyicpybpsmloik4ba9lvjoehaht6</td><td><div class=\"dni-plaintext\"><pre>&lt;null&gt;</pre></div></td><td>RandomSmallSchool</td></tr><tr style=\"display: none\"><td><i><div class=\"dni-plaintext\"><pre>54</pre></div></i></td><td>Arizona</td><td>Big 12</td><td><div class=\"dni-plaintext\"><pre>12</pre></div></td><td><div class=\"dni-plaintext\"><pre>4</pre></div></td><td>https://d9ioojyvhqpok.cloudfront.net/yc1zi4t9i033n72emneex4dsz107</td><td><div class=\"dni-plaintext\"><pre>&lt;null&gt;</pre></div></td><td>Big 12</td></tr><tr style=\"display: none\"><td><i><div class=\"dni-plaintext\"><pre>55</pre></div></i></td><td>Virginia Tech</td><td>ACC</td><td><div class=\"dni-plaintext\"><pre>11</pre></div></td><td><div class=\"dni-plaintext\"><pre>9</pre></div></td><td>https://d9ioojyvhqpok.cloudfront.net/zdyvvg0cti8zu96k5d3l9wjjk336</td><td><div class=\"dni-plaintext\"><pre>&lt;null&gt;</pre></div></td><td>ACC</td></tr><tr style=\"display: none\"><td><i><div class=\"dni-plaintext\"><pre>56</pre></div></i></td><td>Arkansas</td><td>SEC</td><td><div class=\"dni-plaintext\"><pre>11</pre></div></td><td><div class=\"dni-plaintext\"><pre>5</pre></div></td><td>https://d9ioojyvhqpok.cloudfront.net/y9pwbaaqxph2ngmsubw4c8mabj28</td><td><div class=\"dni-plaintext\"><pre>&lt;null&gt;</pre></div></td><td>SEC</td></tr><tr style=\"display: none\"><td><i><div class=\"dni-plaintext\"><pre>57</pre></div></i></td><td>Kansas State</td><td>Big 12</td><td><div class=\"dni-plaintext\"><pre>11</pre></div></td><td><div class=\"dni-plaintext\"><pre>3</pre></div></td><td>https://d9ioojyvhqpok.cloudfront.net/cf5agfhv1kbdl5pdwue68uacixdr</td><td><div class=\"dni-plaintext\"><pre>&lt;null&gt;</pre></div></td><td>Big 12</td></tr><tr style=\"display: none\"><td><i><div class=\"dni-plaintext\"><pre>58</pre></div></i></td><td>UCLA</td><td>Big Ten</td><td><div class=\"dni-plaintext\"><pre>10</pre></div></td><td><div class=\"dni-plaintext\"><pre>6</pre></div></td><td>https://d9ioojyvhqpok.cloudfront.net/eg2j22sbnhfw3bbfn1tz41ejtehl</td><td><div class=\"dni-plaintext\"><pre>&lt;null&gt;</pre></div></td><td>Big Ten</td></tr><tr style=\"display: none\"><td><i><div class=\"dni-plaintext\"><pre>59</pre></div></i></td><td>Stanford</td><td>ACC</td><td><div class=\"dni-plaintext\"><pre>10</pre></div></td><td><div class=\"dni-plaintext\"><pre>5</pre></div></td><td>https://d9ioojyvhqpok.cloudfront.net/r84jnj5bajsm80wdy364ziid0z84</td><td><div class=\"dni-plaintext\"><pre>&lt;null&gt;</pre></div></td><td>ACC</td></tr><tr style=\"display: none\"><td><i><div class=\"dni-plaintext\"><pre>60</pre></div></i></td><td>Texas State</td><td>FBS - Sun Belt</td><td><div class=\"dni-plaintext\"><pre>9</pre></div></td><td><div class=\"dni-plaintext\"><pre>5</pre></div></td><td>https://d9ioojyvhqpok.cloudfront.net/xs9x6mbqnl60a5ivuzdypubo74dh</td><td><div class=\"dni-plaintext\"><pre>&lt;null&gt;</pre></div></td><td>RandomSmallSchool</td></tr><tr style=\"display: none\"><td><i><div class=\"dni-plaintext\"><pre>61</pre></div></i></td><td>East Carolina</td><td>FBS - AAC</td><td><div class=\"dni-plaintext\"><pre>9</pre></div></td><td><div class=\"dni-plaintext\"><pre>5</pre></div></td><td>https://d9ioojyvhqpok.cloudfront.net/4fofh5ug49ze2z31qvy645o1teye</td><td><div class=\"dni-plaintext\"><pre>&lt;null&gt;</pre></div></td><td>RandomSmallSchool</td></tr><tr style=\"display: none\"><td><i><div class=\"dni-plaintext\"><pre>62</pre></div></i></td><td>Wyoming</td><td>FBS - Mountain West</td><td><div class=\"dni-plaintext\"><pre>9</pre></div></td><td><div class=\"dni-plaintext\"><pre>3</pre></div></td><td>https://d9ioojyvhqpok.cloudfront.net/ep7hiz9nugk2psxcfwc5mj701dzf</td><td><div class=\"dni-plaintext\"><pre>&lt;null&gt;</pre></div></td><td>RandomSmallSchool</td></tr><tr style=\"display: none\"><td><i><div class=\"dni-plaintext\"><pre>63</pre></div></i></td><td>Mississippi State</td><td>SEC</td><td><div class=\"dni-plaintext\"><pre>8</pre></div></td><td><div class=\"dni-plaintext\"><pre>8</pre></div></td><td>https://d9ioojyvhqpok.cloudfront.net/fx6nh0df2yp80txh0qv4lzengrnr</td><td><div class=\"dni-plaintext\"><pre>&lt;null&gt;</pre></div></td><td>SEC</td></tr><tr style=\"display: none\"><td><i><div class=\"dni-plaintext\"><pre>64</pre></div></i></td><td>Maryland</td><td>Big Ten</td><td><div class=\"dni-plaintext\"><pre>7</pre></div></td><td><div class=\"dni-plaintext\"><pre>4</pre></div></td><td>https://d9ioojyvhqpok.cloudfront.net/d3n73hxgsb7bplz3zkxq5ubrewx4</td><td><div class=\"dni-plaintext\"><pre>&lt;null&gt;</pre></div></td><td>Big Ten</td></tr><tr style=\"display: none\"><td><i><div class=\"dni-plaintext\"><pre>65</pre></div></i></td><td>James Madison</td><td>FBS - Sun Belt</td><td><div class=\"dni-plaintext\"><pre>7</pre></div></td><td><div class=\"dni-plaintext\"><pre>3</pre></div></td><td>https://d9ioojyvhqpok.cloudfront.net/jxwsh5nfw2r1lak6vps8g12jl54j</td><td><div class=\"dni-plaintext\"><pre>&lt;null&gt;</pre></div></td><td>RandomSmallSchool</td></tr><tr style=\"display: none\"><td><i><div class=\"dni-plaintext\"><pre>66</pre></div></i></td><td>Toledo</td><td>FBS - MAC</td><td><div class=\"dni-plaintext\"><pre>7</pre></div></td><td><div class=\"dni-plaintext\"><pre>2</pre></div></td><td>https://d9ioojyvhqpok.cloudfront.net/m1sfaztmkwljt443jgfvxniro9pt</td><td><div class=\"dni-plaintext\"><pre>&lt;null&gt;</pre></div></td><td>RandomSmallSchool</td></tr><tr style=\"display: none\"><td><i><div class=\"dni-plaintext\"><pre>67</pre></div></i></td><td>Oklahoma State</td><td>Big 12</td><td><div class=\"dni-plaintext\"><pre>6</pre></div></td><td><div class=\"dni-plaintext\"><pre>6</pre></div></td><td>https://d9ioojyvhqpok.cloudfront.net/qwfc4f82m2rngln7rguecgcdanch</td><td><div class=\"dni-plaintext\"><pre>&lt;null&gt;</pre></div></td><td>Big 12</td></tr><tr style=\"display: none\"><td><i><div class=\"dni-plaintext\"><pre>68</pre></div></i></td><td>UTEP</td><td>FBS - CUSA</td><td><div class=\"dni-plaintext\"><pre>6</pre></div></td><td><div class=\"dni-plaintext\"><pre>2</pre></div></td><td>https://d9ioojyvhqpok.cloudfront.net/das7yv34vzekh2h8y2xt3wxsy8zp</td><td><div class=\"dni-plaintext\"><pre>&lt;null&gt;</pre></div></td><td>RandomSmallSchool</td></tr><tr style=\"display: none\"><td><i><div class=\"dni-plaintext\"><pre>69</pre></div></i></td><td>North Dakota State</td><td>FCS</td><td><div class=\"dni-plaintext\"><pre>6</pre></div></td><td><div class=\"dni-plaintext\"><pre>1</pre></div></td><td>https://d9ioojyvhqpok.cloudfront.net/2bysk1tvl4fivjvr6l70tl6imxvx</td><td><div class=\"dni-plaintext\"><pre>&lt;null&gt;</pre></div></td><td>RandomSmallSchool</td></tr><tr style=\"display: none\"><td><i><div class=\"dni-plaintext\"><pre>70</pre></div></i></td><td>West Virginia</td><td>Big 12</td><td><div class=\"dni-plaintext\"><pre>5</pre></div></td><td><div class=\"dni-plaintext\"><pre>5</pre></div></td><td>https://d9ioojyvhqpok.cloudfront.net/37s7o47tb2yw9pkq8f0wbmra4n5c</td><td><div class=\"dni-plaintext\"><pre>&lt;null&gt;</pre></div></td><td>Big 12</td></tr><tr style=\"display: none\"><td><i><div class=\"dni-plaintext\"><pre>71</pre></div></i></td><td>UCF</td><td>Big 12</td><td><div class=\"dni-plaintext\"><pre>5</pre></div></td><td><div class=\"dni-plaintext\"><pre>5</pre></div></td><td>https://d9ioojyvhqpok.cloudfront.net/g0vfbj8pnx4msjf7l42l5h1esvn4</td><td><div class=\"dni-plaintext\"><pre>&lt;null&gt;</pre></div></td><td>Big 12</td></tr><tr style=\"display: none\"><td><i><div class=\"dni-plaintext\"><pre>72</pre></div></i></td><td>Southern Miss</td><td>FBS - CUSA</td><td><div class=\"dni-plaintext\"><pre>5</pre></div></td><td><div class=\"dni-plaintext\"><pre>5</pre></div></td><td>https://d9ioojyvhqpok.cloudfront.net/vljaktb9bwwnrs8vbsz5zjiehzbg</td><td><div class=\"dni-plaintext\"><pre>&lt;null&gt;</pre></div></td><td>RandomSmallSchool</td></tr><tr style=\"display: none\"><td><i><div class=\"dni-plaintext\"><pre>73</pre></div></i></td><td>Marshall</td><td>FBS - CUSA</td><td><div class=\"dni-plaintext\"><pre>5</pre></div></td><td><div class=\"dni-plaintext\"><pre>4</pre></div></td><td>https://d9ioojyvhqpok.cloudfront.net/1n0ygqwmsvg771vm8ilzdptyhvvv</td><td><div class=\"dni-plaintext\"><pre>&lt;null&gt;</pre></div></td><td>RandomSmallSchool</td></tr><tr style=\"display: none\"><td><i><div class=\"dni-plaintext\"><pre>74</pre></div></i></td><td>UNLV</td><td>FBS - Mountain West</td><td><div class=\"dni-plaintext\"><pre>5</pre></div></td><td><div class=\"dni-plaintext\"><pre>4</pre></div></td><td>https://d9ioojyvhqpok.cloudfront.net/4hxbby4zzz5hxuffm00vngkx1j87</td><td><div class=\"dni-plaintext\"><pre>&lt;null&gt;</pre></div></td><td>RandomSmallSchool</td></tr><tr style=\"display: none\"><td><i><div class=\"dni-plaintext\"><pre>75</pre></div></i></td><td>Purdue</td><td>Big Ten</td><td><div class=\"dni-plaintext\"><pre>4</pre></div></td><td><div class=\"dni-plaintext\"><pre>4</pre></div></td><td>https://d9ioojyvhqpok.cloudfront.net/0bjmmsxwhzoksybxoe4l71fr2d87</td><td><div class=\"dni-plaintext\"><pre>&lt;null&gt;</pre></div></td><td>Big Ten</td></tr><tr style=\"display: none\"><td><i><div class=\"dni-plaintext\"><pre>76</pre></div></i></td><td>Rutgers</td><td>Big Ten</td><td><div class=\"dni-plaintext\"><pre>4</pre></div></td><td><div class=\"dni-plaintext\"><pre>4</pre></div></td><td>https://d9ioojyvhqpok.cloudfront.net/70kax5tvygnc259akspwmf5pzxq9</td><td><div class=\"dni-plaintext\"><pre>&lt;null&gt;</pre></div></td><td>Big Ten</td></tr><tr style=\"display: none\"><td><i><div class=\"dni-plaintext\"><pre>77</pre></div></i></td><td>Charlotte</td><td>FBS - AAC</td><td><div class=\"dni-plaintext\"><pre>4</pre></div></td><td><div class=\"dni-plaintext\"><pre>4</pre></div></td><td>https://d9ioojyvhqpok.cloudfront.net/f48xuaazydxqnl9pulwp0n9b2w56</td><td><div class=\"dni-plaintext\"><pre>&lt;null&gt;</pre></div></td><td>RandomSmallSchool</td></tr><tr style=\"display: none\"><td><i><div class=\"dni-plaintext\"><pre>78</pre></div></i></td><td>Tulane</td><td>FBS - AAC</td><td><div class=\"dni-plaintext\"><pre>4</pre></div></td><td><div class=\"dni-plaintext\"><pre>4</pre></div></td><td>https://d9ioojyvhqpok.cloudfront.net/6mz16izd2o7j5755blz7hurdhz22</td><td><div class=\"dni-plaintext\"><pre>&lt;null&gt;</pre></div></td><td>RandomSmallSchool</td></tr><tr style=\"display: none\"><td><i><div class=\"dni-plaintext\"><pre>79</pre></div></i></td><td>Rice</td><td>FBS - AAC</td><td><div class=\"dni-plaintext\"><pre>4</pre></div></td><td><div class=\"dni-plaintext\"><pre>3</pre></div></td><td>https://d9ioojyvhqpok.cloudfront.net/vmac0vdq6nqzo42x1b0ooiaura3g</td><td><div class=\"dni-plaintext\"><pre>&lt;null&gt;</pre></div></td><td>RandomSmallSchool</td></tr><tr style=\"display: none\"><td><i><div class=\"dni-plaintext\"><pre>80</pre></div></i></td><td>Houston</td><td>Big 12</td><td><div class=\"dni-plaintext\"><pre>3</pre></div></td><td><div class=\"dni-plaintext\"><pre>3</pre></div></td><td>https://d9ioojyvhqpok.cloudfront.net/yzomr1qt1a1pdlbdwkkn94teus90</td><td><div class=\"dni-plaintext\"><pre>&lt;null&gt;</pre></div></td><td>Big 12</td></tr><tr style=\"display: none\"><td><i><div class=\"dni-plaintext\"><pre>81</pre></div></i></td><td>Akron</td><td>FBS - MAC</td><td><div class=\"dni-plaintext\"><pre>3</pre></div></td><td><div class=\"dni-plaintext\"><pre>3</pre></div></td><td>https://d9ioojyvhqpok.cloudfront.net/yvu5t7whomsw1iosdwm8fawpi5qj</td><td><div class=\"dni-plaintext\"><pre>&lt;null&gt;</pre></div></td><td>RandomSmallSchool</td></tr><tr style=\"display: none\"><td><i><div class=\"dni-plaintext\"><pre>82</pre></div></i></td><td>Youngstown State</td><td>FCS</td><td><div class=\"dni-plaintext\"><pre>3</pre></div></td><td><div class=\"dni-plaintext\"><pre>2</pre></div></td><td>https://d9ioojyvhqpok.cloudfront.net/rk7ez7uyily7v63g01g6zqtgy7e8</td><td><div class=\"dni-plaintext\"><pre>&lt;null&gt;</pre></div></td><td>RandomSmallSchool</td></tr><tr style=\"display: none\"><td><i><div class=\"dni-plaintext\"><pre>83</pre></div></i></td><td>Massachusetts</td><td>FBS - MAC</td><td><div class=\"dni-plaintext\"><pre>3</pre></div></td><td><div class=\"dni-plaintext\"><pre>2</pre></div></td><td>https://d9ioojyvhqpok.cloudfront.net/enpjhipf6zrlbpox3c368n4k7ugr</td><td><div class=\"dni-plaintext\"><pre>&lt;null&gt;</pre></div></td><td>RandomSmallSchool</td></tr><tr style=\"display: none\"><td><i><div class=\"dni-plaintext\"><pre>84</pre></div></i></td><td>Troy</td><td>FBS - Sun Belt</td><td><div class=\"dni-plaintext\"><pre>3</pre></div></td><td><div class=\"dni-plaintext\"><pre>2</pre></div></td><td>https://d9ioojyvhqpok.cloudfront.net/ruiflpk24qu2y21m46ltngncpusm</td><td><div class=\"dni-plaintext\"><pre>&lt;null&gt;</pre></div></td><td>RandomSmallSchool</td></tr><tr style=\"display: none\"><td><i><div class=\"dni-plaintext\"><pre>85</pre></div></i></td><td>Sacramento State</td><td>FCS</td><td><div class=\"dni-plaintext\"><pre>2</pre></div></td><td><div class=\"dni-plaintext\"><pre>2</pre></div></td><td>https://d9ioojyvhqpok.cloudfront.net/1d7nzf0sk6cd8sgcstgisghgthvu</td><td><div class=\"dni-plaintext\"><pre>&lt;null&gt;</pre></div></td><td>RandomSmallSchool</td></tr><tr style=\"display: none\"><td><i><div class=\"dni-plaintext\"><pre>86</pre></div></i></td><td>Jacksonville State</td><td>FBS - CUSA</td><td><div class=\"dni-plaintext\"><pre>2</pre></div></td><td><div class=\"dni-plaintext\"><pre>2</pre></div></td><td>https://d9ioojyvhqpok.cloudfront.net/e7p9srs34k8g21vjl6zet58xwnqg</td><td><div class=\"dni-plaintext\"><pre>&lt;null&gt;</pre></div></td><td>RandomSmallSchool</td></tr><tr style=\"display: none\"><td><i><div class=\"dni-plaintext\"><pre>87</pre></div></i></td><td>BYU</td><td>Big 12</td><td><div class=\"dni-plaintext\"><pre>2</pre></div></td><td><div class=\"dni-plaintext\"><pre>2</pre></div></td><td>https://d9ioojyvhqpok.cloudfront.net/ckao4l33k79nnp9b84uvigzihrgs</td><td><div class=\"dni-plaintext\"><pre>&lt;null&gt;</pre></div></td><td>Big 12</td></tr><tr style=\"display: none\"><td><i><div class=\"dni-plaintext\"><pre>88</pre></div></i></td><td>Memphis</td><td>FBS - AAC</td><td><div class=\"dni-plaintext\"><pre>2</pre></div></td><td><div class=\"dni-plaintext\"><pre>2</pre></div></td><td>https://d9ioojyvhqpok.cloudfront.net/zapbfiasf58lmrmdciirdnudnb8e</td><td><div class=\"dni-plaintext\"><pre>&lt;null&gt;</pre></div></td><td>RandomSmallSchool</td></tr><tr style=\"display: none\"><td><i><div class=\"dni-plaintext\"><pre>89</pre></div></i></td><td>UAB</td><td>FBS - AAC</td><td><div class=\"dni-plaintext\"><pre>2</pre></div></td><td><div class=\"dni-plaintext\"><pre>2</pre></div></td><td>https://d9ioojyvhqpok.cloudfront.net/358rqeeze9m7p9m4bmnrwml1w5ml</td><td><div class=\"dni-plaintext\"><pre>&lt;null&gt;</pre></div></td><td>RandomSmallSchool</td></tr><tr style=\"display: none\"><td><i><div class=\"dni-plaintext\"><pre>90</pre></div></i></td><td>South Florida</td><td>FBS - AAC</td><td><div class=\"dni-plaintext\"><pre>2</pre></div></td><td><div class=\"dni-plaintext\"><pre>2</pre></div></td><td>https://d9ioojyvhqpok.cloudfront.net/9nu9lpb74q8f59qi77398wm14asl</td><td><div class=\"dni-plaintext\"><pre>&lt;null&gt;</pre></div></td><td>RandomSmallSchool</td></tr><tr style=\"display: none\"><td><i><div class=\"dni-plaintext\"><pre>91</pre></div></i></td><td>UTSA</td><td>FBS - AAC</td><td><div class=\"dni-plaintext\"><pre>2</pre></div></td><td><div class=\"dni-plaintext\"><pre>2</pre></div></td><td>https://d9ioojyvhqpok.cloudfront.net/ayy2o4qfgx3no4r54obep8ah3yvg</td><td><div class=\"dni-plaintext\"><pre>&lt;null&gt;</pre></div></td><td>RandomSmallSchool</td></tr><tr style=\"display: none\"><td><i><div class=\"dni-plaintext\"><pre>92</pre></div></i></td><td>Appalachian State</td><td>FBS - Sun Belt</td><td><div class=\"dni-plaintext\"><pre>2</pre></div></td><td><div class=\"dni-plaintext\"><pre>2</pre></div></td><td>https://d9ioojyvhqpok.cloudfront.net/3lp6eio7dartb77wqwr0xl2lpzch</td><td><div class=\"dni-plaintext\"><pre>&lt;null&gt;</pre></div></td><td>RandomSmallSchool</td></tr><tr style=\"display: none\"><td><i><div class=\"dni-plaintext\"><pre>93</pre></div></i></td><td>Oregon State</td><td>Pac 12</td><td><div class=\"dni-plaintext\"><pre>2</pre></div></td><td><div class=\"dni-plaintext\"><pre>2</pre></div></td><td>https://d9ioojyvhqpok.cloudfront.net/ueh09xe6mxltdzhv3wsyz5o3al67</td><td><div class=\"dni-plaintext\"><pre>&lt;null&gt;</pre></div></td><td>RandomSmallSchool</td></tr><tr style=\"display: none\"><td><i><div class=\"dni-plaintext\"><pre>94</pre></div></i></td><td>Louisiana-Lafayette</td><td>FBS - Sun Belt</td><td><div class=\"dni-plaintext\"><pre>2</pre></div></td><td><div class=\"dni-plaintext\"><pre>2</pre></div></td><td>https://d9ioojyvhqpok.cloudfront.net/hmda77r618rropcqdewolreubcgy</td><td><div class=\"dni-plaintext\"><pre>&lt;null&gt;</pre></div></td><td>RandomSmallSchool</td></tr><tr style=\"display: none\"><td><i><div class=\"dni-plaintext\"><pre>95</pre></div></i></td><td>Coastal Carolina</td><td>FCS</td><td><div class=\"dni-plaintext\"><pre>2</pre></div></td><td><div class=\"dni-plaintext\"><pre>2</pre></div></td><td>https://d9ioojyvhqpok.cloudfront.net/q28b5wqgm9onpd38fyk9ji9idh6o</td><td><div class=\"dni-plaintext\"><pre>&lt;null&gt;</pre></div></td><td>RandomSmallSchool</td></tr><tr style=\"display: none\"><td><i><div class=\"dni-plaintext\"><pre>96</pre></div></i></td><td>Syracuse</td><td>ACC</td><td><div class=\"dni-plaintext\"><pre>2</pre></div></td><td><div class=\"dni-plaintext\"><pre>2</pre></div></td><td>https://d9ioojyvhqpok.cloudfront.net/gxu8tigguesk475f4vlaryv7z5kr</td><td><div class=\"dni-plaintext\"><pre>&lt;null&gt;</pre></div></td><td>ACC</td></tr><tr style=\"display: none\"><td><i><div class=\"dni-plaintext\"><pre>97</pre></div></i></td><td>Florida International</td><td>FBS - CUSA</td><td><div class=\"dni-plaintext\"><pre>2</pre></div></td><td><div class=\"dni-plaintext\"><pre>2</pre></div></td><td>https://d9ioojyvhqpok.cloudfront.net/8fqmtiyqj379vsr6f5ydwddhqd57</td><td><div class=\"dni-plaintext\"><pre>&lt;null&gt;</pre></div></td><td>RandomSmallSchool</td></tr><tr style=\"display: none\"><td><i><div class=\"dni-plaintext\"><pre>98</pre></div></i></td><td>Miami (OH)</td><td>FBS - MAC</td><td><div class=\"dni-plaintext\"><pre>2</pre></div></td><td><div class=\"dni-plaintext\"><pre>2</pre></div></td><td>https://d9ioojyvhqpok.cloudfront.net/ygn6xy9b08f21smi3h08xv63d310</td><td><div class=\"dni-plaintext\"><pre>&lt;null&gt;</pre></div></td><td>RandomSmallSchool</td></tr><tr style=\"display: none\"><td><i><div class=\"dni-plaintext\"><pre>99</pre></div></i></td><td>Bowling Green</td><td>FBS - MAC</td><td><div class=\"dni-plaintext\"><pre>2</pre></div></td><td><div class=\"dni-plaintext\"><pre>2</pre></div></td><td>https://d9ioojyvhqpok.cloudfront.net/khecbhkwna27ftfkqu57arc897zj</td><td><div class=\"dni-plaintext\"><pre>&lt;null&gt;</pre></div></td><td>RandomSmallSchool</td></tr><tr style=\"display: none\"><td><i><div class=\"dni-plaintext\"><pre>100</pre></div></i></td><td>North Dakota</td><td>FCS</td><td><div class=\"dni-plaintext\"><pre>2</pre></div></td><td><div class=\"dni-plaintext\"><pre>1</pre></div></td><td>https://d9ioojyvhqpok.cloudfront.net/7we66inumbdffyzpr98g8bbet7p3</td><td><div class=\"dni-plaintext\"><pre>&lt;null&gt;</pre></div></td><td>RandomSmallSchool</td></tr><tr style=\"display: none\"><td><i><div class=\"dni-plaintext\"><pre>101</pre></div></i></td><td>Harvard</td><td>FCS</td><td><div class=\"dni-plaintext\"><pre>2</pre></div></td><td><div class=\"dni-plaintext\"><pre>1</pre></div></td><td>https://d9ioojyvhqpok.cloudfront.net/88rmmrypn77edwni0fqdzvh0k3np</td><td><div class=\"dni-plaintext\"><pre>&lt;null&gt;</pre></div></td><td>RandomSmallSchool</td></tr><tr style=\"display: none\"><td><i><div class=\"dni-plaintext\"><pre>102</pre></div></i></td><td>Lafayette</td><td>FCS</td><td><div class=\"dni-plaintext\"><pre>1</pre></div></td><td><div class=\"dni-plaintext\"><pre>1</pre></div></td><td>https://d9ioojyvhqpok.cloudfront.net/l8chdyeugemmljnurqcdtooir3ft</td><td><div class=\"dni-plaintext\"><pre>&lt;null&gt;</pre></div></td><td>RandomSmallSchool</td></tr><tr style=\"display: none\"><td><i><div class=\"dni-plaintext\"><pre>103</pre></div></i></td><td>Sam Houston State</td><td>FBS - CUSA</td><td><div class=\"dni-plaintext\"><pre>1</pre></div></td><td><div class=\"dni-plaintext\"><pre>1</pre></div></td><td>https://d9ioojyvhqpok.cloudfront.net/griwt4t7qd18gfqw83vljfjsp3g9</td><td><div class=\"dni-plaintext\"><pre>&lt;null&gt;</pre></div></td><td>RandomSmallSchool</td></tr><tr style=\"display: none\"><td><i><div class=\"dni-plaintext\"><pre>104</pre></div></i></td><td>Northern Illinois</td><td>FBS - MAC</td><td><div class=\"dni-plaintext\"><pre>1</pre></div></td><td><div class=\"dni-plaintext\"><pre>1</pre></div></td><td>https://d9ioojyvhqpok.cloudfront.net/i2l5ye5l6hfr8us7xn0wmo3g43dj</td><td><div class=\"dni-plaintext\"><pre>&lt;null&gt;</pre></div></td><td>RandomSmallSchool</td></tr><tr style=\"display: none\"><td><i><div class=\"dni-plaintext\"><pre>105</pre></div></i></td><td>South Dakota State</td><td>FCS</td><td><div class=\"dni-plaintext\"><pre>1</pre></div></td><td><div class=\"dni-plaintext\"><pre>1</pre></div></td><td>https://d9ioojyvhqpok.cloudfront.net/j1h4ym5rvem469nmw166um7w8yyd</td><td><div class=\"dni-plaintext\"><pre>&lt;null&gt;</pre></div></td><td>RandomSmallSchool</td></tr><tr style=\"display: none\"><td><i><div class=\"dni-plaintext\"><pre>106</pre></div></i></td><td>William &amp; Mary</td><td>FCS</td><td><div class=\"dni-plaintext\"><pre>1</pre></div></td><td><div class=\"dni-plaintext\"><pre>1</pre></div></td><td>https://d9ioojyvhqpok.cloudfront.net/cvw607y4kd4abt1omhz4rfw3pqtt</td><td><div class=\"dni-plaintext\"><pre>&lt;null&gt;</pre></div></td><td>RandomSmallSchool</td></tr><tr style=\"display: none\"><td><i><div class=\"dni-plaintext\"><pre>107</pre></div></i></td><td>San Diego State</td><td>FBS - Mountain West</td><td><div class=\"dni-plaintext\"><pre>1</pre></div></td><td><div class=\"dni-plaintext\"><pre>1</pre></div></td><td>https://d9ioojyvhqpok.cloudfront.net/8lk0itjyx8g1jxftz0jchjoh45ro</td><td><div class=\"dni-plaintext\"><pre>&lt;null&gt;</pre></div></td><td>RandomSmallSchool</td></tr><tr style=\"display: none\"><td><i><div class=\"dni-plaintext\"><pre>108</pre></div></i></td><td>Abilene Christian</td><td>FCS</td><td><div class=\"dni-plaintext\"><pre>1</pre></div></td><td><div class=\"dni-plaintext\"><pre>1</pre></div></td><td>https://d9ioojyvhqpok.cloudfront.net/h56roel3p7yjm390npx8lbrlq0fk</td><td><div class=\"dni-plaintext\"><pre>&lt;null&gt;</pre></div></td><td>RandomSmallSchool</td></tr><tr style=\"display: none\"><td><i><div class=\"dni-plaintext\"><pre>109</pre></div></i></td><td>Virginia State</td><td>D2</td><td><div class=\"dni-plaintext\"><pre>1</pre></div></td><td><div class=\"dni-plaintext\"><pre>1</pre></div></td><td>https://d9ioojyvhqpok.cloudfront.net/wm2lvh7f72qagwvyazia4070pm71</td><td><div class=\"dni-plaintext\"><pre>&lt;null&gt;</pre></div></td><td>RandomSmallSchool</td></tr><tr style=\"display: none\"><td><i><div class=\"dni-plaintext\"><pre>110</pre></div></i></td><td>Buffalo</td><td>FBS - MAC</td><td><div class=\"dni-plaintext\"><pre>1</pre></div></td><td><div class=\"dni-plaintext\"><pre>1</pre></div></td><td>https://d9ioojyvhqpok.cloudfront.net/i8kbv9ioldxrcyoirtm9nfzr6e5n</td><td><div class=\"dni-plaintext\"><pre>&lt;null&gt;</pre></div></td><td>RandomSmallSchool</td></tr><tr style=\"display: none\"><td><i><div class=\"dni-plaintext\"><pre>111</pre></div></i></td><td>Arkansas State</td><td>FBS - Sun Belt</td><td><div class=\"dni-plaintext\"><pre>1</pre></div></td><td><div class=\"dni-plaintext\"><pre>1</pre></div></td><td>https://d9ioojyvhqpok.cloudfront.net/0y0q70b747itik24akazpunl090f</td><td><div class=\"dni-plaintext\"><pre>&lt;null&gt;</pre></div></td><td>RandomSmallSchool</td></tr><tr style=\"display: none\"><td><i><div class=\"dni-plaintext\"><pre>112</pre></div></i></td><td>McNeese State</td><td>FCS</td><td><div class=\"dni-plaintext\"><pre>1</pre></div></td><td><div class=\"dni-plaintext\"><pre>1</pre></div></td><td>https://d9ioojyvhqpok.cloudfront.net/cs0519lwtta2crm3dm4sp0ojta31</td><td><div class=\"dni-plaintext\"><pre>&lt;null&gt;</pre></div></td><td>RandomSmallSchool</td></tr><tr style=\"display: none\"><td><i><div class=\"dni-plaintext\"><pre>113</pre></div></i></td><td>Western Michigan</td><td>FBS - MAC</td><td><div class=\"dni-plaintext\"><pre>1</pre></div></td><td><div class=\"dni-plaintext\"><pre>1</pre></div></td><td>https://d9ioojyvhqpok.cloudfront.net/6smyc88ec4btmrfzo76q6s2l3922</td><td><div class=\"dni-plaintext\"><pre>&lt;null&gt;</pre></div></td><td>RandomSmallSchool</td></tr><tr style=\"display: none\"><td><i><div class=\"dni-plaintext\"><pre>114</pre></div></i></td><td>Portland State</td><td>FCS</td><td><div class=\"dni-plaintext\"><pre>1</pre></div></td><td><div class=\"dni-plaintext\"><pre>1</pre></div></td><td>https://d9ioojyvhqpok.cloudfront.net/1zssqxdzgmkfdoyzo6cvywxsndp0</td><td><div class=\"dni-plaintext\"><pre>&lt;null&gt;</pre></div></td><td>RandomSmallSchool</td></tr><tr style=\"display: none\"><td><i><div class=\"dni-plaintext\"><pre>115</pre></div></i></td><td>Tulsa</td><td>FBS - AAC</td><td><div class=\"dni-plaintext\"><pre>1</pre></div></td><td><div class=\"dni-plaintext\"><pre>1</pre></div></td><td>https://d9ioojyvhqpok.cloudfront.net/wgzu6axcvmbdijfdtvgsntkc4ylf</td><td><div class=\"dni-plaintext\"><pre>&lt;null&gt;</pre></div></td><td>RandomSmallSchool</td></tr><tr style=\"display: none\"><td><i><div class=\"dni-plaintext\"><pre>116</pre></div></i></td><td>Nevada</td><td>FBS - Mountain West</td><td><div class=\"dni-plaintext\"><pre>1</pre></div></td><td><div class=\"dni-plaintext\"><pre>1</pre></div></td><td>https://d9ioojyvhqpok.cloudfront.net/59h4ronidnmgqjbo1alvonc7wjmv</td><td><div class=\"dni-plaintext\"><pre>&lt;null&gt;</pre></div></td><td>RandomSmallSchool</td></tr><tr style=\"display: none\"><td><i><div class=\"dni-plaintext\"><pre>117</pre></div></i></td><td>Georgia Southern</td><td>FBS - Sun Belt</td><td><div class=\"dni-plaintext\"><pre>1</pre></div></td><td><div class=\"dni-plaintext\"><pre>1</pre></div></td><td>https://d9ioojyvhqpok.cloudfront.net/z7ccax7spksvxiv6giffmqhao46a</td><td><div class=\"dni-plaintext\"><pre>&lt;null&gt;</pre></div></td><td>RandomSmallSchool</td></tr><tr style=\"display: none\"><td><i><div class=\"dni-plaintext\"><pre>118</pre></div></i></td><td>San Jose State</td><td>FBS - Mountain West</td><td><div class=\"dni-plaintext\"><pre>1</pre></div></td><td><div class=\"dni-plaintext\"><pre>1</pre></div></td><td>https://d9ioojyvhqpok.cloudfront.net/ro1xx56e4z8uwuoba0lxm44zanow</td><td><div class=\"dni-plaintext\"><pre>&lt;null&gt;</pre></div></td><td>RandomSmallSchool</td></tr><tr style=\"display: none\"><td><i><div class=\"dni-plaintext\"><pre>119</pre></div></i></td><td>Fresno State</td><td>FBS - Mountain West</td><td><div class=\"dni-plaintext\"><pre>1</pre></div></td><td><div class=\"dni-plaintext\"><pre>1</pre></div></td><td>https://d9ioojyvhqpok.cloudfront.net/oh0a26wlyg1v3e0c3819jlyxnecp</td><td><div class=\"dni-plaintext\"><pre>&lt;null&gt;</pre></div></td><td>RandomSmallSchool</td></tr><tr style=\"display: none\"><td><i><div class=\"dni-plaintext\"><pre>120</pre></div></i></td><td>Tarleton State</td><td>D2</td><td><div class=\"dni-plaintext\"><pre>1</pre></div></td><td><div class=\"dni-plaintext\"><pre>1</pre></div></td><td>https://d9ioojyvhqpok.cloudfront.net/t9rfbxz4rr0psvshmqya26gz2w3j</td><td><div class=\"dni-plaintext\"><pre>&lt;null&gt;</pre></div></td><td>RandomSmallSchool</td></tr><tr style=\"display: none\"><td><i><div class=\"dni-plaintext\"><pre>121</pre></div></i></td><td>Cal Poly</td><td>FCS</td><td><div class=\"dni-plaintext\"><pre>1</pre></div></td><td><div class=\"dni-plaintext\"><pre>1</pre></div></td><td>https://d9ioojyvhqpok.cloudfront.net/fmuftfu5qfjqres1wr2dy5ii7wf9</td><td><div class=\"dni-plaintext\"><pre>&lt;null&gt;</pre></div></td><td>RandomSmallSchool</td></tr><tr style=\"display: none\"><td><i><div class=\"dni-plaintext\"><pre>122</pre></div></i></td><td>Utah State</td><td>FBS - Mountain West</td><td><div class=\"dni-plaintext\"><pre>1</pre></div></td><td><div class=\"dni-plaintext\"><pre>1</pre></div></td><td>https://d9ioojyvhqpok.cloudfront.net/qe590cpbtrq66in7ro62wa3ossas</td><td><div class=\"dni-plaintext\"><pre>&lt;null&gt;</pre></div></td><td>RandomSmallSchool</td></tr><tr style=\"display: none\"><td><i><div class=\"dni-plaintext\"><pre>123</pre></div></i></td><td>Florida Atlantic</td><td>FBS - AAC</td><td><div class=\"dni-plaintext\"><pre>1</pre></div></td><td><div class=\"dni-plaintext\"><pre>1</pre></div></td><td>https://d9ioojyvhqpok.cloudfront.net/e9smljtyny48n1ccwc5zdjruxo4l</td><td><div class=\"dni-plaintext\"><pre>&lt;null&gt;</pre></div></td><td>RandomSmallSchool</td></tr><tr style=\"display: none\"><td><i><div class=\"dni-plaintext\"><pre>124</pre></div></i></td><td>Old Dominion</td><td>FBS - CUSA</td><td><div class=\"dni-plaintext\"><pre>1</pre></div></td><td><div class=\"dni-plaintext\"><pre>1</pre></div></td><td>https://d9ioojyvhqpok.cloudfront.net/1s9b5cfewfr4a3dkyu0cttf7ln1v</td><td><div class=\"dni-plaintext\"><pre>&lt;null&gt;</pre></div></td><td>RandomSmallSchool</td></tr><tr style=\"display: none\"><td><i><div class=\"dni-plaintext\"><pre>125</pre></div></i></td><td>Washington State</td><td>Pac 12</td><td><div class=\"dni-plaintext\"><pre>1</pre></div></td><td><div class=\"dni-plaintext\"><pre>1</pre></div></td><td>https://d9ioojyvhqpok.cloudfront.net/zosp0uamsigsfed57lz5eejqmxtn</td><td><div class=\"dni-plaintext\"><pre>&lt;null&gt;</pre></div></td><td>RandomSmallSchool</td></tr><tr style=\"display: none\"><td><i><div class=\"dni-plaintext\"><pre>126</pre></div></i></td><td>Florida A&amp;M</td><td>FCS</td><td><div class=\"dni-plaintext\"><pre>1</pre></div></td><td><div class=\"dni-plaintext\"><pre>1</pre></div></td><td>https://d9ioojyvhqpok.cloudfront.net/c25jnf7optvztomz5p0n79uu6x9t</td><td><div class=\"dni-plaintext\"><pre>&lt;null&gt;</pre></div></td><td>RandomSmallSchool</td></tr><tr style=\"display: none\"><td><i><div class=\"dni-plaintext\"><pre>127</pre></div></i></td><td>Air Force</td><td>FBS - Mountain West</td><td><div class=\"dni-plaintext\"><pre>1</pre></div></td><td><div class=\"dni-plaintext\"><pre>1</pre></div></td><td>https://d9ioojyvhqpok.cloudfront.net/p6wau30d9gwh6hgun9zh6dqb6i3y</td><td><div class=\"dni-plaintext\"><pre>&lt;null&gt;</pre></div></td><td>RandomSmallSchool</td></tr><tr style=\"display: none\"><td><i><div class=\"dni-plaintext\"><pre>128</pre></div></i></td><td>Stephen F. Austin</td><td>FCS</td><td><div class=\"dni-plaintext\"><pre>1</pre></div></td><td><div class=\"dni-plaintext\"><pre>1</pre></div></td><td>https://d9ioojyvhqpok.cloudfront.net/ygg24coxnmjx6wnjdsdfqy93oupp</td><td><div class=\"dni-plaintext\"><pre>&lt;null&gt;</pre></div></td><td>RandomSmallSchool</td></tr><tr style=\"display: none\"><td><i><div class=\"dni-plaintext\"><pre>129</pre></div></i></td><td>East Tennessee State</td><td>FCS</td><td><div class=\"dni-plaintext\"><pre>1</pre></div></td><td><div class=\"dni-plaintext\"><pre>1</pre></div></td><td>https://d9ioojyvhqpok.cloudfront.net/t9ivu93hmr1fljhj12unw9r7f2bs</td><td><div class=\"dni-plaintext\"><pre>&lt;null&gt;</pre></div></td><td>RandomSmallSchool</td></tr></tbody><tfoot><tr><td colspan=\"8\" style=\"text-align: center;\"><button style=\"margin: 2px;\" onclick=\"var allRows = document.querySelectorAll(&#39;#table_638923845359705310 tbody tr:nth-child(n)&#39;); for (let i = 0; i &lt; allRows.length; i++) { allRows[i].style.display=&#39;none&#39;; } document.querySelector(&#39;#page_638923845359705310&#39;).innerHTML = 1; var page = parseInt(document.querySelector(&#39;#page_638923845359705310&#39;).innerHTML) - 1; var pageRows = document.querySelectorAll(`#table_638923845359705310 tbody tr:nth-child(n + ${page * 25 + 1 })`); for (let j = 0; j &lt; 25; j++) { pageRows[j].style.display=&#39;table-row&#39;; } \">⏮</button><button style=\"margin: 2px;\" onclick=\"var allRows = document.querySelectorAll(&#39;#table_638923845359705310 tbody tr:nth-child(n)&#39;); for (let i = 0; i &lt; allRows.length; i++) { allRows[i].style.display=&#39;none&#39;; } var page = parseInt(document.querySelector(&#39;#page_638923845359705310&#39;).innerHTML) - 1; page = parseInt(page) + parseInt(-10); page = page &lt; 0 ? 0 : page; page = page > 5 ? 5 : page; document.querySelector(&#39;#page_638923845359705310&#39;).innerHTML = page + 1; var page = parseInt(document.querySelector(&#39;#page_638923845359705310&#39;).innerHTML) - 1; var pageRows = document.querySelectorAll(`#table_638923845359705310 tbody tr:nth-child(n + ${page * 25 + 1 })`); for (let j = 0; j &lt; 25; j++) { pageRows[j].style.display=&#39;table-row&#39;; } \">⏪</button><button style=\"margin: 2px;\" onclick=\"var allRows = document.querySelectorAll(&#39;#table_638923845359705310 tbody tr:nth-child(n)&#39;); for (let i = 0; i &lt; allRows.length; i++) { allRows[i].style.display=&#39;none&#39;; } var page = parseInt(document.querySelector(&#39;#page_638923845359705310&#39;).innerHTML) - 1; page = parseInt(page) + parseInt(-1); page = page &lt; 0 ? 0 : page; page = page > 5 ? 5 : page; document.querySelector(&#39;#page_638923845359705310&#39;).innerHTML = page + 1; var page = parseInt(document.querySelector(&#39;#page_638923845359705310&#39;).innerHTML) - 1; var pageRows = document.querySelectorAll(`#table_638923845359705310 tbody tr:nth-child(n + ${page * 25 + 1 })`); for (let j = 0; j &lt; 25; j++) { pageRows[j].style.display=&#39;table-row&#39;; } \">◀️</button><b style=\"margin: 2px;\">Page</b><b id=\"page_638923845359705310\" style=\"margin: 2px;\">1</b><button style=\"margin: 2px;\" onclick=\"var allRows = document.querySelectorAll(&#39;#table_638923845359705310 tbody tr:nth-child(n)&#39;); for (let i = 0; i &lt; allRows.length; i++) { allRows[i].style.display=&#39;none&#39;; } var page = parseInt(document.querySelector(&#39;#page_638923845359705310&#39;).innerHTML) - 1; page = parseInt(page) + parseInt(1); page = page &lt; 0 ? 0 : page; page = page > 5 ? 5 : page; document.querySelector(&#39;#page_638923845359705310&#39;).innerHTML = page + 1; var page = parseInt(document.querySelector(&#39;#page_638923845359705310&#39;).innerHTML) - 1; var pageRows = document.querySelectorAll(`#table_638923845359705310 tbody tr:nth-child(n + ${page * 25 + 1 })`); for (let j = 0; j &lt; 25; j++) { pageRows[j].style.display=&#39;table-row&#39;; } \">▶️</button><button style=\"margin: 2px;\" onclick=\"var allRows = document.querySelectorAll(&#39;#table_638923845359705310 tbody tr:nth-child(n)&#39;); for (let i = 0; i &lt; allRows.length; i++) { allRows[i].style.display=&#39;none&#39;; } var page = parseInt(document.querySelector(&#39;#page_638923845359705310&#39;).innerHTML) - 1; page = parseInt(page) + parseInt(10); page = page &lt; 0 ? 0 : page; page = page > 5 ? 5 : page; document.querySelector(&#39;#page_638923845359705310&#39;).innerHTML = page + 1; var page = parseInt(document.querySelector(&#39;#page_638923845359705310&#39;).innerHTML) - 1; var pageRows = document.querySelectorAll(`#table_638923845359705310 tbody tr:nth-child(n + ${page * 25 + 1 })`); for (let j = 0; j &lt; 25; j++) { pageRows[j].style.display=&#39;table-row&#39;; } \">⏩</button><button style=\"margin: 2px;\" onclick=\"var allRows = document.querySelectorAll(&#39;#table_638923845359705310 tbody tr:nth-child(n)&#39;); for (let i = 0; i &lt; allRows.length; i++) { allRows[i].style.display=&#39;none&#39;; } document.querySelector(&#39;#page_638923845359705310&#39;).innerHTML = 6; var page = parseInt(document.querySelector(&#39;#page_638923845359705310&#39;).innerHTML) - 1; var pageRows = document.querySelectorAll(`#table_638923845359705310 tbody tr:nth-child(n + ${page * 25 + 1 })`); for (let j = 0; j &lt; 25; j++) { pageRows[j].style.display=&#39;table-row&#39;; } \">⏭️</button></td></tr></tfoot></table><style>\r\n",
       ".dni-code-hint {\r\n",
       "    font-style: italic;\r\n",
       "    overflow: hidden;\r\n",
       "    white-space: nowrap;\r\n",
       "}\r\n",
       ".dni-treeview {\r\n",
       "    white-space: nowrap;\r\n",
       "}\r\n",
       ".dni-treeview td {\r\n",
       "    vertical-align: top;\r\n",
       "    text-align: start;\r\n",
       "}\r\n",
       "details.dni-treeview {\r\n",
       "    padding-left: 1em;\r\n",
       "}\r\n",
       "table td {\r\n",
       "    text-align: start;\r\n",
       "}\r\n",
       "table tr { \r\n",
       "    vertical-align: top; \r\n",
       "    margin: 0em 0px;\r\n",
       "}\r\n",
       "table tr td pre \r\n",
       "{ \r\n",
       "    vertical-align: top !important; \r\n",
       "    margin: 0em 0px !important;\r\n",
       "} \r\n",
       "table th {\r\n",
       "    text-align: start;\r\n",
       "}\r\n",
       "</style><script>var page = parseInt(document.querySelector('#page_638923845359705310').innerHTML) - 1; var pageRows = document.querySelectorAll(`#table_638923845359705310 tbody tr:nth-child(n + ${page * 25 + 1 })`); for (let j = 0; j < 25; j++) { pageRows[j].style.display='table-row'; } </script>"
      ]
     },
     "metadata": {},
     "output_type": "display_data"
    }
   ],
   "source": [
    "var conferenceToPosition = DataFrame.LoadCsv(\"conferenceToPosition.csv\");\n",
    "\n",
    "\n",
    "for (int i = 0; i < nextDraft.Rows.Count; i++)\n",
    "{\n",
    "    switch((string)nextDraft.Columns[\"Conference\"][i])\n",
    "    {\n",
    "        case \"SEC\":\n",
    "            nextDraft.Columns[\"LeagifyPosition\"][i] = \"SEC\";\n",
    "            break;\n",
    "        case \"ACC\":\n",
    "            nextDraft.Columns[\"LeagifyPosition\"][i] = \"ACC\";\n",
    "            break;\n",
    "        case \"Big 12\":\n",
    "            nextDraft.Columns[\"LeagifyPosition\"][i] = \"Big 12\";\n",
    "            break;\n",
    "        case \"Pac 12\":\n",
    "            nextDraft.Columns[\"LeagifyPosition\"][i] = \"RandomSmallSchool\";\n",
    "            break;\n",
    "        case \"Big Ten\":\n",
    "            nextDraft.Columns[\"LeagifyPosition\"][i] = \"Big Ten\";\n",
    "            break;\n",
    "        default:\n",
    "            nextDraft.Columns[\"LeagifyPosition\"][i] = \"RandomSmallSchool\";\n",
    "            break;\n",
    "    }\n",
    "    if ((string)nextDraft.Columns[\"School\"][i] == \"Notre Dame\")\n",
    "    {\n",
    "        nextDraft.Columns[\"LeagifyPosition\"][i] = \"Flex\";\n",
    "    }\n",
    "}\n",
    "\n",
    "\n",
    "nextDraft\n",
    "\n"
   ]
  },
  {
   "cell_type": "code",
   "execution_count": 6,
   "metadata": {
    "dotnet_interactive": {
     "language": "csharp"
    },
    "polyglot_notebook": {
     "kernelName": "csharp"
    }
   },
   "outputs": [
    {
     "data": {
      "text/html": [
       "<table id=\"table_638923845421512914\"><caption><h3 style=\"text-align: center;\">DataFrame - 130 rows </h3></caption><thead><tr><th><i>index</i></th><th>School</th><th>Conference</th><th>ProjectedPoints</th><th>NumberOfProspects</th><th>SchoolURL</th><th>SuggestedAuctionValue</th><th>LeagifyPosition</th><th>ProjectedPointsAboveAverage</th><th>ProjectedPointsAboveReplacement</th><th>AveragePointsForPosition</th><th>ReplacementValueAverageForPosition</th></tr></thead><tbody><tr style=\"display: none\"><td><i><div class=\"dni-plaintext\"><pre>0</pre></div></i></td><td>Alabama</td><td>SEC</td><td><div class=\"dni-plaintext\"><pre>204</pre></div></td><td><div class=\"dni-plaintext\"><pre>34</pre></div></td><td>https://d9ioojyvhqpok.cloudfront.net/ipat9gfnm0mjkzxjgjduhgd3dhh5</td><td><div class=\"dni-plaintext\"><pre>&lt;null&gt;</pre></div></td><td>SEC</td><td><div class=\"dni-plaintext\"><pre>&lt;null&gt;</pre></div></td><td><div class=\"dni-plaintext\"><pre>&lt;null&gt;</pre></div></td><td><div class=\"dni-plaintext\"><pre>&lt;null&gt;</pre></div></td><td><div class=\"dni-plaintext\"><pre>&lt;null&gt;</pre></div></td></tr><tr style=\"display: none\"><td><i><div class=\"dni-plaintext\"><pre>1</pre></div></i></td><td>Clemson</td><td>ACC</td><td><div class=\"dni-plaintext\"><pre>202</pre></div></td><td><div class=\"dni-plaintext\"><pre>22</pre></div></td><td>https://d9ioojyvhqpok.cloudfront.net/qdoiydn8n7rrbe24fh91o35g46a2</td><td><div class=\"dni-plaintext\"><pre>&lt;null&gt;</pre></div></td><td>ACC</td><td><div class=\"dni-plaintext\"><pre>&lt;null&gt;</pre></div></td><td><div class=\"dni-plaintext\"><pre>&lt;null&gt;</pre></div></td><td><div class=\"dni-plaintext\"><pre>&lt;null&gt;</pre></div></td><td><div class=\"dni-plaintext\"><pre>&lt;null&gt;</pre></div></td></tr><tr style=\"display: none\"><td><i><div class=\"dni-plaintext\"><pre>2</pre></div></i></td><td>Penn State</td><td>Big Ten</td><td><div class=\"dni-plaintext\"><pre>176</pre></div></td><td><div class=\"dni-plaintext\"><pre>28</pre></div></td><td>https://d9ioojyvhqpok.cloudfront.net/r7ka9jaowmh2i9mbty8xvcw3lszi</td><td><div class=\"dni-plaintext\"><pre>&lt;null&gt;</pre></div></td><td>Big Ten</td><td><div class=\"dni-plaintext\"><pre>&lt;null&gt;</pre></div></td><td><div class=\"dni-plaintext\"><pre>&lt;null&gt;</pre></div></td><td><div class=\"dni-plaintext\"><pre>&lt;null&gt;</pre></div></td><td><div class=\"dni-plaintext\"><pre>&lt;null&gt;</pre></div></td></tr><tr style=\"display: none\"><td><i><div class=\"dni-plaintext\"><pre>3</pre></div></i></td><td>Texas</td><td>SEC</td><td><div class=\"dni-plaintext\"><pre>171</pre></div></td><td><div class=\"dni-plaintext\"><pre>26</pre></div></td><td>https://d9ioojyvhqpok.cloudfront.net/qg9cbgbb8dt3ibmkhhpbnxnmu2ym</td><td><div class=\"dni-plaintext\"><pre>&lt;null&gt;</pre></div></td><td>SEC</td><td><div class=\"dni-plaintext\"><pre>&lt;null&gt;</pre></div></td><td><div class=\"dni-plaintext\"><pre>&lt;null&gt;</pre></div></td><td><div class=\"dni-plaintext\"><pre>&lt;null&gt;</pre></div></td><td><div class=\"dni-plaintext\"><pre>&lt;null&gt;</pre></div></td></tr><tr style=\"display: none\"><td><i><div class=\"dni-plaintext\"><pre>4</pre></div></i></td><td>Oregon</td><td>Big Ten</td><td><div class=\"dni-plaintext\"><pre>165</pre></div></td><td><div class=\"dni-plaintext\"><pre>20</pre></div></td><td>https://d9ioojyvhqpok.cloudfront.net/jtm5dpazszqv0w6emkd6479rdrk8</td><td><div class=\"dni-plaintext\"><pre>&lt;null&gt;</pre></div></td><td>Big Ten</td><td><div class=\"dni-plaintext\"><pre>&lt;null&gt;</pre></div></td><td><div class=\"dni-plaintext\"><pre>&lt;null&gt;</pre></div></td><td><div class=\"dni-plaintext\"><pre>&lt;null&gt;</pre></div></td><td><div class=\"dni-plaintext\"><pre>&lt;null&gt;</pre></div></td></tr><tr style=\"display: none\"><td><i><div class=\"dni-plaintext\"><pre>5</pre></div></i></td><td>Ohio State</td><td>Big Ten</td><td><div class=\"dni-plaintext\"><pre>157</pre></div></td><td><div class=\"dni-plaintext\"><pre>30</pre></div></td><td>https://d9ioojyvhqpok.cloudfront.net/t0cc17koiq4lypyf6v0bjmb48dl1</td><td><div class=\"dni-plaintext\"><pre>&lt;null&gt;</pre></div></td><td>Big Ten</td><td><div class=\"dni-plaintext\"><pre>&lt;null&gt;</pre></div></td><td><div class=\"dni-plaintext\"><pre>&lt;null&gt;</pre></div></td><td><div class=\"dni-plaintext\"><pre>&lt;null&gt;</pre></div></td><td><div class=\"dni-plaintext\"><pre>&lt;null&gt;</pre></div></td></tr><tr style=\"display: none\"><td><i><div class=\"dni-plaintext\"><pre>6</pre></div></i></td><td>LSU</td><td>SEC</td><td><div class=\"dni-plaintext\"><pre>137</pre></div></td><td><div class=\"dni-plaintext\"><pre>28</pre></div></td><td>https://d9ioojyvhqpok.cloudfront.net/kotupd48marnkuttwxr1ueuusuq4</td><td><div class=\"dni-plaintext\"><pre>&lt;null&gt;</pre></div></td><td>SEC</td><td><div class=\"dni-plaintext\"><pre>&lt;null&gt;</pre></div></td><td><div class=\"dni-plaintext\"><pre>&lt;null&gt;</pre></div></td><td><div class=\"dni-plaintext\"><pre>&lt;null&gt;</pre></div></td><td><div class=\"dni-plaintext\"><pre>&lt;null&gt;</pre></div></td></tr><tr style=\"display: none\"><td><i><div class=\"dni-plaintext\"><pre>7</pre></div></i></td><td>Georgia</td><td>SEC</td><td><div class=\"dni-plaintext\"><pre>133</pre></div></td><td><div class=\"dni-plaintext\"><pre>30</pre></div></td><td>https://d9ioojyvhqpok.cloudfront.net/lk6cx1kv1jp68409gl92aapm1amw</td><td><div class=\"dni-plaintext\"><pre>&lt;null&gt;</pre></div></td><td>SEC</td><td><div class=\"dni-plaintext\"><pre>&lt;null&gt;</pre></div></td><td><div class=\"dni-plaintext\"><pre>&lt;null&gt;</pre></div></td><td><div class=\"dni-plaintext\"><pre>&lt;null&gt;</pre></div></td><td><div class=\"dni-plaintext\"><pre>&lt;null&gt;</pre></div></td></tr><tr style=\"display: none\"><td><i><div class=\"dni-plaintext\"><pre>8</pre></div></i></td><td>Florida</td><td>SEC</td><td><div class=\"dni-plaintext\"><pre>114</pre></div></td><td><div class=\"dni-plaintext\"><pre>18</pre></div></td><td>https://d9ioojyvhqpok.cloudfront.net/36khmjuee0xz2lxwa0xvcpewulbr</td><td><div class=\"dni-plaintext\"><pre>&lt;null&gt;</pre></div></td><td>SEC</td><td><div class=\"dni-plaintext\"><pre>&lt;null&gt;</pre></div></td><td><div class=\"dni-plaintext\"><pre>&lt;null&gt;</pre></div></td><td><div class=\"dni-plaintext\"><pre>&lt;null&gt;</pre></div></td><td><div class=\"dni-plaintext\"><pre>&lt;null&gt;</pre></div></td></tr><tr style=\"display: none\"><td><i><div class=\"dni-plaintext\"><pre>9</pre></div></i></td><td>Texas A&amp;M</td><td>SEC</td><td><div class=\"dni-plaintext\"><pre>110</pre></div></td><td><div class=\"dni-plaintext\"><pre>30</pre></div></td><td>https://d9ioojyvhqpok.cloudfront.net/2zs6v615in0lqkjlrpwr0ss7jal3</td><td><div class=\"dni-plaintext\"><pre>&lt;null&gt;</pre></div></td><td>SEC</td><td><div class=\"dni-plaintext\"><pre>&lt;null&gt;</pre></div></td><td><div class=\"dni-plaintext\"><pre>&lt;null&gt;</pre></div></td><td><div class=\"dni-plaintext\"><pre>&lt;null&gt;</pre></div></td><td><div class=\"dni-plaintext\"><pre>&lt;null&gt;</pre></div></td></tr><tr style=\"display: none\"><td><i><div class=\"dni-plaintext\"><pre>10</pre></div></i></td><td>Auburn</td><td>SEC</td><td><div class=\"dni-plaintext\"><pre>108</pre></div></td><td><div class=\"dni-plaintext\"><pre>12</pre></div></td><td>https://d9ioojyvhqpok.cloudfront.net/eleiezsd0lvxbat70oyxvobqj1wy</td><td><div class=\"dni-plaintext\"><pre>&lt;null&gt;</pre></div></td><td>SEC</td><td><div class=\"dni-plaintext\"><pre>&lt;null&gt;</pre></div></td><td><div class=\"dni-plaintext\"><pre>&lt;null&gt;</pre></div></td><td><div class=\"dni-plaintext\"><pre>&lt;null&gt;</pre></div></td><td><div class=\"dni-plaintext\"><pre>&lt;null&gt;</pre></div></td></tr><tr style=\"display: none\"><td><i><div class=\"dni-plaintext\"><pre>11</pre></div></i></td><td>Notre Dame</td><td>FBS - Independent</td><td><div class=\"dni-plaintext\"><pre>101</pre></div></td><td><div class=\"dni-plaintext\"><pre>18</pre></div></td><td>https://d9ioojyvhqpok.cloudfront.net/tbs37oz73f8lx0yton630db3mwil</td><td><div class=\"dni-plaintext\"><pre>&lt;null&gt;</pre></div></td><td>Flex</td><td><div class=\"dni-plaintext\"><pre>&lt;null&gt;</pre></div></td><td><div class=\"dni-plaintext\"><pre>&lt;null&gt;</pre></div></td><td><div class=\"dni-plaintext\"><pre>&lt;null&gt;</pre></div></td><td><div class=\"dni-plaintext\"><pre>&lt;null&gt;</pre></div></td></tr><tr style=\"display: none\"><td><i><div class=\"dni-plaintext\"><pre>12</pre></div></i></td><td>Utah</td><td>Big 12</td><td><div class=\"dni-plaintext\"><pre>94</pre></div></td><td><div class=\"dni-plaintext\"><pre>12</pre></div></td><td>https://d9ioojyvhqpok.cloudfront.net/6knutc24htvta65sc5lynfbx3bag</td><td><div class=\"dni-plaintext\"><pre>&lt;null&gt;</pre></div></td><td>Big 12</td><td><div class=\"dni-plaintext\"><pre>&lt;null&gt;</pre></div></td><td><div class=\"dni-plaintext\"><pre>&lt;null&gt;</pre></div></td><td><div class=\"dni-plaintext\"><pre>&lt;null&gt;</pre></div></td><td><div class=\"dni-plaintext\"><pre>&lt;null&gt;</pre></div></td></tr><tr style=\"display: none\"><td><i><div class=\"dni-plaintext\"><pre>13</pre></div></i></td><td>South Carolina</td><td>SEC</td><td><div class=\"dni-plaintext\"><pre>91</pre></div></td><td><div class=\"dni-plaintext\"><pre>14</pre></div></td><td>https://d9ioojyvhqpok.cloudfront.net/xf3wi54n26qaha5aventrscyqj9i</td><td><div class=\"dni-plaintext\"><pre>&lt;null&gt;</pre></div></td><td>SEC</td><td><div class=\"dni-plaintext\"><pre>&lt;null&gt;</pre></div></td><td><div class=\"dni-plaintext\"><pre>&lt;null&gt;</pre></div></td><td><div class=\"dni-plaintext\"><pre>&lt;null&gt;</pre></div></td><td><div class=\"dni-plaintext\"><pre>&lt;null&gt;</pre></div></td></tr><tr style=\"display: none\"><td><i><div class=\"dni-plaintext\"><pre>14</pre></div></i></td><td>Arizona State</td><td>Big 12</td><td><div class=\"dni-plaintext\"><pre>89</pre></div></td><td><div class=\"dni-plaintext\"><pre>17</pre></div></td><td>https://d9ioojyvhqpok.cloudfront.net/ki89e84ng0fbkdkof0pb7l8eavl7</td><td><div class=\"dni-plaintext\"><pre>&lt;null&gt;</pre></div></td><td>Big 12</td><td><div class=\"dni-plaintext\"><pre>&lt;null&gt;</pre></div></td><td><div class=\"dni-plaintext\"><pre>&lt;null&gt;</pre></div></td><td><div class=\"dni-plaintext\"><pre>&lt;null&gt;</pre></div></td><td><div class=\"dni-plaintext\"><pre>&lt;null&gt;</pre></div></td></tr><tr style=\"display: none\"><td><i><div class=\"dni-plaintext\"><pre>15</pre></div></i></td><td>Miami (FL)</td><td>ACC</td><td><div class=\"dni-plaintext\"><pre>77</pre></div></td><td><div class=\"dni-plaintext\"><pre>15</pre></div></td><td>https://d9ioojyvhqpok.cloudfront.net/ua8vtcmx37g6fru3tna1nygak655</td><td><div class=\"dni-plaintext\"><pre>&lt;null&gt;</pre></div></td><td>ACC</td><td><div class=\"dni-plaintext\"><pre>&lt;null&gt;</pre></div></td><td><div class=\"dni-plaintext\"><pre>&lt;null&gt;</pre></div></td><td><div class=\"dni-plaintext\"><pre>&lt;null&gt;</pre></div></td><td><div class=\"dni-plaintext\"><pre>&lt;null&gt;</pre></div></td></tr><tr style=\"display: none\"><td><i><div class=\"dni-plaintext\"><pre>16</pre></div></i></td><td>Indiana</td><td>Big Ten</td><td><div class=\"dni-plaintext\"><pre>75</pre></div></td><td><div class=\"dni-plaintext\"><pre>9</pre></div></td><td>https://d9ioojyvhqpok.cloudfront.net/wapph05yk3m4c6hzhc4793w94sxj</td><td><div class=\"dni-plaintext\"><pre>&lt;null&gt;</pre></div></td><td>Big Ten</td><td><div class=\"dni-plaintext\"><pre>&lt;null&gt;</pre></div></td><td><div class=\"dni-plaintext\"><pre>&lt;null&gt;</pre></div></td><td><div class=\"dni-plaintext\"><pre>&lt;null&gt;</pre></div></td><td><div class=\"dni-plaintext\"><pre>&lt;null&gt;</pre></div></td></tr><tr style=\"display: none\"><td><i><div class=\"dni-plaintext\"><pre>17</pre></div></i></td><td>USC</td><td>Big Ten</td><td><div class=\"dni-plaintext\"><pre>70</pre></div></td><td><div class=\"dni-plaintext\"><pre>14</pre></div></td><td>https://d9ioojyvhqpok.cloudfront.net/9qzau6lr9d2g4rnpah5m4o5l5wrb</td><td><div class=\"dni-plaintext\"><pre>&lt;null&gt;</pre></div></td><td>Big Ten</td><td><div class=\"dni-plaintext\"><pre>&lt;null&gt;</pre></div></td><td><div class=\"dni-plaintext\"><pre>&lt;null&gt;</pre></div></td><td><div class=\"dni-plaintext\"><pre>&lt;null&gt;</pre></div></td><td><div class=\"dni-plaintext\"><pre>&lt;null&gt;</pre></div></td></tr><tr style=\"display: none\"><td><i><div class=\"dni-plaintext\"><pre>18</pre></div></i></td><td>Oklahoma</td><td>SEC</td><td><div class=\"dni-plaintext\"><pre>66</pre></div></td><td><div class=\"dni-plaintext\"><pre>19</pre></div></td><td>https://d9ioojyvhqpok.cloudfront.net/2oxpf3x0lqqyaqu2vusmkrrfpvz4</td><td><div class=\"dni-plaintext\"><pre>&lt;null&gt;</pre></div></td><td>SEC</td><td><div class=\"dni-plaintext\"><pre>&lt;null&gt;</pre></div></td><td><div class=\"dni-plaintext\"><pre>&lt;null&gt;</pre></div></td><td><div class=\"dni-plaintext\"><pre>&lt;null&gt;</pre></div></td><td><div class=\"dni-plaintext\"><pre>&lt;null&gt;</pre></div></td></tr><tr style=\"display: none\"><td><i><div class=\"dni-plaintext\"><pre>19</pre></div></i></td><td>Michigan</td><td>Big Ten</td><td><div class=\"dni-plaintext\"><pre>57</pre></div></td><td><div class=\"dni-plaintext\"><pre>20</pre></div></td><td>https://d9ioojyvhqpok.cloudfront.net/q8wl5dk6g7zupims4dtdrh3ssr12</td><td><div class=\"dni-plaintext\"><pre>&lt;null&gt;</pre></div></td><td>Big Ten</td><td><div class=\"dni-plaintext\"><pre>&lt;null&gt;</pre></div></td><td><div class=\"dni-plaintext\"><pre>&lt;null&gt;</pre></div></td><td><div class=\"dni-plaintext\"><pre>&lt;null&gt;</pre></div></td><td><div class=\"dni-plaintext\"><pre>&lt;null&gt;</pre></div></td></tr><tr style=\"display: none\"><td><i><div class=\"dni-plaintext\"><pre>20</pre></div></i></td><td>Missouri</td><td>SEC</td><td><div class=\"dni-plaintext\"><pre>54</pre></div></td><td><div class=\"dni-plaintext\"><pre>11</pre></div></td><td>https://d9ioojyvhqpok.cloudfront.net/at4tedy432dma8a852zl29mhpl97</td><td><div class=\"dni-plaintext\"><pre>&lt;null&gt;</pre></div></td><td>SEC</td><td><div class=\"dni-plaintext\"><pre>&lt;null&gt;</pre></div></td><td><div class=\"dni-plaintext\"><pre>&lt;null&gt;</pre></div></td><td><div class=\"dni-plaintext\"><pre>&lt;null&gt;</pre></div></td><td><div class=\"dni-plaintext\"><pre>&lt;null&gt;</pre></div></td></tr><tr style=\"display: none\"><td><i><div class=\"dni-plaintext\"><pre>21</pre></div></i></td><td>Iowa</td><td>Big Ten</td><td><div class=\"dni-plaintext\"><pre>54</pre></div></td><td><div class=\"dni-plaintext\"><pre>10</pre></div></td><td>https://d9ioojyvhqpok.cloudfront.net/1v4qash6kghlbzawlc9mcktcv6et</td><td><div class=\"dni-plaintext\"><pre>&lt;null&gt;</pre></div></td><td>Big Ten</td><td><div class=\"dni-plaintext\"><pre>&lt;null&gt;</pre></div></td><td><div class=\"dni-plaintext\"><pre>&lt;null&gt;</pre></div></td><td><div class=\"dni-plaintext\"><pre>&lt;null&gt;</pre></div></td><td><div class=\"dni-plaintext\"><pre>&lt;null&gt;</pre></div></td></tr><tr style=\"display: none\"><td><i><div class=\"dni-plaintext\"><pre>22</pre></div></i></td><td>Illinois</td><td>Big Ten</td><td><div class=\"dni-plaintext\"><pre>49</pre></div></td><td><div class=\"dni-plaintext\"><pre>16</pre></div></td><td>https://d9ioojyvhqpok.cloudfront.net/ufjr2mjvb39qtuuxl324m16av9zg</td><td><div class=\"dni-plaintext\"><pre>&lt;null&gt;</pre></div></td><td>Big Ten</td><td><div class=\"dni-plaintext\"><pre>&lt;null&gt;</pre></div></td><td><div class=\"dni-plaintext\"><pre>&lt;null&gt;</pre></div></td><td><div class=\"dni-plaintext\"><pre>&lt;null&gt;</pre></div></td><td><div class=\"dni-plaintext\"><pre>&lt;null&gt;</pre></div></td></tr><tr style=\"display: none\"><td><i><div class=\"dni-plaintext\"><pre>23</pre></div></i></td><td>Tennessee</td><td>SEC</td><td><div class=\"dni-plaintext\"><pre>49</pre></div></td><td><div class=\"dni-plaintext\"><pre>14</pre></div></td><td>https://d9ioojyvhqpok.cloudfront.net/xvzdtm1u94la26tuf9s7k9biiobk</td><td><div class=\"dni-plaintext\"><pre>&lt;null&gt;</pre></div></td><td>SEC</td><td><div class=\"dni-plaintext\"><pre>&lt;null&gt;</pre></div></td><td><div class=\"dni-plaintext\"><pre>&lt;null&gt;</pre></div></td><td><div class=\"dni-plaintext\"><pre>&lt;null&gt;</pre></div></td><td><div class=\"dni-plaintext\"><pre>&lt;null&gt;</pre></div></td></tr><tr style=\"display: none\"><td><i><div class=\"dni-plaintext\"><pre>24</pre></div></i></td><td>Washington</td><td>Big Ten</td><td><div class=\"dni-plaintext\"><pre>47</pre></div></td><td><div class=\"dni-plaintext\"><pre>9</pre></div></td><td>https://d9ioojyvhqpok.cloudfront.net/ymbx2qwvtd64qbet6aw5rlpvlznq</td><td><div class=\"dni-plaintext\"><pre>&lt;null&gt;</pre></div></td><td>Big Ten</td><td><div class=\"dni-plaintext\"><pre>&lt;null&gt;</pre></div></td><td><div class=\"dni-plaintext\"><pre>&lt;null&gt;</pre></div></td><td><div class=\"dni-plaintext\"><pre>&lt;null&gt;</pre></div></td><td><div class=\"dni-plaintext\"><pre>&lt;null&gt;</pre></div></td></tr><tr style=\"display: none\"><td><i><div class=\"dni-plaintext\"><pre>25</pre></div></i></td><td>Louisville</td><td>ACC</td><td><div class=\"dni-plaintext\"><pre>43</pre></div></td><td><div class=\"dni-plaintext\"><pre>10</pre></div></td><td>https://d9ioojyvhqpok.cloudfront.net/6dtekr0ju42cquwnyoilhqr5048j</td><td><div class=\"dni-plaintext\"><pre>&lt;null&gt;</pre></div></td><td>ACC</td><td><div class=\"dni-plaintext\"><pre>&lt;null&gt;</pre></div></td><td><div class=\"dni-plaintext\"><pre>&lt;null&gt;</pre></div></td><td><div class=\"dni-plaintext\"><pre>&lt;null&gt;</pre></div></td><td><div class=\"dni-plaintext\"><pre>&lt;null&gt;</pre></div></td></tr><tr style=\"display: none\"><td><i><div class=\"dni-plaintext\"><pre>26</pre></div></i></td><td>Texas Tech</td><td>Big 12</td><td><div class=\"dni-plaintext\"><pre>40</pre></div></td><td><div class=\"dni-plaintext\"><pre>9</pre></div></td><td>https://d9ioojyvhqpok.cloudfront.net/kuscl9st1izh66xvf7t3cqs05xlc</td><td><div class=\"dni-plaintext\"><pre>&lt;null&gt;</pre></div></td><td>Big 12</td><td><div class=\"dni-plaintext\"><pre>&lt;null&gt;</pre></div></td><td><div class=\"dni-plaintext\"><pre>&lt;null&gt;</pre></div></td><td><div class=\"dni-plaintext\"><pre>&lt;null&gt;</pre></div></td><td><div class=\"dni-plaintext\"><pre>&lt;null&gt;</pre></div></td></tr><tr style=\"display: none\"><td><i><div class=\"dni-plaintext\"><pre>27</pre></div></i></td><td>Ole Miss</td><td>SEC</td><td><div class=\"dni-plaintext\"><pre>39</pre></div></td><td><div class=\"dni-plaintext\"><pre>13</pre></div></td><td>https://d9ioojyvhqpok.cloudfront.net/4ci7fizvkcl1pmfv17qg8ngxjghp</td><td><div class=\"dni-plaintext\"><pre>&lt;null&gt;</pre></div></td><td>SEC</td><td><div class=\"dni-plaintext\"><pre>&lt;null&gt;</pre></div></td><td><div class=\"dni-plaintext\"><pre>&lt;null&gt;</pre></div></td><td><div class=\"dni-plaintext\"><pre>&lt;null&gt;</pre></div></td><td><div class=\"dni-plaintext\"><pre>&lt;null&gt;</pre></div></td></tr><tr style=\"display: none\"><td><i><div class=\"dni-plaintext\"><pre>28</pre></div></i></td><td>SMU</td><td>ACC</td><td><div class=\"dni-plaintext\"><pre>37</pre></div></td><td><div class=\"dni-plaintext\"><pre>16</pre></div></td><td>https://d9ioojyvhqpok.cloudfront.net/nxpzs66whtpfsd8epy2yvfnl7o1l</td><td><div class=\"dni-plaintext\"><pre>&lt;null&gt;</pre></div></td><td>ACC</td><td><div class=\"dni-plaintext\"><pre>&lt;null&gt;</pre></div></td><td><div class=\"dni-plaintext\"><pre>&lt;null&gt;</pre></div></td><td><div class=\"dni-plaintext\"><pre>&lt;null&gt;</pre></div></td><td><div class=\"dni-plaintext\"><pre>&lt;null&gt;</pre></div></td></tr><tr style=\"display: none\"><td><i><div class=\"dni-plaintext\"><pre>29</pre></div></i></td><td>Colorado</td><td>Big 12</td><td><div class=\"dni-plaintext\"><pre>37</pre></div></td><td><div class=\"dni-plaintext\"><pre>13</pre></div></td><td>https://d9ioojyvhqpok.cloudfront.net/31k9h4jju8wo500iowlssig5xh2n</td><td><div class=\"dni-plaintext\"><pre>&lt;null&gt;</pre></div></td><td>Big 12</td><td><div class=\"dni-plaintext\"><pre>&lt;null&gt;</pre></div></td><td><div class=\"dni-plaintext\"><pre>&lt;null&gt;</pre></div></td><td><div class=\"dni-plaintext\"><pre>&lt;null&gt;</pre></div></td><td><div class=\"dni-plaintext\"><pre>&lt;null&gt;</pre></div></td></tr><tr style=\"display: none\"><td><i><div class=\"dni-plaintext\"><pre>30</pre></div></i></td><td>Florida State</td><td>ACC</td><td><div class=\"dni-plaintext\"><pre>33</pre></div></td><td><div class=\"dni-plaintext\"><pre>20</pre></div></td><td>https://d9ioojyvhqpok.cloudfront.net/m93iek4mxqk3riqkjcnkn6750owr</td><td><div class=\"dni-plaintext\"><pre>&lt;null&gt;</pre></div></td><td>ACC</td><td><div class=\"dni-plaintext\"><pre>&lt;null&gt;</pre></div></td><td><div class=\"dni-plaintext\"><pre>&lt;null&gt;</pre></div></td><td><div class=\"dni-plaintext\"><pre>&lt;null&gt;</pre></div></td><td><div class=\"dni-plaintext\"><pre>&lt;null&gt;</pre></div></td></tr><tr style=\"display: none\"><td><i><div class=\"dni-plaintext\"><pre>31</pre></div></i></td><td>Pitt</td><td>ACC</td><td><div class=\"dni-plaintext\"><pre>31</pre></div></td><td><div class=\"dni-plaintext\"><pre>11</pre></div></td><td>https://d9ioojyvhqpok.cloudfront.net/csd3a9od4s7wmvelf8ocfsz1iybj</td><td><div class=\"dni-plaintext\"><pre>&lt;null&gt;</pre></div></td><td>ACC</td><td><div class=\"dni-plaintext\"><pre>&lt;null&gt;</pre></div></td><td><div class=\"dni-plaintext\"><pre>&lt;null&gt;</pre></div></td><td><div class=\"dni-plaintext\"><pre>&lt;null&gt;</pre></div></td><td><div class=\"dni-plaintext\"><pre>&lt;null&gt;</pre></div></td></tr><tr style=\"display: none\"><td><i><div class=\"dni-plaintext\"><pre>32</pre></div></i></td><td>Vanderbilt</td><td>SEC</td><td><div class=\"dni-plaintext\"><pre>30</pre></div></td><td><div class=\"dni-plaintext\"><pre>11</pre></div></td><td>https://d9ioojyvhqpok.cloudfront.net/ks9tdyoxceupundm449cdwku6r07</td><td><div class=\"dni-plaintext\"><pre>&lt;null&gt;</pre></div></td><td>SEC</td><td><div class=\"dni-plaintext\"><pre>&lt;null&gt;</pre></div></td><td><div class=\"dni-plaintext\"><pre>&lt;null&gt;</pre></div></td><td><div class=\"dni-plaintext\"><pre>&lt;null&gt;</pre></div></td><td><div class=\"dni-plaintext\"><pre>&lt;null&gt;</pre></div></td></tr><tr style=\"display: none\"><td><i><div class=\"dni-plaintext\"><pre>33</pre></div></i></td><td>Minnesota</td><td>Big Ten</td><td><div class=\"dni-plaintext\"><pre>29</pre></div></td><td><div class=\"dni-plaintext\"><pre>8</pre></div></td><td>https://d9ioojyvhqpok.cloudfront.net/qwkosz3kmuu3cll5gejk03tlkbrc</td><td><div class=\"dni-plaintext\"><pre>&lt;null&gt;</pre></div></td><td>Big Ten</td><td><div class=\"dni-plaintext\"><pre>&lt;null&gt;</pre></div></td><td><div class=\"dni-plaintext\"><pre>&lt;null&gt;</pre></div></td><td><div class=\"dni-plaintext\"><pre>&lt;null&gt;</pre></div></td><td><div class=\"dni-plaintext\"><pre>&lt;null&gt;</pre></div></td></tr><tr style=\"display: none\"><td><i><div class=\"dni-plaintext\"><pre>34</pre></div></i></td><td>Northwestern</td><td>Big Ten</td><td><div class=\"dni-plaintext\"><pre>28</pre></div></td><td><div class=\"dni-plaintext\"><pre>5</pre></div></td><td>https://d9ioojyvhqpok.cloudfront.net/uzykooi74755tgvvarik104rhbwc</td><td><div class=\"dni-plaintext\"><pre>&lt;null&gt;</pre></div></td><td>Big Ten</td><td><div class=\"dni-plaintext\"><pre>&lt;null&gt;</pre></div></td><td><div class=\"dni-plaintext\"><pre>&lt;null&gt;</pre></div></td><td><div class=\"dni-plaintext\"><pre>&lt;null&gt;</pre></div></td><td><div class=\"dni-plaintext\"><pre>&lt;null&gt;</pre></div></td></tr><tr style=\"display: none\"><td><i><div class=\"dni-plaintext\"><pre>35</pre></div></i></td><td>Baylor</td><td>Big 12</td><td><div class=\"dni-plaintext\"><pre>27</pre></div></td><td><div class=\"dni-plaintext\"><pre>12</pre></div></td><td>https://d9ioojyvhqpok.cloudfront.net/680o8r6910ph1hh1y4x61eqn3q1a</td><td><div class=\"dni-plaintext\"><pre>&lt;null&gt;</pre></div></td><td>Big 12</td><td><div class=\"dni-plaintext\"><pre>&lt;null&gt;</pre></div></td><td><div class=\"dni-plaintext\"><pre>&lt;null&gt;</pre></div></td><td><div class=\"dni-plaintext\"><pre>&lt;null&gt;</pre></div></td><td><div class=\"dni-plaintext\"><pre>&lt;null&gt;</pre></div></td></tr><tr style=\"display: none\"><td><i><div class=\"dni-plaintext\"><pre>36</pre></div></i></td><td>Kansas</td><td>Big 12</td><td><div class=\"dni-plaintext\"><pre>27</pre></div></td><td><div class=\"dni-plaintext\"><pre>11</pre></div></td><td>https://d9ioojyvhqpok.cloudfront.net/3y3u2f1wfjxe2jgxqkfhh4bptcls</td><td><div class=\"dni-plaintext\"><pre>&lt;null&gt;</pre></div></td><td>Big 12</td><td><div class=\"dni-plaintext\"><pre>&lt;null&gt;</pre></div></td><td><div class=\"dni-plaintext\"><pre>&lt;null&gt;</pre></div></td><td><div class=\"dni-plaintext\"><pre>&lt;null&gt;</pre></div></td><td><div class=\"dni-plaintext\"><pre>&lt;null&gt;</pre></div></td></tr><tr style=\"display: none\"><td><i><div class=\"dni-plaintext\"><pre>37</pre></div></i></td><td>TCU</td><td>Big 12</td><td><div class=\"dni-plaintext\"><pre>25</pre></div></td><td><div class=\"dni-plaintext\"><pre>12</pre></div></td><td>https://d9ioojyvhqpok.cloudfront.net/3pn9fufuton7hpf2s6p0cdb71qau</td><td><div class=\"dni-plaintext\"><pre>&lt;null&gt;</pre></div></td><td>Big 12</td><td><div class=\"dni-plaintext\"><pre>&lt;null&gt;</pre></div></td><td><div class=\"dni-plaintext\"><pre>&lt;null&gt;</pre></div></td><td><div class=\"dni-plaintext\"><pre>&lt;null&gt;</pre></div></td><td><div class=\"dni-plaintext\"><pre>&lt;null&gt;</pre></div></td></tr><tr style=\"display: none\"><td><i><div class=\"dni-plaintext\"><pre>38</pre></div></i></td><td>Duke</td><td>ACC</td><td><div class=\"dni-plaintext\"><pre>25</pre></div></td><td><div class=\"dni-plaintext\"><pre>6</pre></div></td><td>https://d9ioojyvhqpok.cloudfront.net/mero0lt4runb7sfivdwof5kb4pfq</td><td><div class=\"dni-plaintext\"><pre>&lt;null&gt;</pre></div></td><td>ACC</td><td><div class=\"dni-plaintext\"><pre>&lt;null&gt;</pre></div></td><td><div class=\"dni-plaintext\"><pre>&lt;null&gt;</pre></div></td><td><div class=\"dni-plaintext\"><pre>&lt;null&gt;</pre></div></td><td><div class=\"dni-plaintext\"><pre>&lt;null&gt;</pre></div></td></tr><tr style=\"display: none\"><td><i><div class=\"dni-plaintext\"><pre>39</pre></div></i></td><td>Wisconsin</td><td>Big Ten</td><td><div class=\"dni-plaintext\"><pre>23</pre></div></td><td><div class=\"dni-plaintext\"><pre>10</pre></div></td><td>https://d9ioojyvhqpok.cloudfront.net/o4grd1s0303jrryu10vqeg74uw3y</td><td><div class=\"dni-plaintext\"><pre>&lt;null&gt;</pre></div></td><td>Big Ten</td><td><div class=\"dni-plaintext\"><pre>&lt;null&gt;</pre></div></td><td><div class=\"dni-plaintext\"><pre>&lt;null&gt;</pre></div></td><td><div class=\"dni-plaintext\"><pre>&lt;null&gt;</pre></div></td><td><div class=\"dni-plaintext\"><pre>&lt;null&gt;</pre></div></td></tr><tr style=\"display: none\"><td><i><div class=\"dni-plaintext\"><pre>40</pre></div></i></td><td>Cincinnati</td><td>Big 12</td><td><div class=\"dni-plaintext\"><pre>23</pre></div></td><td><div class=\"dni-plaintext\"><pre>7</pre></div></td><td>https://d9ioojyvhqpok.cloudfront.net/870bz02zmr1utzcq47atpmxmxhgn</td><td><div class=\"dni-plaintext\"><pre>&lt;null&gt;</pre></div></td><td>Big 12</td><td><div class=\"dni-plaintext\"><pre>&lt;null&gt;</pre></div></td><td><div class=\"dni-plaintext\"><pre>&lt;null&gt;</pre></div></td><td><div class=\"dni-plaintext\"><pre>&lt;null&gt;</pre></div></td><td><div class=\"dni-plaintext\"><pre>&lt;null&gt;</pre></div></td></tr><tr style=\"display: none\"><td><i><div class=\"dni-plaintext\"><pre>41</pre></div></i></td><td>Iowa State</td><td>Big 12</td><td><div class=\"dni-plaintext\"><pre>23</pre></div></td><td><div class=\"dni-plaintext\"><pre>6</pre></div></td><td>https://d9ioojyvhqpok.cloudfront.net/4y3zdnc9x1vnvvqjvq8h1ocvbph1</td><td><div class=\"dni-plaintext\"><pre>&lt;null&gt;</pre></div></td><td>Big 12</td><td><div class=\"dni-plaintext\"><pre>&lt;null&gt;</pre></div></td><td><div class=\"dni-plaintext\"><pre>&lt;null&gt;</pre></div></td><td><div class=\"dni-plaintext\"><pre>&lt;null&gt;</pre></div></td><td><div class=\"dni-plaintext\"><pre>&lt;null&gt;</pre></div></td></tr><tr style=\"display: none\"><td><i><div class=\"dni-plaintext\"><pre>42</pre></div></i></td><td>Virginia</td><td>ACC</td><td><div class=\"dni-plaintext\"><pre>21</pre></div></td><td><div class=\"dni-plaintext\"><pre>11</pre></div></td><td>https://d9ioojyvhqpok.cloudfront.net/n3p1twy2vglxg07gxs12mqum57ob</td><td><div class=\"dni-plaintext\"><pre>&lt;null&gt;</pre></div></td><td>ACC</td><td><div class=\"dni-plaintext\"><pre>&lt;null&gt;</pre></div></td><td><div class=\"dni-plaintext\"><pre>&lt;null&gt;</pre></div></td><td><div class=\"dni-plaintext\"><pre>&lt;null&gt;</pre></div></td><td><div class=\"dni-plaintext\"><pre>&lt;null&gt;</pre></div></td></tr><tr style=\"display: none\"><td><i><div class=\"dni-plaintext\"><pre>43</pre></div></i></td><td>Michigan State</td><td>Big Ten</td><td><div class=\"dni-plaintext\"><pre>21</pre></div></td><td><div class=\"dni-plaintext\"><pre>7</pre></div></td><td>https://d9ioojyvhqpok.cloudfront.net/cg1n9n8hr8srlsf1f5n8hshp7hn4</td><td><div class=\"dni-plaintext\"><pre>&lt;null&gt;</pre></div></td><td>Big Ten</td><td><div class=\"dni-plaintext\"><pre>&lt;null&gt;</pre></div></td><td><div class=\"dni-plaintext\"><pre>&lt;null&gt;</pre></div></td><td><div class=\"dni-plaintext\"><pre>&lt;null&gt;</pre></div></td><td><div class=\"dni-plaintext\"><pre>&lt;null&gt;</pre></div></td></tr><tr style=\"display: none\"><td><i><div class=\"dni-plaintext\"><pre>44</pre></div></i></td><td>Boston College</td><td>ACC</td><td><div class=\"dni-plaintext\"><pre>20</pre></div></td><td><div class=\"dni-plaintext\"><pre>6</pre></div></td><td>https://d9ioojyvhqpok.cloudfront.net/pvnuj3g9p7wjnr5tqceycvcd3cyj</td><td><div class=\"dni-plaintext\"><pre>&lt;null&gt;</pre></div></td><td>ACC</td><td><div class=\"dni-plaintext\"><pre>&lt;null&gt;</pre></div></td><td><div class=\"dni-plaintext\"><pre>&lt;null&gt;</pre></div></td><td><div class=\"dni-plaintext\"><pre>&lt;null&gt;</pre></div></td><td><div class=\"dni-plaintext\"><pre>&lt;null&gt;</pre></div></td></tr><tr style=\"display: none\"><td><i><div class=\"dni-plaintext\"><pre>45</pre></div></i></td><td>Georgia Tech</td><td>ACC</td><td><div class=\"dni-plaintext\"><pre>17</pre></div></td><td><div class=\"dni-plaintext\"><pre>7</pre></div></td><td>https://d9ioojyvhqpok.cloudfront.net/81nz08xlyuakuteawucr4up3suo8</td><td><div class=\"dni-plaintext\"><pre>&lt;null&gt;</pre></div></td><td>ACC</td><td><div class=\"dni-plaintext\"><pre>&lt;null&gt;</pre></div></td><td><div class=\"dni-plaintext\"><pre>&lt;null&gt;</pre></div></td><td><div class=\"dni-plaintext\"><pre>&lt;null&gt;</pre></div></td><td><div class=\"dni-plaintext\"><pre>&lt;null&gt;</pre></div></td></tr><tr style=\"display: none\"><td><i><div class=\"dni-plaintext\"><pre>46</pre></div></i></td><td>NC State</td><td>ACC</td><td><div class=\"dni-plaintext\"><pre>17</pre></div></td><td><div class=\"dni-plaintext\"><pre>7</pre></div></td><td>https://d9ioojyvhqpok.cloudfront.net/7fycbtf0wh1qkppyd2rk1262d70m</td><td><div class=\"dni-plaintext\"><pre>&lt;null&gt;</pre></div></td><td>ACC</td><td><div class=\"dni-plaintext\"><pre>&lt;null&gt;</pre></div></td><td><div class=\"dni-plaintext\"><pre>&lt;null&gt;</pre></div></td><td><div class=\"dni-plaintext\"><pre>&lt;null&gt;</pre></div></td><td><div class=\"dni-plaintext\"><pre>&lt;null&gt;</pre></div></td></tr><tr style=\"display: none\"><td><i><div class=\"dni-plaintext\"><pre>47</pre></div></i></td><td>Wake Forest</td><td>ACC</td><td><div class=\"dni-plaintext\"><pre>17</pre></div></td><td><div class=\"dni-plaintext\"><pre>6</pre></div></td><td>https://d9ioojyvhqpok.cloudfront.net/j2ohf1x4a1qpbbv4wc288wjlcxog</td><td><div class=\"dni-plaintext\"><pre>&lt;null&gt;</pre></div></td><td>ACC</td><td><div class=\"dni-plaintext\"><pre>&lt;null&gt;</pre></div></td><td><div class=\"dni-plaintext\"><pre>&lt;null&gt;</pre></div></td><td><div class=\"dni-plaintext\"><pre>&lt;null&gt;</pre></div></td><td><div class=\"dni-plaintext\"><pre>&lt;null&gt;</pre></div></td></tr><tr style=\"display: none\"><td><i><div class=\"dni-plaintext\"><pre>48</pre></div></i></td><td>North Carolina</td><td>ACC</td><td><div class=\"dni-plaintext\"><pre>16</pre></div></td><td><div class=\"dni-plaintext\"><pre>10</pre></div></td><td>https://d9ioojyvhqpok.cloudfront.net/5c23eybxnlio9jxtkswlc2alkceh</td><td><div class=\"dni-plaintext\"><pre>&lt;null&gt;</pre></div></td><td>ACC</td><td><div class=\"dni-plaintext\"><pre>&lt;null&gt;</pre></div></td><td><div class=\"dni-plaintext\"><pre>&lt;null&gt;</pre></div></td><td><div class=\"dni-plaintext\"><pre>&lt;null&gt;</pre></div></td><td><div class=\"dni-plaintext\"><pre>&lt;null&gt;</pre></div></td></tr><tr style=\"display: none\"><td><i><div class=\"dni-plaintext\"><pre>49</pre></div></i></td><td>Kentucky</td><td>SEC</td><td><div class=\"dni-plaintext\"><pre>15</pre></div></td><td><div class=\"dni-plaintext\"><pre>15</pre></div></td><td>https://d9ioojyvhqpok.cloudfront.net/ut5ldsk84c4ha7ugkge0nc6dhkn1</td><td><div class=\"dni-plaintext\"><pre>&lt;null&gt;</pre></div></td><td>SEC</td><td><div class=\"dni-plaintext\"><pre>&lt;null&gt;</pre></div></td><td><div class=\"dni-plaintext\"><pre>&lt;null&gt;</pre></div></td><td><div class=\"dni-plaintext\"><pre>&lt;null&gt;</pre></div></td><td><div class=\"dni-plaintext\"><pre>&lt;null&gt;</pre></div></td></tr><tr style=\"display: none\"><td><i><div class=\"dni-plaintext\"><pre>50</pre></div></i></td><td>California</td><td>ACC</td><td><div class=\"dni-plaintext\"><pre>15</pre></div></td><td><div class=\"dni-plaintext\"><pre>8</pre></div></td><td>https://d9ioojyvhqpok.cloudfront.net/auflw3knuli3lbv8xyfpf3isplcn</td><td><div class=\"dni-plaintext\"><pre>&lt;null&gt;</pre></div></td><td>ACC</td><td><div class=\"dni-plaintext\"><pre>&lt;null&gt;</pre></div></td><td><div class=\"dni-plaintext\"><pre>&lt;null&gt;</pre></div></td><td><div class=\"dni-plaintext\"><pre>&lt;null&gt;</pre></div></td><td><div class=\"dni-plaintext\"><pre>&lt;null&gt;</pre></div></td></tr><tr style=\"display: none\"><td><i><div class=\"dni-plaintext\"><pre>51</pre></div></i></td><td>UConn</td><td>FBS - AAC</td><td><div class=\"dni-plaintext\"><pre>14</pre></div></td><td><div class=\"dni-plaintext\"><pre>4</pre></div></td><td>https://d9ioojyvhqpok.cloudfront.net/rbfl7zbsn9fqyx2083lv9qh3abo1</td><td><div class=\"dni-plaintext\"><pre>&lt;null&gt;</pre></div></td><td>RandomSmallSchool</td><td><div class=\"dni-plaintext\"><pre>&lt;null&gt;</pre></div></td><td><div class=\"dni-plaintext\"><pre>&lt;null&gt;</pre></div></td><td><div class=\"dni-plaintext\"><pre>&lt;null&gt;</pre></div></td><td><div class=\"dni-plaintext\"><pre>&lt;null&gt;</pre></div></td></tr><tr style=\"display: none\"><td><i><div class=\"dni-plaintext\"><pre>52</pre></div></i></td><td>Nebraska</td><td>Big Ten</td><td><div class=\"dni-plaintext\"><pre>13</pre></div></td><td><div class=\"dni-plaintext\"><pre>7</pre></div></td><td>https://d9ioojyvhqpok.cloudfront.net/bggpjlssuaua1w9xvmk0l6adeexb</td><td><div class=\"dni-plaintext\"><pre>&lt;null&gt;</pre></div></td><td>Big Ten</td><td><div class=\"dni-plaintext\"><pre>&lt;null&gt;</pre></div></td><td><div class=\"dni-plaintext\"><pre>&lt;null&gt;</pre></div></td><td><div class=\"dni-plaintext\"><pre>&lt;null&gt;</pre></div></td><td><div class=\"dni-plaintext\"><pre>&lt;null&gt;</pre></div></td></tr><tr style=\"display: none\"><td><i><div class=\"dni-plaintext\"><pre>53</pre></div></i></td><td>Boise State</td><td>FBS - Mountain West</td><td><div class=\"dni-plaintext\"><pre>12</pre></div></td><td><div class=\"dni-plaintext\"><pre>5</pre></div></td><td>https://d9ioojyvhqpok.cloudfront.net/uyicpybpsmloik4ba9lvjoehaht6</td><td><div class=\"dni-plaintext\"><pre>&lt;null&gt;</pre></div></td><td>RandomSmallSchool</td><td><div class=\"dni-plaintext\"><pre>&lt;null&gt;</pre></div></td><td><div class=\"dni-plaintext\"><pre>&lt;null&gt;</pre></div></td><td><div class=\"dni-plaintext\"><pre>&lt;null&gt;</pre></div></td><td><div class=\"dni-plaintext\"><pre>&lt;null&gt;</pre></div></td></tr><tr style=\"display: none\"><td><i><div class=\"dni-plaintext\"><pre>54</pre></div></i></td><td>Arizona</td><td>Big 12</td><td><div class=\"dni-plaintext\"><pre>12</pre></div></td><td><div class=\"dni-plaintext\"><pre>4</pre></div></td><td>https://d9ioojyvhqpok.cloudfront.net/yc1zi4t9i033n72emneex4dsz107</td><td><div class=\"dni-plaintext\"><pre>&lt;null&gt;</pre></div></td><td>Big 12</td><td><div class=\"dni-plaintext\"><pre>&lt;null&gt;</pre></div></td><td><div class=\"dni-plaintext\"><pre>&lt;null&gt;</pre></div></td><td><div class=\"dni-plaintext\"><pre>&lt;null&gt;</pre></div></td><td><div class=\"dni-plaintext\"><pre>&lt;null&gt;</pre></div></td></tr><tr style=\"display: none\"><td><i><div class=\"dni-plaintext\"><pre>55</pre></div></i></td><td>Virginia Tech</td><td>ACC</td><td><div class=\"dni-plaintext\"><pre>11</pre></div></td><td><div class=\"dni-plaintext\"><pre>9</pre></div></td><td>https://d9ioojyvhqpok.cloudfront.net/zdyvvg0cti8zu96k5d3l9wjjk336</td><td><div class=\"dni-plaintext\"><pre>&lt;null&gt;</pre></div></td><td>ACC</td><td><div class=\"dni-plaintext\"><pre>&lt;null&gt;</pre></div></td><td><div class=\"dni-plaintext\"><pre>&lt;null&gt;</pre></div></td><td><div class=\"dni-plaintext\"><pre>&lt;null&gt;</pre></div></td><td><div class=\"dni-plaintext\"><pre>&lt;null&gt;</pre></div></td></tr><tr style=\"display: none\"><td><i><div class=\"dni-plaintext\"><pre>56</pre></div></i></td><td>Arkansas</td><td>SEC</td><td><div class=\"dni-plaintext\"><pre>11</pre></div></td><td><div class=\"dni-plaintext\"><pre>5</pre></div></td><td>https://d9ioojyvhqpok.cloudfront.net/y9pwbaaqxph2ngmsubw4c8mabj28</td><td><div class=\"dni-plaintext\"><pre>&lt;null&gt;</pre></div></td><td>SEC</td><td><div class=\"dni-plaintext\"><pre>&lt;null&gt;</pre></div></td><td><div class=\"dni-plaintext\"><pre>&lt;null&gt;</pre></div></td><td><div class=\"dni-plaintext\"><pre>&lt;null&gt;</pre></div></td><td><div class=\"dni-plaintext\"><pre>&lt;null&gt;</pre></div></td></tr><tr style=\"display: none\"><td><i><div class=\"dni-plaintext\"><pre>57</pre></div></i></td><td>Kansas State</td><td>Big 12</td><td><div class=\"dni-plaintext\"><pre>11</pre></div></td><td><div class=\"dni-plaintext\"><pre>3</pre></div></td><td>https://d9ioojyvhqpok.cloudfront.net/cf5agfhv1kbdl5pdwue68uacixdr</td><td><div class=\"dni-plaintext\"><pre>&lt;null&gt;</pre></div></td><td>Big 12</td><td><div class=\"dni-plaintext\"><pre>&lt;null&gt;</pre></div></td><td><div class=\"dni-plaintext\"><pre>&lt;null&gt;</pre></div></td><td><div class=\"dni-plaintext\"><pre>&lt;null&gt;</pre></div></td><td><div class=\"dni-plaintext\"><pre>&lt;null&gt;</pre></div></td></tr><tr style=\"display: none\"><td><i><div class=\"dni-plaintext\"><pre>58</pre></div></i></td><td>UCLA</td><td>Big Ten</td><td><div class=\"dni-plaintext\"><pre>10</pre></div></td><td><div class=\"dni-plaintext\"><pre>6</pre></div></td><td>https://d9ioojyvhqpok.cloudfront.net/eg2j22sbnhfw3bbfn1tz41ejtehl</td><td><div class=\"dni-plaintext\"><pre>&lt;null&gt;</pre></div></td><td>Big Ten</td><td><div class=\"dni-plaintext\"><pre>&lt;null&gt;</pre></div></td><td><div class=\"dni-plaintext\"><pre>&lt;null&gt;</pre></div></td><td><div class=\"dni-plaintext\"><pre>&lt;null&gt;</pre></div></td><td><div class=\"dni-plaintext\"><pre>&lt;null&gt;</pre></div></td></tr><tr style=\"display: none\"><td><i><div class=\"dni-plaintext\"><pre>59</pre></div></i></td><td>Stanford</td><td>ACC</td><td><div class=\"dni-plaintext\"><pre>10</pre></div></td><td><div class=\"dni-plaintext\"><pre>5</pre></div></td><td>https://d9ioojyvhqpok.cloudfront.net/r84jnj5bajsm80wdy364ziid0z84</td><td><div class=\"dni-plaintext\"><pre>&lt;null&gt;</pre></div></td><td>ACC</td><td><div class=\"dni-plaintext\"><pre>&lt;null&gt;</pre></div></td><td><div class=\"dni-plaintext\"><pre>&lt;null&gt;</pre></div></td><td><div class=\"dni-plaintext\"><pre>&lt;null&gt;</pre></div></td><td><div class=\"dni-plaintext\"><pre>&lt;null&gt;</pre></div></td></tr><tr style=\"display: none\"><td><i><div class=\"dni-plaintext\"><pre>60</pre></div></i></td><td>Texas State</td><td>FBS - Sun Belt</td><td><div class=\"dni-plaintext\"><pre>9</pre></div></td><td><div class=\"dni-plaintext\"><pre>5</pre></div></td><td>https://d9ioojyvhqpok.cloudfront.net/xs9x6mbqnl60a5ivuzdypubo74dh</td><td><div class=\"dni-plaintext\"><pre>&lt;null&gt;</pre></div></td><td>RandomSmallSchool</td><td><div class=\"dni-plaintext\"><pre>&lt;null&gt;</pre></div></td><td><div class=\"dni-plaintext\"><pre>&lt;null&gt;</pre></div></td><td><div class=\"dni-plaintext\"><pre>&lt;null&gt;</pre></div></td><td><div class=\"dni-plaintext\"><pre>&lt;null&gt;</pre></div></td></tr><tr style=\"display: none\"><td><i><div class=\"dni-plaintext\"><pre>61</pre></div></i></td><td>East Carolina</td><td>FBS - AAC</td><td><div class=\"dni-plaintext\"><pre>9</pre></div></td><td><div class=\"dni-plaintext\"><pre>5</pre></div></td><td>https://d9ioojyvhqpok.cloudfront.net/4fofh5ug49ze2z31qvy645o1teye</td><td><div class=\"dni-plaintext\"><pre>&lt;null&gt;</pre></div></td><td>RandomSmallSchool</td><td><div class=\"dni-plaintext\"><pre>&lt;null&gt;</pre></div></td><td><div class=\"dni-plaintext\"><pre>&lt;null&gt;</pre></div></td><td><div class=\"dni-plaintext\"><pre>&lt;null&gt;</pre></div></td><td><div class=\"dni-plaintext\"><pre>&lt;null&gt;</pre></div></td></tr><tr style=\"display: none\"><td><i><div class=\"dni-plaintext\"><pre>62</pre></div></i></td><td>Wyoming</td><td>FBS - Mountain West</td><td><div class=\"dni-plaintext\"><pre>9</pre></div></td><td><div class=\"dni-plaintext\"><pre>3</pre></div></td><td>https://d9ioojyvhqpok.cloudfront.net/ep7hiz9nugk2psxcfwc5mj701dzf</td><td><div class=\"dni-plaintext\"><pre>&lt;null&gt;</pre></div></td><td>RandomSmallSchool</td><td><div class=\"dni-plaintext\"><pre>&lt;null&gt;</pre></div></td><td><div class=\"dni-plaintext\"><pre>&lt;null&gt;</pre></div></td><td><div class=\"dni-plaintext\"><pre>&lt;null&gt;</pre></div></td><td><div class=\"dni-plaintext\"><pre>&lt;null&gt;</pre></div></td></tr><tr style=\"display: none\"><td><i><div class=\"dni-plaintext\"><pre>63</pre></div></i></td><td>Mississippi State</td><td>SEC</td><td><div class=\"dni-plaintext\"><pre>8</pre></div></td><td><div class=\"dni-plaintext\"><pre>8</pre></div></td><td>https://d9ioojyvhqpok.cloudfront.net/fx6nh0df2yp80txh0qv4lzengrnr</td><td><div class=\"dni-plaintext\"><pre>&lt;null&gt;</pre></div></td><td>SEC</td><td><div class=\"dni-plaintext\"><pre>&lt;null&gt;</pre></div></td><td><div class=\"dni-plaintext\"><pre>&lt;null&gt;</pre></div></td><td><div class=\"dni-plaintext\"><pre>&lt;null&gt;</pre></div></td><td><div class=\"dni-plaintext\"><pre>&lt;null&gt;</pre></div></td></tr><tr style=\"display: none\"><td><i><div class=\"dni-plaintext\"><pre>64</pre></div></i></td><td>Maryland</td><td>Big Ten</td><td><div class=\"dni-plaintext\"><pre>7</pre></div></td><td><div class=\"dni-plaintext\"><pre>4</pre></div></td><td>https://d9ioojyvhqpok.cloudfront.net/d3n73hxgsb7bplz3zkxq5ubrewx4</td><td><div class=\"dni-plaintext\"><pre>&lt;null&gt;</pre></div></td><td>Big Ten</td><td><div class=\"dni-plaintext\"><pre>&lt;null&gt;</pre></div></td><td><div class=\"dni-plaintext\"><pre>&lt;null&gt;</pre></div></td><td><div class=\"dni-plaintext\"><pre>&lt;null&gt;</pre></div></td><td><div class=\"dni-plaintext\"><pre>&lt;null&gt;</pre></div></td></tr><tr style=\"display: none\"><td><i><div class=\"dni-plaintext\"><pre>65</pre></div></i></td><td>James Madison</td><td>FBS - Sun Belt</td><td><div class=\"dni-plaintext\"><pre>7</pre></div></td><td><div class=\"dni-plaintext\"><pre>3</pre></div></td><td>https://d9ioojyvhqpok.cloudfront.net/jxwsh5nfw2r1lak6vps8g12jl54j</td><td><div class=\"dni-plaintext\"><pre>&lt;null&gt;</pre></div></td><td>RandomSmallSchool</td><td><div class=\"dni-plaintext\"><pre>&lt;null&gt;</pre></div></td><td><div class=\"dni-plaintext\"><pre>&lt;null&gt;</pre></div></td><td><div class=\"dni-plaintext\"><pre>&lt;null&gt;</pre></div></td><td><div class=\"dni-plaintext\"><pre>&lt;null&gt;</pre></div></td></tr><tr style=\"display: none\"><td><i><div class=\"dni-plaintext\"><pre>66</pre></div></i></td><td>Toledo</td><td>FBS - MAC</td><td><div class=\"dni-plaintext\"><pre>7</pre></div></td><td><div class=\"dni-plaintext\"><pre>2</pre></div></td><td>https://d9ioojyvhqpok.cloudfront.net/m1sfaztmkwljt443jgfvxniro9pt</td><td><div class=\"dni-plaintext\"><pre>&lt;null&gt;</pre></div></td><td>RandomSmallSchool</td><td><div class=\"dni-plaintext\"><pre>&lt;null&gt;</pre></div></td><td><div class=\"dni-plaintext\"><pre>&lt;null&gt;</pre></div></td><td><div class=\"dni-plaintext\"><pre>&lt;null&gt;</pre></div></td><td><div class=\"dni-plaintext\"><pre>&lt;null&gt;</pre></div></td></tr><tr style=\"display: none\"><td><i><div class=\"dni-plaintext\"><pre>67</pre></div></i></td><td>Oklahoma State</td><td>Big 12</td><td><div class=\"dni-plaintext\"><pre>6</pre></div></td><td><div class=\"dni-plaintext\"><pre>6</pre></div></td><td>https://d9ioojyvhqpok.cloudfront.net/qwfc4f82m2rngln7rguecgcdanch</td><td><div class=\"dni-plaintext\"><pre>&lt;null&gt;</pre></div></td><td>Big 12</td><td><div class=\"dni-plaintext\"><pre>&lt;null&gt;</pre></div></td><td><div class=\"dni-plaintext\"><pre>&lt;null&gt;</pre></div></td><td><div class=\"dni-plaintext\"><pre>&lt;null&gt;</pre></div></td><td><div class=\"dni-plaintext\"><pre>&lt;null&gt;</pre></div></td></tr><tr style=\"display: none\"><td><i><div class=\"dni-plaintext\"><pre>68</pre></div></i></td><td>UTEP</td><td>FBS - CUSA</td><td><div class=\"dni-plaintext\"><pre>6</pre></div></td><td><div class=\"dni-plaintext\"><pre>2</pre></div></td><td>https://d9ioojyvhqpok.cloudfront.net/das7yv34vzekh2h8y2xt3wxsy8zp</td><td><div class=\"dni-plaintext\"><pre>&lt;null&gt;</pre></div></td><td>RandomSmallSchool</td><td><div class=\"dni-plaintext\"><pre>&lt;null&gt;</pre></div></td><td><div class=\"dni-plaintext\"><pre>&lt;null&gt;</pre></div></td><td><div class=\"dni-plaintext\"><pre>&lt;null&gt;</pre></div></td><td><div class=\"dni-plaintext\"><pre>&lt;null&gt;</pre></div></td></tr><tr style=\"display: none\"><td><i><div class=\"dni-plaintext\"><pre>69</pre></div></i></td><td>North Dakota State</td><td>FCS</td><td><div class=\"dni-plaintext\"><pre>6</pre></div></td><td><div class=\"dni-plaintext\"><pre>1</pre></div></td><td>https://d9ioojyvhqpok.cloudfront.net/2bysk1tvl4fivjvr6l70tl6imxvx</td><td><div class=\"dni-plaintext\"><pre>&lt;null&gt;</pre></div></td><td>RandomSmallSchool</td><td><div class=\"dni-plaintext\"><pre>&lt;null&gt;</pre></div></td><td><div class=\"dni-plaintext\"><pre>&lt;null&gt;</pre></div></td><td><div class=\"dni-plaintext\"><pre>&lt;null&gt;</pre></div></td><td><div class=\"dni-plaintext\"><pre>&lt;null&gt;</pre></div></td></tr><tr style=\"display: none\"><td><i><div class=\"dni-plaintext\"><pre>70</pre></div></i></td><td>West Virginia</td><td>Big 12</td><td><div class=\"dni-plaintext\"><pre>5</pre></div></td><td><div class=\"dni-plaintext\"><pre>5</pre></div></td><td>https://d9ioojyvhqpok.cloudfront.net/37s7o47tb2yw9pkq8f0wbmra4n5c</td><td><div class=\"dni-plaintext\"><pre>&lt;null&gt;</pre></div></td><td>Big 12</td><td><div class=\"dni-plaintext\"><pre>&lt;null&gt;</pre></div></td><td><div class=\"dni-plaintext\"><pre>&lt;null&gt;</pre></div></td><td><div class=\"dni-plaintext\"><pre>&lt;null&gt;</pre></div></td><td><div class=\"dni-plaintext\"><pre>&lt;null&gt;</pre></div></td></tr><tr style=\"display: none\"><td><i><div class=\"dni-plaintext\"><pre>71</pre></div></i></td><td>UCF</td><td>Big 12</td><td><div class=\"dni-plaintext\"><pre>5</pre></div></td><td><div class=\"dni-plaintext\"><pre>5</pre></div></td><td>https://d9ioojyvhqpok.cloudfront.net/g0vfbj8pnx4msjf7l42l5h1esvn4</td><td><div class=\"dni-plaintext\"><pre>&lt;null&gt;</pre></div></td><td>Big 12</td><td><div class=\"dni-plaintext\"><pre>&lt;null&gt;</pre></div></td><td><div class=\"dni-plaintext\"><pre>&lt;null&gt;</pre></div></td><td><div class=\"dni-plaintext\"><pre>&lt;null&gt;</pre></div></td><td><div class=\"dni-plaintext\"><pre>&lt;null&gt;</pre></div></td></tr><tr style=\"display: none\"><td><i><div class=\"dni-plaintext\"><pre>72</pre></div></i></td><td>Southern Miss</td><td>FBS - CUSA</td><td><div class=\"dni-plaintext\"><pre>5</pre></div></td><td><div class=\"dni-plaintext\"><pre>5</pre></div></td><td>https://d9ioojyvhqpok.cloudfront.net/vljaktb9bwwnrs8vbsz5zjiehzbg</td><td><div class=\"dni-plaintext\"><pre>&lt;null&gt;</pre></div></td><td>RandomSmallSchool</td><td><div class=\"dni-plaintext\"><pre>&lt;null&gt;</pre></div></td><td><div class=\"dni-plaintext\"><pre>&lt;null&gt;</pre></div></td><td><div class=\"dni-plaintext\"><pre>&lt;null&gt;</pre></div></td><td><div class=\"dni-plaintext\"><pre>&lt;null&gt;</pre></div></td></tr><tr style=\"display: none\"><td><i><div class=\"dni-plaintext\"><pre>73</pre></div></i></td><td>Marshall</td><td>FBS - CUSA</td><td><div class=\"dni-plaintext\"><pre>5</pre></div></td><td><div class=\"dni-plaintext\"><pre>4</pre></div></td><td>https://d9ioojyvhqpok.cloudfront.net/1n0ygqwmsvg771vm8ilzdptyhvvv</td><td><div class=\"dni-plaintext\"><pre>&lt;null&gt;</pre></div></td><td>RandomSmallSchool</td><td><div class=\"dni-plaintext\"><pre>&lt;null&gt;</pre></div></td><td><div class=\"dni-plaintext\"><pre>&lt;null&gt;</pre></div></td><td><div class=\"dni-plaintext\"><pre>&lt;null&gt;</pre></div></td><td><div class=\"dni-plaintext\"><pre>&lt;null&gt;</pre></div></td></tr><tr style=\"display: none\"><td><i><div class=\"dni-plaintext\"><pre>74</pre></div></i></td><td>UNLV</td><td>FBS - Mountain West</td><td><div class=\"dni-plaintext\"><pre>5</pre></div></td><td><div class=\"dni-plaintext\"><pre>4</pre></div></td><td>https://d9ioojyvhqpok.cloudfront.net/4hxbby4zzz5hxuffm00vngkx1j87</td><td><div class=\"dni-plaintext\"><pre>&lt;null&gt;</pre></div></td><td>RandomSmallSchool</td><td><div class=\"dni-plaintext\"><pre>&lt;null&gt;</pre></div></td><td><div class=\"dni-plaintext\"><pre>&lt;null&gt;</pre></div></td><td><div class=\"dni-plaintext\"><pre>&lt;null&gt;</pre></div></td><td><div class=\"dni-plaintext\"><pre>&lt;null&gt;</pre></div></td></tr><tr style=\"display: none\"><td><i><div class=\"dni-plaintext\"><pre>75</pre></div></i></td><td>Purdue</td><td>Big Ten</td><td><div class=\"dni-plaintext\"><pre>4</pre></div></td><td><div class=\"dni-plaintext\"><pre>4</pre></div></td><td>https://d9ioojyvhqpok.cloudfront.net/0bjmmsxwhzoksybxoe4l71fr2d87</td><td><div class=\"dni-plaintext\"><pre>&lt;null&gt;</pre></div></td><td>Big Ten</td><td><div class=\"dni-plaintext\"><pre>&lt;null&gt;</pre></div></td><td><div class=\"dni-plaintext\"><pre>&lt;null&gt;</pre></div></td><td><div class=\"dni-plaintext\"><pre>&lt;null&gt;</pre></div></td><td><div class=\"dni-plaintext\"><pre>&lt;null&gt;</pre></div></td></tr><tr style=\"display: none\"><td><i><div class=\"dni-plaintext\"><pre>76</pre></div></i></td><td>Rutgers</td><td>Big Ten</td><td><div class=\"dni-plaintext\"><pre>4</pre></div></td><td><div class=\"dni-plaintext\"><pre>4</pre></div></td><td>https://d9ioojyvhqpok.cloudfront.net/70kax5tvygnc259akspwmf5pzxq9</td><td><div class=\"dni-plaintext\"><pre>&lt;null&gt;</pre></div></td><td>Big Ten</td><td><div class=\"dni-plaintext\"><pre>&lt;null&gt;</pre></div></td><td><div class=\"dni-plaintext\"><pre>&lt;null&gt;</pre></div></td><td><div class=\"dni-plaintext\"><pre>&lt;null&gt;</pre></div></td><td><div class=\"dni-plaintext\"><pre>&lt;null&gt;</pre></div></td></tr><tr style=\"display: none\"><td><i><div class=\"dni-plaintext\"><pre>77</pre></div></i></td><td>Charlotte</td><td>FBS - AAC</td><td><div class=\"dni-plaintext\"><pre>4</pre></div></td><td><div class=\"dni-plaintext\"><pre>4</pre></div></td><td>https://d9ioojyvhqpok.cloudfront.net/f48xuaazydxqnl9pulwp0n9b2w56</td><td><div class=\"dni-plaintext\"><pre>&lt;null&gt;</pre></div></td><td>RandomSmallSchool</td><td><div class=\"dni-plaintext\"><pre>&lt;null&gt;</pre></div></td><td><div class=\"dni-plaintext\"><pre>&lt;null&gt;</pre></div></td><td><div class=\"dni-plaintext\"><pre>&lt;null&gt;</pre></div></td><td><div class=\"dni-plaintext\"><pre>&lt;null&gt;</pre></div></td></tr><tr style=\"display: none\"><td><i><div class=\"dni-plaintext\"><pre>78</pre></div></i></td><td>Tulane</td><td>FBS - AAC</td><td><div class=\"dni-plaintext\"><pre>4</pre></div></td><td><div class=\"dni-plaintext\"><pre>4</pre></div></td><td>https://d9ioojyvhqpok.cloudfront.net/6mz16izd2o7j5755blz7hurdhz22</td><td><div class=\"dni-plaintext\"><pre>&lt;null&gt;</pre></div></td><td>RandomSmallSchool</td><td><div class=\"dni-plaintext\"><pre>&lt;null&gt;</pre></div></td><td><div class=\"dni-plaintext\"><pre>&lt;null&gt;</pre></div></td><td><div class=\"dni-plaintext\"><pre>&lt;null&gt;</pre></div></td><td><div class=\"dni-plaintext\"><pre>&lt;null&gt;</pre></div></td></tr><tr style=\"display: none\"><td><i><div class=\"dni-plaintext\"><pre>79</pre></div></i></td><td>Rice</td><td>FBS - AAC</td><td><div class=\"dni-plaintext\"><pre>4</pre></div></td><td><div class=\"dni-plaintext\"><pre>3</pre></div></td><td>https://d9ioojyvhqpok.cloudfront.net/vmac0vdq6nqzo42x1b0ooiaura3g</td><td><div class=\"dni-plaintext\"><pre>&lt;null&gt;</pre></div></td><td>RandomSmallSchool</td><td><div class=\"dni-plaintext\"><pre>&lt;null&gt;</pre></div></td><td><div class=\"dni-plaintext\"><pre>&lt;null&gt;</pre></div></td><td><div class=\"dni-plaintext\"><pre>&lt;null&gt;</pre></div></td><td><div class=\"dni-plaintext\"><pre>&lt;null&gt;</pre></div></td></tr><tr style=\"display: none\"><td><i><div class=\"dni-plaintext\"><pre>80</pre></div></i></td><td>Houston</td><td>Big 12</td><td><div class=\"dni-plaintext\"><pre>3</pre></div></td><td><div class=\"dni-plaintext\"><pre>3</pre></div></td><td>https://d9ioojyvhqpok.cloudfront.net/yzomr1qt1a1pdlbdwkkn94teus90</td><td><div class=\"dni-plaintext\"><pre>&lt;null&gt;</pre></div></td><td>Big 12</td><td><div class=\"dni-plaintext\"><pre>&lt;null&gt;</pre></div></td><td><div class=\"dni-plaintext\"><pre>&lt;null&gt;</pre></div></td><td><div class=\"dni-plaintext\"><pre>&lt;null&gt;</pre></div></td><td><div class=\"dni-plaintext\"><pre>&lt;null&gt;</pre></div></td></tr><tr style=\"display: none\"><td><i><div class=\"dni-plaintext\"><pre>81</pre></div></i></td><td>Akron</td><td>FBS - MAC</td><td><div class=\"dni-plaintext\"><pre>3</pre></div></td><td><div class=\"dni-plaintext\"><pre>3</pre></div></td><td>https://d9ioojyvhqpok.cloudfront.net/yvu5t7whomsw1iosdwm8fawpi5qj</td><td><div class=\"dni-plaintext\"><pre>&lt;null&gt;</pre></div></td><td>RandomSmallSchool</td><td><div class=\"dni-plaintext\"><pre>&lt;null&gt;</pre></div></td><td><div class=\"dni-plaintext\"><pre>&lt;null&gt;</pre></div></td><td><div class=\"dni-plaintext\"><pre>&lt;null&gt;</pre></div></td><td><div class=\"dni-plaintext\"><pre>&lt;null&gt;</pre></div></td></tr><tr style=\"display: none\"><td><i><div class=\"dni-plaintext\"><pre>82</pre></div></i></td><td>Youngstown State</td><td>FCS</td><td><div class=\"dni-plaintext\"><pre>3</pre></div></td><td><div class=\"dni-plaintext\"><pre>2</pre></div></td><td>https://d9ioojyvhqpok.cloudfront.net/rk7ez7uyily7v63g01g6zqtgy7e8</td><td><div class=\"dni-plaintext\"><pre>&lt;null&gt;</pre></div></td><td>RandomSmallSchool</td><td><div class=\"dni-plaintext\"><pre>&lt;null&gt;</pre></div></td><td><div class=\"dni-plaintext\"><pre>&lt;null&gt;</pre></div></td><td><div class=\"dni-plaintext\"><pre>&lt;null&gt;</pre></div></td><td><div class=\"dni-plaintext\"><pre>&lt;null&gt;</pre></div></td></tr><tr style=\"display: none\"><td><i><div class=\"dni-plaintext\"><pre>83</pre></div></i></td><td>Massachusetts</td><td>FBS - MAC</td><td><div class=\"dni-plaintext\"><pre>3</pre></div></td><td><div class=\"dni-plaintext\"><pre>2</pre></div></td><td>https://d9ioojyvhqpok.cloudfront.net/enpjhipf6zrlbpox3c368n4k7ugr</td><td><div class=\"dni-plaintext\"><pre>&lt;null&gt;</pre></div></td><td>RandomSmallSchool</td><td><div class=\"dni-plaintext\"><pre>&lt;null&gt;</pre></div></td><td><div class=\"dni-plaintext\"><pre>&lt;null&gt;</pre></div></td><td><div class=\"dni-plaintext\"><pre>&lt;null&gt;</pre></div></td><td><div class=\"dni-plaintext\"><pre>&lt;null&gt;</pre></div></td></tr><tr style=\"display: none\"><td><i><div class=\"dni-plaintext\"><pre>84</pre></div></i></td><td>Troy</td><td>FBS - Sun Belt</td><td><div class=\"dni-plaintext\"><pre>3</pre></div></td><td><div class=\"dni-plaintext\"><pre>2</pre></div></td><td>https://d9ioojyvhqpok.cloudfront.net/ruiflpk24qu2y21m46ltngncpusm</td><td><div class=\"dni-plaintext\"><pre>&lt;null&gt;</pre></div></td><td>RandomSmallSchool</td><td><div class=\"dni-plaintext\"><pre>&lt;null&gt;</pre></div></td><td><div class=\"dni-plaintext\"><pre>&lt;null&gt;</pre></div></td><td><div class=\"dni-plaintext\"><pre>&lt;null&gt;</pre></div></td><td><div class=\"dni-plaintext\"><pre>&lt;null&gt;</pre></div></td></tr><tr style=\"display: none\"><td><i><div class=\"dni-plaintext\"><pre>85</pre></div></i></td><td>Sacramento State</td><td>FCS</td><td><div class=\"dni-plaintext\"><pre>2</pre></div></td><td><div class=\"dni-plaintext\"><pre>2</pre></div></td><td>https://d9ioojyvhqpok.cloudfront.net/1d7nzf0sk6cd8sgcstgisghgthvu</td><td><div class=\"dni-plaintext\"><pre>&lt;null&gt;</pre></div></td><td>RandomSmallSchool</td><td><div class=\"dni-plaintext\"><pre>&lt;null&gt;</pre></div></td><td><div class=\"dni-plaintext\"><pre>&lt;null&gt;</pre></div></td><td><div class=\"dni-plaintext\"><pre>&lt;null&gt;</pre></div></td><td><div class=\"dni-plaintext\"><pre>&lt;null&gt;</pre></div></td></tr><tr style=\"display: none\"><td><i><div class=\"dni-plaintext\"><pre>86</pre></div></i></td><td>Jacksonville State</td><td>FBS - CUSA</td><td><div class=\"dni-plaintext\"><pre>2</pre></div></td><td><div class=\"dni-plaintext\"><pre>2</pre></div></td><td>https://d9ioojyvhqpok.cloudfront.net/e7p9srs34k8g21vjl6zet58xwnqg</td><td><div class=\"dni-plaintext\"><pre>&lt;null&gt;</pre></div></td><td>RandomSmallSchool</td><td><div class=\"dni-plaintext\"><pre>&lt;null&gt;</pre></div></td><td><div class=\"dni-plaintext\"><pre>&lt;null&gt;</pre></div></td><td><div class=\"dni-plaintext\"><pre>&lt;null&gt;</pre></div></td><td><div class=\"dni-plaintext\"><pre>&lt;null&gt;</pre></div></td></tr><tr style=\"display: none\"><td><i><div class=\"dni-plaintext\"><pre>87</pre></div></i></td><td>BYU</td><td>Big 12</td><td><div class=\"dni-plaintext\"><pre>2</pre></div></td><td><div class=\"dni-plaintext\"><pre>2</pre></div></td><td>https://d9ioojyvhqpok.cloudfront.net/ckao4l33k79nnp9b84uvigzihrgs</td><td><div class=\"dni-plaintext\"><pre>&lt;null&gt;</pre></div></td><td>Big 12</td><td><div class=\"dni-plaintext\"><pre>&lt;null&gt;</pre></div></td><td><div class=\"dni-plaintext\"><pre>&lt;null&gt;</pre></div></td><td><div class=\"dni-plaintext\"><pre>&lt;null&gt;</pre></div></td><td><div class=\"dni-plaintext\"><pre>&lt;null&gt;</pre></div></td></tr><tr style=\"display: none\"><td><i><div class=\"dni-plaintext\"><pre>88</pre></div></i></td><td>Memphis</td><td>FBS - AAC</td><td><div class=\"dni-plaintext\"><pre>2</pre></div></td><td><div class=\"dni-plaintext\"><pre>2</pre></div></td><td>https://d9ioojyvhqpok.cloudfront.net/zapbfiasf58lmrmdciirdnudnb8e</td><td><div class=\"dni-plaintext\"><pre>&lt;null&gt;</pre></div></td><td>RandomSmallSchool</td><td><div class=\"dni-plaintext\"><pre>&lt;null&gt;</pre></div></td><td><div class=\"dni-plaintext\"><pre>&lt;null&gt;</pre></div></td><td><div class=\"dni-plaintext\"><pre>&lt;null&gt;</pre></div></td><td><div class=\"dni-plaintext\"><pre>&lt;null&gt;</pre></div></td></tr><tr style=\"display: none\"><td><i><div class=\"dni-plaintext\"><pre>89</pre></div></i></td><td>UAB</td><td>FBS - AAC</td><td><div class=\"dni-plaintext\"><pre>2</pre></div></td><td><div class=\"dni-plaintext\"><pre>2</pre></div></td><td>https://d9ioojyvhqpok.cloudfront.net/358rqeeze9m7p9m4bmnrwml1w5ml</td><td><div class=\"dni-plaintext\"><pre>&lt;null&gt;</pre></div></td><td>RandomSmallSchool</td><td><div class=\"dni-plaintext\"><pre>&lt;null&gt;</pre></div></td><td><div class=\"dni-plaintext\"><pre>&lt;null&gt;</pre></div></td><td><div class=\"dni-plaintext\"><pre>&lt;null&gt;</pre></div></td><td><div class=\"dni-plaintext\"><pre>&lt;null&gt;</pre></div></td></tr><tr style=\"display: none\"><td><i><div class=\"dni-plaintext\"><pre>90</pre></div></i></td><td>South Florida</td><td>FBS - AAC</td><td><div class=\"dni-plaintext\"><pre>2</pre></div></td><td><div class=\"dni-plaintext\"><pre>2</pre></div></td><td>https://d9ioojyvhqpok.cloudfront.net/9nu9lpb74q8f59qi77398wm14asl</td><td><div class=\"dni-plaintext\"><pre>&lt;null&gt;</pre></div></td><td>RandomSmallSchool</td><td><div class=\"dni-plaintext\"><pre>&lt;null&gt;</pre></div></td><td><div class=\"dni-plaintext\"><pre>&lt;null&gt;</pre></div></td><td><div class=\"dni-plaintext\"><pre>&lt;null&gt;</pre></div></td><td><div class=\"dni-plaintext\"><pre>&lt;null&gt;</pre></div></td></tr><tr style=\"display: none\"><td><i><div class=\"dni-plaintext\"><pre>91</pre></div></i></td><td>UTSA</td><td>FBS - AAC</td><td><div class=\"dni-plaintext\"><pre>2</pre></div></td><td><div class=\"dni-plaintext\"><pre>2</pre></div></td><td>https://d9ioojyvhqpok.cloudfront.net/ayy2o4qfgx3no4r54obep8ah3yvg</td><td><div class=\"dni-plaintext\"><pre>&lt;null&gt;</pre></div></td><td>RandomSmallSchool</td><td><div class=\"dni-plaintext\"><pre>&lt;null&gt;</pre></div></td><td><div class=\"dni-plaintext\"><pre>&lt;null&gt;</pre></div></td><td><div class=\"dni-plaintext\"><pre>&lt;null&gt;</pre></div></td><td><div class=\"dni-plaintext\"><pre>&lt;null&gt;</pre></div></td></tr><tr style=\"display: none\"><td><i><div class=\"dni-plaintext\"><pre>92</pre></div></i></td><td>Appalachian State</td><td>FBS - Sun Belt</td><td><div class=\"dni-plaintext\"><pre>2</pre></div></td><td><div class=\"dni-plaintext\"><pre>2</pre></div></td><td>https://d9ioojyvhqpok.cloudfront.net/3lp6eio7dartb77wqwr0xl2lpzch</td><td><div class=\"dni-plaintext\"><pre>&lt;null&gt;</pre></div></td><td>RandomSmallSchool</td><td><div class=\"dni-plaintext\"><pre>&lt;null&gt;</pre></div></td><td><div class=\"dni-plaintext\"><pre>&lt;null&gt;</pre></div></td><td><div class=\"dni-plaintext\"><pre>&lt;null&gt;</pre></div></td><td><div class=\"dni-plaintext\"><pre>&lt;null&gt;</pre></div></td></tr><tr style=\"display: none\"><td><i><div class=\"dni-plaintext\"><pre>93</pre></div></i></td><td>Oregon State</td><td>Pac 12</td><td><div class=\"dni-plaintext\"><pre>2</pre></div></td><td><div class=\"dni-plaintext\"><pre>2</pre></div></td><td>https://d9ioojyvhqpok.cloudfront.net/ueh09xe6mxltdzhv3wsyz5o3al67</td><td><div class=\"dni-plaintext\"><pre>&lt;null&gt;</pre></div></td><td>RandomSmallSchool</td><td><div class=\"dni-plaintext\"><pre>&lt;null&gt;</pre></div></td><td><div class=\"dni-plaintext\"><pre>&lt;null&gt;</pre></div></td><td><div class=\"dni-plaintext\"><pre>&lt;null&gt;</pre></div></td><td><div class=\"dni-plaintext\"><pre>&lt;null&gt;</pre></div></td></tr><tr style=\"display: none\"><td><i><div class=\"dni-plaintext\"><pre>94</pre></div></i></td><td>Louisiana-Lafayette</td><td>FBS - Sun Belt</td><td><div class=\"dni-plaintext\"><pre>2</pre></div></td><td><div class=\"dni-plaintext\"><pre>2</pre></div></td><td>https://d9ioojyvhqpok.cloudfront.net/hmda77r618rropcqdewolreubcgy</td><td><div class=\"dni-plaintext\"><pre>&lt;null&gt;</pre></div></td><td>RandomSmallSchool</td><td><div class=\"dni-plaintext\"><pre>&lt;null&gt;</pre></div></td><td><div class=\"dni-plaintext\"><pre>&lt;null&gt;</pre></div></td><td><div class=\"dni-plaintext\"><pre>&lt;null&gt;</pre></div></td><td><div class=\"dni-plaintext\"><pre>&lt;null&gt;</pre></div></td></tr><tr style=\"display: none\"><td><i><div class=\"dni-plaintext\"><pre>95</pre></div></i></td><td>Coastal Carolina</td><td>FCS</td><td><div class=\"dni-plaintext\"><pre>2</pre></div></td><td><div class=\"dni-plaintext\"><pre>2</pre></div></td><td>https://d9ioojyvhqpok.cloudfront.net/q28b5wqgm9onpd38fyk9ji9idh6o</td><td><div class=\"dni-plaintext\"><pre>&lt;null&gt;</pre></div></td><td>RandomSmallSchool</td><td><div class=\"dni-plaintext\"><pre>&lt;null&gt;</pre></div></td><td><div class=\"dni-plaintext\"><pre>&lt;null&gt;</pre></div></td><td><div class=\"dni-plaintext\"><pre>&lt;null&gt;</pre></div></td><td><div class=\"dni-plaintext\"><pre>&lt;null&gt;</pre></div></td></tr><tr style=\"display: none\"><td><i><div class=\"dni-plaintext\"><pre>96</pre></div></i></td><td>Syracuse</td><td>ACC</td><td><div class=\"dni-plaintext\"><pre>2</pre></div></td><td><div class=\"dni-plaintext\"><pre>2</pre></div></td><td>https://d9ioojyvhqpok.cloudfront.net/gxu8tigguesk475f4vlaryv7z5kr</td><td><div class=\"dni-plaintext\"><pre>&lt;null&gt;</pre></div></td><td>ACC</td><td><div class=\"dni-plaintext\"><pre>&lt;null&gt;</pre></div></td><td><div class=\"dni-plaintext\"><pre>&lt;null&gt;</pre></div></td><td><div class=\"dni-plaintext\"><pre>&lt;null&gt;</pre></div></td><td><div class=\"dni-plaintext\"><pre>&lt;null&gt;</pre></div></td></tr><tr style=\"display: none\"><td><i><div class=\"dni-plaintext\"><pre>97</pre></div></i></td><td>Florida International</td><td>FBS - CUSA</td><td><div class=\"dni-plaintext\"><pre>2</pre></div></td><td><div class=\"dni-plaintext\"><pre>2</pre></div></td><td>https://d9ioojyvhqpok.cloudfront.net/8fqmtiyqj379vsr6f5ydwddhqd57</td><td><div class=\"dni-plaintext\"><pre>&lt;null&gt;</pre></div></td><td>RandomSmallSchool</td><td><div class=\"dni-plaintext\"><pre>&lt;null&gt;</pre></div></td><td><div class=\"dni-plaintext\"><pre>&lt;null&gt;</pre></div></td><td><div class=\"dni-plaintext\"><pre>&lt;null&gt;</pre></div></td><td><div class=\"dni-plaintext\"><pre>&lt;null&gt;</pre></div></td></tr><tr style=\"display: none\"><td><i><div class=\"dni-plaintext\"><pre>98</pre></div></i></td><td>Miami (OH)</td><td>FBS - MAC</td><td><div class=\"dni-plaintext\"><pre>2</pre></div></td><td><div class=\"dni-plaintext\"><pre>2</pre></div></td><td>https://d9ioojyvhqpok.cloudfront.net/ygn6xy9b08f21smi3h08xv63d310</td><td><div class=\"dni-plaintext\"><pre>&lt;null&gt;</pre></div></td><td>RandomSmallSchool</td><td><div class=\"dni-plaintext\"><pre>&lt;null&gt;</pre></div></td><td><div class=\"dni-plaintext\"><pre>&lt;null&gt;</pre></div></td><td><div class=\"dni-plaintext\"><pre>&lt;null&gt;</pre></div></td><td><div class=\"dni-plaintext\"><pre>&lt;null&gt;</pre></div></td></tr><tr style=\"display: none\"><td><i><div class=\"dni-plaintext\"><pre>99</pre></div></i></td><td>Bowling Green</td><td>FBS - MAC</td><td><div class=\"dni-plaintext\"><pre>2</pre></div></td><td><div class=\"dni-plaintext\"><pre>2</pre></div></td><td>https://d9ioojyvhqpok.cloudfront.net/khecbhkwna27ftfkqu57arc897zj</td><td><div class=\"dni-plaintext\"><pre>&lt;null&gt;</pre></div></td><td>RandomSmallSchool</td><td><div class=\"dni-plaintext\"><pre>&lt;null&gt;</pre></div></td><td><div class=\"dni-plaintext\"><pre>&lt;null&gt;</pre></div></td><td><div class=\"dni-plaintext\"><pre>&lt;null&gt;</pre></div></td><td><div class=\"dni-plaintext\"><pre>&lt;null&gt;</pre></div></td></tr><tr style=\"display: none\"><td><i><div class=\"dni-plaintext\"><pre>100</pre></div></i></td><td>North Dakota</td><td>FCS</td><td><div class=\"dni-plaintext\"><pre>2</pre></div></td><td><div class=\"dni-plaintext\"><pre>1</pre></div></td><td>https://d9ioojyvhqpok.cloudfront.net/7we66inumbdffyzpr98g8bbet7p3</td><td><div class=\"dni-plaintext\"><pre>&lt;null&gt;</pre></div></td><td>RandomSmallSchool</td><td><div class=\"dni-plaintext\"><pre>&lt;null&gt;</pre></div></td><td><div class=\"dni-plaintext\"><pre>&lt;null&gt;</pre></div></td><td><div class=\"dni-plaintext\"><pre>&lt;null&gt;</pre></div></td><td><div class=\"dni-plaintext\"><pre>&lt;null&gt;</pre></div></td></tr><tr style=\"display: none\"><td><i><div class=\"dni-plaintext\"><pre>101</pre></div></i></td><td>Harvard</td><td>FCS</td><td><div class=\"dni-plaintext\"><pre>2</pre></div></td><td><div class=\"dni-plaintext\"><pre>1</pre></div></td><td>https://d9ioojyvhqpok.cloudfront.net/88rmmrypn77edwni0fqdzvh0k3np</td><td><div class=\"dni-plaintext\"><pre>&lt;null&gt;</pre></div></td><td>RandomSmallSchool</td><td><div class=\"dni-plaintext\"><pre>&lt;null&gt;</pre></div></td><td><div class=\"dni-plaintext\"><pre>&lt;null&gt;</pre></div></td><td><div class=\"dni-plaintext\"><pre>&lt;null&gt;</pre></div></td><td><div class=\"dni-plaintext\"><pre>&lt;null&gt;</pre></div></td></tr><tr style=\"display: none\"><td><i><div class=\"dni-plaintext\"><pre>102</pre></div></i></td><td>Lafayette</td><td>FCS</td><td><div class=\"dni-plaintext\"><pre>1</pre></div></td><td><div class=\"dni-plaintext\"><pre>1</pre></div></td><td>https://d9ioojyvhqpok.cloudfront.net/l8chdyeugemmljnurqcdtooir3ft</td><td><div class=\"dni-plaintext\"><pre>&lt;null&gt;</pre></div></td><td>RandomSmallSchool</td><td><div class=\"dni-plaintext\"><pre>&lt;null&gt;</pre></div></td><td><div class=\"dni-plaintext\"><pre>&lt;null&gt;</pre></div></td><td><div class=\"dni-plaintext\"><pre>&lt;null&gt;</pre></div></td><td><div class=\"dni-plaintext\"><pre>&lt;null&gt;</pre></div></td></tr><tr style=\"display: none\"><td><i><div class=\"dni-plaintext\"><pre>103</pre></div></i></td><td>Sam Houston State</td><td>FBS - CUSA</td><td><div class=\"dni-plaintext\"><pre>1</pre></div></td><td><div class=\"dni-plaintext\"><pre>1</pre></div></td><td>https://d9ioojyvhqpok.cloudfront.net/griwt4t7qd18gfqw83vljfjsp3g9</td><td><div class=\"dni-plaintext\"><pre>&lt;null&gt;</pre></div></td><td>RandomSmallSchool</td><td><div class=\"dni-plaintext\"><pre>&lt;null&gt;</pre></div></td><td><div class=\"dni-plaintext\"><pre>&lt;null&gt;</pre></div></td><td><div class=\"dni-plaintext\"><pre>&lt;null&gt;</pre></div></td><td><div class=\"dni-plaintext\"><pre>&lt;null&gt;</pre></div></td></tr><tr style=\"display: none\"><td><i><div class=\"dni-plaintext\"><pre>104</pre></div></i></td><td>Northern Illinois</td><td>FBS - MAC</td><td><div class=\"dni-plaintext\"><pre>1</pre></div></td><td><div class=\"dni-plaintext\"><pre>1</pre></div></td><td>https://d9ioojyvhqpok.cloudfront.net/i2l5ye5l6hfr8us7xn0wmo3g43dj</td><td><div class=\"dni-plaintext\"><pre>&lt;null&gt;</pre></div></td><td>RandomSmallSchool</td><td><div class=\"dni-plaintext\"><pre>&lt;null&gt;</pre></div></td><td><div class=\"dni-plaintext\"><pre>&lt;null&gt;</pre></div></td><td><div class=\"dni-plaintext\"><pre>&lt;null&gt;</pre></div></td><td><div class=\"dni-plaintext\"><pre>&lt;null&gt;</pre></div></td></tr><tr style=\"display: none\"><td><i><div class=\"dni-plaintext\"><pre>105</pre></div></i></td><td>South Dakota State</td><td>FCS</td><td><div class=\"dni-plaintext\"><pre>1</pre></div></td><td><div class=\"dni-plaintext\"><pre>1</pre></div></td><td>https://d9ioojyvhqpok.cloudfront.net/j1h4ym5rvem469nmw166um7w8yyd</td><td><div class=\"dni-plaintext\"><pre>&lt;null&gt;</pre></div></td><td>RandomSmallSchool</td><td><div class=\"dni-plaintext\"><pre>&lt;null&gt;</pre></div></td><td><div class=\"dni-plaintext\"><pre>&lt;null&gt;</pre></div></td><td><div class=\"dni-plaintext\"><pre>&lt;null&gt;</pre></div></td><td><div class=\"dni-plaintext\"><pre>&lt;null&gt;</pre></div></td></tr><tr style=\"display: none\"><td><i><div class=\"dni-plaintext\"><pre>106</pre></div></i></td><td>William &amp; Mary</td><td>FCS</td><td><div class=\"dni-plaintext\"><pre>1</pre></div></td><td><div class=\"dni-plaintext\"><pre>1</pre></div></td><td>https://d9ioojyvhqpok.cloudfront.net/cvw607y4kd4abt1omhz4rfw3pqtt</td><td><div class=\"dni-plaintext\"><pre>&lt;null&gt;</pre></div></td><td>RandomSmallSchool</td><td><div class=\"dni-plaintext\"><pre>&lt;null&gt;</pre></div></td><td><div class=\"dni-plaintext\"><pre>&lt;null&gt;</pre></div></td><td><div class=\"dni-plaintext\"><pre>&lt;null&gt;</pre></div></td><td><div class=\"dni-plaintext\"><pre>&lt;null&gt;</pre></div></td></tr><tr style=\"display: none\"><td><i><div class=\"dni-plaintext\"><pre>107</pre></div></i></td><td>San Diego State</td><td>FBS - Mountain West</td><td><div class=\"dni-plaintext\"><pre>1</pre></div></td><td><div class=\"dni-plaintext\"><pre>1</pre></div></td><td>https://d9ioojyvhqpok.cloudfront.net/8lk0itjyx8g1jxftz0jchjoh45ro</td><td><div class=\"dni-plaintext\"><pre>&lt;null&gt;</pre></div></td><td>RandomSmallSchool</td><td><div class=\"dni-plaintext\"><pre>&lt;null&gt;</pre></div></td><td><div class=\"dni-plaintext\"><pre>&lt;null&gt;</pre></div></td><td><div class=\"dni-plaintext\"><pre>&lt;null&gt;</pre></div></td><td><div class=\"dni-plaintext\"><pre>&lt;null&gt;</pre></div></td></tr><tr style=\"display: none\"><td><i><div class=\"dni-plaintext\"><pre>108</pre></div></i></td><td>Abilene Christian</td><td>FCS</td><td><div class=\"dni-plaintext\"><pre>1</pre></div></td><td><div class=\"dni-plaintext\"><pre>1</pre></div></td><td>https://d9ioojyvhqpok.cloudfront.net/h56roel3p7yjm390npx8lbrlq0fk</td><td><div class=\"dni-plaintext\"><pre>&lt;null&gt;</pre></div></td><td>RandomSmallSchool</td><td><div class=\"dni-plaintext\"><pre>&lt;null&gt;</pre></div></td><td><div class=\"dni-plaintext\"><pre>&lt;null&gt;</pre></div></td><td><div class=\"dni-plaintext\"><pre>&lt;null&gt;</pre></div></td><td><div class=\"dni-plaintext\"><pre>&lt;null&gt;</pre></div></td></tr><tr style=\"display: none\"><td><i><div class=\"dni-plaintext\"><pre>109</pre></div></i></td><td>Virginia State</td><td>D2</td><td><div class=\"dni-plaintext\"><pre>1</pre></div></td><td><div class=\"dni-plaintext\"><pre>1</pre></div></td><td>https://d9ioojyvhqpok.cloudfront.net/wm2lvh7f72qagwvyazia4070pm71</td><td><div class=\"dni-plaintext\"><pre>&lt;null&gt;</pre></div></td><td>RandomSmallSchool</td><td><div class=\"dni-plaintext\"><pre>&lt;null&gt;</pre></div></td><td><div class=\"dni-plaintext\"><pre>&lt;null&gt;</pre></div></td><td><div class=\"dni-plaintext\"><pre>&lt;null&gt;</pre></div></td><td><div class=\"dni-plaintext\"><pre>&lt;null&gt;</pre></div></td></tr><tr style=\"display: none\"><td><i><div class=\"dni-plaintext\"><pre>110</pre></div></i></td><td>Buffalo</td><td>FBS - MAC</td><td><div class=\"dni-plaintext\"><pre>1</pre></div></td><td><div class=\"dni-plaintext\"><pre>1</pre></div></td><td>https://d9ioojyvhqpok.cloudfront.net/i8kbv9ioldxrcyoirtm9nfzr6e5n</td><td><div class=\"dni-plaintext\"><pre>&lt;null&gt;</pre></div></td><td>RandomSmallSchool</td><td><div class=\"dni-plaintext\"><pre>&lt;null&gt;</pre></div></td><td><div class=\"dni-plaintext\"><pre>&lt;null&gt;</pre></div></td><td><div class=\"dni-plaintext\"><pre>&lt;null&gt;</pre></div></td><td><div class=\"dni-plaintext\"><pre>&lt;null&gt;</pre></div></td></tr><tr style=\"display: none\"><td><i><div class=\"dni-plaintext\"><pre>111</pre></div></i></td><td>Arkansas State</td><td>FBS - Sun Belt</td><td><div class=\"dni-plaintext\"><pre>1</pre></div></td><td><div class=\"dni-plaintext\"><pre>1</pre></div></td><td>https://d9ioojyvhqpok.cloudfront.net/0y0q70b747itik24akazpunl090f</td><td><div class=\"dni-plaintext\"><pre>&lt;null&gt;</pre></div></td><td>RandomSmallSchool</td><td><div class=\"dni-plaintext\"><pre>&lt;null&gt;</pre></div></td><td><div class=\"dni-plaintext\"><pre>&lt;null&gt;</pre></div></td><td><div class=\"dni-plaintext\"><pre>&lt;null&gt;</pre></div></td><td><div class=\"dni-plaintext\"><pre>&lt;null&gt;</pre></div></td></tr><tr style=\"display: none\"><td><i><div class=\"dni-plaintext\"><pre>112</pre></div></i></td><td>McNeese State</td><td>FCS</td><td><div class=\"dni-plaintext\"><pre>1</pre></div></td><td><div class=\"dni-plaintext\"><pre>1</pre></div></td><td>https://d9ioojyvhqpok.cloudfront.net/cs0519lwtta2crm3dm4sp0ojta31</td><td><div class=\"dni-plaintext\"><pre>&lt;null&gt;</pre></div></td><td>RandomSmallSchool</td><td><div class=\"dni-plaintext\"><pre>&lt;null&gt;</pre></div></td><td><div class=\"dni-plaintext\"><pre>&lt;null&gt;</pre></div></td><td><div class=\"dni-plaintext\"><pre>&lt;null&gt;</pre></div></td><td><div class=\"dni-plaintext\"><pre>&lt;null&gt;</pre></div></td></tr><tr style=\"display: none\"><td><i><div class=\"dni-plaintext\"><pre>113</pre></div></i></td><td>Western Michigan</td><td>FBS - MAC</td><td><div class=\"dni-plaintext\"><pre>1</pre></div></td><td><div class=\"dni-plaintext\"><pre>1</pre></div></td><td>https://d9ioojyvhqpok.cloudfront.net/6smyc88ec4btmrfzo76q6s2l3922</td><td><div class=\"dni-plaintext\"><pre>&lt;null&gt;</pre></div></td><td>RandomSmallSchool</td><td><div class=\"dni-plaintext\"><pre>&lt;null&gt;</pre></div></td><td><div class=\"dni-plaintext\"><pre>&lt;null&gt;</pre></div></td><td><div class=\"dni-plaintext\"><pre>&lt;null&gt;</pre></div></td><td><div class=\"dni-plaintext\"><pre>&lt;null&gt;</pre></div></td></tr><tr style=\"display: none\"><td><i><div class=\"dni-plaintext\"><pre>114</pre></div></i></td><td>Portland State</td><td>FCS</td><td><div class=\"dni-plaintext\"><pre>1</pre></div></td><td><div class=\"dni-plaintext\"><pre>1</pre></div></td><td>https://d9ioojyvhqpok.cloudfront.net/1zssqxdzgmkfdoyzo6cvywxsndp0</td><td><div class=\"dni-plaintext\"><pre>&lt;null&gt;</pre></div></td><td>RandomSmallSchool</td><td><div class=\"dni-plaintext\"><pre>&lt;null&gt;</pre></div></td><td><div class=\"dni-plaintext\"><pre>&lt;null&gt;</pre></div></td><td><div class=\"dni-plaintext\"><pre>&lt;null&gt;</pre></div></td><td><div class=\"dni-plaintext\"><pre>&lt;null&gt;</pre></div></td></tr><tr style=\"display: none\"><td><i><div class=\"dni-plaintext\"><pre>115</pre></div></i></td><td>Tulsa</td><td>FBS - AAC</td><td><div class=\"dni-plaintext\"><pre>1</pre></div></td><td><div class=\"dni-plaintext\"><pre>1</pre></div></td><td>https://d9ioojyvhqpok.cloudfront.net/wgzu6axcvmbdijfdtvgsntkc4ylf</td><td><div class=\"dni-plaintext\"><pre>&lt;null&gt;</pre></div></td><td>RandomSmallSchool</td><td><div class=\"dni-plaintext\"><pre>&lt;null&gt;</pre></div></td><td><div class=\"dni-plaintext\"><pre>&lt;null&gt;</pre></div></td><td><div class=\"dni-plaintext\"><pre>&lt;null&gt;</pre></div></td><td><div class=\"dni-plaintext\"><pre>&lt;null&gt;</pre></div></td></tr><tr style=\"display: none\"><td><i><div class=\"dni-plaintext\"><pre>116</pre></div></i></td><td>Nevada</td><td>FBS - Mountain West</td><td><div class=\"dni-plaintext\"><pre>1</pre></div></td><td><div class=\"dni-plaintext\"><pre>1</pre></div></td><td>https://d9ioojyvhqpok.cloudfront.net/59h4ronidnmgqjbo1alvonc7wjmv</td><td><div class=\"dni-plaintext\"><pre>&lt;null&gt;</pre></div></td><td>RandomSmallSchool</td><td><div class=\"dni-plaintext\"><pre>&lt;null&gt;</pre></div></td><td><div class=\"dni-plaintext\"><pre>&lt;null&gt;</pre></div></td><td><div class=\"dni-plaintext\"><pre>&lt;null&gt;</pre></div></td><td><div class=\"dni-plaintext\"><pre>&lt;null&gt;</pre></div></td></tr><tr style=\"display: none\"><td><i><div class=\"dni-plaintext\"><pre>117</pre></div></i></td><td>Georgia Southern</td><td>FBS - Sun Belt</td><td><div class=\"dni-plaintext\"><pre>1</pre></div></td><td><div class=\"dni-plaintext\"><pre>1</pre></div></td><td>https://d9ioojyvhqpok.cloudfront.net/z7ccax7spksvxiv6giffmqhao46a</td><td><div class=\"dni-plaintext\"><pre>&lt;null&gt;</pre></div></td><td>RandomSmallSchool</td><td><div class=\"dni-plaintext\"><pre>&lt;null&gt;</pre></div></td><td><div class=\"dni-plaintext\"><pre>&lt;null&gt;</pre></div></td><td><div class=\"dni-plaintext\"><pre>&lt;null&gt;</pre></div></td><td><div class=\"dni-plaintext\"><pre>&lt;null&gt;</pre></div></td></tr><tr style=\"display: none\"><td><i><div class=\"dni-plaintext\"><pre>118</pre></div></i></td><td>San Jose State</td><td>FBS - Mountain West</td><td><div class=\"dni-plaintext\"><pre>1</pre></div></td><td><div class=\"dni-plaintext\"><pre>1</pre></div></td><td>https://d9ioojyvhqpok.cloudfront.net/ro1xx56e4z8uwuoba0lxm44zanow</td><td><div class=\"dni-plaintext\"><pre>&lt;null&gt;</pre></div></td><td>RandomSmallSchool</td><td><div class=\"dni-plaintext\"><pre>&lt;null&gt;</pre></div></td><td><div class=\"dni-plaintext\"><pre>&lt;null&gt;</pre></div></td><td><div class=\"dni-plaintext\"><pre>&lt;null&gt;</pre></div></td><td><div class=\"dni-plaintext\"><pre>&lt;null&gt;</pre></div></td></tr><tr style=\"display: none\"><td><i><div class=\"dni-plaintext\"><pre>119</pre></div></i></td><td>Fresno State</td><td>FBS - Mountain West</td><td><div class=\"dni-plaintext\"><pre>1</pre></div></td><td><div class=\"dni-plaintext\"><pre>1</pre></div></td><td>https://d9ioojyvhqpok.cloudfront.net/oh0a26wlyg1v3e0c3819jlyxnecp</td><td><div class=\"dni-plaintext\"><pre>&lt;null&gt;</pre></div></td><td>RandomSmallSchool</td><td><div class=\"dni-plaintext\"><pre>&lt;null&gt;</pre></div></td><td><div class=\"dni-plaintext\"><pre>&lt;null&gt;</pre></div></td><td><div class=\"dni-plaintext\"><pre>&lt;null&gt;</pre></div></td><td><div class=\"dni-plaintext\"><pre>&lt;null&gt;</pre></div></td></tr><tr style=\"display: none\"><td><i><div class=\"dni-plaintext\"><pre>120</pre></div></i></td><td>Tarleton State</td><td>D2</td><td><div class=\"dni-plaintext\"><pre>1</pre></div></td><td><div class=\"dni-plaintext\"><pre>1</pre></div></td><td>https://d9ioojyvhqpok.cloudfront.net/t9rfbxz4rr0psvshmqya26gz2w3j</td><td><div class=\"dni-plaintext\"><pre>&lt;null&gt;</pre></div></td><td>RandomSmallSchool</td><td><div class=\"dni-plaintext\"><pre>&lt;null&gt;</pre></div></td><td><div class=\"dni-plaintext\"><pre>&lt;null&gt;</pre></div></td><td><div class=\"dni-plaintext\"><pre>&lt;null&gt;</pre></div></td><td><div class=\"dni-plaintext\"><pre>&lt;null&gt;</pre></div></td></tr><tr style=\"display: none\"><td><i><div class=\"dni-plaintext\"><pre>121</pre></div></i></td><td>Cal Poly</td><td>FCS</td><td><div class=\"dni-plaintext\"><pre>1</pre></div></td><td><div class=\"dni-plaintext\"><pre>1</pre></div></td><td>https://d9ioojyvhqpok.cloudfront.net/fmuftfu5qfjqres1wr2dy5ii7wf9</td><td><div class=\"dni-plaintext\"><pre>&lt;null&gt;</pre></div></td><td>RandomSmallSchool</td><td><div class=\"dni-plaintext\"><pre>&lt;null&gt;</pre></div></td><td><div class=\"dni-plaintext\"><pre>&lt;null&gt;</pre></div></td><td><div class=\"dni-plaintext\"><pre>&lt;null&gt;</pre></div></td><td><div class=\"dni-plaintext\"><pre>&lt;null&gt;</pre></div></td></tr><tr style=\"display: none\"><td><i><div class=\"dni-plaintext\"><pre>122</pre></div></i></td><td>Utah State</td><td>FBS - Mountain West</td><td><div class=\"dni-plaintext\"><pre>1</pre></div></td><td><div class=\"dni-plaintext\"><pre>1</pre></div></td><td>https://d9ioojyvhqpok.cloudfront.net/qe590cpbtrq66in7ro62wa3ossas</td><td><div class=\"dni-plaintext\"><pre>&lt;null&gt;</pre></div></td><td>RandomSmallSchool</td><td><div class=\"dni-plaintext\"><pre>&lt;null&gt;</pre></div></td><td><div class=\"dni-plaintext\"><pre>&lt;null&gt;</pre></div></td><td><div class=\"dni-plaintext\"><pre>&lt;null&gt;</pre></div></td><td><div class=\"dni-plaintext\"><pre>&lt;null&gt;</pre></div></td></tr><tr style=\"display: none\"><td><i><div class=\"dni-plaintext\"><pre>123</pre></div></i></td><td>Florida Atlantic</td><td>FBS - AAC</td><td><div class=\"dni-plaintext\"><pre>1</pre></div></td><td><div class=\"dni-plaintext\"><pre>1</pre></div></td><td>https://d9ioojyvhqpok.cloudfront.net/e9smljtyny48n1ccwc5zdjruxo4l</td><td><div class=\"dni-plaintext\"><pre>&lt;null&gt;</pre></div></td><td>RandomSmallSchool</td><td><div class=\"dni-plaintext\"><pre>&lt;null&gt;</pre></div></td><td><div class=\"dni-plaintext\"><pre>&lt;null&gt;</pre></div></td><td><div class=\"dni-plaintext\"><pre>&lt;null&gt;</pre></div></td><td><div class=\"dni-plaintext\"><pre>&lt;null&gt;</pre></div></td></tr><tr style=\"display: none\"><td><i><div class=\"dni-plaintext\"><pre>124</pre></div></i></td><td>Old Dominion</td><td>FBS - CUSA</td><td><div class=\"dni-plaintext\"><pre>1</pre></div></td><td><div class=\"dni-plaintext\"><pre>1</pre></div></td><td>https://d9ioojyvhqpok.cloudfront.net/1s9b5cfewfr4a3dkyu0cttf7ln1v</td><td><div class=\"dni-plaintext\"><pre>&lt;null&gt;</pre></div></td><td>RandomSmallSchool</td><td><div class=\"dni-plaintext\"><pre>&lt;null&gt;</pre></div></td><td><div class=\"dni-plaintext\"><pre>&lt;null&gt;</pre></div></td><td><div class=\"dni-plaintext\"><pre>&lt;null&gt;</pre></div></td><td><div class=\"dni-plaintext\"><pre>&lt;null&gt;</pre></div></td></tr><tr style=\"display: none\"><td><i><div class=\"dni-plaintext\"><pre>125</pre></div></i></td><td>Washington State</td><td>Pac 12</td><td><div class=\"dni-plaintext\"><pre>1</pre></div></td><td><div class=\"dni-plaintext\"><pre>1</pre></div></td><td>https://d9ioojyvhqpok.cloudfront.net/zosp0uamsigsfed57lz5eejqmxtn</td><td><div class=\"dni-plaintext\"><pre>&lt;null&gt;</pre></div></td><td>RandomSmallSchool</td><td><div class=\"dni-plaintext\"><pre>&lt;null&gt;</pre></div></td><td><div class=\"dni-plaintext\"><pre>&lt;null&gt;</pre></div></td><td><div class=\"dni-plaintext\"><pre>&lt;null&gt;</pre></div></td><td><div class=\"dni-plaintext\"><pre>&lt;null&gt;</pre></div></td></tr><tr style=\"display: none\"><td><i><div class=\"dni-plaintext\"><pre>126</pre></div></i></td><td>Florida A&amp;M</td><td>FCS</td><td><div class=\"dni-plaintext\"><pre>1</pre></div></td><td><div class=\"dni-plaintext\"><pre>1</pre></div></td><td>https://d9ioojyvhqpok.cloudfront.net/c25jnf7optvztomz5p0n79uu6x9t</td><td><div class=\"dni-plaintext\"><pre>&lt;null&gt;</pre></div></td><td>RandomSmallSchool</td><td><div class=\"dni-plaintext\"><pre>&lt;null&gt;</pre></div></td><td><div class=\"dni-plaintext\"><pre>&lt;null&gt;</pre></div></td><td><div class=\"dni-plaintext\"><pre>&lt;null&gt;</pre></div></td><td><div class=\"dni-plaintext\"><pre>&lt;null&gt;</pre></div></td></tr><tr style=\"display: none\"><td><i><div class=\"dni-plaintext\"><pre>127</pre></div></i></td><td>Air Force</td><td>FBS - Mountain West</td><td><div class=\"dni-plaintext\"><pre>1</pre></div></td><td><div class=\"dni-plaintext\"><pre>1</pre></div></td><td>https://d9ioojyvhqpok.cloudfront.net/p6wau30d9gwh6hgun9zh6dqb6i3y</td><td><div class=\"dni-plaintext\"><pre>&lt;null&gt;</pre></div></td><td>RandomSmallSchool</td><td><div class=\"dni-plaintext\"><pre>&lt;null&gt;</pre></div></td><td><div class=\"dni-plaintext\"><pre>&lt;null&gt;</pre></div></td><td><div class=\"dni-plaintext\"><pre>&lt;null&gt;</pre></div></td><td><div class=\"dni-plaintext\"><pre>&lt;null&gt;</pre></div></td></tr><tr style=\"display: none\"><td><i><div class=\"dni-plaintext\"><pre>128</pre></div></i></td><td>Stephen F. Austin</td><td>FCS</td><td><div class=\"dni-plaintext\"><pre>1</pre></div></td><td><div class=\"dni-plaintext\"><pre>1</pre></div></td><td>https://d9ioojyvhqpok.cloudfront.net/ygg24coxnmjx6wnjdsdfqy93oupp</td><td><div class=\"dni-plaintext\"><pre>&lt;null&gt;</pre></div></td><td>RandomSmallSchool</td><td><div class=\"dni-plaintext\"><pre>&lt;null&gt;</pre></div></td><td><div class=\"dni-plaintext\"><pre>&lt;null&gt;</pre></div></td><td><div class=\"dni-plaintext\"><pre>&lt;null&gt;</pre></div></td><td><div class=\"dni-plaintext\"><pre>&lt;null&gt;</pre></div></td></tr><tr style=\"display: none\"><td><i><div class=\"dni-plaintext\"><pre>129</pre></div></i></td><td>East Tennessee State</td><td>FCS</td><td><div class=\"dni-plaintext\"><pre>1</pre></div></td><td><div class=\"dni-plaintext\"><pre>1</pre></div></td><td>https://d9ioojyvhqpok.cloudfront.net/t9ivu93hmr1fljhj12unw9r7f2bs</td><td><div class=\"dni-plaintext\"><pre>&lt;null&gt;</pre></div></td><td>RandomSmallSchool</td><td><div class=\"dni-plaintext\"><pre>&lt;null&gt;</pre></div></td><td><div class=\"dni-plaintext\"><pre>&lt;null&gt;</pre></div></td><td><div class=\"dni-plaintext\"><pre>&lt;null&gt;</pre></div></td><td><div class=\"dni-plaintext\"><pre>&lt;null&gt;</pre></div></td></tr></tbody><tfoot><tr><td colspan=\"12\" style=\"text-align: center;\"><button style=\"margin: 2px;\" onclick=\"var allRows = document.querySelectorAll(&#39;#table_638923845421512914 tbody tr:nth-child(n)&#39;); for (let i = 0; i &lt; allRows.length; i++) { allRows[i].style.display=&#39;none&#39;; } document.querySelector(&#39;#page_638923845421512914&#39;).innerHTML = 1; var page = parseInt(document.querySelector(&#39;#page_638923845421512914&#39;).innerHTML) - 1; var pageRows = document.querySelectorAll(`#table_638923845421512914 tbody tr:nth-child(n + ${page * 25 + 1 })`); for (let j = 0; j &lt; 25; j++) { pageRows[j].style.display=&#39;table-row&#39;; } \">⏮</button><button style=\"margin: 2px;\" onclick=\"var allRows = document.querySelectorAll(&#39;#table_638923845421512914 tbody tr:nth-child(n)&#39;); for (let i = 0; i &lt; allRows.length; i++) { allRows[i].style.display=&#39;none&#39;; } var page = parseInt(document.querySelector(&#39;#page_638923845421512914&#39;).innerHTML) - 1; page = parseInt(page) + parseInt(-10); page = page &lt; 0 ? 0 : page; page = page > 5 ? 5 : page; document.querySelector(&#39;#page_638923845421512914&#39;).innerHTML = page + 1; var page = parseInt(document.querySelector(&#39;#page_638923845421512914&#39;).innerHTML) - 1; var pageRows = document.querySelectorAll(`#table_638923845421512914 tbody tr:nth-child(n + ${page * 25 + 1 })`); for (let j = 0; j &lt; 25; j++) { pageRows[j].style.display=&#39;table-row&#39;; } \">⏪</button><button style=\"margin: 2px;\" onclick=\"var allRows = document.querySelectorAll(&#39;#table_638923845421512914 tbody tr:nth-child(n)&#39;); for (let i = 0; i &lt; allRows.length; i++) { allRows[i].style.display=&#39;none&#39;; } var page = parseInt(document.querySelector(&#39;#page_638923845421512914&#39;).innerHTML) - 1; page = parseInt(page) + parseInt(-1); page = page &lt; 0 ? 0 : page; page = page > 5 ? 5 : page; document.querySelector(&#39;#page_638923845421512914&#39;).innerHTML = page + 1; var page = parseInt(document.querySelector(&#39;#page_638923845421512914&#39;).innerHTML) - 1; var pageRows = document.querySelectorAll(`#table_638923845421512914 tbody tr:nth-child(n + ${page * 25 + 1 })`); for (let j = 0; j &lt; 25; j++) { pageRows[j].style.display=&#39;table-row&#39;; } \">◀️</button><b style=\"margin: 2px;\">Page</b><b id=\"page_638923845421512914\" style=\"margin: 2px;\">1</b><button style=\"margin: 2px;\" onclick=\"var allRows = document.querySelectorAll(&#39;#table_638923845421512914 tbody tr:nth-child(n)&#39;); for (let i = 0; i &lt; allRows.length; i++) { allRows[i].style.display=&#39;none&#39;; } var page = parseInt(document.querySelector(&#39;#page_638923845421512914&#39;).innerHTML) - 1; page = parseInt(page) + parseInt(1); page = page &lt; 0 ? 0 : page; page = page > 5 ? 5 : page; document.querySelector(&#39;#page_638923845421512914&#39;).innerHTML = page + 1; var page = parseInt(document.querySelector(&#39;#page_638923845421512914&#39;).innerHTML) - 1; var pageRows = document.querySelectorAll(`#table_638923845421512914 tbody tr:nth-child(n + ${page * 25 + 1 })`); for (let j = 0; j &lt; 25; j++) { pageRows[j].style.display=&#39;table-row&#39;; } \">▶️</button><button style=\"margin: 2px;\" onclick=\"var allRows = document.querySelectorAll(&#39;#table_638923845421512914 tbody tr:nth-child(n)&#39;); for (let i = 0; i &lt; allRows.length; i++) { allRows[i].style.display=&#39;none&#39;; } var page = parseInt(document.querySelector(&#39;#page_638923845421512914&#39;).innerHTML) - 1; page = parseInt(page) + parseInt(10); page = page &lt; 0 ? 0 : page; page = page > 5 ? 5 : page; document.querySelector(&#39;#page_638923845421512914&#39;).innerHTML = page + 1; var page = parseInt(document.querySelector(&#39;#page_638923845421512914&#39;).innerHTML) - 1; var pageRows = document.querySelectorAll(`#table_638923845421512914 tbody tr:nth-child(n + ${page * 25 + 1 })`); for (let j = 0; j &lt; 25; j++) { pageRows[j].style.display=&#39;table-row&#39;; } \">⏩</button><button style=\"margin: 2px;\" onclick=\"var allRows = document.querySelectorAll(&#39;#table_638923845421512914 tbody tr:nth-child(n)&#39;); for (let i = 0; i &lt; allRows.length; i++) { allRows[i].style.display=&#39;none&#39;; } document.querySelector(&#39;#page_638923845421512914&#39;).innerHTML = 6; var page = parseInt(document.querySelector(&#39;#page_638923845421512914&#39;).innerHTML) - 1; var pageRows = document.querySelectorAll(`#table_638923845421512914 tbody tr:nth-child(n + ${page * 25 + 1 })`); for (let j = 0; j &lt; 25; j++) { pageRows[j].style.display=&#39;table-row&#39;; } \">⏭️</button></td></tr></tfoot></table><style>\r\n",
       ".dni-code-hint {\r\n",
       "    font-style: italic;\r\n",
       "    overflow: hidden;\r\n",
       "    white-space: nowrap;\r\n",
       "}\r\n",
       ".dni-treeview {\r\n",
       "    white-space: nowrap;\r\n",
       "}\r\n",
       ".dni-treeview td {\r\n",
       "    vertical-align: top;\r\n",
       "    text-align: start;\r\n",
       "}\r\n",
       "details.dni-treeview {\r\n",
       "    padding-left: 1em;\r\n",
       "}\r\n",
       "table td {\r\n",
       "    text-align: start;\r\n",
       "}\r\n",
       "table tr { \r\n",
       "    vertical-align: top; \r\n",
       "    margin: 0em 0px;\r\n",
       "}\r\n",
       "table tr td pre \r\n",
       "{ \r\n",
       "    vertical-align: top !important; \r\n",
       "    margin: 0em 0px !important;\r\n",
       "} \r\n",
       "table th {\r\n",
       "    text-align: start;\r\n",
       "}\r\n",
       "</style><script>var page = parseInt(document.querySelector('#page_638923845421512914').innerHTML) - 1; var pageRows = document.querySelectorAll(`#table_638923845421512914 tbody tr:nth-child(n + ${page * 25 + 1 })`); for (let j = 0; j < 25; j++) { pageRows[j].style.display='table-row'; } </script>"
      ]
     },
     "metadata": {},
     "output_type": "display_data"
    }
   ],
   "source": [
    "nextDraft.Columns.Add(new PrimitiveDataFrameColumn<double>(\"ProjectedPointsAboveAverage\", nextDraft.Rows.Count()));\n",
    "nextDraft.Columns.Add(new PrimitiveDataFrameColumn<double>(\"ProjectedPointsAboveReplacement\", nextDraft.Rows.Count()));\n",
    "nextDraft.Columns.Add(new PrimitiveDataFrameColumn<double>(\"AveragePointsForPosition\", nextDraft.Rows.Count()));\n",
    "nextDraft.Columns.Add(new PrimitiveDataFrameColumn<double>(\"ReplacementValueAverageForPosition\", nextDraft.Rows.Count()));\n",
    "\n",
    "nextDraft"
   ]
  },
  {
   "cell_type": "code",
   "execution_count": 7,
   "metadata": {
    "dotnet_interactive": {
     "language": "csharp"
    },
    "polyglot_notebook": {
     "kernelName": "csharp"
    }
   },
   "outputs": [
    {
     "name": "stdout",
     "output_type": "stream",
     "text": [
      "Leagify Position: ACC\n"
     ]
    },
    {
     "data": {
      "text/plain": [
       "Conference ACC only needs a top 6"
      ]
     },
     "metadata": {},
     "output_type": "display_data"
    },
    {
     "data": {
      "text/plain": [
       "Average points for draftable schools from ACC: 70.5"
      ]
     },
     "metadata": {},
     "output_type": "display_data"
    },
    {
     "data": {
      "text/plain": [
       "Average points for replacement value schools from ACC: 15.545454545454545"
      ]
     },
     "metadata": {},
     "output_type": "display_data"
    },
    {
     "name": "stdout",
     "output_type": "stream",
     "text": [
      "Leagify Position: SEC\n"
     ]
    },
    {
     "data": {
      "text/plain": [
       "Conference SEC needs a top 12."
      ]
     },
     "metadata": {},
     "output_type": "display_data"
    },
    {
     "data": {
      "text/plain": [
       "Average points for draftable schools from SEC: 106.33333333333333"
      ]
     },
     "metadata": {},
     "output_type": "display_data"
    },
    {
     "data": {
      "text/plain": [
       "Average points for replacement value schools from SEC: 16"
      ]
     },
     "metadata": {},
     "output_type": "display_data"
    },
    {
     "name": "stdout",
     "output_type": "stream",
     "text": [
      "Leagify Position: Big Ten\n"
     ]
    },
    {
     "data": {
      "text/plain": [
       "Conference Big Ten needs a top 12."
      ]
     },
     "metadata": {},
     "output_type": "display_data"
    },
    {
     "data": {
      "text/plain": [
       "Average points for draftable schools from Big Ten: 77.5"
      ]
     },
     "metadata": {},
     "output_type": "display_data"
    },
    {
     "data": {
      "text/plain": [
       "Average points for replacement value schools from Big Ten: 9.833333333333334"
      ]
     },
     "metadata": {},
     "output_type": "display_data"
    },
    {
     "name": "stdout",
     "output_type": "stream",
     "text": [
      "Leagify Position: Big 12\n"
     ]
    },
    {
     "data": {
      "text/plain": [
       "Conference Big 12 only needs a top 6"
      ]
     },
     "metadata": {},
     "output_type": "display_data"
    },
    {
     "data": {
      "text/plain": [
       "Average points for draftable schools from Big 12: 52.333333333333336"
      ]
     },
     "metadata": {},
     "output_type": "display_data"
    },
    {
     "data": {
      "text/plain": [
       "Average points for replacement value schools from Big 12: 11.5"
      ]
     },
     "metadata": {},
     "output_type": "display_data"
    },
    {
     "name": "stdout",
     "output_type": "stream",
     "text": [
      "Leagify Position: RandomSmallSchool\n"
     ]
    },
    {
     "data": {
      "text/plain": [
       "Conference RandomSmallSchool only needs a top 6"
      ]
     },
     "metadata": {},
     "output_type": "display_data"
    },
    {
     "data": {
      "text/plain": [
       "Average points for draftable schools from RandomSmallSchool: 10"
      ]
     },
     "metadata": {},
     "output_type": "display_data"
    },
    {
     "data": {
      "text/plain": [
       "Average points for replacement value schools from RandomSmallSchool: 2.0714285714285716"
      ]
     },
     "metadata": {},
     "output_type": "display_data"
    },
    {
     "name": "stdout",
     "output_type": "stream",
     "text": [
      "Leagify Position: Flex\n"
     ]
    },
    {
     "data": {
      "text/plain": [
       "This is Notre Dame, I'm not doing stats on this school."
      ]
     },
     "metadata": {},
     "output_type": "display_data"
    }
   ],
   "source": [
    "// Let's do some stats on available schools here.\n",
    "// Get the distinct LeagifyPosition values\n",
    "string[] leagifyPositions = {\"ACC\", \"SEC\", \"Big Ten\", \"Big 12\", \"RandomSmallSchool\", \"Flex\"};\n",
    "\n",
    "IDictionary<string, double> draftableAverages = new Dictionary<string, double>();\n",
    "IDictionary<string, double> replacementAverages = new Dictionary<string, double>();\n",
    "\n",
    "// Loop over each LeagifyPosition value and get the corresponding rows\n",
    "foreach (var position in leagifyPositions)\n",
    "{\n",
    "    Console.WriteLine(\"Leagify Position: \" + position);\n",
    "    var rowsForPosition = nextDraft.Rows\n",
    "        .Where(row => row[6].ToString() == position.ToString());\n",
    "    \n",
    "    // Make sure rows are in descending order by potential points.\n",
    "    var sortedRows = rowsForPosition\n",
    "    .OrderByDescending(row => row[2])\n",
    "    .ToList();\n",
    "\n",
    "    double averageOfTopRows;\n",
    "    double averageOfRemainingRows;\n",
    "    if(position.Equals(\"SEC\") || position.Equals(\"Big Ten\"))\n",
    "    {\n",
    "        display($\"Conference {position} needs a top 12.\");\n",
    "        var topRows = sortedRows.Take(12);\n",
    "        averageOfTopRows = topRows.Average(row => Convert.ToDouble(row[2]));\n",
    "        display($\"Average points for draftable schools from {position}: {averageOfTopRows}\");\n",
    "        var remainingRows = sortedRows;\n",
    "        remainingRows.RemoveRange(0,12);\n",
    "        averageOfRemainingRows = remainingRows.Average(row => Convert.ToDouble(row[2]));\n",
    "        display($\"Average points for replacement value schools from {position}: {averageOfRemainingRows}\");\n",
    "\n",
    "\n",
    "        \n",
    "    }\n",
    "    else if(position.Equals(\"Flex\"))\n",
    "    {\n",
    "        display(\"This is Notre Dame, I'm not doing stats on this school.\");\n",
    "        averageOfTopRows = sortedRows.Average(row => Convert.ToDouble(row[2]));\n",
    "        averageOfRemainingRows = sortedRows.Average(row => Convert.ToDouble(row[2]));\n",
    "    }\n",
    "    else\n",
    "    {\n",
    "        display($\"Conference {position} only needs a top 6\");\n",
    "        var topRows = sortedRows.Take(6);\n",
    "        averageOfTopRows = topRows.Average(row => Convert.ToDouble(row[2]));\n",
    "        display($\"Average points for draftable schools from {position}: {averageOfTopRows}\");\n",
    "\n",
    "        var remainingRows = sortedRows;\n",
    "        remainingRows.RemoveRange(0,6);\n",
    "        averageOfRemainingRows = remainingRows.Average(row => Convert.ToDouble(row[2]));\n",
    "        display($\"Average points for replacement value schools from {position}: {averageOfRemainingRows}\");\n",
    "    }\n",
    "\n",
    "    draftableAverages.Add(position, Math.Truncate(averageOfTopRows * 100) / 100);\n",
    "    replacementAverages.Add(position, Math.Truncate(averageOfRemainingRows * 100) / 100);\n",
    "}\n",
    "\n",
    "\n",
    "\n"
   ]
  },
  {
   "cell_type": "code",
   "execution_count": 8,
   "metadata": {
    "dotnet_interactive": {
     "language": "csharp"
    },
    "polyglot_notebook": {
     "kernelName": "csharp"
    }
   },
   "outputs": [
    {
     "data": {
      "text/html": [
       "<table><thead><tr><th><i>key</i></th><th>value</th></tr></thead><tbody><tr><td><div class=\"dni-plaintext\"><pre>ACC</pre></div></td><td><div class=\"dni-plaintext\"><pre>70.5</pre></div></td></tr><tr><td><div class=\"dni-plaintext\"><pre>SEC</pre></div></td><td><div class=\"dni-plaintext\"><pre>106.33</pre></div></td></tr><tr><td><div class=\"dni-plaintext\"><pre>Big Ten</pre></div></td><td><div class=\"dni-plaintext\"><pre>77.5</pre></div></td></tr><tr><td><div class=\"dni-plaintext\"><pre>Big 12</pre></div></td><td><div class=\"dni-plaintext\"><pre>52.33</pre></div></td></tr><tr><td><div class=\"dni-plaintext\"><pre>RandomSmallSchool</pre></div></td><td><div class=\"dni-plaintext\"><pre>10</pre></div></td></tr><tr><td><div class=\"dni-plaintext\"><pre>Flex</pre></div></td><td><div class=\"dni-plaintext\"><pre>101</pre></div></td></tr></tbody></table><style>\r\n",
       ".dni-code-hint {\r\n",
       "    font-style: italic;\r\n",
       "    overflow: hidden;\r\n",
       "    white-space: nowrap;\r\n",
       "}\r\n",
       ".dni-treeview {\r\n",
       "    white-space: nowrap;\r\n",
       "}\r\n",
       ".dni-treeview td {\r\n",
       "    vertical-align: top;\r\n",
       "    text-align: start;\r\n",
       "}\r\n",
       "details.dni-treeview {\r\n",
       "    padding-left: 1em;\r\n",
       "}\r\n",
       "table td {\r\n",
       "    text-align: start;\r\n",
       "}\r\n",
       "table tr { \r\n",
       "    vertical-align: top; \r\n",
       "    margin: 0em 0px;\r\n",
       "}\r\n",
       "table tr td pre \r\n",
       "{ \r\n",
       "    vertical-align: top !important; \r\n",
       "    margin: 0em 0px !important;\r\n",
       "} \r\n",
       "table th {\r\n",
       "    text-align: start;\r\n",
       "}\r\n",
       "</style>"
      ]
     },
     "metadata": {},
     "output_type": "display_data"
    },
    {
     "data": {
      "text/html": [
       "<table><thead><tr><th><i>key</i></th><th>value</th></tr></thead><tbody><tr><td><div class=\"dni-plaintext\"><pre>ACC</pre></div></td><td><div class=\"dni-plaintext\"><pre>15.54</pre></div></td></tr><tr><td><div class=\"dni-plaintext\"><pre>SEC</pre></div></td><td><div class=\"dni-plaintext\"><pre>16</pre></div></td></tr><tr><td><div class=\"dni-plaintext\"><pre>Big Ten</pre></div></td><td><div class=\"dni-plaintext\"><pre>9.83</pre></div></td></tr><tr><td><div class=\"dni-plaintext\"><pre>Big 12</pre></div></td><td><div class=\"dni-plaintext\"><pre>11.5</pre></div></td></tr><tr><td><div class=\"dni-plaintext\"><pre>RandomSmallSchool</pre></div></td><td><div class=\"dni-plaintext\"><pre>2.07</pre></div></td></tr><tr><td><div class=\"dni-plaintext\"><pre>Flex</pre></div></td><td><div class=\"dni-plaintext\"><pre>101</pre></div></td></tr></tbody></table><style>\r\n",
       ".dni-code-hint {\r\n",
       "    font-style: italic;\r\n",
       "    overflow: hidden;\r\n",
       "    white-space: nowrap;\r\n",
       "}\r\n",
       ".dni-treeview {\r\n",
       "    white-space: nowrap;\r\n",
       "}\r\n",
       ".dni-treeview td {\r\n",
       "    vertical-align: top;\r\n",
       "    text-align: start;\r\n",
       "}\r\n",
       "details.dni-treeview {\r\n",
       "    padding-left: 1em;\r\n",
       "}\r\n",
       "table td {\r\n",
       "    text-align: start;\r\n",
       "}\r\n",
       "table tr { \r\n",
       "    vertical-align: top; \r\n",
       "    margin: 0em 0px;\r\n",
       "}\r\n",
       "table tr td pre \r\n",
       "{ \r\n",
       "    vertical-align: top !important; \r\n",
       "    margin: 0em 0px !important;\r\n",
       "} \r\n",
       "table th {\r\n",
       "    text-align: start;\r\n",
       "}\r\n",
       "</style>"
      ]
     },
     "metadata": {},
     "output_type": "display_data"
    },
    {
     "data": {
      "text/plain": [
       "School Alabama in conference SEC has Leagify position SEC"
      ]
     },
     "metadata": {},
     "output_type": "display_data"
    },
    {
     "data": {
      "text/plain": [
       "School Clemson in conference ACC has Leagify position ACC"
      ]
     },
     "metadata": {},
     "output_type": "display_data"
    },
    {
     "data": {
      "text/plain": [
       "School Penn State in conference Big Ten has Leagify position Big Ten"
      ]
     },
     "metadata": {},
     "output_type": "display_data"
    },
    {
     "data": {
      "text/plain": [
       "School Texas in conference SEC has Leagify position SEC"
      ]
     },
     "metadata": {},
     "output_type": "display_data"
    },
    {
     "data": {
      "text/plain": [
       "School Oregon in conference Big Ten has Leagify position Big Ten"
      ]
     },
     "metadata": {},
     "output_type": "display_data"
    },
    {
     "data": {
      "text/plain": [
       "School Ohio State in conference Big Ten has Leagify position Big Ten"
      ]
     },
     "metadata": {},
     "output_type": "display_data"
    },
    {
     "data": {
      "text/plain": [
       "School LSU in conference SEC has Leagify position SEC"
      ]
     },
     "metadata": {},
     "output_type": "display_data"
    },
    {
     "data": {
      "text/plain": [
       "School Georgia in conference SEC has Leagify position SEC"
      ]
     },
     "metadata": {},
     "output_type": "display_data"
    },
    {
     "data": {
      "text/plain": [
       "School Florida in conference SEC has Leagify position SEC"
      ]
     },
     "metadata": {},
     "output_type": "display_data"
    },
    {
     "data": {
      "text/plain": [
       "School Texas A&M in conference SEC has Leagify position SEC"
      ]
     },
     "metadata": {},
     "output_type": "display_data"
    },
    {
     "data": {
      "text/plain": [
       "School Auburn in conference SEC has Leagify position SEC"
      ]
     },
     "metadata": {},
     "output_type": "display_data"
    },
    {
     "data": {
      "text/plain": [
       "School Notre Dame in conference FBS - Independent has Leagify position Flex"
      ]
     },
     "metadata": {},
     "output_type": "display_data"
    },
    {
     "data": {
      "text/plain": [
       "School Utah in conference Big 12 has Leagify position Big 12"
      ]
     },
     "metadata": {},
     "output_type": "display_data"
    },
    {
     "data": {
      "text/plain": [
       "School South Carolina in conference SEC has Leagify position SEC"
      ]
     },
     "metadata": {},
     "output_type": "display_data"
    },
    {
     "data": {
      "text/plain": [
       "School Arizona State in conference Big 12 has Leagify position Big 12"
      ]
     },
     "metadata": {},
     "output_type": "display_data"
    },
    {
     "data": {
      "text/plain": [
       "School Miami (FL) in conference ACC has Leagify position ACC"
      ]
     },
     "metadata": {},
     "output_type": "display_data"
    },
    {
     "data": {
      "text/plain": [
       "School Indiana in conference Big Ten has Leagify position Big Ten"
      ]
     },
     "metadata": {},
     "output_type": "display_data"
    },
    {
     "data": {
      "text/plain": [
       "School USC in conference Big Ten has Leagify position Big Ten"
      ]
     },
     "metadata": {},
     "output_type": "display_data"
    },
    {
     "data": {
      "text/plain": [
       "School Oklahoma in conference SEC has Leagify position SEC"
      ]
     },
     "metadata": {},
     "output_type": "display_data"
    },
    {
     "data": {
      "text/plain": [
       "School Michigan in conference Big Ten has Leagify position Big Ten"
      ]
     },
     "metadata": {},
     "output_type": "display_data"
    },
    {
     "data": {
      "text/plain": [
       "School Missouri in conference SEC has Leagify position SEC"
      ]
     },
     "metadata": {},
     "output_type": "display_data"
    },
    {
     "data": {
      "text/plain": [
       "School Iowa in conference Big Ten has Leagify position Big Ten"
      ]
     },
     "metadata": {},
     "output_type": "display_data"
    },
    {
     "data": {
      "text/plain": [
       "School Illinois in conference Big Ten has Leagify position Big Ten"
      ]
     },
     "metadata": {},
     "output_type": "display_data"
    },
    {
     "data": {
      "text/plain": [
       "School Tennessee in conference SEC has Leagify position SEC"
      ]
     },
     "metadata": {},
     "output_type": "display_data"
    },
    {
     "data": {
      "text/plain": [
       "School Washington in conference Big Ten has Leagify position Big Ten"
      ]
     },
     "metadata": {},
     "output_type": "display_data"
    },
    {
     "data": {
      "text/plain": [
       "School Louisville in conference ACC has Leagify position ACC"
      ]
     },
     "metadata": {},
     "output_type": "display_data"
    },
    {
     "data": {
      "text/plain": [
       "School Texas Tech in conference Big 12 has Leagify position Big 12"
      ]
     },
     "metadata": {},
     "output_type": "display_data"
    },
    {
     "data": {
      "text/plain": [
       "School Ole Miss in conference SEC has Leagify position SEC"
      ]
     },
     "metadata": {},
     "output_type": "display_data"
    },
    {
     "data": {
      "text/plain": [
       "School SMU in conference ACC has Leagify position ACC"
      ]
     },
     "metadata": {},
     "output_type": "display_data"
    },
    {
     "data": {
      "text/plain": [
       "School Colorado in conference Big 12 has Leagify position Big 12"
      ]
     },
     "metadata": {},
     "output_type": "display_data"
    },
    {
     "data": {
      "text/plain": [
       "School Florida State in conference ACC has Leagify position ACC"
      ]
     },
     "metadata": {},
     "output_type": "display_data"
    },
    {
     "data": {
      "text/plain": [
       "School Pitt in conference ACC has Leagify position ACC"
      ]
     },
     "metadata": {},
     "output_type": "display_data"
    },
    {
     "data": {
      "text/plain": [
       "School Vanderbilt in conference SEC has Leagify position SEC"
      ]
     },
     "metadata": {},
     "output_type": "display_data"
    },
    {
     "data": {
      "text/plain": [
       "School Minnesota in conference Big Ten has Leagify position Big Ten"
      ]
     },
     "metadata": {},
     "output_type": "display_data"
    },
    {
     "data": {
      "text/plain": [
       "School Northwestern in conference Big Ten has Leagify position Big Ten"
      ]
     },
     "metadata": {},
     "output_type": "display_data"
    },
    {
     "data": {
      "text/plain": [
       "School Baylor in conference Big 12 has Leagify position Big 12"
      ]
     },
     "metadata": {},
     "output_type": "display_data"
    },
    {
     "data": {
      "text/plain": [
       "School Kansas in conference Big 12 has Leagify position Big 12"
      ]
     },
     "metadata": {},
     "output_type": "display_data"
    },
    {
     "data": {
      "text/plain": [
       "School TCU in conference Big 12 has Leagify position Big 12"
      ]
     },
     "metadata": {},
     "output_type": "display_data"
    },
    {
     "data": {
      "text/plain": [
       "School Duke in conference ACC has Leagify position ACC"
      ]
     },
     "metadata": {},
     "output_type": "display_data"
    },
    {
     "data": {
      "text/plain": [
       "School Wisconsin in conference Big Ten has Leagify position Big Ten"
      ]
     },
     "metadata": {},
     "output_type": "display_data"
    },
    {
     "data": {
      "text/plain": [
       "School Cincinnati in conference Big 12 has Leagify position Big 12"
      ]
     },
     "metadata": {},
     "output_type": "display_data"
    },
    {
     "data": {
      "text/plain": [
       "School Iowa State in conference Big 12 has Leagify position Big 12"
      ]
     },
     "metadata": {},
     "output_type": "display_data"
    },
    {
     "data": {
      "text/plain": [
       "School Virginia in conference ACC has Leagify position ACC"
      ]
     },
     "metadata": {},
     "output_type": "display_data"
    },
    {
     "data": {
      "text/plain": [
       "School Michigan State in conference Big Ten has Leagify position Big Ten"
      ]
     },
     "metadata": {},
     "output_type": "display_data"
    },
    {
     "data": {
      "text/plain": [
       "School Boston College in conference ACC has Leagify position ACC"
      ]
     },
     "metadata": {},
     "output_type": "display_data"
    },
    {
     "data": {
      "text/plain": [
       "School Georgia Tech in conference ACC has Leagify position ACC"
      ]
     },
     "metadata": {},
     "output_type": "display_data"
    },
    {
     "data": {
      "text/plain": [
       "School NC State in conference ACC has Leagify position ACC"
      ]
     },
     "metadata": {},
     "output_type": "display_data"
    },
    {
     "data": {
      "text/plain": [
       "School Wake Forest in conference ACC has Leagify position ACC"
      ]
     },
     "metadata": {},
     "output_type": "display_data"
    },
    {
     "data": {
      "text/plain": [
       "School North Carolina in conference ACC has Leagify position ACC"
      ]
     },
     "metadata": {},
     "output_type": "display_data"
    },
    {
     "data": {
      "text/plain": [
       "School Kentucky in conference SEC has Leagify position SEC"
      ]
     },
     "metadata": {},
     "output_type": "display_data"
    },
    {
     "data": {
      "text/plain": [
       "School California in conference ACC has Leagify position ACC"
      ]
     },
     "metadata": {},
     "output_type": "display_data"
    },
    {
     "data": {
      "text/plain": [
       "School UConn in conference FBS - AAC has Leagify position RandomSmallSchool"
      ]
     },
     "metadata": {},
     "output_type": "display_data"
    },
    {
     "data": {
      "text/plain": [
       "School Nebraska in conference Big Ten has Leagify position Big Ten"
      ]
     },
     "metadata": {},
     "output_type": "display_data"
    },
    {
     "data": {
      "text/plain": [
       "School Boise State in conference FBS - Mountain West has Leagify position RandomSmallSchool"
      ]
     },
     "metadata": {},
     "output_type": "display_data"
    },
    {
     "data": {
      "text/plain": [
       "School Arizona in conference Big 12 has Leagify position Big 12"
      ]
     },
     "metadata": {},
     "output_type": "display_data"
    },
    {
     "data": {
      "text/plain": [
       "School Virginia Tech in conference ACC has Leagify position ACC"
      ]
     },
     "metadata": {},
     "output_type": "display_data"
    },
    {
     "data": {
      "text/plain": [
       "School Arkansas in conference SEC has Leagify position SEC"
      ]
     },
     "metadata": {},
     "output_type": "display_data"
    },
    {
     "data": {
      "text/plain": [
       "School Kansas State in conference Big 12 has Leagify position Big 12"
      ]
     },
     "metadata": {},
     "output_type": "display_data"
    },
    {
     "data": {
      "text/plain": [
       "School UCLA in conference Big Ten has Leagify position Big Ten"
      ]
     },
     "metadata": {},
     "output_type": "display_data"
    },
    {
     "data": {
      "text/plain": [
       "School Stanford in conference ACC has Leagify position ACC"
      ]
     },
     "metadata": {},
     "output_type": "display_data"
    },
    {
     "data": {
      "text/plain": [
       "School Texas State in conference FBS - Sun Belt has Leagify position RandomSmallSchool"
      ]
     },
     "metadata": {},
     "output_type": "display_data"
    },
    {
     "data": {
      "text/plain": [
       "School East Carolina in conference FBS - AAC has Leagify position RandomSmallSchool"
      ]
     },
     "metadata": {},
     "output_type": "display_data"
    },
    {
     "data": {
      "text/plain": [
       "School Wyoming in conference FBS - Mountain West has Leagify position RandomSmallSchool"
      ]
     },
     "metadata": {},
     "output_type": "display_data"
    },
    {
     "data": {
      "text/plain": [
       "School Mississippi State in conference SEC has Leagify position SEC"
      ]
     },
     "metadata": {},
     "output_type": "display_data"
    },
    {
     "data": {
      "text/plain": [
       "School Maryland in conference Big Ten has Leagify position Big Ten"
      ]
     },
     "metadata": {},
     "output_type": "display_data"
    },
    {
     "data": {
      "text/plain": [
       "School James Madison in conference FBS - Sun Belt has Leagify position RandomSmallSchool"
      ]
     },
     "metadata": {},
     "output_type": "display_data"
    },
    {
     "data": {
      "text/plain": [
       "School Toledo in conference FBS - MAC has Leagify position RandomSmallSchool"
      ]
     },
     "metadata": {},
     "output_type": "display_data"
    },
    {
     "data": {
      "text/plain": [
       "School Oklahoma State in conference Big 12 has Leagify position Big 12"
      ]
     },
     "metadata": {},
     "output_type": "display_data"
    },
    {
     "data": {
      "text/plain": [
       "School UTEP in conference FBS - CUSA has Leagify position RandomSmallSchool"
      ]
     },
     "metadata": {},
     "output_type": "display_data"
    },
    {
     "data": {
      "text/plain": [
       "School North Dakota State in conference FCS has Leagify position RandomSmallSchool"
      ]
     },
     "metadata": {},
     "output_type": "display_data"
    },
    {
     "data": {
      "text/plain": [
       "School West Virginia in conference Big 12 has Leagify position Big 12"
      ]
     },
     "metadata": {},
     "output_type": "display_data"
    },
    {
     "data": {
      "text/plain": [
       "School UCF in conference Big 12 has Leagify position Big 12"
      ]
     },
     "metadata": {},
     "output_type": "display_data"
    },
    {
     "data": {
      "text/plain": [
       "School Southern Miss in conference FBS - CUSA has Leagify position RandomSmallSchool"
      ]
     },
     "metadata": {},
     "output_type": "display_data"
    },
    {
     "data": {
      "text/plain": [
       "School Marshall in conference FBS - CUSA has Leagify position RandomSmallSchool"
      ]
     },
     "metadata": {},
     "output_type": "display_data"
    },
    {
     "data": {
      "text/plain": [
       "School UNLV in conference FBS - Mountain West has Leagify position RandomSmallSchool"
      ]
     },
     "metadata": {},
     "output_type": "display_data"
    },
    {
     "data": {
      "text/plain": [
       "School Purdue in conference Big Ten has Leagify position Big Ten"
      ]
     },
     "metadata": {},
     "output_type": "display_data"
    },
    {
     "data": {
      "text/plain": [
       "School Rutgers in conference Big Ten has Leagify position Big Ten"
      ]
     },
     "metadata": {},
     "output_type": "display_data"
    },
    {
     "data": {
      "text/plain": [
       "School Charlotte in conference FBS - AAC has Leagify position RandomSmallSchool"
      ]
     },
     "metadata": {},
     "output_type": "display_data"
    },
    {
     "data": {
      "text/plain": [
       "School Tulane in conference FBS - AAC has Leagify position RandomSmallSchool"
      ]
     },
     "metadata": {},
     "output_type": "display_data"
    },
    {
     "data": {
      "text/plain": [
       "School Rice in conference FBS - AAC has Leagify position RandomSmallSchool"
      ]
     },
     "metadata": {},
     "output_type": "display_data"
    },
    {
     "data": {
      "text/plain": [
       "School Houston in conference Big 12 has Leagify position Big 12"
      ]
     },
     "metadata": {},
     "output_type": "display_data"
    },
    {
     "data": {
      "text/plain": [
       "School Akron in conference FBS - MAC has Leagify position RandomSmallSchool"
      ]
     },
     "metadata": {},
     "output_type": "display_data"
    },
    {
     "data": {
      "text/plain": [
       "School Youngstown State in conference FCS has Leagify position RandomSmallSchool"
      ]
     },
     "metadata": {},
     "output_type": "display_data"
    },
    {
     "data": {
      "text/plain": [
       "School Massachusetts in conference FBS - MAC has Leagify position RandomSmallSchool"
      ]
     },
     "metadata": {},
     "output_type": "display_data"
    },
    {
     "data": {
      "text/plain": [
       "School Troy in conference FBS - Sun Belt has Leagify position RandomSmallSchool"
      ]
     },
     "metadata": {},
     "output_type": "display_data"
    },
    {
     "data": {
      "text/plain": [
       "School Sacramento State in conference FCS has Leagify position RandomSmallSchool"
      ]
     },
     "metadata": {},
     "output_type": "display_data"
    },
    {
     "data": {
      "text/plain": [
       "School Jacksonville State in conference FBS - CUSA has Leagify position RandomSmallSchool"
      ]
     },
     "metadata": {},
     "output_type": "display_data"
    },
    {
     "data": {
      "text/plain": [
       "School BYU in conference Big 12 has Leagify position Big 12"
      ]
     },
     "metadata": {},
     "output_type": "display_data"
    },
    {
     "data": {
      "text/plain": [
       "School Memphis in conference FBS - AAC has Leagify position RandomSmallSchool"
      ]
     },
     "metadata": {},
     "output_type": "display_data"
    },
    {
     "data": {
      "text/plain": [
       "School UAB in conference FBS - AAC has Leagify position RandomSmallSchool"
      ]
     },
     "metadata": {},
     "output_type": "display_data"
    },
    {
     "data": {
      "text/plain": [
       "School South Florida in conference FBS - AAC has Leagify position RandomSmallSchool"
      ]
     },
     "metadata": {},
     "output_type": "display_data"
    },
    {
     "data": {
      "text/plain": [
       "School UTSA in conference FBS - AAC has Leagify position RandomSmallSchool"
      ]
     },
     "metadata": {},
     "output_type": "display_data"
    },
    {
     "data": {
      "text/plain": [
       "School Appalachian State in conference FBS - Sun Belt has Leagify position RandomSmallSchool"
      ]
     },
     "metadata": {},
     "output_type": "display_data"
    },
    {
     "data": {
      "text/plain": [
       "School Oregon State in conference Pac 12 has Leagify position RandomSmallSchool"
      ]
     },
     "metadata": {},
     "output_type": "display_data"
    },
    {
     "data": {
      "text/plain": [
       "School Louisiana-Lafayette in conference FBS - Sun Belt has Leagify position RandomSmallSchool"
      ]
     },
     "metadata": {},
     "output_type": "display_data"
    },
    {
     "data": {
      "text/plain": [
       "School Coastal Carolina in conference FCS has Leagify position RandomSmallSchool"
      ]
     },
     "metadata": {},
     "output_type": "display_data"
    },
    {
     "data": {
      "text/plain": [
       "School Syracuse in conference ACC has Leagify position ACC"
      ]
     },
     "metadata": {},
     "output_type": "display_data"
    },
    {
     "data": {
      "text/plain": [
       "School Florida International in conference FBS - CUSA has Leagify position RandomSmallSchool"
      ]
     },
     "metadata": {},
     "output_type": "display_data"
    },
    {
     "data": {
      "text/plain": [
       "School Miami (OH) in conference FBS - MAC has Leagify position RandomSmallSchool"
      ]
     },
     "metadata": {},
     "output_type": "display_data"
    },
    {
     "data": {
      "text/plain": [
       "School Bowling Green in conference FBS - MAC has Leagify position RandomSmallSchool"
      ]
     },
     "metadata": {},
     "output_type": "display_data"
    },
    {
     "data": {
      "text/plain": [
       "School North Dakota in conference FCS has Leagify position RandomSmallSchool"
      ]
     },
     "metadata": {},
     "output_type": "display_data"
    },
    {
     "data": {
      "text/plain": [
       "School Harvard in conference FCS has Leagify position RandomSmallSchool"
      ]
     },
     "metadata": {},
     "output_type": "display_data"
    },
    {
     "data": {
      "text/plain": [
       "School Lafayette in conference FCS has Leagify position RandomSmallSchool"
      ]
     },
     "metadata": {},
     "output_type": "display_data"
    },
    {
     "data": {
      "text/plain": [
       "School Sam Houston State in conference FBS - CUSA has Leagify position RandomSmallSchool"
      ]
     },
     "metadata": {},
     "output_type": "display_data"
    },
    {
     "data": {
      "text/plain": [
       "School Northern Illinois in conference FBS - MAC has Leagify position RandomSmallSchool"
      ]
     },
     "metadata": {},
     "output_type": "display_data"
    },
    {
     "data": {
      "text/plain": [
       "School South Dakota State in conference FCS has Leagify position RandomSmallSchool"
      ]
     },
     "metadata": {},
     "output_type": "display_data"
    },
    {
     "data": {
      "text/plain": [
       "School William & Mary in conference FCS has Leagify position RandomSmallSchool"
      ]
     },
     "metadata": {},
     "output_type": "display_data"
    },
    {
     "data": {
      "text/plain": [
       "School San Diego State in conference FBS - Mountain West has Leagify position RandomSmallSchool"
      ]
     },
     "metadata": {},
     "output_type": "display_data"
    },
    {
     "data": {
      "text/plain": [
       "School Abilene Christian in conference FCS has Leagify position RandomSmallSchool"
      ]
     },
     "metadata": {},
     "output_type": "display_data"
    },
    {
     "data": {
      "text/plain": [
       "School Virginia State in conference D2 has Leagify position RandomSmallSchool"
      ]
     },
     "metadata": {},
     "output_type": "display_data"
    },
    {
     "data": {
      "text/plain": [
       "School Buffalo in conference FBS - MAC has Leagify position RandomSmallSchool"
      ]
     },
     "metadata": {},
     "output_type": "display_data"
    },
    {
     "data": {
      "text/plain": [
       "School Arkansas State in conference FBS - Sun Belt has Leagify position RandomSmallSchool"
      ]
     },
     "metadata": {},
     "output_type": "display_data"
    },
    {
     "data": {
      "text/plain": [
       "School McNeese State in conference FCS has Leagify position RandomSmallSchool"
      ]
     },
     "metadata": {},
     "output_type": "display_data"
    },
    {
     "data": {
      "text/plain": [
       "School Western Michigan in conference FBS - MAC has Leagify position RandomSmallSchool"
      ]
     },
     "metadata": {},
     "output_type": "display_data"
    },
    {
     "data": {
      "text/plain": [
       "School Portland State in conference FCS has Leagify position RandomSmallSchool"
      ]
     },
     "metadata": {},
     "output_type": "display_data"
    },
    {
     "data": {
      "text/plain": [
       "School Tulsa in conference FBS - AAC has Leagify position RandomSmallSchool"
      ]
     },
     "metadata": {},
     "output_type": "display_data"
    },
    {
     "data": {
      "text/plain": [
       "School Nevada in conference FBS - Mountain West has Leagify position RandomSmallSchool"
      ]
     },
     "metadata": {},
     "output_type": "display_data"
    },
    {
     "data": {
      "text/plain": [
       "School Georgia Southern in conference FBS - Sun Belt has Leagify position RandomSmallSchool"
      ]
     },
     "metadata": {},
     "output_type": "display_data"
    },
    {
     "data": {
      "text/plain": [
       "School San Jose State in conference FBS - Mountain West has Leagify position RandomSmallSchool"
      ]
     },
     "metadata": {},
     "output_type": "display_data"
    },
    {
     "data": {
      "text/plain": [
       "School Fresno State in conference FBS - Mountain West has Leagify position RandomSmallSchool"
      ]
     },
     "metadata": {},
     "output_type": "display_data"
    },
    {
     "data": {
      "text/plain": [
       "School Tarleton State in conference D2 has Leagify position RandomSmallSchool"
      ]
     },
     "metadata": {},
     "output_type": "display_data"
    },
    {
     "data": {
      "text/plain": [
       "School Cal Poly in conference FCS has Leagify position RandomSmallSchool"
      ]
     },
     "metadata": {},
     "output_type": "display_data"
    },
    {
     "data": {
      "text/plain": [
       "School Utah State in conference FBS - Mountain West has Leagify position RandomSmallSchool"
      ]
     },
     "metadata": {},
     "output_type": "display_data"
    },
    {
     "data": {
      "text/plain": [
       "School Florida Atlantic in conference FBS - AAC has Leagify position RandomSmallSchool"
      ]
     },
     "metadata": {},
     "output_type": "display_data"
    },
    {
     "data": {
      "text/plain": [
       "School Old Dominion in conference FBS - CUSA has Leagify position RandomSmallSchool"
      ]
     },
     "metadata": {},
     "output_type": "display_data"
    },
    {
     "data": {
      "text/plain": [
       "School Washington State in conference Pac 12 has Leagify position RandomSmallSchool"
      ]
     },
     "metadata": {},
     "output_type": "display_data"
    },
    {
     "data": {
      "text/plain": [
       "School Florida A&M in conference FCS has Leagify position RandomSmallSchool"
      ]
     },
     "metadata": {},
     "output_type": "display_data"
    },
    {
     "data": {
      "text/plain": [
       "School Air Force in conference FBS - Mountain West has Leagify position RandomSmallSchool"
      ]
     },
     "metadata": {},
     "output_type": "display_data"
    },
    {
     "data": {
      "text/plain": [
       "School Stephen F. Austin in conference FCS has Leagify position RandomSmallSchool"
      ]
     },
     "metadata": {},
     "output_type": "display_data"
    },
    {
     "data": {
      "text/plain": [
       "School East Tennessee State in conference FCS has Leagify position RandomSmallSchool"
      ]
     },
     "metadata": {},
     "output_type": "display_data"
    },
    {
     "data": {
      "text/html": [
       "<table id=\"table_638923845568581290\"><caption><h3 style=\"text-align: center;\">DataFrame - 130 rows </h3></caption><thead><tr><th><i>index</i></th><th>School</th><th>Conference</th><th>ProjectedPoints</th><th>NumberOfProspects</th><th>SchoolURL</th><th>SuggestedAuctionValue</th><th>LeagifyPosition</th><th>ProjectedPointsAboveAverage</th><th>ProjectedPointsAboveReplacement</th><th>AveragePointsForPosition</th><th>ReplacementValueAverageForPosition</th></tr></thead><tbody><tr style=\"display: none\"><td><i><div class=\"dni-plaintext\"><pre>0</pre></div></i></td><td>Alabama</td><td>SEC</td><td><div class=\"dni-plaintext\"><pre>204</pre></div></td><td><div class=\"dni-plaintext\"><pre>34</pre></div></td><td>https://d9ioojyvhqpok.cloudfront.net/ipat9gfnm0mjkzxjgjduhgd3dhh5</td><td><div class=\"dni-plaintext\"><pre>&lt;null&gt;</pre></div></td><td>SEC</td><td><div class=\"dni-plaintext\"><pre>97.67</pre></div></td><td><div class=\"dni-plaintext\"><pre>188</pre></div></td><td><div class=\"dni-plaintext\"><pre>106.33</pre></div></td><td><div class=\"dni-plaintext\"><pre>16</pre></div></td></tr><tr style=\"display: none\"><td><i><div class=\"dni-plaintext\"><pre>1</pre></div></i></td><td>Clemson</td><td>ACC</td><td><div class=\"dni-plaintext\"><pre>202</pre></div></td><td><div class=\"dni-plaintext\"><pre>22</pre></div></td><td>https://d9ioojyvhqpok.cloudfront.net/qdoiydn8n7rrbe24fh91o35g46a2</td><td><div class=\"dni-plaintext\"><pre>&lt;null&gt;</pre></div></td><td>ACC</td><td><div class=\"dni-plaintext\"><pre>131.5</pre></div></td><td><div class=\"dni-plaintext\"><pre>186.46</pre></div></td><td><div class=\"dni-plaintext\"><pre>70.5</pre></div></td><td><div class=\"dni-plaintext\"><pre>15.54</pre></div></td></tr><tr style=\"display: none\"><td><i><div class=\"dni-plaintext\"><pre>2</pre></div></i></td><td>Penn State</td><td>Big Ten</td><td><div class=\"dni-plaintext\"><pre>176</pre></div></td><td><div class=\"dni-plaintext\"><pre>28</pre></div></td><td>https://d9ioojyvhqpok.cloudfront.net/r7ka9jaowmh2i9mbty8xvcw3lszi</td><td><div class=\"dni-plaintext\"><pre>&lt;null&gt;</pre></div></td><td>Big Ten</td><td><div class=\"dni-plaintext\"><pre>98.5</pre></div></td><td><div class=\"dni-plaintext\"><pre>166.17</pre></div></td><td><div class=\"dni-plaintext\"><pre>77.5</pre></div></td><td><div class=\"dni-plaintext\"><pre>9.83</pre></div></td></tr><tr style=\"display: none\"><td><i><div class=\"dni-plaintext\"><pre>3</pre></div></i></td><td>Texas</td><td>SEC</td><td><div class=\"dni-plaintext\"><pre>171</pre></div></td><td><div class=\"dni-plaintext\"><pre>26</pre></div></td><td>https://d9ioojyvhqpok.cloudfront.net/qg9cbgbb8dt3ibmkhhpbnxnmu2ym</td><td><div class=\"dni-plaintext\"><pre>&lt;null&gt;</pre></div></td><td>SEC</td><td><div class=\"dni-plaintext\"><pre>64.67</pre></div></td><td><div class=\"dni-plaintext\"><pre>155</pre></div></td><td><div class=\"dni-plaintext\"><pre>106.33</pre></div></td><td><div class=\"dni-plaintext\"><pre>16</pre></div></td></tr><tr style=\"display: none\"><td><i><div class=\"dni-plaintext\"><pre>4</pre></div></i></td><td>Oregon</td><td>Big Ten</td><td><div class=\"dni-plaintext\"><pre>165</pre></div></td><td><div class=\"dni-plaintext\"><pre>20</pre></div></td><td>https://d9ioojyvhqpok.cloudfront.net/jtm5dpazszqv0w6emkd6479rdrk8</td><td><div class=\"dni-plaintext\"><pre>&lt;null&gt;</pre></div></td><td>Big Ten</td><td><div class=\"dni-plaintext\"><pre>87.5</pre></div></td><td><div class=\"dni-plaintext\"><pre>155.16</pre></div></td><td><div class=\"dni-plaintext\"><pre>77.5</pre></div></td><td><div class=\"dni-plaintext\"><pre>9.83</pre></div></td></tr><tr style=\"display: none\"><td><i><div class=\"dni-plaintext\"><pre>5</pre></div></i></td><td>Ohio State</td><td>Big Ten</td><td><div class=\"dni-plaintext\"><pre>157</pre></div></td><td><div class=\"dni-plaintext\"><pre>30</pre></div></td><td>https://d9ioojyvhqpok.cloudfront.net/t0cc17koiq4lypyf6v0bjmb48dl1</td><td><div class=\"dni-plaintext\"><pre>&lt;null&gt;</pre></div></td><td>Big Ten</td><td><div class=\"dni-plaintext\"><pre>79.5</pre></div></td><td><div class=\"dni-plaintext\"><pre>147.16</pre></div></td><td><div class=\"dni-plaintext\"><pre>77.5</pre></div></td><td><div class=\"dni-plaintext\"><pre>9.83</pre></div></td></tr><tr style=\"display: none\"><td><i><div class=\"dni-plaintext\"><pre>6</pre></div></i></td><td>LSU</td><td>SEC</td><td><div class=\"dni-plaintext\"><pre>137</pre></div></td><td><div class=\"dni-plaintext\"><pre>28</pre></div></td><td>https://d9ioojyvhqpok.cloudfront.net/kotupd48marnkuttwxr1ueuusuq4</td><td><div class=\"dni-plaintext\"><pre>&lt;null&gt;</pre></div></td><td>SEC</td><td><div class=\"dni-plaintext\"><pre>30.67</pre></div></td><td><div class=\"dni-plaintext\"><pre>121</pre></div></td><td><div class=\"dni-plaintext\"><pre>106.33</pre></div></td><td><div class=\"dni-plaintext\"><pre>16</pre></div></td></tr><tr style=\"display: none\"><td><i><div class=\"dni-plaintext\"><pre>7</pre></div></i></td><td>Georgia</td><td>SEC</td><td><div class=\"dni-plaintext\"><pre>133</pre></div></td><td><div class=\"dni-plaintext\"><pre>30</pre></div></td><td>https://d9ioojyvhqpok.cloudfront.net/lk6cx1kv1jp68409gl92aapm1amw</td><td><div class=\"dni-plaintext\"><pre>&lt;null&gt;</pre></div></td><td>SEC</td><td><div class=\"dni-plaintext\"><pre>26.67</pre></div></td><td><div class=\"dni-plaintext\"><pre>117</pre></div></td><td><div class=\"dni-plaintext\"><pre>106.33</pre></div></td><td><div class=\"dni-plaintext\"><pre>16</pre></div></td></tr><tr style=\"display: none\"><td><i><div class=\"dni-plaintext\"><pre>8</pre></div></i></td><td>Florida</td><td>SEC</td><td><div class=\"dni-plaintext\"><pre>114</pre></div></td><td><div class=\"dni-plaintext\"><pre>18</pre></div></td><td>https://d9ioojyvhqpok.cloudfront.net/36khmjuee0xz2lxwa0xvcpewulbr</td><td><div class=\"dni-plaintext\"><pre>&lt;null&gt;</pre></div></td><td>SEC</td><td><div class=\"dni-plaintext\"><pre>7.67</pre></div></td><td><div class=\"dni-plaintext\"><pre>98</pre></div></td><td><div class=\"dni-plaintext\"><pre>106.33</pre></div></td><td><div class=\"dni-plaintext\"><pre>16</pre></div></td></tr><tr style=\"display: none\"><td><i><div class=\"dni-plaintext\"><pre>9</pre></div></i></td><td>Texas A&amp;M</td><td>SEC</td><td><div class=\"dni-plaintext\"><pre>110</pre></div></td><td><div class=\"dni-plaintext\"><pre>30</pre></div></td><td>https://d9ioojyvhqpok.cloudfront.net/2zs6v615in0lqkjlrpwr0ss7jal3</td><td><div class=\"dni-plaintext\"><pre>&lt;null&gt;</pre></div></td><td>SEC</td><td><div class=\"dni-plaintext\"><pre>3.67</pre></div></td><td><div class=\"dni-plaintext\"><pre>94</pre></div></td><td><div class=\"dni-plaintext\"><pre>106.33</pre></div></td><td><div class=\"dni-plaintext\"><pre>16</pre></div></td></tr><tr style=\"display: none\"><td><i><div class=\"dni-plaintext\"><pre>10</pre></div></i></td><td>Auburn</td><td>SEC</td><td><div class=\"dni-plaintext\"><pre>108</pre></div></td><td><div class=\"dni-plaintext\"><pre>12</pre></div></td><td>https://d9ioojyvhqpok.cloudfront.net/eleiezsd0lvxbat70oyxvobqj1wy</td><td><div class=\"dni-plaintext\"><pre>&lt;null&gt;</pre></div></td><td>SEC</td><td><div class=\"dni-plaintext\"><pre>1.67</pre></div></td><td><div class=\"dni-plaintext\"><pre>92</pre></div></td><td><div class=\"dni-plaintext\"><pre>106.33</pre></div></td><td><div class=\"dni-plaintext\"><pre>16</pre></div></td></tr><tr style=\"display: none\"><td><i><div class=\"dni-plaintext\"><pre>11</pre></div></i></td><td>Notre Dame</td><td>FBS - Independent</td><td><div class=\"dni-plaintext\"><pre>101</pre></div></td><td><div class=\"dni-plaintext\"><pre>18</pre></div></td><td>https://d9ioojyvhqpok.cloudfront.net/tbs37oz73f8lx0yton630db3mwil</td><td><div class=\"dni-plaintext\"><pre>&lt;null&gt;</pre></div></td><td>Flex</td><td><div class=\"dni-plaintext\"><pre>0</pre></div></td><td><div class=\"dni-plaintext\"><pre>0</pre></div></td><td><div class=\"dni-plaintext\"><pre>101</pre></div></td><td><div class=\"dni-plaintext\"><pre>101</pre></div></td></tr><tr style=\"display: none\"><td><i><div class=\"dni-plaintext\"><pre>12</pre></div></i></td><td>Utah</td><td>Big 12</td><td><div class=\"dni-plaintext\"><pre>94</pre></div></td><td><div class=\"dni-plaintext\"><pre>12</pre></div></td><td>https://d9ioojyvhqpok.cloudfront.net/6knutc24htvta65sc5lynfbx3bag</td><td><div class=\"dni-plaintext\"><pre>&lt;null&gt;</pre></div></td><td>Big 12</td><td><div class=\"dni-plaintext\"><pre>41.67</pre></div></td><td><div class=\"dni-plaintext\"><pre>82.5</pre></div></td><td><div class=\"dni-plaintext\"><pre>52.33</pre></div></td><td><div class=\"dni-plaintext\"><pre>11.5</pre></div></td></tr><tr style=\"display: none\"><td><i><div class=\"dni-plaintext\"><pre>13</pre></div></i></td><td>South Carolina</td><td>SEC</td><td><div class=\"dni-plaintext\"><pre>91</pre></div></td><td><div class=\"dni-plaintext\"><pre>14</pre></div></td><td>https://d9ioojyvhqpok.cloudfront.net/xf3wi54n26qaha5aventrscyqj9i</td><td><div class=\"dni-plaintext\"><pre>&lt;null&gt;</pre></div></td><td>SEC</td><td><div class=\"dni-plaintext\"><pre>-15.32</pre></div></td><td><div class=\"dni-plaintext\"><pre>75</pre></div></td><td><div class=\"dni-plaintext\"><pre>106.33</pre></div></td><td><div class=\"dni-plaintext\"><pre>16</pre></div></td></tr><tr style=\"display: none\"><td><i><div class=\"dni-plaintext\"><pre>14</pre></div></i></td><td>Arizona State</td><td>Big 12</td><td><div class=\"dni-plaintext\"><pre>89</pre></div></td><td><div class=\"dni-plaintext\"><pre>17</pre></div></td><td>https://d9ioojyvhqpok.cloudfront.net/ki89e84ng0fbkdkof0pb7l8eavl7</td><td><div class=\"dni-plaintext\"><pre>&lt;null&gt;</pre></div></td><td>Big 12</td><td><div class=\"dni-plaintext\"><pre>36.67</pre></div></td><td><div class=\"dni-plaintext\"><pre>77.5</pre></div></td><td><div class=\"dni-plaintext\"><pre>52.33</pre></div></td><td><div class=\"dni-plaintext\"><pre>11.5</pre></div></td></tr><tr style=\"display: none\"><td><i><div class=\"dni-plaintext\"><pre>15</pre></div></i></td><td>Miami (FL)</td><td>ACC</td><td><div class=\"dni-plaintext\"><pre>77</pre></div></td><td><div class=\"dni-plaintext\"><pre>15</pre></div></td><td>https://d9ioojyvhqpok.cloudfront.net/ua8vtcmx37g6fru3tna1nygak655</td><td><div class=\"dni-plaintext\"><pre>&lt;null&gt;</pre></div></td><td>ACC</td><td><div class=\"dni-plaintext\"><pre>6.5</pre></div></td><td><div class=\"dni-plaintext\"><pre>61.46</pre></div></td><td><div class=\"dni-plaintext\"><pre>70.5</pre></div></td><td><div class=\"dni-plaintext\"><pre>15.54</pre></div></td></tr><tr style=\"display: none\"><td><i><div class=\"dni-plaintext\"><pre>16</pre></div></i></td><td>Indiana</td><td>Big Ten</td><td><div class=\"dni-plaintext\"><pre>75</pre></div></td><td><div class=\"dni-plaintext\"><pre>9</pre></div></td><td>https://d9ioojyvhqpok.cloudfront.net/wapph05yk3m4c6hzhc4793w94sxj</td><td><div class=\"dni-plaintext\"><pre>&lt;null&gt;</pre></div></td><td>Big Ten</td><td><div class=\"dni-plaintext\"><pre>-2.5</pre></div></td><td><div class=\"dni-plaintext\"><pre>65.17</pre></div></td><td><div class=\"dni-plaintext\"><pre>77.5</pre></div></td><td><div class=\"dni-plaintext\"><pre>9.83</pre></div></td></tr><tr style=\"display: none\"><td><i><div class=\"dni-plaintext\"><pre>17</pre></div></i></td><td>USC</td><td>Big Ten</td><td><div class=\"dni-plaintext\"><pre>70</pre></div></td><td><div class=\"dni-plaintext\"><pre>14</pre></div></td><td>https://d9ioojyvhqpok.cloudfront.net/9qzau6lr9d2g4rnpah5m4o5l5wrb</td><td><div class=\"dni-plaintext\"><pre>&lt;null&gt;</pre></div></td><td>Big Ten</td><td><div class=\"dni-plaintext\"><pre>-7.5</pre></div></td><td><div class=\"dni-plaintext\"><pre>60.17</pre></div></td><td><div class=\"dni-plaintext\"><pre>77.5</pre></div></td><td><div class=\"dni-plaintext\"><pre>9.83</pre></div></td></tr><tr style=\"display: none\"><td><i><div class=\"dni-plaintext\"><pre>18</pre></div></i></td><td>Oklahoma</td><td>SEC</td><td><div class=\"dni-plaintext\"><pre>66</pre></div></td><td><div class=\"dni-plaintext\"><pre>19</pre></div></td><td>https://d9ioojyvhqpok.cloudfront.net/2oxpf3x0lqqyaqu2vusmkrrfpvz4</td><td><div class=\"dni-plaintext\"><pre>&lt;null&gt;</pre></div></td><td>SEC</td><td><div class=\"dni-plaintext\"><pre>-40.33</pre></div></td><td><div class=\"dni-plaintext\"><pre>50</pre></div></td><td><div class=\"dni-plaintext\"><pre>106.33</pre></div></td><td><div class=\"dni-plaintext\"><pre>16</pre></div></td></tr><tr style=\"display: none\"><td><i><div class=\"dni-plaintext\"><pre>19</pre></div></i></td><td>Michigan</td><td>Big Ten</td><td><div class=\"dni-plaintext\"><pre>57</pre></div></td><td><div class=\"dni-plaintext\"><pre>20</pre></div></td><td>https://d9ioojyvhqpok.cloudfront.net/q8wl5dk6g7zupims4dtdrh3ssr12</td><td><div class=\"dni-plaintext\"><pre>&lt;null&gt;</pre></div></td><td>Big Ten</td><td><div class=\"dni-plaintext\"><pre>-20.5</pre></div></td><td><div class=\"dni-plaintext\"><pre>47.17</pre></div></td><td><div class=\"dni-plaintext\"><pre>77.5</pre></div></td><td><div class=\"dni-plaintext\"><pre>9.83</pre></div></td></tr><tr style=\"display: none\"><td><i><div class=\"dni-plaintext\"><pre>20</pre></div></i></td><td>Missouri</td><td>SEC</td><td><div class=\"dni-plaintext\"><pre>54</pre></div></td><td><div class=\"dni-plaintext\"><pre>11</pre></div></td><td>https://d9ioojyvhqpok.cloudfront.net/at4tedy432dma8a852zl29mhpl97</td><td><div class=\"dni-plaintext\"><pre>&lt;null&gt;</pre></div></td><td>SEC</td><td><div class=\"dni-plaintext\"><pre>-52.33</pre></div></td><td><div class=\"dni-plaintext\"><pre>38</pre></div></td><td><div class=\"dni-plaintext\"><pre>106.33</pre></div></td><td><div class=\"dni-plaintext\"><pre>16</pre></div></td></tr><tr style=\"display: none\"><td><i><div class=\"dni-plaintext\"><pre>21</pre></div></i></td><td>Iowa</td><td>Big Ten</td><td><div class=\"dni-plaintext\"><pre>54</pre></div></td><td><div class=\"dni-plaintext\"><pre>10</pre></div></td><td>https://d9ioojyvhqpok.cloudfront.net/1v4qash6kghlbzawlc9mcktcv6et</td><td><div class=\"dni-plaintext\"><pre>&lt;null&gt;</pre></div></td><td>Big Ten</td><td><div class=\"dni-plaintext\"><pre>-23.5</pre></div></td><td><div class=\"dni-plaintext\"><pre>44.17</pre></div></td><td><div class=\"dni-plaintext\"><pre>77.5</pre></div></td><td><div class=\"dni-plaintext\"><pre>9.83</pre></div></td></tr><tr style=\"display: none\"><td><i><div class=\"dni-plaintext\"><pre>22</pre></div></i></td><td>Illinois</td><td>Big Ten</td><td><div class=\"dni-plaintext\"><pre>49</pre></div></td><td><div class=\"dni-plaintext\"><pre>16</pre></div></td><td>https://d9ioojyvhqpok.cloudfront.net/ufjr2mjvb39qtuuxl324m16av9zg</td><td><div class=\"dni-plaintext\"><pre>&lt;null&gt;</pre></div></td><td>Big Ten</td><td><div class=\"dni-plaintext\"><pre>-28.5</pre></div></td><td><div class=\"dni-plaintext\"><pre>39.17</pre></div></td><td><div class=\"dni-plaintext\"><pre>77.5</pre></div></td><td><div class=\"dni-plaintext\"><pre>9.83</pre></div></td></tr><tr style=\"display: none\"><td><i><div class=\"dni-plaintext\"><pre>23</pre></div></i></td><td>Tennessee</td><td>SEC</td><td><div class=\"dni-plaintext\"><pre>49</pre></div></td><td><div class=\"dni-plaintext\"><pre>14</pre></div></td><td>https://d9ioojyvhqpok.cloudfront.net/xvzdtm1u94la26tuf9s7k9biiobk</td><td><div class=\"dni-plaintext\"><pre>&lt;null&gt;</pre></div></td><td>SEC</td><td><div class=\"dni-plaintext\"><pre>-57.33</pre></div></td><td><div class=\"dni-plaintext\"><pre>33</pre></div></td><td><div class=\"dni-plaintext\"><pre>106.33</pre></div></td><td><div class=\"dni-plaintext\"><pre>16</pre></div></td></tr><tr style=\"display: none\"><td><i><div class=\"dni-plaintext\"><pre>24</pre></div></i></td><td>Washington</td><td>Big Ten</td><td><div class=\"dni-plaintext\"><pre>47</pre></div></td><td><div class=\"dni-plaintext\"><pre>9</pre></div></td><td>https://d9ioojyvhqpok.cloudfront.net/ymbx2qwvtd64qbet6aw5rlpvlznq</td><td><div class=\"dni-plaintext\"><pre>&lt;null&gt;</pre></div></td><td>Big Ten</td><td><div class=\"dni-plaintext\"><pre>-30.5</pre></div></td><td><div class=\"dni-plaintext\"><pre>37.17</pre></div></td><td><div class=\"dni-plaintext\"><pre>77.5</pre></div></td><td><div class=\"dni-plaintext\"><pre>9.83</pre></div></td></tr><tr style=\"display: none\"><td><i><div class=\"dni-plaintext\"><pre>25</pre></div></i></td><td>Louisville</td><td>ACC</td><td><div class=\"dni-plaintext\"><pre>43</pre></div></td><td><div class=\"dni-plaintext\"><pre>10</pre></div></td><td>https://d9ioojyvhqpok.cloudfront.net/6dtekr0ju42cquwnyoilhqr5048j</td><td><div class=\"dni-plaintext\"><pre>&lt;null&gt;</pre></div></td><td>ACC</td><td><div class=\"dni-plaintext\"><pre>-27.5</pre></div></td><td><div class=\"dni-plaintext\"><pre>27.46</pre></div></td><td><div class=\"dni-plaintext\"><pre>70.5</pre></div></td><td><div class=\"dni-plaintext\"><pre>15.54</pre></div></td></tr><tr style=\"display: none\"><td><i><div class=\"dni-plaintext\"><pre>26</pre></div></i></td><td>Texas Tech</td><td>Big 12</td><td><div class=\"dni-plaintext\"><pre>40</pre></div></td><td><div class=\"dni-plaintext\"><pre>9</pre></div></td><td>https://d9ioojyvhqpok.cloudfront.net/kuscl9st1izh66xvf7t3cqs05xlc</td><td><div class=\"dni-plaintext\"><pre>&lt;null&gt;</pre></div></td><td>Big 12</td><td><div class=\"dni-plaintext\"><pre>-12.32</pre></div></td><td><div class=\"dni-plaintext\"><pre>28.5</pre></div></td><td><div class=\"dni-plaintext\"><pre>52.33</pre></div></td><td><div class=\"dni-plaintext\"><pre>11.5</pre></div></td></tr><tr style=\"display: none\"><td><i><div class=\"dni-plaintext\"><pre>27</pre></div></i></td><td>Ole Miss</td><td>SEC</td><td><div class=\"dni-plaintext\"><pre>39</pre></div></td><td><div class=\"dni-plaintext\"><pre>13</pre></div></td><td>https://d9ioojyvhqpok.cloudfront.net/4ci7fizvkcl1pmfv17qg8ngxjghp</td><td><div class=\"dni-plaintext\"><pre>&lt;null&gt;</pre></div></td><td>SEC</td><td><div class=\"dni-plaintext\"><pre>-67.33</pre></div></td><td><div class=\"dni-plaintext\"><pre>23</pre></div></td><td><div class=\"dni-plaintext\"><pre>106.33</pre></div></td><td><div class=\"dni-plaintext\"><pre>16</pre></div></td></tr><tr style=\"display: none\"><td><i><div class=\"dni-plaintext\"><pre>28</pre></div></i></td><td>SMU</td><td>ACC</td><td><div class=\"dni-plaintext\"><pre>37</pre></div></td><td><div class=\"dni-plaintext\"><pre>16</pre></div></td><td>https://d9ioojyvhqpok.cloudfront.net/nxpzs66whtpfsd8epy2yvfnl7o1l</td><td><div class=\"dni-plaintext\"><pre>&lt;null&gt;</pre></div></td><td>ACC</td><td><div class=\"dni-plaintext\"><pre>-33.5</pre></div></td><td><div class=\"dni-plaintext\"><pre>21.46</pre></div></td><td><div class=\"dni-plaintext\"><pre>70.5</pre></div></td><td><div class=\"dni-plaintext\"><pre>15.54</pre></div></td></tr><tr style=\"display: none\"><td><i><div class=\"dni-plaintext\"><pre>29</pre></div></i></td><td>Colorado</td><td>Big 12</td><td><div class=\"dni-plaintext\"><pre>37</pre></div></td><td><div class=\"dni-plaintext\"><pre>13</pre></div></td><td>https://d9ioojyvhqpok.cloudfront.net/31k9h4jju8wo500iowlssig5xh2n</td><td><div class=\"dni-plaintext\"><pre>&lt;null&gt;</pre></div></td><td>Big 12</td><td><div class=\"dni-plaintext\"><pre>-15.32</pre></div></td><td><div class=\"dni-plaintext\"><pre>25.5</pre></div></td><td><div class=\"dni-plaintext\"><pre>52.33</pre></div></td><td><div class=\"dni-plaintext\"><pre>11.5</pre></div></td></tr><tr style=\"display: none\"><td><i><div class=\"dni-plaintext\"><pre>30</pre></div></i></td><td>Florida State</td><td>ACC</td><td><div class=\"dni-plaintext\"><pre>33</pre></div></td><td><div class=\"dni-plaintext\"><pre>20</pre></div></td><td>https://d9ioojyvhqpok.cloudfront.net/m93iek4mxqk3riqkjcnkn6750owr</td><td><div class=\"dni-plaintext\"><pre>&lt;null&gt;</pre></div></td><td>ACC</td><td><div class=\"dni-plaintext\"><pre>-37.5</pre></div></td><td><div class=\"dni-plaintext\"><pre>17.46</pre></div></td><td><div class=\"dni-plaintext\"><pre>70.5</pre></div></td><td><div class=\"dni-plaintext\"><pre>15.54</pre></div></td></tr><tr style=\"display: none\"><td><i><div class=\"dni-plaintext\"><pre>31</pre></div></i></td><td>Pitt</td><td>ACC</td><td><div class=\"dni-plaintext\"><pre>31</pre></div></td><td><div class=\"dni-plaintext\"><pre>11</pre></div></td><td>https://d9ioojyvhqpok.cloudfront.net/csd3a9od4s7wmvelf8ocfsz1iybj</td><td><div class=\"dni-plaintext\"><pre>&lt;null&gt;</pre></div></td><td>ACC</td><td><div class=\"dni-plaintext\"><pre>-39.5</pre></div></td><td><div class=\"dni-plaintext\"><pre>15.46</pre></div></td><td><div class=\"dni-plaintext\"><pre>70.5</pre></div></td><td><div class=\"dni-plaintext\"><pre>15.54</pre></div></td></tr><tr style=\"display: none\"><td><i><div class=\"dni-plaintext\"><pre>32</pre></div></i></td><td>Vanderbilt</td><td>SEC</td><td><div class=\"dni-plaintext\"><pre>30</pre></div></td><td><div class=\"dni-plaintext\"><pre>11</pre></div></td><td>https://d9ioojyvhqpok.cloudfront.net/ks9tdyoxceupundm449cdwku6r07</td><td><div class=\"dni-plaintext\"><pre>&lt;null&gt;</pre></div></td><td>SEC</td><td><div class=\"dni-plaintext\"><pre>-76.33</pre></div></td><td><div class=\"dni-plaintext\"><pre>14</pre></div></td><td><div class=\"dni-plaintext\"><pre>106.33</pre></div></td><td><div class=\"dni-plaintext\"><pre>16</pre></div></td></tr><tr style=\"display: none\"><td><i><div class=\"dni-plaintext\"><pre>33</pre></div></i></td><td>Minnesota</td><td>Big Ten</td><td><div class=\"dni-plaintext\"><pre>29</pre></div></td><td><div class=\"dni-plaintext\"><pre>8</pre></div></td><td>https://d9ioojyvhqpok.cloudfront.net/qwkosz3kmuu3cll5gejk03tlkbrc</td><td><div class=\"dni-plaintext\"><pre>&lt;null&gt;</pre></div></td><td>Big Ten</td><td><div class=\"dni-plaintext\"><pre>-48.5</pre></div></td><td><div class=\"dni-plaintext\"><pre>19.17</pre></div></td><td><div class=\"dni-plaintext\"><pre>77.5</pre></div></td><td><div class=\"dni-plaintext\"><pre>9.83</pre></div></td></tr><tr style=\"display: none\"><td><i><div class=\"dni-plaintext\"><pre>34</pre></div></i></td><td>Northwestern</td><td>Big Ten</td><td><div class=\"dni-plaintext\"><pre>28</pre></div></td><td><div class=\"dni-plaintext\"><pre>5</pre></div></td><td>https://d9ioojyvhqpok.cloudfront.net/uzykooi74755tgvvarik104rhbwc</td><td><div class=\"dni-plaintext\"><pre>&lt;null&gt;</pre></div></td><td>Big Ten</td><td><div class=\"dni-plaintext\"><pre>-49.5</pre></div></td><td><div class=\"dni-plaintext\"><pre>18.17</pre></div></td><td><div class=\"dni-plaintext\"><pre>77.5</pre></div></td><td><div class=\"dni-plaintext\"><pre>9.83</pre></div></td></tr><tr style=\"display: none\"><td><i><div class=\"dni-plaintext\"><pre>35</pre></div></i></td><td>Baylor</td><td>Big 12</td><td><div class=\"dni-plaintext\"><pre>27</pre></div></td><td><div class=\"dni-plaintext\"><pre>12</pre></div></td><td>https://d9ioojyvhqpok.cloudfront.net/680o8r6910ph1hh1y4x61eqn3q1a</td><td><div class=\"dni-plaintext\"><pre>&lt;null&gt;</pre></div></td><td>Big 12</td><td><div class=\"dni-plaintext\"><pre>-25.33</pre></div></td><td><div class=\"dni-plaintext\"><pre>15.5</pre></div></td><td><div class=\"dni-plaintext\"><pre>52.33</pre></div></td><td><div class=\"dni-plaintext\"><pre>11.5</pre></div></td></tr><tr style=\"display: none\"><td><i><div class=\"dni-plaintext\"><pre>36</pre></div></i></td><td>Kansas</td><td>Big 12</td><td><div class=\"dni-plaintext\"><pre>27</pre></div></td><td><div class=\"dni-plaintext\"><pre>11</pre></div></td><td>https://d9ioojyvhqpok.cloudfront.net/3y3u2f1wfjxe2jgxqkfhh4bptcls</td><td><div class=\"dni-plaintext\"><pre>&lt;null&gt;</pre></div></td><td>Big 12</td><td><div class=\"dni-plaintext\"><pre>-25.33</pre></div></td><td><div class=\"dni-plaintext\"><pre>15.5</pre></div></td><td><div class=\"dni-plaintext\"><pre>52.33</pre></div></td><td><div class=\"dni-plaintext\"><pre>11.5</pre></div></td></tr><tr style=\"display: none\"><td><i><div class=\"dni-plaintext\"><pre>37</pre></div></i></td><td>TCU</td><td>Big 12</td><td><div class=\"dni-plaintext\"><pre>25</pre></div></td><td><div class=\"dni-plaintext\"><pre>12</pre></div></td><td>https://d9ioojyvhqpok.cloudfront.net/3pn9fufuton7hpf2s6p0cdb71qau</td><td><div class=\"dni-plaintext\"><pre>&lt;null&gt;</pre></div></td><td>Big 12</td><td><div class=\"dni-plaintext\"><pre>-27.33</pre></div></td><td><div class=\"dni-plaintext\"><pre>13.5</pre></div></td><td><div class=\"dni-plaintext\"><pre>52.33</pre></div></td><td><div class=\"dni-plaintext\"><pre>11.5</pre></div></td></tr><tr style=\"display: none\"><td><i><div class=\"dni-plaintext\"><pre>38</pre></div></i></td><td>Duke</td><td>ACC</td><td><div class=\"dni-plaintext\"><pre>25</pre></div></td><td><div class=\"dni-plaintext\"><pre>6</pre></div></td><td>https://d9ioojyvhqpok.cloudfront.net/mero0lt4runb7sfivdwof5kb4pfq</td><td><div class=\"dni-plaintext\"><pre>&lt;null&gt;</pre></div></td><td>ACC</td><td><div class=\"dni-plaintext\"><pre>-45.5</pre></div></td><td><div class=\"dni-plaintext\"><pre>9.46</pre></div></td><td><div class=\"dni-plaintext\"><pre>70.5</pre></div></td><td><div class=\"dni-plaintext\"><pre>15.54</pre></div></td></tr><tr style=\"display: none\"><td><i><div class=\"dni-plaintext\"><pre>39</pre></div></i></td><td>Wisconsin</td><td>Big Ten</td><td><div class=\"dni-plaintext\"><pre>23</pre></div></td><td><div class=\"dni-plaintext\"><pre>10</pre></div></td><td>https://d9ioojyvhqpok.cloudfront.net/o4grd1s0303jrryu10vqeg74uw3y</td><td><div class=\"dni-plaintext\"><pre>&lt;null&gt;</pre></div></td><td>Big Ten</td><td><div class=\"dni-plaintext\"><pre>-54.5</pre></div></td><td><div class=\"dni-plaintext\"><pre>13.17</pre></div></td><td><div class=\"dni-plaintext\"><pre>77.5</pre></div></td><td><div class=\"dni-plaintext\"><pre>9.83</pre></div></td></tr><tr style=\"display: none\"><td><i><div class=\"dni-plaintext\"><pre>40</pre></div></i></td><td>Cincinnati</td><td>Big 12</td><td><div class=\"dni-plaintext\"><pre>23</pre></div></td><td><div class=\"dni-plaintext\"><pre>7</pre></div></td><td>https://d9ioojyvhqpok.cloudfront.net/870bz02zmr1utzcq47atpmxmxhgn</td><td><div class=\"dni-plaintext\"><pre>&lt;null&gt;</pre></div></td><td>Big 12</td><td><div class=\"dni-plaintext\"><pre>-29.33</pre></div></td><td><div class=\"dni-plaintext\"><pre>11.5</pre></div></td><td><div class=\"dni-plaintext\"><pre>52.33</pre></div></td><td><div class=\"dni-plaintext\"><pre>11.5</pre></div></td></tr><tr style=\"display: none\"><td><i><div class=\"dni-plaintext\"><pre>41</pre></div></i></td><td>Iowa State</td><td>Big 12</td><td><div class=\"dni-plaintext\"><pre>23</pre></div></td><td><div class=\"dni-plaintext\"><pre>6</pre></div></td><td>https://d9ioojyvhqpok.cloudfront.net/4y3zdnc9x1vnvvqjvq8h1ocvbph1</td><td><div class=\"dni-plaintext\"><pre>&lt;null&gt;</pre></div></td><td>Big 12</td><td><div class=\"dni-plaintext\"><pre>-29.33</pre></div></td><td><div class=\"dni-plaintext\"><pre>11.5</pre></div></td><td><div class=\"dni-plaintext\"><pre>52.33</pre></div></td><td><div class=\"dni-plaintext\"><pre>11.5</pre></div></td></tr><tr style=\"display: none\"><td><i><div class=\"dni-plaintext\"><pre>42</pre></div></i></td><td>Virginia</td><td>ACC</td><td><div class=\"dni-plaintext\"><pre>21</pre></div></td><td><div class=\"dni-plaintext\"><pre>11</pre></div></td><td>https://d9ioojyvhqpok.cloudfront.net/n3p1twy2vglxg07gxs12mqum57ob</td><td><div class=\"dni-plaintext\"><pre>&lt;null&gt;</pre></div></td><td>ACC</td><td><div class=\"dni-plaintext\"><pre>-49.5</pre></div></td><td><div class=\"dni-plaintext\"><pre>5.46</pre></div></td><td><div class=\"dni-plaintext\"><pre>70.5</pre></div></td><td><div class=\"dni-plaintext\"><pre>15.54</pre></div></td></tr><tr style=\"display: none\"><td><i><div class=\"dni-plaintext\"><pre>43</pre></div></i></td><td>Michigan State</td><td>Big Ten</td><td><div class=\"dni-plaintext\"><pre>21</pre></div></td><td><div class=\"dni-plaintext\"><pre>7</pre></div></td><td>https://d9ioojyvhqpok.cloudfront.net/cg1n9n8hr8srlsf1f5n8hshp7hn4</td><td><div class=\"dni-plaintext\"><pre>&lt;null&gt;</pre></div></td><td>Big Ten</td><td><div class=\"dni-plaintext\"><pre>-56.5</pre></div></td><td><div class=\"dni-plaintext\"><pre>11.17</pre></div></td><td><div class=\"dni-plaintext\"><pre>77.5</pre></div></td><td><div class=\"dni-plaintext\"><pre>9.83</pre></div></td></tr><tr style=\"display: none\"><td><i><div class=\"dni-plaintext\"><pre>44</pre></div></i></td><td>Boston College</td><td>ACC</td><td><div class=\"dni-plaintext\"><pre>20</pre></div></td><td><div class=\"dni-plaintext\"><pre>6</pre></div></td><td>https://d9ioojyvhqpok.cloudfront.net/pvnuj3g9p7wjnr5tqceycvcd3cyj</td><td><div class=\"dni-plaintext\"><pre>&lt;null&gt;</pre></div></td><td>ACC</td><td><div class=\"dni-plaintext\"><pre>-50.5</pre></div></td><td><div class=\"dni-plaintext\"><pre>4.46</pre></div></td><td><div class=\"dni-plaintext\"><pre>70.5</pre></div></td><td><div class=\"dni-plaintext\"><pre>15.54</pre></div></td></tr><tr style=\"display: none\"><td><i><div class=\"dni-plaintext\"><pre>45</pre></div></i></td><td>Georgia Tech</td><td>ACC</td><td><div class=\"dni-plaintext\"><pre>17</pre></div></td><td><div class=\"dni-plaintext\"><pre>7</pre></div></td><td>https://d9ioojyvhqpok.cloudfront.net/81nz08xlyuakuteawucr4up3suo8</td><td><div class=\"dni-plaintext\"><pre>&lt;null&gt;</pre></div></td><td>ACC</td><td><div class=\"dni-plaintext\"><pre>-53.5</pre></div></td><td><div class=\"dni-plaintext\"><pre>1.46</pre></div></td><td><div class=\"dni-plaintext\"><pre>70.5</pre></div></td><td><div class=\"dni-plaintext\"><pre>15.54</pre></div></td></tr><tr style=\"display: none\"><td><i><div class=\"dni-plaintext\"><pre>46</pre></div></i></td><td>NC State</td><td>ACC</td><td><div class=\"dni-plaintext\"><pre>17</pre></div></td><td><div class=\"dni-plaintext\"><pre>7</pre></div></td><td>https://d9ioojyvhqpok.cloudfront.net/7fycbtf0wh1qkppyd2rk1262d70m</td><td><div class=\"dni-plaintext\"><pre>&lt;null&gt;</pre></div></td><td>ACC</td><td><div class=\"dni-plaintext\"><pre>-53.5</pre></div></td><td><div class=\"dni-plaintext\"><pre>1.46</pre></div></td><td><div class=\"dni-plaintext\"><pre>70.5</pre></div></td><td><div class=\"dni-plaintext\"><pre>15.54</pre></div></td></tr><tr style=\"display: none\"><td><i><div class=\"dni-plaintext\"><pre>47</pre></div></i></td><td>Wake Forest</td><td>ACC</td><td><div class=\"dni-plaintext\"><pre>17</pre></div></td><td><div class=\"dni-plaintext\"><pre>6</pre></div></td><td>https://d9ioojyvhqpok.cloudfront.net/j2ohf1x4a1qpbbv4wc288wjlcxog</td><td><div class=\"dni-plaintext\"><pre>&lt;null&gt;</pre></div></td><td>ACC</td><td><div class=\"dni-plaintext\"><pre>-53.5</pre></div></td><td><div class=\"dni-plaintext\"><pre>1.46</pre></div></td><td><div class=\"dni-plaintext\"><pre>70.5</pre></div></td><td><div class=\"dni-plaintext\"><pre>15.54</pre></div></td></tr><tr style=\"display: none\"><td><i><div class=\"dni-plaintext\"><pre>48</pre></div></i></td><td>North Carolina</td><td>ACC</td><td><div class=\"dni-plaintext\"><pre>16</pre></div></td><td><div class=\"dni-plaintext\"><pre>10</pre></div></td><td>https://d9ioojyvhqpok.cloudfront.net/5c23eybxnlio9jxtkswlc2alkceh</td><td><div class=\"dni-plaintext\"><pre>&lt;null&gt;</pre></div></td><td>ACC</td><td><div class=\"dni-plaintext\"><pre>-54.5</pre></div></td><td><div class=\"dni-plaintext\"><pre>0.46</pre></div></td><td><div class=\"dni-plaintext\"><pre>70.5</pre></div></td><td><div class=\"dni-plaintext\"><pre>15.54</pre></div></td></tr><tr style=\"display: none\"><td><i><div class=\"dni-plaintext\"><pre>49</pre></div></i></td><td>Kentucky</td><td>SEC</td><td><div class=\"dni-plaintext\"><pre>15</pre></div></td><td><div class=\"dni-plaintext\"><pre>15</pre></div></td><td>https://d9ioojyvhqpok.cloudfront.net/ut5ldsk84c4ha7ugkge0nc6dhkn1</td><td><div class=\"dni-plaintext\"><pre>&lt;null&gt;</pre></div></td><td>SEC</td><td><div class=\"dni-plaintext\"><pre>-91.33</pre></div></td><td><div class=\"dni-plaintext\"><pre>-1</pre></div></td><td><div class=\"dni-plaintext\"><pre>106.33</pre></div></td><td><div class=\"dni-plaintext\"><pre>16</pre></div></td></tr><tr style=\"display: none\"><td><i><div class=\"dni-plaintext\"><pre>50</pre></div></i></td><td>California</td><td>ACC</td><td><div class=\"dni-plaintext\"><pre>15</pre></div></td><td><div class=\"dni-plaintext\"><pre>8</pre></div></td><td>https://d9ioojyvhqpok.cloudfront.net/auflw3knuli3lbv8xyfpf3isplcn</td><td><div class=\"dni-plaintext\"><pre>&lt;null&gt;</pre></div></td><td>ACC</td><td><div class=\"dni-plaintext\"><pre>-55.5</pre></div></td><td><div class=\"dni-plaintext\"><pre>-0.53</pre></div></td><td><div class=\"dni-plaintext\"><pre>70.5</pre></div></td><td><div class=\"dni-plaintext\"><pre>15.54</pre></div></td></tr><tr style=\"display: none\"><td><i><div class=\"dni-plaintext\"><pre>51</pre></div></i></td><td>UConn</td><td>FBS - AAC</td><td><div class=\"dni-plaintext\"><pre>14</pre></div></td><td><div class=\"dni-plaintext\"><pre>4</pre></div></td><td>https://d9ioojyvhqpok.cloudfront.net/rbfl7zbsn9fqyx2083lv9qh3abo1</td><td><div class=\"dni-plaintext\"><pre>&lt;null&gt;</pre></div></td><td>RandomSmallSchool</td><td><div class=\"dni-plaintext\"><pre>4</pre></div></td><td><div class=\"dni-plaintext\"><pre>11.93</pre></div></td><td><div class=\"dni-plaintext\"><pre>10</pre></div></td><td><div class=\"dni-plaintext\"><pre>2.07</pre></div></td></tr><tr style=\"display: none\"><td><i><div class=\"dni-plaintext\"><pre>52</pre></div></i></td><td>Nebraska</td><td>Big Ten</td><td><div class=\"dni-plaintext\"><pre>13</pre></div></td><td><div class=\"dni-plaintext\"><pre>7</pre></div></td><td>https://d9ioojyvhqpok.cloudfront.net/bggpjlssuaua1w9xvmk0l6adeexb</td><td><div class=\"dni-plaintext\"><pre>&lt;null&gt;</pre></div></td><td>Big Ten</td><td><div class=\"dni-plaintext\"><pre>-64.5</pre></div></td><td><div class=\"dni-plaintext\"><pre>3.17</pre></div></td><td><div class=\"dni-plaintext\"><pre>77.5</pre></div></td><td><div class=\"dni-plaintext\"><pre>9.83</pre></div></td></tr><tr style=\"display: none\"><td><i><div class=\"dni-plaintext\"><pre>53</pre></div></i></td><td>Boise State</td><td>FBS - Mountain West</td><td><div class=\"dni-plaintext\"><pre>12</pre></div></td><td><div class=\"dni-plaintext\"><pre>5</pre></div></td><td>https://d9ioojyvhqpok.cloudfront.net/uyicpybpsmloik4ba9lvjoehaht6</td><td><div class=\"dni-plaintext\"><pre>&lt;null&gt;</pre></div></td><td>RandomSmallSchool</td><td><div class=\"dni-plaintext\"><pre>2</pre></div></td><td><div class=\"dni-plaintext\"><pre>9.93</pre></div></td><td><div class=\"dni-plaintext\"><pre>10</pre></div></td><td><div class=\"dni-plaintext\"><pre>2.07</pre></div></td></tr><tr style=\"display: none\"><td><i><div class=\"dni-plaintext\"><pre>54</pre></div></i></td><td>Arizona</td><td>Big 12</td><td><div class=\"dni-plaintext\"><pre>12</pre></div></td><td><div class=\"dni-plaintext\"><pre>4</pre></div></td><td>https://d9ioojyvhqpok.cloudfront.net/yc1zi4t9i033n72emneex4dsz107</td><td><div class=\"dni-plaintext\"><pre>&lt;null&gt;</pre></div></td><td>Big 12</td><td><div class=\"dni-plaintext\"><pre>-40.33</pre></div></td><td><div class=\"dni-plaintext\"><pre>0.5</pre></div></td><td><div class=\"dni-plaintext\"><pre>52.33</pre></div></td><td><div class=\"dni-plaintext\"><pre>11.5</pre></div></td></tr><tr style=\"display: none\"><td><i><div class=\"dni-plaintext\"><pre>55</pre></div></i></td><td>Virginia Tech</td><td>ACC</td><td><div class=\"dni-plaintext\"><pre>11</pre></div></td><td><div class=\"dni-plaintext\"><pre>9</pre></div></td><td>https://d9ioojyvhqpok.cloudfront.net/zdyvvg0cti8zu96k5d3l9wjjk336</td><td><div class=\"dni-plaintext\"><pre>&lt;null&gt;</pre></div></td><td>ACC</td><td><div class=\"dni-plaintext\"><pre>-59.5</pre></div></td><td><div class=\"dni-plaintext\"><pre>-4.53</pre></div></td><td><div class=\"dni-plaintext\"><pre>70.5</pre></div></td><td><div class=\"dni-plaintext\"><pre>15.54</pre></div></td></tr><tr style=\"display: none\"><td><i><div class=\"dni-plaintext\"><pre>56</pre></div></i></td><td>Arkansas</td><td>SEC</td><td><div class=\"dni-plaintext\"><pre>11</pre></div></td><td><div class=\"dni-plaintext\"><pre>5</pre></div></td><td>https://d9ioojyvhqpok.cloudfront.net/y9pwbaaqxph2ngmsubw4c8mabj28</td><td><div class=\"dni-plaintext\"><pre>&lt;null&gt;</pre></div></td><td>SEC</td><td><div class=\"dni-plaintext\"><pre>-95.33</pre></div></td><td><div class=\"dni-plaintext\"><pre>-5</pre></div></td><td><div class=\"dni-plaintext\"><pre>106.33</pre></div></td><td><div class=\"dni-plaintext\"><pre>16</pre></div></td></tr><tr style=\"display: none\"><td><i><div class=\"dni-plaintext\"><pre>57</pre></div></i></td><td>Kansas State</td><td>Big 12</td><td><div class=\"dni-plaintext\"><pre>11</pre></div></td><td><div class=\"dni-plaintext\"><pre>3</pre></div></td><td>https://d9ioojyvhqpok.cloudfront.net/cf5agfhv1kbdl5pdwue68uacixdr</td><td><div class=\"dni-plaintext\"><pre>&lt;null&gt;</pre></div></td><td>Big 12</td><td><div class=\"dni-plaintext\"><pre>-41.33</pre></div></td><td><div class=\"dni-plaintext\"><pre>-0.5</pre></div></td><td><div class=\"dni-plaintext\"><pre>52.33</pre></div></td><td><div class=\"dni-plaintext\"><pre>11.5</pre></div></td></tr><tr style=\"display: none\"><td><i><div class=\"dni-plaintext\"><pre>58</pre></div></i></td><td>UCLA</td><td>Big Ten</td><td><div class=\"dni-plaintext\"><pre>10</pre></div></td><td><div class=\"dni-plaintext\"><pre>6</pre></div></td><td>https://d9ioojyvhqpok.cloudfront.net/eg2j22sbnhfw3bbfn1tz41ejtehl</td><td><div class=\"dni-plaintext\"><pre>&lt;null&gt;</pre></div></td><td>Big Ten</td><td><div class=\"dni-plaintext\"><pre>-67.5</pre></div></td><td><div class=\"dni-plaintext\"><pre>0.16</pre></div></td><td><div class=\"dni-plaintext\"><pre>77.5</pre></div></td><td><div class=\"dni-plaintext\"><pre>9.83</pre></div></td></tr><tr style=\"display: none\"><td><i><div class=\"dni-plaintext\"><pre>59</pre></div></i></td><td>Stanford</td><td>ACC</td><td><div class=\"dni-plaintext\"><pre>10</pre></div></td><td><div class=\"dni-plaintext\"><pre>5</pre></div></td><td>https://d9ioojyvhqpok.cloudfront.net/r84jnj5bajsm80wdy364ziid0z84</td><td><div class=\"dni-plaintext\"><pre>&lt;null&gt;</pre></div></td><td>ACC</td><td><div class=\"dni-plaintext\"><pre>-60.5</pre></div></td><td><div class=\"dni-plaintext\"><pre>-5.53</pre></div></td><td><div class=\"dni-plaintext\"><pre>70.5</pre></div></td><td><div class=\"dni-plaintext\"><pre>15.54</pre></div></td></tr><tr style=\"display: none\"><td><i><div class=\"dni-plaintext\"><pre>60</pre></div></i></td><td>Texas State</td><td>FBS - Sun Belt</td><td><div class=\"dni-plaintext\"><pre>9</pre></div></td><td><div class=\"dni-plaintext\"><pre>5</pre></div></td><td>https://d9ioojyvhqpok.cloudfront.net/xs9x6mbqnl60a5ivuzdypubo74dh</td><td><div class=\"dni-plaintext\"><pre>&lt;null&gt;</pre></div></td><td>RandomSmallSchool</td><td><div class=\"dni-plaintext\"><pre>-1</pre></div></td><td><div class=\"dni-plaintext\"><pre>6.93</pre></div></td><td><div class=\"dni-plaintext\"><pre>10</pre></div></td><td><div class=\"dni-plaintext\"><pre>2.07</pre></div></td></tr><tr style=\"display: none\"><td><i><div class=\"dni-plaintext\"><pre>61</pre></div></i></td><td>East Carolina</td><td>FBS - AAC</td><td><div class=\"dni-plaintext\"><pre>9</pre></div></td><td><div class=\"dni-plaintext\"><pre>5</pre></div></td><td>https://d9ioojyvhqpok.cloudfront.net/4fofh5ug49ze2z31qvy645o1teye</td><td><div class=\"dni-plaintext\"><pre>&lt;null&gt;</pre></div></td><td>RandomSmallSchool</td><td><div class=\"dni-plaintext\"><pre>-1</pre></div></td><td><div class=\"dni-plaintext\"><pre>6.93</pre></div></td><td><div class=\"dni-plaintext\"><pre>10</pre></div></td><td><div class=\"dni-plaintext\"><pre>2.07</pre></div></td></tr><tr style=\"display: none\"><td><i><div class=\"dni-plaintext\"><pre>62</pre></div></i></td><td>Wyoming</td><td>FBS - Mountain West</td><td><div class=\"dni-plaintext\"><pre>9</pre></div></td><td><div class=\"dni-plaintext\"><pre>3</pre></div></td><td>https://d9ioojyvhqpok.cloudfront.net/ep7hiz9nugk2psxcfwc5mj701dzf</td><td><div class=\"dni-plaintext\"><pre>&lt;null&gt;</pre></div></td><td>RandomSmallSchool</td><td><div class=\"dni-plaintext\"><pre>-1</pre></div></td><td><div class=\"dni-plaintext\"><pre>6.93</pre></div></td><td><div class=\"dni-plaintext\"><pre>10</pre></div></td><td><div class=\"dni-plaintext\"><pre>2.07</pre></div></td></tr><tr style=\"display: none\"><td><i><div class=\"dni-plaintext\"><pre>63</pre></div></i></td><td>Mississippi State</td><td>SEC</td><td><div class=\"dni-plaintext\"><pre>8</pre></div></td><td><div class=\"dni-plaintext\"><pre>8</pre></div></td><td>https://d9ioojyvhqpok.cloudfront.net/fx6nh0df2yp80txh0qv4lzengrnr</td><td><div class=\"dni-plaintext\"><pre>&lt;null&gt;</pre></div></td><td>SEC</td><td><div class=\"dni-plaintext\"><pre>-98.33</pre></div></td><td><div class=\"dni-plaintext\"><pre>-8</pre></div></td><td><div class=\"dni-plaintext\"><pre>106.33</pre></div></td><td><div class=\"dni-plaintext\"><pre>16</pre></div></td></tr><tr style=\"display: none\"><td><i><div class=\"dni-plaintext\"><pre>64</pre></div></i></td><td>Maryland</td><td>Big Ten</td><td><div class=\"dni-plaintext\"><pre>7</pre></div></td><td><div class=\"dni-plaintext\"><pre>4</pre></div></td><td>https://d9ioojyvhqpok.cloudfront.net/d3n73hxgsb7bplz3zkxq5ubrewx4</td><td><div class=\"dni-plaintext\"><pre>&lt;null&gt;</pre></div></td><td>Big Ten</td><td><div class=\"dni-plaintext\"><pre>-70.5</pre></div></td><td><div class=\"dni-plaintext\"><pre>-2.83</pre></div></td><td><div class=\"dni-plaintext\"><pre>77.5</pre></div></td><td><div class=\"dni-plaintext\"><pre>9.83</pre></div></td></tr><tr style=\"display: none\"><td><i><div class=\"dni-plaintext\"><pre>65</pre></div></i></td><td>James Madison</td><td>FBS - Sun Belt</td><td><div class=\"dni-plaintext\"><pre>7</pre></div></td><td><div class=\"dni-plaintext\"><pre>3</pre></div></td><td>https://d9ioojyvhqpok.cloudfront.net/jxwsh5nfw2r1lak6vps8g12jl54j</td><td><div class=\"dni-plaintext\"><pre>&lt;null&gt;</pre></div></td><td>RandomSmallSchool</td><td><div class=\"dni-plaintext\"><pre>-3</pre></div></td><td><div class=\"dni-plaintext\"><pre>4.93</pre></div></td><td><div class=\"dni-plaintext\"><pre>10</pre></div></td><td><div class=\"dni-plaintext\"><pre>2.07</pre></div></td></tr><tr style=\"display: none\"><td><i><div class=\"dni-plaintext\"><pre>66</pre></div></i></td><td>Toledo</td><td>FBS - MAC</td><td><div class=\"dni-plaintext\"><pre>7</pre></div></td><td><div class=\"dni-plaintext\"><pre>2</pre></div></td><td>https://d9ioojyvhqpok.cloudfront.net/m1sfaztmkwljt443jgfvxniro9pt</td><td><div class=\"dni-plaintext\"><pre>&lt;null&gt;</pre></div></td><td>RandomSmallSchool</td><td><div class=\"dni-plaintext\"><pre>-3</pre></div></td><td><div class=\"dni-plaintext\"><pre>4.93</pre></div></td><td><div class=\"dni-plaintext\"><pre>10</pre></div></td><td><div class=\"dni-plaintext\"><pre>2.07</pre></div></td></tr><tr style=\"display: none\"><td><i><div class=\"dni-plaintext\"><pre>67</pre></div></i></td><td>Oklahoma State</td><td>Big 12</td><td><div class=\"dni-plaintext\"><pre>6</pre></div></td><td><div class=\"dni-plaintext\"><pre>6</pre></div></td><td>https://d9ioojyvhqpok.cloudfront.net/qwfc4f82m2rngln7rguecgcdanch</td><td><div class=\"dni-plaintext\"><pre>&lt;null&gt;</pre></div></td><td>Big 12</td><td><div class=\"dni-plaintext\"><pre>-46.33</pre></div></td><td><div class=\"dni-plaintext\"><pre>-5.5</pre></div></td><td><div class=\"dni-plaintext\"><pre>52.33</pre></div></td><td><div class=\"dni-plaintext\"><pre>11.5</pre></div></td></tr><tr style=\"display: none\"><td><i><div class=\"dni-plaintext\"><pre>68</pre></div></i></td><td>UTEP</td><td>FBS - CUSA</td><td><div class=\"dni-plaintext\"><pre>6</pre></div></td><td><div class=\"dni-plaintext\"><pre>2</pre></div></td><td>https://d9ioojyvhqpok.cloudfront.net/das7yv34vzekh2h8y2xt3wxsy8zp</td><td><div class=\"dni-plaintext\"><pre>&lt;null&gt;</pre></div></td><td>RandomSmallSchool</td><td><div class=\"dni-plaintext\"><pre>-4</pre></div></td><td><div class=\"dni-plaintext\"><pre>3.93</pre></div></td><td><div class=\"dni-plaintext\"><pre>10</pre></div></td><td><div class=\"dni-plaintext\"><pre>2.07</pre></div></td></tr><tr style=\"display: none\"><td><i><div class=\"dni-plaintext\"><pre>69</pre></div></i></td><td>North Dakota State</td><td>FCS</td><td><div class=\"dni-plaintext\"><pre>6</pre></div></td><td><div class=\"dni-plaintext\"><pre>1</pre></div></td><td>https://d9ioojyvhqpok.cloudfront.net/2bysk1tvl4fivjvr6l70tl6imxvx</td><td><div class=\"dni-plaintext\"><pre>&lt;null&gt;</pre></div></td><td>RandomSmallSchool</td><td><div class=\"dni-plaintext\"><pre>-4</pre></div></td><td><div class=\"dni-plaintext\"><pre>3.93</pre></div></td><td><div class=\"dni-plaintext\"><pre>10</pre></div></td><td><div class=\"dni-plaintext\"><pre>2.07</pre></div></td></tr><tr style=\"display: none\"><td><i><div class=\"dni-plaintext\"><pre>70</pre></div></i></td><td>West Virginia</td><td>Big 12</td><td><div class=\"dni-plaintext\"><pre>5</pre></div></td><td><div class=\"dni-plaintext\"><pre>5</pre></div></td><td>https://d9ioojyvhqpok.cloudfront.net/37s7o47tb2yw9pkq8f0wbmra4n5c</td><td><div class=\"dni-plaintext\"><pre>&lt;null&gt;</pre></div></td><td>Big 12</td><td><div class=\"dni-plaintext\"><pre>-47.33</pre></div></td><td><div class=\"dni-plaintext\"><pre>-6.5</pre></div></td><td><div class=\"dni-plaintext\"><pre>52.33</pre></div></td><td><div class=\"dni-plaintext\"><pre>11.5</pre></div></td></tr><tr style=\"display: none\"><td><i><div class=\"dni-plaintext\"><pre>71</pre></div></i></td><td>UCF</td><td>Big 12</td><td><div class=\"dni-plaintext\"><pre>5</pre></div></td><td><div class=\"dni-plaintext\"><pre>5</pre></div></td><td>https://d9ioojyvhqpok.cloudfront.net/g0vfbj8pnx4msjf7l42l5h1esvn4</td><td><div class=\"dni-plaintext\"><pre>&lt;null&gt;</pre></div></td><td>Big 12</td><td><div class=\"dni-plaintext\"><pre>-47.33</pre></div></td><td><div class=\"dni-plaintext\"><pre>-6.5</pre></div></td><td><div class=\"dni-plaintext\"><pre>52.33</pre></div></td><td><div class=\"dni-plaintext\"><pre>11.5</pre></div></td></tr><tr style=\"display: none\"><td><i><div class=\"dni-plaintext\"><pre>72</pre></div></i></td><td>Southern Miss</td><td>FBS - CUSA</td><td><div class=\"dni-plaintext\"><pre>5</pre></div></td><td><div class=\"dni-plaintext\"><pre>5</pre></div></td><td>https://d9ioojyvhqpok.cloudfront.net/vljaktb9bwwnrs8vbsz5zjiehzbg</td><td><div class=\"dni-plaintext\"><pre>&lt;null&gt;</pre></div></td><td>RandomSmallSchool</td><td><div class=\"dni-plaintext\"><pre>-5</pre></div></td><td><div class=\"dni-plaintext\"><pre>2.93</pre></div></td><td><div class=\"dni-plaintext\"><pre>10</pre></div></td><td><div class=\"dni-plaintext\"><pre>2.07</pre></div></td></tr><tr style=\"display: none\"><td><i><div class=\"dni-plaintext\"><pre>73</pre></div></i></td><td>Marshall</td><td>FBS - CUSA</td><td><div class=\"dni-plaintext\"><pre>5</pre></div></td><td><div class=\"dni-plaintext\"><pre>4</pre></div></td><td>https://d9ioojyvhqpok.cloudfront.net/1n0ygqwmsvg771vm8ilzdptyhvvv</td><td><div class=\"dni-plaintext\"><pre>&lt;null&gt;</pre></div></td><td>RandomSmallSchool</td><td><div class=\"dni-plaintext\"><pre>-5</pre></div></td><td><div class=\"dni-plaintext\"><pre>2.93</pre></div></td><td><div class=\"dni-plaintext\"><pre>10</pre></div></td><td><div class=\"dni-plaintext\"><pre>2.07</pre></div></td></tr><tr style=\"display: none\"><td><i><div class=\"dni-plaintext\"><pre>74</pre></div></i></td><td>UNLV</td><td>FBS - Mountain West</td><td><div class=\"dni-plaintext\"><pre>5</pre></div></td><td><div class=\"dni-plaintext\"><pre>4</pre></div></td><td>https://d9ioojyvhqpok.cloudfront.net/4hxbby4zzz5hxuffm00vngkx1j87</td><td><div class=\"dni-plaintext\"><pre>&lt;null&gt;</pre></div></td><td>RandomSmallSchool</td><td><div class=\"dni-plaintext\"><pre>-5</pre></div></td><td><div class=\"dni-plaintext\"><pre>2.93</pre></div></td><td><div class=\"dni-plaintext\"><pre>10</pre></div></td><td><div class=\"dni-plaintext\"><pre>2.07</pre></div></td></tr><tr style=\"display: none\"><td><i><div class=\"dni-plaintext\"><pre>75</pre></div></i></td><td>Purdue</td><td>Big Ten</td><td><div class=\"dni-plaintext\"><pre>4</pre></div></td><td><div class=\"dni-plaintext\"><pre>4</pre></div></td><td>https://d9ioojyvhqpok.cloudfront.net/0bjmmsxwhzoksybxoe4l71fr2d87</td><td><div class=\"dni-plaintext\"><pre>&lt;null&gt;</pre></div></td><td>Big Ten</td><td><div class=\"dni-plaintext\"><pre>-73.5</pre></div></td><td><div class=\"dni-plaintext\"><pre>-5.83</pre></div></td><td><div class=\"dni-plaintext\"><pre>77.5</pre></div></td><td><div class=\"dni-plaintext\"><pre>9.83</pre></div></td></tr><tr style=\"display: none\"><td><i><div class=\"dni-plaintext\"><pre>76</pre></div></i></td><td>Rutgers</td><td>Big Ten</td><td><div class=\"dni-plaintext\"><pre>4</pre></div></td><td><div class=\"dni-plaintext\"><pre>4</pre></div></td><td>https://d9ioojyvhqpok.cloudfront.net/70kax5tvygnc259akspwmf5pzxq9</td><td><div class=\"dni-plaintext\"><pre>&lt;null&gt;</pre></div></td><td>Big Ten</td><td><div class=\"dni-plaintext\"><pre>-73.5</pre></div></td><td><div class=\"dni-plaintext\"><pre>-5.83</pre></div></td><td><div class=\"dni-plaintext\"><pre>77.5</pre></div></td><td><div class=\"dni-plaintext\"><pre>9.83</pre></div></td></tr><tr style=\"display: none\"><td><i><div class=\"dni-plaintext\"><pre>77</pre></div></i></td><td>Charlotte</td><td>FBS - AAC</td><td><div class=\"dni-plaintext\"><pre>4</pre></div></td><td><div class=\"dni-plaintext\"><pre>4</pre></div></td><td>https://d9ioojyvhqpok.cloudfront.net/f48xuaazydxqnl9pulwp0n9b2w56</td><td><div class=\"dni-plaintext\"><pre>&lt;null&gt;</pre></div></td><td>RandomSmallSchool</td><td><div class=\"dni-plaintext\"><pre>-6</pre></div></td><td><div class=\"dni-plaintext\"><pre>1.93</pre></div></td><td><div class=\"dni-plaintext\"><pre>10</pre></div></td><td><div class=\"dni-plaintext\"><pre>2.07</pre></div></td></tr><tr style=\"display: none\"><td><i><div class=\"dni-plaintext\"><pre>78</pre></div></i></td><td>Tulane</td><td>FBS - AAC</td><td><div class=\"dni-plaintext\"><pre>4</pre></div></td><td><div class=\"dni-plaintext\"><pre>4</pre></div></td><td>https://d9ioojyvhqpok.cloudfront.net/6mz16izd2o7j5755blz7hurdhz22</td><td><div class=\"dni-plaintext\"><pre>&lt;null&gt;</pre></div></td><td>RandomSmallSchool</td><td><div class=\"dni-plaintext\"><pre>-6</pre></div></td><td><div class=\"dni-plaintext\"><pre>1.93</pre></div></td><td><div class=\"dni-plaintext\"><pre>10</pre></div></td><td><div class=\"dni-plaintext\"><pre>2.07</pre></div></td></tr><tr style=\"display: none\"><td><i><div class=\"dni-plaintext\"><pre>79</pre></div></i></td><td>Rice</td><td>FBS - AAC</td><td><div class=\"dni-plaintext\"><pre>4</pre></div></td><td><div class=\"dni-plaintext\"><pre>3</pre></div></td><td>https://d9ioojyvhqpok.cloudfront.net/vmac0vdq6nqzo42x1b0ooiaura3g</td><td><div class=\"dni-plaintext\"><pre>&lt;null&gt;</pre></div></td><td>RandomSmallSchool</td><td><div class=\"dni-plaintext\"><pre>-6</pre></div></td><td><div class=\"dni-plaintext\"><pre>1.93</pre></div></td><td><div class=\"dni-plaintext\"><pre>10</pre></div></td><td><div class=\"dni-plaintext\"><pre>2.07</pre></div></td></tr><tr style=\"display: none\"><td><i><div class=\"dni-plaintext\"><pre>80</pre></div></i></td><td>Houston</td><td>Big 12</td><td><div class=\"dni-plaintext\"><pre>3</pre></div></td><td><div class=\"dni-plaintext\"><pre>3</pre></div></td><td>https://d9ioojyvhqpok.cloudfront.net/yzomr1qt1a1pdlbdwkkn94teus90</td><td><div class=\"dni-plaintext\"><pre>&lt;null&gt;</pre></div></td><td>Big 12</td><td><div class=\"dni-plaintext\"><pre>-49.33</pre></div></td><td><div class=\"dni-plaintext\"><pre>-8.5</pre></div></td><td><div class=\"dni-plaintext\"><pre>52.33</pre></div></td><td><div class=\"dni-plaintext\"><pre>11.5</pre></div></td></tr><tr style=\"display: none\"><td><i><div class=\"dni-plaintext\"><pre>81</pre></div></i></td><td>Akron</td><td>FBS - MAC</td><td><div class=\"dni-plaintext\"><pre>3</pre></div></td><td><div class=\"dni-plaintext\"><pre>3</pre></div></td><td>https://d9ioojyvhqpok.cloudfront.net/yvu5t7whomsw1iosdwm8fawpi5qj</td><td><div class=\"dni-plaintext\"><pre>&lt;null&gt;</pre></div></td><td>RandomSmallSchool</td><td><div class=\"dni-plaintext\"><pre>-7</pre></div></td><td><div class=\"dni-plaintext\"><pre>0.93</pre></div></td><td><div class=\"dni-plaintext\"><pre>10</pre></div></td><td><div class=\"dni-plaintext\"><pre>2.07</pre></div></td></tr><tr style=\"display: none\"><td><i><div class=\"dni-plaintext\"><pre>82</pre></div></i></td><td>Youngstown State</td><td>FCS</td><td><div class=\"dni-plaintext\"><pre>3</pre></div></td><td><div class=\"dni-plaintext\"><pre>2</pre></div></td><td>https://d9ioojyvhqpok.cloudfront.net/rk7ez7uyily7v63g01g6zqtgy7e8</td><td><div class=\"dni-plaintext\"><pre>&lt;null&gt;</pre></div></td><td>RandomSmallSchool</td><td><div class=\"dni-plaintext\"><pre>-7</pre></div></td><td><div class=\"dni-plaintext\"><pre>0.93</pre></div></td><td><div class=\"dni-plaintext\"><pre>10</pre></div></td><td><div class=\"dni-plaintext\"><pre>2.07</pre></div></td></tr><tr style=\"display: none\"><td><i><div class=\"dni-plaintext\"><pre>83</pre></div></i></td><td>Massachusetts</td><td>FBS - MAC</td><td><div class=\"dni-plaintext\"><pre>3</pre></div></td><td><div class=\"dni-plaintext\"><pre>2</pre></div></td><td>https://d9ioojyvhqpok.cloudfront.net/enpjhipf6zrlbpox3c368n4k7ugr</td><td><div class=\"dni-plaintext\"><pre>&lt;null&gt;</pre></div></td><td>RandomSmallSchool</td><td><div class=\"dni-plaintext\"><pre>-7</pre></div></td><td><div class=\"dni-plaintext\"><pre>0.93</pre></div></td><td><div class=\"dni-plaintext\"><pre>10</pre></div></td><td><div class=\"dni-plaintext\"><pre>2.07</pre></div></td></tr><tr style=\"display: none\"><td><i><div class=\"dni-plaintext\"><pre>84</pre></div></i></td><td>Troy</td><td>FBS - Sun Belt</td><td><div class=\"dni-plaintext\"><pre>3</pre></div></td><td><div class=\"dni-plaintext\"><pre>2</pre></div></td><td>https://d9ioojyvhqpok.cloudfront.net/ruiflpk24qu2y21m46ltngncpusm</td><td><div class=\"dni-plaintext\"><pre>&lt;null&gt;</pre></div></td><td>RandomSmallSchool</td><td><div class=\"dni-plaintext\"><pre>-7</pre></div></td><td><div class=\"dni-plaintext\"><pre>0.93</pre></div></td><td><div class=\"dni-plaintext\"><pre>10</pre></div></td><td><div class=\"dni-plaintext\"><pre>2.07</pre></div></td></tr><tr style=\"display: none\"><td><i><div class=\"dni-plaintext\"><pre>85</pre></div></i></td><td>Sacramento State</td><td>FCS</td><td><div class=\"dni-plaintext\"><pre>2</pre></div></td><td><div class=\"dni-plaintext\"><pre>2</pre></div></td><td>https://d9ioojyvhqpok.cloudfront.net/1d7nzf0sk6cd8sgcstgisghgthvu</td><td><div class=\"dni-plaintext\"><pre>&lt;null&gt;</pre></div></td><td>RandomSmallSchool</td><td><div class=\"dni-plaintext\"><pre>-8</pre></div></td><td><div class=\"dni-plaintext\"><pre>-0.06</pre></div></td><td><div class=\"dni-plaintext\"><pre>10</pre></div></td><td><div class=\"dni-plaintext\"><pre>2.07</pre></div></td></tr><tr style=\"display: none\"><td><i><div class=\"dni-plaintext\"><pre>86</pre></div></i></td><td>Jacksonville State</td><td>FBS - CUSA</td><td><div class=\"dni-plaintext\"><pre>2</pre></div></td><td><div class=\"dni-plaintext\"><pre>2</pre></div></td><td>https://d9ioojyvhqpok.cloudfront.net/e7p9srs34k8g21vjl6zet58xwnqg</td><td><div class=\"dni-plaintext\"><pre>&lt;null&gt;</pre></div></td><td>RandomSmallSchool</td><td><div class=\"dni-plaintext\"><pre>-8</pre></div></td><td><div class=\"dni-plaintext\"><pre>-0.06</pre></div></td><td><div class=\"dni-plaintext\"><pre>10</pre></div></td><td><div class=\"dni-plaintext\"><pre>2.07</pre></div></td></tr><tr style=\"display: none\"><td><i><div class=\"dni-plaintext\"><pre>87</pre></div></i></td><td>BYU</td><td>Big 12</td><td><div class=\"dni-plaintext\"><pre>2</pre></div></td><td><div class=\"dni-plaintext\"><pre>2</pre></div></td><td>https://d9ioojyvhqpok.cloudfront.net/ckao4l33k79nnp9b84uvigzihrgs</td><td><div class=\"dni-plaintext\"><pre>&lt;null&gt;</pre></div></td><td>Big 12</td><td><div class=\"dni-plaintext\"><pre>-50.33</pre></div></td><td><div class=\"dni-plaintext\"><pre>-9.5</pre></div></td><td><div class=\"dni-plaintext\"><pre>52.33</pre></div></td><td><div class=\"dni-plaintext\"><pre>11.5</pre></div></td></tr><tr style=\"display: none\"><td><i><div class=\"dni-plaintext\"><pre>88</pre></div></i></td><td>Memphis</td><td>FBS - AAC</td><td><div class=\"dni-plaintext\"><pre>2</pre></div></td><td><div class=\"dni-plaintext\"><pre>2</pre></div></td><td>https://d9ioojyvhqpok.cloudfront.net/zapbfiasf58lmrmdciirdnudnb8e</td><td><div class=\"dni-plaintext\"><pre>&lt;null&gt;</pre></div></td><td>RandomSmallSchool</td><td><div class=\"dni-plaintext\"><pre>-8</pre></div></td><td><div class=\"dni-plaintext\"><pre>-0.06</pre></div></td><td><div class=\"dni-plaintext\"><pre>10</pre></div></td><td><div class=\"dni-plaintext\"><pre>2.07</pre></div></td></tr><tr style=\"display: none\"><td><i><div class=\"dni-plaintext\"><pre>89</pre></div></i></td><td>UAB</td><td>FBS - AAC</td><td><div class=\"dni-plaintext\"><pre>2</pre></div></td><td><div class=\"dni-plaintext\"><pre>2</pre></div></td><td>https://d9ioojyvhqpok.cloudfront.net/358rqeeze9m7p9m4bmnrwml1w5ml</td><td><div class=\"dni-plaintext\"><pre>&lt;null&gt;</pre></div></td><td>RandomSmallSchool</td><td><div class=\"dni-plaintext\"><pre>-8</pre></div></td><td><div class=\"dni-plaintext\"><pre>-0.06</pre></div></td><td><div class=\"dni-plaintext\"><pre>10</pre></div></td><td><div class=\"dni-plaintext\"><pre>2.07</pre></div></td></tr><tr style=\"display: none\"><td><i><div class=\"dni-plaintext\"><pre>90</pre></div></i></td><td>South Florida</td><td>FBS - AAC</td><td><div class=\"dni-plaintext\"><pre>2</pre></div></td><td><div class=\"dni-plaintext\"><pre>2</pre></div></td><td>https://d9ioojyvhqpok.cloudfront.net/9nu9lpb74q8f59qi77398wm14asl</td><td><div class=\"dni-plaintext\"><pre>&lt;null&gt;</pre></div></td><td>RandomSmallSchool</td><td><div class=\"dni-plaintext\"><pre>-8</pre></div></td><td><div class=\"dni-plaintext\"><pre>-0.06</pre></div></td><td><div class=\"dni-plaintext\"><pre>10</pre></div></td><td><div class=\"dni-plaintext\"><pre>2.07</pre></div></td></tr><tr style=\"display: none\"><td><i><div class=\"dni-plaintext\"><pre>91</pre></div></i></td><td>UTSA</td><td>FBS - AAC</td><td><div class=\"dni-plaintext\"><pre>2</pre></div></td><td><div class=\"dni-plaintext\"><pre>2</pre></div></td><td>https://d9ioojyvhqpok.cloudfront.net/ayy2o4qfgx3no4r54obep8ah3yvg</td><td><div class=\"dni-plaintext\"><pre>&lt;null&gt;</pre></div></td><td>RandomSmallSchool</td><td><div class=\"dni-plaintext\"><pre>-8</pre></div></td><td><div class=\"dni-plaintext\"><pre>-0.06</pre></div></td><td><div class=\"dni-plaintext\"><pre>10</pre></div></td><td><div class=\"dni-plaintext\"><pre>2.07</pre></div></td></tr><tr style=\"display: none\"><td><i><div class=\"dni-plaintext\"><pre>92</pre></div></i></td><td>Appalachian State</td><td>FBS - Sun Belt</td><td><div class=\"dni-plaintext\"><pre>2</pre></div></td><td><div class=\"dni-plaintext\"><pre>2</pre></div></td><td>https://d9ioojyvhqpok.cloudfront.net/3lp6eio7dartb77wqwr0xl2lpzch</td><td><div class=\"dni-plaintext\"><pre>&lt;null&gt;</pre></div></td><td>RandomSmallSchool</td><td><div class=\"dni-plaintext\"><pre>-8</pre></div></td><td><div class=\"dni-plaintext\"><pre>-0.06</pre></div></td><td><div class=\"dni-plaintext\"><pre>10</pre></div></td><td><div class=\"dni-plaintext\"><pre>2.07</pre></div></td></tr><tr style=\"display: none\"><td><i><div class=\"dni-plaintext\"><pre>93</pre></div></i></td><td>Oregon State</td><td>Pac 12</td><td><div class=\"dni-plaintext\"><pre>2</pre></div></td><td><div class=\"dni-plaintext\"><pre>2</pre></div></td><td>https://d9ioojyvhqpok.cloudfront.net/ueh09xe6mxltdzhv3wsyz5o3al67</td><td><div class=\"dni-plaintext\"><pre>&lt;null&gt;</pre></div></td><td>RandomSmallSchool</td><td><div class=\"dni-plaintext\"><pre>-8</pre></div></td><td><div class=\"dni-plaintext\"><pre>-0.06</pre></div></td><td><div class=\"dni-plaintext\"><pre>10</pre></div></td><td><div class=\"dni-plaintext\"><pre>2.07</pre></div></td></tr><tr style=\"display: none\"><td><i><div class=\"dni-plaintext\"><pre>94</pre></div></i></td><td>Louisiana-Lafayette</td><td>FBS - Sun Belt</td><td><div class=\"dni-plaintext\"><pre>2</pre></div></td><td><div class=\"dni-plaintext\"><pre>2</pre></div></td><td>https://d9ioojyvhqpok.cloudfront.net/hmda77r618rropcqdewolreubcgy</td><td><div class=\"dni-plaintext\"><pre>&lt;null&gt;</pre></div></td><td>RandomSmallSchool</td><td><div class=\"dni-plaintext\"><pre>-8</pre></div></td><td><div class=\"dni-plaintext\"><pre>-0.06</pre></div></td><td><div class=\"dni-plaintext\"><pre>10</pre></div></td><td><div class=\"dni-plaintext\"><pre>2.07</pre></div></td></tr><tr style=\"display: none\"><td><i><div class=\"dni-plaintext\"><pre>95</pre></div></i></td><td>Coastal Carolina</td><td>FCS</td><td><div class=\"dni-plaintext\"><pre>2</pre></div></td><td><div class=\"dni-plaintext\"><pre>2</pre></div></td><td>https://d9ioojyvhqpok.cloudfront.net/q28b5wqgm9onpd38fyk9ji9idh6o</td><td><div class=\"dni-plaintext\"><pre>&lt;null&gt;</pre></div></td><td>RandomSmallSchool</td><td><div class=\"dni-plaintext\"><pre>-8</pre></div></td><td><div class=\"dni-plaintext\"><pre>-0.06</pre></div></td><td><div class=\"dni-plaintext\"><pre>10</pre></div></td><td><div class=\"dni-plaintext\"><pre>2.07</pre></div></td></tr><tr style=\"display: none\"><td><i><div class=\"dni-plaintext\"><pre>96</pre></div></i></td><td>Syracuse</td><td>ACC</td><td><div class=\"dni-plaintext\"><pre>2</pre></div></td><td><div class=\"dni-plaintext\"><pre>2</pre></div></td><td>https://d9ioojyvhqpok.cloudfront.net/gxu8tigguesk475f4vlaryv7z5kr</td><td><div class=\"dni-plaintext\"><pre>&lt;null&gt;</pre></div></td><td>ACC</td><td><div class=\"dni-plaintext\"><pre>-68.5</pre></div></td><td><div class=\"dni-plaintext\"><pre>-13.54</pre></div></td><td><div class=\"dni-plaintext\"><pre>70.5</pre></div></td><td><div class=\"dni-plaintext\"><pre>15.54</pre></div></td></tr><tr style=\"display: none\"><td><i><div class=\"dni-plaintext\"><pre>97</pre></div></i></td><td>Florida International</td><td>FBS - CUSA</td><td><div class=\"dni-plaintext\"><pre>2</pre></div></td><td><div class=\"dni-plaintext\"><pre>2</pre></div></td><td>https://d9ioojyvhqpok.cloudfront.net/8fqmtiyqj379vsr6f5ydwddhqd57</td><td><div class=\"dni-plaintext\"><pre>&lt;null&gt;</pre></div></td><td>RandomSmallSchool</td><td><div class=\"dni-plaintext\"><pre>-8</pre></div></td><td><div class=\"dni-plaintext\"><pre>-0.06</pre></div></td><td><div class=\"dni-plaintext\"><pre>10</pre></div></td><td><div class=\"dni-plaintext\"><pre>2.07</pre></div></td></tr><tr style=\"display: none\"><td><i><div class=\"dni-plaintext\"><pre>98</pre></div></i></td><td>Miami (OH)</td><td>FBS - MAC</td><td><div class=\"dni-plaintext\"><pre>2</pre></div></td><td><div class=\"dni-plaintext\"><pre>2</pre></div></td><td>https://d9ioojyvhqpok.cloudfront.net/ygn6xy9b08f21smi3h08xv63d310</td><td><div class=\"dni-plaintext\"><pre>&lt;null&gt;</pre></div></td><td>RandomSmallSchool</td><td><div class=\"dni-plaintext\"><pre>-8</pre></div></td><td><div class=\"dni-plaintext\"><pre>-0.06</pre></div></td><td><div class=\"dni-plaintext\"><pre>10</pre></div></td><td><div class=\"dni-plaintext\"><pre>2.07</pre></div></td></tr><tr style=\"display: none\"><td><i><div class=\"dni-plaintext\"><pre>99</pre></div></i></td><td>Bowling Green</td><td>FBS - MAC</td><td><div class=\"dni-plaintext\"><pre>2</pre></div></td><td><div class=\"dni-plaintext\"><pre>2</pre></div></td><td>https://d9ioojyvhqpok.cloudfront.net/khecbhkwna27ftfkqu57arc897zj</td><td><div class=\"dni-plaintext\"><pre>&lt;null&gt;</pre></div></td><td>RandomSmallSchool</td><td><div class=\"dni-plaintext\"><pre>-8</pre></div></td><td><div class=\"dni-plaintext\"><pre>-0.06</pre></div></td><td><div class=\"dni-plaintext\"><pre>10</pre></div></td><td><div class=\"dni-plaintext\"><pre>2.07</pre></div></td></tr><tr style=\"display: none\"><td><i><div class=\"dni-plaintext\"><pre>100</pre></div></i></td><td>North Dakota</td><td>FCS</td><td><div class=\"dni-plaintext\"><pre>2</pre></div></td><td><div class=\"dni-plaintext\"><pre>1</pre></div></td><td>https://d9ioojyvhqpok.cloudfront.net/7we66inumbdffyzpr98g8bbet7p3</td><td><div class=\"dni-plaintext\"><pre>&lt;null&gt;</pre></div></td><td>RandomSmallSchool</td><td><div class=\"dni-plaintext\"><pre>-8</pre></div></td><td><div class=\"dni-plaintext\"><pre>-0.06</pre></div></td><td><div class=\"dni-plaintext\"><pre>10</pre></div></td><td><div class=\"dni-plaintext\"><pre>2.07</pre></div></td></tr><tr style=\"display: none\"><td><i><div class=\"dni-plaintext\"><pre>101</pre></div></i></td><td>Harvard</td><td>FCS</td><td><div class=\"dni-plaintext\"><pre>2</pre></div></td><td><div class=\"dni-plaintext\"><pre>1</pre></div></td><td>https://d9ioojyvhqpok.cloudfront.net/88rmmrypn77edwni0fqdzvh0k3np</td><td><div class=\"dni-plaintext\"><pre>&lt;null&gt;</pre></div></td><td>RandomSmallSchool</td><td><div class=\"dni-plaintext\"><pre>-8</pre></div></td><td><div class=\"dni-plaintext\"><pre>-0.06</pre></div></td><td><div class=\"dni-plaintext\"><pre>10</pre></div></td><td><div class=\"dni-plaintext\"><pre>2.07</pre></div></td></tr><tr style=\"display: none\"><td><i><div class=\"dni-plaintext\"><pre>102</pre></div></i></td><td>Lafayette</td><td>FCS</td><td><div class=\"dni-plaintext\"><pre>1</pre></div></td><td><div class=\"dni-plaintext\"><pre>1</pre></div></td><td>https://d9ioojyvhqpok.cloudfront.net/l8chdyeugemmljnurqcdtooir3ft</td><td><div class=\"dni-plaintext\"><pre>&lt;null&gt;</pre></div></td><td>RandomSmallSchool</td><td><div class=\"dni-plaintext\"><pre>-9</pre></div></td><td><div class=\"dni-plaintext\"><pre>-1.06</pre></div></td><td><div class=\"dni-plaintext\"><pre>10</pre></div></td><td><div class=\"dni-plaintext\"><pre>2.07</pre></div></td></tr><tr style=\"display: none\"><td><i><div class=\"dni-plaintext\"><pre>103</pre></div></i></td><td>Sam Houston State</td><td>FBS - CUSA</td><td><div class=\"dni-plaintext\"><pre>1</pre></div></td><td><div class=\"dni-plaintext\"><pre>1</pre></div></td><td>https://d9ioojyvhqpok.cloudfront.net/griwt4t7qd18gfqw83vljfjsp3g9</td><td><div class=\"dni-plaintext\"><pre>&lt;null&gt;</pre></div></td><td>RandomSmallSchool</td><td><div class=\"dni-plaintext\"><pre>-9</pre></div></td><td><div class=\"dni-plaintext\"><pre>-1.06</pre></div></td><td><div class=\"dni-plaintext\"><pre>10</pre></div></td><td><div class=\"dni-plaintext\"><pre>2.07</pre></div></td></tr><tr style=\"display: none\"><td><i><div class=\"dni-plaintext\"><pre>104</pre></div></i></td><td>Northern Illinois</td><td>FBS - MAC</td><td><div class=\"dni-plaintext\"><pre>1</pre></div></td><td><div class=\"dni-plaintext\"><pre>1</pre></div></td><td>https://d9ioojyvhqpok.cloudfront.net/i2l5ye5l6hfr8us7xn0wmo3g43dj</td><td><div class=\"dni-plaintext\"><pre>&lt;null&gt;</pre></div></td><td>RandomSmallSchool</td><td><div class=\"dni-plaintext\"><pre>-9</pre></div></td><td><div class=\"dni-plaintext\"><pre>-1.06</pre></div></td><td><div class=\"dni-plaintext\"><pre>10</pre></div></td><td><div class=\"dni-plaintext\"><pre>2.07</pre></div></td></tr><tr style=\"display: none\"><td><i><div class=\"dni-plaintext\"><pre>105</pre></div></i></td><td>South Dakota State</td><td>FCS</td><td><div class=\"dni-plaintext\"><pre>1</pre></div></td><td><div class=\"dni-plaintext\"><pre>1</pre></div></td><td>https://d9ioojyvhqpok.cloudfront.net/j1h4ym5rvem469nmw166um7w8yyd</td><td><div class=\"dni-plaintext\"><pre>&lt;null&gt;</pre></div></td><td>RandomSmallSchool</td><td><div class=\"dni-plaintext\"><pre>-9</pre></div></td><td><div class=\"dni-plaintext\"><pre>-1.06</pre></div></td><td><div class=\"dni-plaintext\"><pre>10</pre></div></td><td><div class=\"dni-plaintext\"><pre>2.07</pre></div></td></tr><tr style=\"display: none\"><td><i><div class=\"dni-plaintext\"><pre>106</pre></div></i></td><td>William &amp; Mary</td><td>FCS</td><td><div class=\"dni-plaintext\"><pre>1</pre></div></td><td><div class=\"dni-plaintext\"><pre>1</pre></div></td><td>https://d9ioojyvhqpok.cloudfront.net/cvw607y4kd4abt1omhz4rfw3pqtt</td><td><div class=\"dni-plaintext\"><pre>&lt;null&gt;</pre></div></td><td>RandomSmallSchool</td><td><div class=\"dni-plaintext\"><pre>-9</pre></div></td><td><div class=\"dni-plaintext\"><pre>-1.06</pre></div></td><td><div class=\"dni-plaintext\"><pre>10</pre></div></td><td><div class=\"dni-plaintext\"><pre>2.07</pre></div></td></tr><tr style=\"display: none\"><td><i><div class=\"dni-plaintext\"><pre>107</pre></div></i></td><td>San Diego State</td><td>FBS - Mountain West</td><td><div class=\"dni-plaintext\"><pre>1</pre></div></td><td><div class=\"dni-plaintext\"><pre>1</pre></div></td><td>https://d9ioojyvhqpok.cloudfront.net/8lk0itjyx8g1jxftz0jchjoh45ro</td><td><div class=\"dni-plaintext\"><pre>&lt;null&gt;</pre></div></td><td>RandomSmallSchool</td><td><div class=\"dni-plaintext\"><pre>-9</pre></div></td><td><div class=\"dni-plaintext\"><pre>-1.06</pre></div></td><td><div class=\"dni-plaintext\"><pre>10</pre></div></td><td><div class=\"dni-plaintext\"><pre>2.07</pre></div></td></tr><tr style=\"display: none\"><td><i><div class=\"dni-plaintext\"><pre>108</pre></div></i></td><td>Abilene Christian</td><td>FCS</td><td><div class=\"dni-plaintext\"><pre>1</pre></div></td><td><div class=\"dni-plaintext\"><pre>1</pre></div></td><td>https://d9ioojyvhqpok.cloudfront.net/h56roel3p7yjm390npx8lbrlq0fk</td><td><div class=\"dni-plaintext\"><pre>&lt;null&gt;</pre></div></td><td>RandomSmallSchool</td><td><div class=\"dni-plaintext\"><pre>-9</pre></div></td><td><div class=\"dni-plaintext\"><pre>-1.06</pre></div></td><td><div class=\"dni-plaintext\"><pre>10</pre></div></td><td><div class=\"dni-plaintext\"><pre>2.07</pre></div></td></tr><tr style=\"display: none\"><td><i><div class=\"dni-plaintext\"><pre>109</pre></div></i></td><td>Virginia State</td><td>D2</td><td><div class=\"dni-plaintext\"><pre>1</pre></div></td><td><div class=\"dni-plaintext\"><pre>1</pre></div></td><td>https://d9ioojyvhqpok.cloudfront.net/wm2lvh7f72qagwvyazia4070pm71</td><td><div class=\"dni-plaintext\"><pre>&lt;null&gt;</pre></div></td><td>RandomSmallSchool</td><td><div class=\"dni-plaintext\"><pre>-9</pre></div></td><td><div class=\"dni-plaintext\"><pre>-1.06</pre></div></td><td><div class=\"dni-plaintext\"><pre>10</pre></div></td><td><div class=\"dni-plaintext\"><pre>2.07</pre></div></td></tr><tr style=\"display: none\"><td><i><div class=\"dni-plaintext\"><pre>110</pre></div></i></td><td>Buffalo</td><td>FBS - MAC</td><td><div class=\"dni-plaintext\"><pre>1</pre></div></td><td><div class=\"dni-plaintext\"><pre>1</pre></div></td><td>https://d9ioojyvhqpok.cloudfront.net/i8kbv9ioldxrcyoirtm9nfzr6e5n</td><td><div class=\"dni-plaintext\"><pre>&lt;null&gt;</pre></div></td><td>RandomSmallSchool</td><td><div class=\"dni-plaintext\"><pre>-9</pre></div></td><td><div class=\"dni-plaintext\"><pre>-1.06</pre></div></td><td><div class=\"dni-plaintext\"><pre>10</pre></div></td><td><div class=\"dni-plaintext\"><pre>2.07</pre></div></td></tr><tr style=\"display: none\"><td><i><div class=\"dni-plaintext\"><pre>111</pre></div></i></td><td>Arkansas State</td><td>FBS - Sun Belt</td><td><div class=\"dni-plaintext\"><pre>1</pre></div></td><td><div class=\"dni-plaintext\"><pre>1</pre></div></td><td>https://d9ioojyvhqpok.cloudfront.net/0y0q70b747itik24akazpunl090f</td><td><div class=\"dni-plaintext\"><pre>&lt;null&gt;</pre></div></td><td>RandomSmallSchool</td><td><div class=\"dni-plaintext\"><pre>-9</pre></div></td><td><div class=\"dni-plaintext\"><pre>-1.06</pre></div></td><td><div class=\"dni-plaintext\"><pre>10</pre></div></td><td><div class=\"dni-plaintext\"><pre>2.07</pre></div></td></tr><tr style=\"display: none\"><td><i><div class=\"dni-plaintext\"><pre>112</pre></div></i></td><td>McNeese State</td><td>FCS</td><td><div class=\"dni-plaintext\"><pre>1</pre></div></td><td><div class=\"dni-plaintext\"><pre>1</pre></div></td><td>https://d9ioojyvhqpok.cloudfront.net/cs0519lwtta2crm3dm4sp0ojta31</td><td><div class=\"dni-plaintext\"><pre>&lt;null&gt;</pre></div></td><td>RandomSmallSchool</td><td><div class=\"dni-plaintext\"><pre>-9</pre></div></td><td><div class=\"dni-plaintext\"><pre>-1.06</pre></div></td><td><div class=\"dni-plaintext\"><pre>10</pre></div></td><td><div class=\"dni-plaintext\"><pre>2.07</pre></div></td></tr><tr style=\"display: none\"><td><i><div class=\"dni-plaintext\"><pre>113</pre></div></i></td><td>Western Michigan</td><td>FBS - MAC</td><td><div class=\"dni-plaintext\"><pre>1</pre></div></td><td><div class=\"dni-plaintext\"><pre>1</pre></div></td><td>https://d9ioojyvhqpok.cloudfront.net/6smyc88ec4btmrfzo76q6s2l3922</td><td><div class=\"dni-plaintext\"><pre>&lt;null&gt;</pre></div></td><td>RandomSmallSchool</td><td><div class=\"dni-plaintext\"><pre>-9</pre></div></td><td><div class=\"dni-plaintext\"><pre>-1.06</pre></div></td><td><div class=\"dni-plaintext\"><pre>10</pre></div></td><td><div class=\"dni-plaintext\"><pre>2.07</pre></div></td></tr><tr style=\"display: none\"><td><i><div class=\"dni-plaintext\"><pre>114</pre></div></i></td><td>Portland State</td><td>FCS</td><td><div class=\"dni-plaintext\"><pre>1</pre></div></td><td><div class=\"dni-plaintext\"><pre>1</pre></div></td><td>https://d9ioojyvhqpok.cloudfront.net/1zssqxdzgmkfdoyzo6cvywxsndp0</td><td><div class=\"dni-plaintext\"><pre>&lt;null&gt;</pre></div></td><td>RandomSmallSchool</td><td><div class=\"dni-plaintext\"><pre>-9</pre></div></td><td><div class=\"dni-plaintext\"><pre>-1.06</pre></div></td><td><div class=\"dni-plaintext\"><pre>10</pre></div></td><td><div class=\"dni-plaintext\"><pre>2.07</pre></div></td></tr><tr style=\"display: none\"><td><i><div class=\"dni-plaintext\"><pre>115</pre></div></i></td><td>Tulsa</td><td>FBS - AAC</td><td><div class=\"dni-plaintext\"><pre>1</pre></div></td><td><div class=\"dni-plaintext\"><pre>1</pre></div></td><td>https://d9ioojyvhqpok.cloudfront.net/wgzu6axcvmbdijfdtvgsntkc4ylf</td><td><div class=\"dni-plaintext\"><pre>&lt;null&gt;</pre></div></td><td>RandomSmallSchool</td><td><div class=\"dni-plaintext\"><pre>-9</pre></div></td><td><div class=\"dni-plaintext\"><pre>-1.06</pre></div></td><td><div class=\"dni-plaintext\"><pre>10</pre></div></td><td><div class=\"dni-plaintext\"><pre>2.07</pre></div></td></tr><tr style=\"display: none\"><td><i><div class=\"dni-plaintext\"><pre>116</pre></div></i></td><td>Nevada</td><td>FBS - Mountain West</td><td><div class=\"dni-plaintext\"><pre>1</pre></div></td><td><div class=\"dni-plaintext\"><pre>1</pre></div></td><td>https://d9ioojyvhqpok.cloudfront.net/59h4ronidnmgqjbo1alvonc7wjmv</td><td><div class=\"dni-plaintext\"><pre>&lt;null&gt;</pre></div></td><td>RandomSmallSchool</td><td><div class=\"dni-plaintext\"><pre>-9</pre></div></td><td><div class=\"dni-plaintext\"><pre>-1.06</pre></div></td><td><div class=\"dni-plaintext\"><pre>10</pre></div></td><td><div class=\"dni-plaintext\"><pre>2.07</pre></div></td></tr><tr style=\"display: none\"><td><i><div class=\"dni-plaintext\"><pre>117</pre></div></i></td><td>Georgia Southern</td><td>FBS - Sun Belt</td><td><div class=\"dni-plaintext\"><pre>1</pre></div></td><td><div class=\"dni-plaintext\"><pre>1</pre></div></td><td>https://d9ioojyvhqpok.cloudfront.net/z7ccax7spksvxiv6giffmqhao46a</td><td><div class=\"dni-plaintext\"><pre>&lt;null&gt;</pre></div></td><td>RandomSmallSchool</td><td><div class=\"dni-plaintext\"><pre>-9</pre></div></td><td><div class=\"dni-plaintext\"><pre>-1.06</pre></div></td><td><div class=\"dni-plaintext\"><pre>10</pre></div></td><td><div class=\"dni-plaintext\"><pre>2.07</pre></div></td></tr><tr style=\"display: none\"><td><i><div class=\"dni-plaintext\"><pre>118</pre></div></i></td><td>San Jose State</td><td>FBS - Mountain West</td><td><div class=\"dni-plaintext\"><pre>1</pre></div></td><td><div class=\"dni-plaintext\"><pre>1</pre></div></td><td>https://d9ioojyvhqpok.cloudfront.net/ro1xx56e4z8uwuoba0lxm44zanow</td><td><div class=\"dni-plaintext\"><pre>&lt;null&gt;</pre></div></td><td>RandomSmallSchool</td><td><div class=\"dni-plaintext\"><pre>-9</pre></div></td><td><div class=\"dni-plaintext\"><pre>-1.06</pre></div></td><td><div class=\"dni-plaintext\"><pre>10</pre></div></td><td><div class=\"dni-plaintext\"><pre>2.07</pre></div></td></tr><tr style=\"display: none\"><td><i><div class=\"dni-plaintext\"><pre>119</pre></div></i></td><td>Fresno State</td><td>FBS - Mountain West</td><td><div class=\"dni-plaintext\"><pre>1</pre></div></td><td><div class=\"dni-plaintext\"><pre>1</pre></div></td><td>https://d9ioojyvhqpok.cloudfront.net/oh0a26wlyg1v3e0c3819jlyxnecp</td><td><div class=\"dni-plaintext\"><pre>&lt;null&gt;</pre></div></td><td>RandomSmallSchool</td><td><div class=\"dni-plaintext\"><pre>-9</pre></div></td><td><div class=\"dni-plaintext\"><pre>-1.06</pre></div></td><td><div class=\"dni-plaintext\"><pre>10</pre></div></td><td><div class=\"dni-plaintext\"><pre>2.07</pre></div></td></tr><tr style=\"display: none\"><td><i><div class=\"dni-plaintext\"><pre>120</pre></div></i></td><td>Tarleton State</td><td>D2</td><td><div class=\"dni-plaintext\"><pre>1</pre></div></td><td><div class=\"dni-plaintext\"><pre>1</pre></div></td><td>https://d9ioojyvhqpok.cloudfront.net/t9rfbxz4rr0psvshmqya26gz2w3j</td><td><div class=\"dni-plaintext\"><pre>&lt;null&gt;</pre></div></td><td>RandomSmallSchool</td><td><div class=\"dni-plaintext\"><pre>-9</pre></div></td><td><div class=\"dni-plaintext\"><pre>-1.06</pre></div></td><td><div class=\"dni-plaintext\"><pre>10</pre></div></td><td><div class=\"dni-plaintext\"><pre>2.07</pre></div></td></tr><tr style=\"display: none\"><td><i><div class=\"dni-plaintext\"><pre>121</pre></div></i></td><td>Cal Poly</td><td>FCS</td><td><div class=\"dni-plaintext\"><pre>1</pre></div></td><td><div class=\"dni-plaintext\"><pre>1</pre></div></td><td>https://d9ioojyvhqpok.cloudfront.net/fmuftfu5qfjqres1wr2dy5ii7wf9</td><td><div class=\"dni-plaintext\"><pre>&lt;null&gt;</pre></div></td><td>RandomSmallSchool</td><td><div class=\"dni-plaintext\"><pre>-9</pre></div></td><td><div class=\"dni-plaintext\"><pre>-1.06</pre></div></td><td><div class=\"dni-plaintext\"><pre>10</pre></div></td><td><div class=\"dni-plaintext\"><pre>2.07</pre></div></td></tr><tr style=\"display: none\"><td><i><div class=\"dni-plaintext\"><pre>122</pre></div></i></td><td>Utah State</td><td>FBS - Mountain West</td><td><div class=\"dni-plaintext\"><pre>1</pre></div></td><td><div class=\"dni-plaintext\"><pre>1</pre></div></td><td>https://d9ioojyvhqpok.cloudfront.net/qe590cpbtrq66in7ro62wa3ossas</td><td><div class=\"dni-plaintext\"><pre>&lt;null&gt;</pre></div></td><td>RandomSmallSchool</td><td><div class=\"dni-plaintext\"><pre>-9</pre></div></td><td><div class=\"dni-plaintext\"><pre>-1.06</pre></div></td><td><div class=\"dni-plaintext\"><pre>10</pre></div></td><td><div class=\"dni-plaintext\"><pre>2.07</pre></div></td></tr><tr style=\"display: none\"><td><i><div class=\"dni-plaintext\"><pre>123</pre></div></i></td><td>Florida Atlantic</td><td>FBS - AAC</td><td><div class=\"dni-plaintext\"><pre>1</pre></div></td><td><div class=\"dni-plaintext\"><pre>1</pre></div></td><td>https://d9ioojyvhqpok.cloudfront.net/e9smljtyny48n1ccwc5zdjruxo4l</td><td><div class=\"dni-plaintext\"><pre>&lt;null&gt;</pre></div></td><td>RandomSmallSchool</td><td><div class=\"dni-plaintext\"><pre>-9</pre></div></td><td><div class=\"dni-plaintext\"><pre>-1.06</pre></div></td><td><div class=\"dni-plaintext\"><pre>10</pre></div></td><td><div class=\"dni-plaintext\"><pre>2.07</pre></div></td></tr><tr style=\"display: none\"><td><i><div class=\"dni-plaintext\"><pre>124</pre></div></i></td><td>Old Dominion</td><td>FBS - CUSA</td><td><div class=\"dni-plaintext\"><pre>1</pre></div></td><td><div class=\"dni-plaintext\"><pre>1</pre></div></td><td>https://d9ioojyvhqpok.cloudfront.net/1s9b5cfewfr4a3dkyu0cttf7ln1v</td><td><div class=\"dni-plaintext\"><pre>&lt;null&gt;</pre></div></td><td>RandomSmallSchool</td><td><div class=\"dni-plaintext\"><pre>-9</pre></div></td><td><div class=\"dni-plaintext\"><pre>-1.06</pre></div></td><td><div class=\"dni-plaintext\"><pre>10</pre></div></td><td><div class=\"dni-plaintext\"><pre>2.07</pre></div></td></tr><tr style=\"display: none\"><td><i><div class=\"dni-plaintext\"><pre>125</pre></div></i></td><td>Washington State</td><td>Pac 12</td><td><div class=\"dni-plaintext\"><pre>1</pre></div></td><td><div class=\"dni-plaintext\"><pre>1</pre></div></td><td>https://d9ioojyvhqpok.cloudfront.net/zosp0uamsigsfed57lz5eejqmxtn</td><td><div class=\"dni-plaintext\"><pre>&lt;null&gt;</pre></div></td><td>RandomSmallSchool</td><td><div class=\"dni-plaintext\"><pre>-9</pre></div></td><td><div class=\"dni-plaintext\"><pre>-1.06</pre></div></td><td><div class=\"dni-plaintext\"><pre>10</pre></div></td><td><div class=\"dni-plaintext\"><pre>2.07</pre></div></td></tr><tr style=\"display: none\"><td><i><div class=\"dni-plaintext\"><pre>126</pre></div></i></td><td>Florida A&amp;M</td><td>FCS</td><td><div class=\"dni-plaintext\"><pre>1</pre></div></td><td><div class=\"dni-plaintext\"><pre>1</pre></div></td><td>https://d9ioojyvhqpok.cloudfront.net/c25jnf7optvztomz5p0n79uu6x9t</td><td><div class=\"dni-plaintext\"><pre>&lt;null&gt;</pre></div></td><td>RandomSmallSchool</td><td><div class=\"dni-plaintext\"><pre>-9</pre></div></td><td><div class=\"dni-plaintext\"><pre>-1.06</pre></div></td><td><div class=\"dni-plaintext\"><pre>10</pre></div></td><td><div class=\"dni-plaintext\"><pre>2.07</pre></div></td></tr><tr style=\"display: none\"><td><i><div class=\"dni-plaintext\"><pre>127</pre></div></i></td><td>Air Force</td><td>FBS - Mountain West</td><td><div class=\"dni-plaintext\"><pre>1</pre></div></td><td><div class=\"dni-plaintext\"><pre>1</pre></div></td><td>https://d9ioojyvhqpok.cloudfront.net/p6wau30d9gwh6hgun9zh6dqb6i3y</td><td><div class=\"dni-plaintext\"><pre>&lt;null&gt;</pre></div></td><td>RandomSmallSchool</td><td><div class=\"dni-plaintext\"><pre>-9</pre></div></td><td><div class=\"dni-plaintext\"><pre>-1.06</pre></div></td><td><div class=\"dni-plaintext\"><pre>10</pre></div></td><td><div class=\"dni-plaintext\"><pre>2.07</pre></div></td></tr><tr style=\"display: none\"><td><i><div class=\"dni-plaintext\"><pre>128</pre></div></i></td><td>Stephen F. Austin</td><td>FCS</td><td><div class=\"dni-plaintext\"><pre>1</pre></div></td><td><div class=\"dni-plaintext\"><pre>1</pre></div></td><td>https://d9ioojyvhqpok.cloudfront.net/ygg24coxnmjx6wnjdsdfqy93oupp</td><td><div class=\"dni-plaintext\"><pre>&lt;null&gt;</pre></div></td><td>RandomSmallSchool</td><td><div class=\"dni-plaintext\"><pre>-9</pre></div></td><td><div class=\"dni-plaintext\"><pre>-1.06</pre></div></td><td><div class=\"dni-plaintext\"><pre>10</pre></div></td><td><div class=\"dni-plaintext\"><pre>2.07</pre></div></td></tr><tr style=\"display: none\"><td><i><div class=\"dni-plaintext\"><pre>129</pre></div></i></td><td>East Tennessee State</td><td>FCS</td><td><div class=\"dni-plaintext\"><pre>1</pre></div></td><td><div class=\"dni-plaintext\"><pre>1</pre></div></td><td>https://d9ioojyvhqpok.cloudfront.net/t9ivu93hmr1fljhj12unw9r7f2bs</td><td><div class=\"dni-plaintext\"><pre>&lt;null&gt;</pre></div></td><td>RandomSmallSchool</td><td><div class=\"dni-plaintext\"><pre>-9</pre></div></td><td><div class=\"dni-plaintext\"><pre>-1.06</pre></div></td><td><div class=\"dni-plaintext\"><pre>10</pre></div></td><td><div class=\"dni-plaintext\"><pre>2.07</pre></div></td></tr></tbody><tfoot><tr><td colspan=\"12\" style=\"text-align: center;\"><button style=\"margin: 2px;\" onclick=\"var allRows = document.querySelectorAll(&#39;#table_638923845568581290 tbody tr:nth-child(n)&#39;); for (let i = 0; i &lt; allRows.length; i++) { allRows[i].style.display=&#39;none&#39;; } document.querySelector(&#39;#page_638923845568581290&#39;).innerHTML = 1; var page = parseInt(document.querySelector(&#39;#page_638923845568581290&#39;).innerHTML) - 1; var pageRows = document.querySelectorAll(`#table_638923845568581290 tbody tr:nth-child(n + ${page * 25 + 1 })`); for (let j = 0; j &lt; 25; j++) { pageRows[j].style.display=&#39;table-row&#39;; } \">⏮</button><button style=\"margin: 2px;\" onclick=\"var allRows = document.querySelectorAll(&#39;#table_638923845568581290 tbody tr:nth-child(n)&#39;); for (let i = 0; i &lt; allRows.length; i++) { allRows[i].style.display=&#39;none&#39;; } var page = parseInt(document.querySelector(&#39;#page_638923845568581290&#39;).innerHTML) - 1; page = parseInt(page) + parseInt(-10); page = page &lt; 0 ? 0 : page; page = page > 5 ? 5 : page; document.querySelector(&#39;#page_638923845568581290&#39;).innerHTML = page + 1; var page = parseInt(document.querySelector(&#39;#page_638923845568581290&#39;).innerHTML) - 1; var pageRows = document.querySelectorAll(`#table_638923845568581290 tbody tr:nth-child(n + ${page * 25 + 1 })`); for (let j = 0; j &lt; 25; j++) { pageRows[j].style.display=&#39;table-row&#39;; } \">⏪</button><button style=\"margin: 2px;\" onclick=\"var allRows = document.querySelectorAll(&#39;#table_638923845568581290 tbody tr:nth-child(n)&#39;); for (let i = 0; i &lt; allRows.length; i++) { allRows[i].style.display=&#39;none&#39;; } var page = parseInt(document.querySelector(&#39;#page_638923845568581290&#39;).innerHTML) - 1; page = parseInt(page) + parseInt(-1); page = page &lt; 0 ? 0 : page; page = page > 5 ? 5 : page; document.querySelector(&#39;#page_638923845568581290&#39;).innerHTML = page + 1; var page = parseInt(document.querySelector(&#39;#page_638923845568581290&#39;).innerHTML) - 1; var pageRows = document.querySelectorAll(`#table_638923845568581290 tbody tr:nth-child(n + ${page * 25 + 1 })`); for (let j = 0; j &lt; 25; j++) { pageRows[j].style.display=&#39;table-row&#39;; } \">◀️</button><b style=\"margin: 2px;\">Page</b><b id=\"page_638923845568581290\" style=\"margin: 2px;\">1</b><button style=\"margin: 2px;\" onclick=\"var allRows = document.querySelectorAll(&#39;#table_638923845568581290 tbody tr:nth-child(n)&#39;); for (let i = 0; i &lt; allRows.length; i++) { allRows[i].style.display=&#39;none&#39;; } var page = parseInt(document.querySelector(&#39;#page_638923845568581290&#39;).innerHTML) - 1; page = parseInt(page) + parseInt(1); page = page &lt; 0 ? 0 : page; page = page > 5 ? 5 : page; document.querySelector(&#39;#page_638923845568581290&#39;).innerHTML = page + 1; var page = parseInt(document.querySelector(&#39;#page_638923845568581290&#39;).innerHTML) - 1; var pageRows = document.querySelectorAll(`#table_638923845568581290 tbody tr:nth-child(n + ${page * 25 + 1 })`); for (let j = 0; j &lt; 25; j++) { pageRows[j].style.display=&#39;table-row&#39;; } \">▶️</button><button style=\"margin: 2px;\" onclick=\"var allRows = document.querySelectorAll(&#39;#table_638923845568581290 tbody tr:nth-child(n)&#39;); for (let i = 0; i &lt; allRows.length; i++) { allRows[i].style.display=&#39;none&#39;; } var page = parseInt(document.querySelector(&#39;#page_638923845568581290&#39;).innerHTML) - 1; page = parseInt(page) + parseInt(10); page = page &lt; 0 ? 0 : page; page = page > 5 ? 5 : page; document.querySelector(&#39;#page_638923845568581290&#39;).innerHTML = page + 1; var page = parseInt(document.querySelector(&#39;#page_638923845568581290&#39;).innerHTML) - 1; var pageRows = document.querySelectorAll(`#table_638923845568581290 tbody tr:nth-child(n + ${page * 25 + 1 })`); for (let j = 0; j &lt; 25; j++) { pageRows[j].style.display=&#39;table-row&#39;; } \">⏩</button><button style=\"margin: 2px;\" onclick=\"var allRows = document.querySelectorAll(&#39;#table_638923845568581290 tbody tr:nth-child(n)&#39;); for (let i = 0; i &lt; allRows.length; i++) { allRows[i].style.display=&#39;none&#39;; } document.querySelector(&#39;#page_638923845568581290&#39;).innerHTML = 6; var page = parseInt(document.querySelector(&#39;#page_638923845568581290&#39;).innerHTML) - 1; var pageRows = document.querySelectorAll(`#table_638923845568581290 tbody tr:nth-child(n + ${page * 25 + 1 })`); for (let j = 0; j &lt; 25; j++) { pageRows[j].style.display=&#39;table-row&#39;; } \">⏭️</button></td></tr></tfoot></table><style>\r\n",
       ".dni-code-hint {\r\n",
       "    font-style: italic;\r\n",
       "    overflow: hidden;\r\n",
       "    white-space: nowrap;\r\n",
       "}\r\n",
       ".dni-treeview {\r\n",
       "    white-space: nowrap;\r\n",
       "}\r\n",
       ".dni-treeview td {\r\n",
       "    vertical-align: top;\r\n",
       "    text-align: start;\r\n",
       "}\r\n",
       "details.dni-treeview {\r\n",
       "    padding-left: 1em;\r\n",
       "}\r\n",
       "table td {\r\n",
       "    text-align: start;\r\n",
       "}\r\n",
       "table tr { \r\n",
       "    vertical-align: top; \r\n",
       "    margin: 0em 0px;\r\n",
       "}\r\n",
       "table tr td pre \r\n",
       "{ \r\n",
       "    vertical-align: top !important; \r\n",
       "    margin: 0em 0px !important;\r\n",
       "} \r\n",
       "table th {\r\n",
       "    text-align: start;\r\n",
       "}\r\n",
       "</style><script>var page = parseInt(document.querySelector('#page_638923845568581290').innerHTML) - 1; var pageRows = document.querySelectorAll(`#table_638923845568581290 tbody tr:nth-child(n + ${page * 25 + 1 })`); for (let j = 0; j < 25; j++) { pageRows[j].style.display='table-row'; } </script>"
      ]
     },
     "metadata": {},
     "output_type": "display_data"
    }
   ],
   "source": [
    "display(draftableAverages);\n",
    "display(replacementAverages);\n",
    "\n",
    "// Iterate over the rows and set the value of the new column based on the value in the Name column\n",
    "for (int i = 0; i < nextDraft.Rows.Count; i++)\n",
    "{\n",
    "    string leagifyPosition = \"\";\n",
    "    switch((string)nextDraft.Columns[\"LeagifyPosition\"][i])\n",
    "    {\n",
    "        \n",
    "        case \"SEC\":\n",
    "            leagifyPosition = \"SEC\";\n",
    "            break;\n",
    "        case \"ACC\":\n",
    "            leagifyPosition = \"ACC\";\n",
    "            break;\n",
    "        case \"Big 12\":\n",
    "            leagifyPosition = \"Big 12\";\n",
    "            break;\n",
    "        case \"Big Ten\":\n",
    "            leagifyPosition = \"Big Ten\";\n",
    "            break;\n",
    "        case \"RandomSmallSchool\":\n",
    "            leagifyPosition = \"RandomSmallSchool\";\n",
    "            break;\n",
    "        case \"Flex\":\n",
    "            leagifyPosition = \"Flex\";\n",
    "            break;\n",
    "        default:\n",
    "            leagifyPosition = \"RandomSmallSchool\";\n",
    "            break;\n",
    "\n",
    "    }\n",
    "\n",
    "    nextDraft.Columns[\"AveragePointsForPosition\"][i] = draftableAverages[leagifyPosition];\n",
    "    var projectedPointsAboveAverage = (Single)nextDraft.Columns[\"ProjectedPoints\"][i] - draftableAverages[leagifyPosition];\n",
    "    nextDraft.Columns[\"ProjectedPointsAboveAverage\"][i] = Math.Truncate(projectedPointsAboveAverage * 100) / 100;\n",
    "\n",
    "    nextDraft.Columns[\"ReplacementValueAverageForPosition\"][i] = replacementAverages[leagifyPosition];\n",
    "    var projectedPointsAboveReplacement = (Single)nextDraft.Columns[\"ProjectedPoints\"][i] - replacementAverages[leagifyPosition];\n",
    "    nextDraft.Columns[\"ProjectedPointsAboveReplacement\"][i] = Math.Truncate(projectedPointsAboveReplacement * 100) / 100;\n",
    "    display($\"School {(string)nextDraft.Columns[\"School\"][i]} in conference {(string)nextDraft.Columns[\"Conference\"][i]} has Leagify position {leagifyPosition}\");\n",
    "}\n",
    "\n",
    "display(nextDraft);"
   ]
  },
  {
   "cell_type": "code",
   "execution_count": 9,
   "metadata": {
    "dotnet_interactive": {
     "language": "csharp"
    },
    "polyglot_notebook": {
     "kernelName": "csharp"
    }
   },
   "outputs": [],
   "source": [
    "//nextDraft.Columns.Remove(\"SchoolURL\");\n",
    "DataFrame.WriteCsv(nextDraft,\"auctionDraftAverages-2026-sample.csv\",',');"
   ]
  }
 ],
 "metadata": {
  "kernelspec": {
   "display_name": ".NET (C#)",
   "language": "C#",
   "name": ".net-csharp"
  },
  "language_info": {
   "name": "polyglot-notebook"
  },
  "orig_nbformat": 4,
  "polyglot_notebook": {
   "kernelInfo": {
    "defaultKernelName": "csharp",
    "items": [
     {
      "aliases": [],
      "name": "csharp"
     }
    ]
   }
  }
 },
 "nbformat": 4,
 "nbformat_minor": 2
}
