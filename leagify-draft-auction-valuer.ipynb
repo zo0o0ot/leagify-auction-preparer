{
 "cells": [
  {
   "cell_type": "code",
   "execution_count": null,
   "metadata": {
    "dotnet_interactive": {
     "language": "csharp"
    },
    "polyglot_notebook": {
     "kernelName": "csharp"
    },
    "vscode": {
     "languageId": "polyglot-notebook"
    }
   },
   "outputs": [],
   "source": [
    "// This top block may not need to be run at all, you can start with the using statements.\n",
    "// using nightly-build\n",
    "//#i \"nuget:https://pkgs.dev.azure.com/dnceng/public/_packaging/MachineLearning/nuget/v3/index.json\"\n",
    "#r \"nuget: Microsoft.Data.Analysis, 0.20.0-preview.22356.1\"\n",
    "#r \"nuget: Microsoft.ML, 2.0.0-preview.22356.1\"\n",
    "#r \"nuget:Microsoft.DotNet.Interactive.ExtensionLab,*-*\"\n",
    "#r \"nuget:SandDance.InteractiveExtension, 1.0.53\"\n",
    "//#r \"nuget: XPlot.Plotly.Interactive, 4.0.6\"\n"
   ]
  },
  {
   "cell_type": "code",
   "execution_count": null,
   "metadata": {
    "dotnet_interactive": {
     "language": "csharp"
    },
    "polyglot_notebook": {
     "kernelName": "csharp"
    },
    "vscode": {
     "languageId": "polyglot-notebook"
    }
   },
   "outputs": [],
   "source": [
    "using static Microsoft.DotNet.Interactive.Formatting.PocketViewTags;\n",
    "using Microsoft.DotNet.Interactive.Formatting;\n",
    "using Microsoft.DotNet.Interactive;\n",
    "//using XPlot.Plotly.Interactive;\n",
    "using Microsoft.Data.Analysis;\n",
    "using Microsoft.ML;\n",
    "using System.Collections.Generic;\n",
    "using System.IO;\n",
    "using System.Linq;"
   ]
  },
  {
   "cell_type": "code",
   "execution_count": null,
   "metadata": {
    "dotnet_interactive": {
     "language": "csharp"
    },
    "polyglot_notebook": {
     "kernelName": "csharp"
    },
    "vscode": {
     "languageId": "polyglot-notebook"
    }
   },
   "outputs": [],
   "source": [
    "var fileExists = File.Exists(\"draft-info/2024-04-23-top-schools.csv\");\n",
    "if (fileExists)\n",
    "{\n",
    "    display(\"This file exists.  Nothing has blown up.....yet.\");\n",
    "}\n",
    "var nextDraft = DataFrame.LoadCsv(\"draft-info/2024-04-23-top-schools.csv\");"
   ]
  },
  {
   "cell_type": "code",
   "execution_count": null,
   "metadata": {
    "dotnet_interactive": {
     "language": "csharp"
    },
    "polyglot_notebook": {
     "kernelName": "csharp"
    },
    "vscode": {
     "languageId": "polyglot-notebook"
    }
   },
   "outputs": [],
   "source": [
    "nextDraft.Columns.Add(new PrimitiveDataFrameColumn<int>(\"SuggestedAuctionValue\", nextDraft.Rows.Count()));\n",
    "nextDraft.Columns.Add(new StringDataFrameColumn(\"LeagifyPosition\", nextDraft.Rows.Count()));"
   ]
  },
  {
   "cell_type": "code",
   "execution_count": null,
   "metadata": {
    "dotnet_interactive": {
     "language": "csharp"
    },
    "polyglot_notebook": {
     "kernelName": "csharp"
    },
    "vscode": {
     "languageId": "polyglot-notebook"
    }
   },
   "outputs": [],
   "source": [
    "var conferenceToPosition = DataFrame.LoadCsv(\"conferenceToPosition.csv\");\n",
    "\n",
    "\n",
    "for (int i = 0; i < nextDraft.Rows.Count; i++)\n",
    "{\n",
    "    switch((string)nextDraft.Columns[\"Conference\"][i])\n",
    "    {\n",
    "        case \"SEC\":\n",
    "            nextDraft.Columns[\"LeagifyPosition\"][i] = \"SEC\";\n",
    "            break;\n",
    "        case \"ACC\":\n",
    "            nextDraft.Columns[\"LeagifyPosition\"][i] = \"ACC\";\n",
    "            break;\n",
    "        case \"Big 12\":\n",
    "            nextDraft.Columns[\"LeagifyPosition\"][i] = \"Big 12\";\n",
    "            break;\n",
    "        case \"Pac 12\":\n",
    "            nextDraft.Columns[\"LeagifyPosition\"][i] = \"Pac 12\";\n",
    "            break;\n",
    "        case \"Big Ten\":\n",
    "            nextDraft.Columns[\"LeagifyPosition\"][i] = \"Big Ten\";\n",
    "            break;\n",
    "        default:\n",
    "            nextDraft.Columns[\"LeagifyPosition\"][i] = \"RandomSmallSchool\";\n",
    "            break;\n",
    "    }\n",
    "    if ((string)nextDraft.Columns[\"School\"][i] == \"Notre Dame\")\n",
    "    {\n",
    "        nextDraft.Columns[\"LeagifyPosition\"][i] = \"Flex\";\n",
    "    }\n",
    "}\n",
    "\n",
    "\n",
    "nextDraft\n",
    "\n"
   ]
  },
  {
   "cell_type": "code",
   "execution_count": null,
   "metadata": {
    "dotnet_interactive": {
     "language": "csharp"
    },
    "polyglot_notebook": {
     "kernelName": "csharp"
    },
    "vscode": {
     "languageId": "polyglot-notebook"
    }
   },
   "outputs": [],
   "source": [
    "nextDraft.Columns.Add(new PrimitiveDataFrameColumn<double>(\"ProjectedPointsAboveAverage\", nextDraft.Rows.Count()));\n",
    "nextDraft.Columns.Add(new PrimitiveDataFrameColumn<double>(\"ProjectedPointsAboveReplacement\", nextDraft.Rows.Count()));\n",
    "nextDraft.Columns.Add(new PrimitiveDataFrameColumn<double>(\"AveragePointsForPosition\", nextDraft.Rows.Count()));\n",
    "nextDraft.Columns.Add(new PrimitiveDataFrameColumn<double>(\"ReplacementValueAverageForPosition\", nextDraft.Rows.Count()));\n",
    "\n",
    "nextDraft"
   ]
  },
  {
   "cell_type": "code",
   "execution_count": null,
   "metadata": {
    "dotnet_interactive": {
     "language": "csharp"
    },
    "polyglot_notebook": {
     "kernelName": "csharp"
    },
    "vscode": {
     "languageId": "polyglot-notebook"
    }
   },
   "outputs": [],
   "source": [
    "// Let's do some stats on available schools here.\n",
    "// Get the distinct LeagifyPosition values\n",
    "string[] leagifyPositions = {\"ACC\", \"SEC\", \"Big Ten\", \"Big 12\", \"Pac 12\", \"RandomSmallSchool\", \"Flex\"};\n",
    "\n",
    "IDictionary<string, double> draftableAverages = new Dictionary<string, double>();\n",
    "IDictionary<string, double> replacementAverages = new Dictionary<string, double>();\n",
    "\n",
    "// Loop over each LeagifyPosition value and get the corresponding rows\n",
    "foreach (var position in leagifyPositions)\n",
    "{\n",
    "    Console.WriteLine(\"Leagify Position: \" + position);\n",
    "    var rowsForPosition = nextDraft.Rows\n",
    "        .Where(row => row[6].ToString() == position.ToString());\n",
    "    \n",
    "    // Make sure rows are in descending order by potential points.\n",
    "    var sortedRows = rowsForPosition\n",
    "    .OrderByDescending(row => row[2])\n",
    "    .ToList();\n",
    "\n",
    "    double averageOfTopRows;\n",
    "    double averageOfRemainingRows;\n",
    "    if(position.Equals(\"SEC\") || position.Equals(\"Big Ten\"))\n",
    "    {\n",
    "        display($\"Conference {position} needs a top 10.\");\n",
    "        var topRows = sortedRows.Take(10);\n",
    "        averageOfTopRows = topRows.Average(row => Convert.ToDouble(row[2]));\n",
    "        display($\"Average points for draftable schools from {position}: {averageOfTopRows}\");\n",
    "        var remainingRows = sortedRows;\n",
    "        remainingRows.RemoveRange(0,10);\n",
    "        averageOfRemainingRows = remainingRows.Average(row => Convert.ToDouble(row[2]));\n",
    "        display($\"Average points for replacement value schools from {position}: {averageOfRemainingRows}\");\n",
    "\n",
    "\n",
    "        \n",
    "    }\n",
    "    else if(position.Equals(\"Flex\"))\n",
    "    {\n",
    "        display(\"This is Notre Dame, I'm not doing stats on this school.\");\n",
    "        averageOfTopRows = sortedRows.Average(row => Convert.ToDouble(row[2]));\n",
    "        averageOfRemainingRows = sortedRows.Average(row => Convert.ToDouble(row[2]));\n",
    "    }\n",
    "    else\n",
    "    {\n",
    "        display($\"Conference {position} only needs a top 5\");\n",
    "        var topRows = sortedRows.Take(5);\n",
    "        averageOfTopRows = topRows.Average(row => Convert.ToDouble(row[2]));\n",
    "        display($\"Average points for draftable schools from {position}: {averageOfTopRows}\");\n",
    "\n",
    "        var remainingRows = sortedRows;\n",
    "        remainingRows.RemoveRange(0,5);\n",
    "        averageOfRemainingRows = remainingRows.Average(row => Convert.ToDouble(row[2]));\n",
    "        display($\"Average points for replacement value schools from {position}: {averageOfRemainingRows}\");\n",
    "    }\n",
    "\n",
    "    draftableAverages.Add(position, Math.Truncate(averageOfTopRows * 100) / 100);\n",
    "    replacementAverages.Add(position, Math.Truncate(averageOfRemainingRows * 100) / 100);\n",
    "}\n",
    "\n",
    "\n",
    "\n"
   ]
  },
  {
   "cell_type": "code",
   "execution_count": null,
   "metadata": {
    "dotnet_interactive": {
     "language": "csharp"
    },
    "polyglot_notebook": {
     "kernelName": "csharp"
    },
    "vscode": {
     "languageId": "polyglot-notebook"
    }
   },
   "outputs": [],
   "source": [
    "display(draftableAverages);\n",
    "display(replacementAverages);\n",
    "\n",
    "// Iterate over the rows and set the value of the new column based on the value in the Name column\n",
    "for (int i = 0; i < nextDraft.Rows.Count; i++)\n",
    "{\n",
    "    string leagifyPosition = \"\";\n",
    "    switch((string)nextDraft.Columns[\"LeagifyPosition\"][i])\n",
    "    {\n",
    "        \n",
    "        case \"SEC\":\n",
    "            leagifyPosition = \"SEC\";\n",
    "            break;\n",
    "        case \"ACC\":\n",
    "            leagifyPosition = \"ACC\";\n",
    "            break;\n",
    "        case \"Big 12\":\n",
    "            leagifyPosition = \"Big 12\";\n",
    "            break;\n",
    "        case \"Pac 12\":\n",
    "            leagifyPosition = \"Pac 12\";\n",
    "            break;\n",
    "        case \"Big Ten\":\n",
    "            leagifyPosition = \"Big Ten\";\n",
    "            break;\n",
    "        case \"RandomSmallSchool\":\n",
    "            leagifyPosition = \"RandomSmallSchool\";\n",
    "            break;\n",
    "        case \"Flex\":\n",
    "            leagifyPosition = \"Flex\";\n",
    "            break;\n",
    "        default:\n",
    "            leagifyPosition = \"RandomSmallSchool\";\n",
    "            break;\n",
    "\n",
    "    }\n",
    "\n",
    "    nextDraft.Columns[\"AveragePointsForPosition\"][i] = draftableAverages[leagifyPosition];\n",
    "    var projectedPointsAboveAverage = (Single)nextDraft.Columns[\"ProjectedPoints\"][i] - draftableAverages[leagifyPosition];\n",
    "    nextDraft.Columns[\"ProjectedPointsAboveAverage\"][i] = Math.Truncate(projectedPointsAboveAverage * 100) / 100;\n",
    "\n",
    "    nextDraft.Columns[\"ReplacementValueAverageForPosition\"][i] = replacementAverages[leagifyPosition];\n",
    "    var projectedPointsAboveReplacement = (Single)nextDraft.Columns[\"ProjectedPoints\"][i] - replacementAverages[leagifyPosition];\n",
    "    nextDraft.Columns[\"ProjectedPointsAboveReplacement\"][i] = Math.Truncate(projectedPointsAboveReplacement * 100) / 100;\n",
    "    display($\"School {(string)nextDraft.Columns[\"School\"][i]} in conference {(string)nextDraft.Columns[\"Conference\"][i]} has Leagify position {leagifyPosition}\");\n",
    "}\n",
    "\n",
    "display(nextDraft);"
   ]
  },
  {
   "cell_type": "code",
   "execution_count": null,
   "metadata": {
    "dotnet_interactive": {
     "language": "csharp"
    },
    "polyglot_notebook": {
     "kernelName": "csharp"
    },
    "vscode": {
     "languageId": "polyglot-notebook"
    }
   },
   "outputs": [],
   "source": [
    "//nextDraft.Columns.Remove(\"SchoolURL\");\n",
    "DataFrame.WriteCsv(nextDraft,\"auctionDraftAverages-2024.csv\",',');"
   ]
  }
 ],
 "metadata": {
  "language_info": {
   "name": "csharp"
  },
  "orig_nbformat": 4
 },
 "nbformat": 4,
 "nbformat_minor": 2
}
